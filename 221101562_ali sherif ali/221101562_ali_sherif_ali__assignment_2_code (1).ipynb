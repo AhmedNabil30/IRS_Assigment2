{
  "nbformat": 4,
  "nbformat_minor": 0,
  "metadata": {
    "colab": {
      "provenance": []
    },
    "kernelspec": {
      "name": "python3",
      "display_name": "Python 3"
    },
    "language_info": {
      "name": "python"
    }
  },
  "cells": [
    {
      "cell_type": "code",
      "source": [
        "import pandas as pd\n",
        "from sklearn.metrics.pairwise import cosine_similarity\n",
        "import numpy as np\n",
        "\n",
        "data = pd.read_csv('_movie_ratings.csv')\n",
        "\n",
        "\n",
        "ratings_matrix = data.iloc[:, 1:]\n",
        "\n",
        "cosine_sim = cosine_similarity(ratings_matrix)\n",
        "cosine_sim_df = pd.DataFrame(cosine_sim, index=data['Unnamed: 0'], columns=data['Unnamed: 0'])\n",
        "\n",
        "top_percent = 0.2\n",
        "num_closest_users = int(len(cosine_sim_df) * top_percent)\n",
        "\n",
        "top_users_dict = {}\n",
        "for user in cosine_sim_df.index:\n",
        "    similar_users = cosine_sim_df[user].sort_values(ascending=False)\n",
        "    top_users = similar_users.iloc[1:num_closest_users+1].index.tolist()\n",
        "    top_users_dict[user] = top_users\n",
        "\n",
        "\n",
        "def calculate_prediction(user, top_users, ratings_matrix):\n",
        "    closest_ratings = ratings_matrix.loc[top_users]\n",
        "    predicted_ratings = closest_ratings.mean(axis=0)\n",
        "    return predicted_ratings\n",
        "\n",
        "predictions = {}\n",
        "for user, top_users in top_users_dict.items():\n",
        "    predictions[user] = calculate_prediction(user, top_users, ratings_matrix)\n",
        "\n",
        "\n",
        "def calculate_discounted_similarity(user, top_users, cosine_sim_df, ratings_matrix, threshold=0.3):\n",
        "    co_rated_items = ratings_matrix.loc[top_users].notnull().sum(axis=1)\n",
        "    total_items = len(ratings_matrix.columns)\n",
        "    co_rated_percentage = co_rated_items / total_items\n",
        "    df = np.where(co_rated_percentage >= threshold, 1, 0.5)\n",
        "    discounted_similarity = cosine_sim_df.loc[user, top_users] * df\n",
        "    return discounted_similarity\n",
        "\n",
        "discounted_sim_df = cosine_sim_df.copy()\n",
        "discounted_predictions = {}\n",
        "for user, top_users in top_users_dict.items():\n",
        "    valid_top_users = [u for u in top_users if u in discounted_sim_df.index]\n",
        "    discounted_predictions[user] = calculate_prediction(user, valid_top_users, ratings_matrix)\n",
        "\n",
        "predictions_df = pd.DataFrame(predictions)\n",
        "discounted_predictions_df = pd.DataFrame(discounted_predictions)\n",
        "\n",
        "\n",
        "print(\"Predictions using Cosine Similarity:\")\n",
        "print(predictions_df.head())\n",
        "print(\"\\nPredictions using Discounted Similarity:\")\n",
        "print(discounted_predictions_df.head())\n",
        "predictions_df.to_csv('/path/to/save/predictions_cosine.csv', index=False)\n",
        "discounted_predictions_df.to_csv('/path/to/save/predictions_discounted.csv', index=False)\n",
        "\n"
      ],
      "metadata": {
        "id": "eXcVQq9_I8Od"
      },
      "execution_count": null,
      "outputs": []
    },
    {
      "cell_type": "code",
      "source": [
        "\n",
        "\n",
        "tnu = ratings_df['user_id'].nunique()\n",
        "print(f\"Total Number of Users (tnu): {tnu}\")\n",
        "\n",
        "\n",
        "tni = ratings_df['item_id'].nunique()\n",
        "print(f\"Total Number of Items (tni): {tni}\")\n",
        "\n",
        "\n",
        "ratings_per_item = ratings_df['item_id'].value_counts().reset_index()\n",
        "ratings_per_item.columns = ['item_id', 'num_ratings']\n",
        "print(\"\\nNumber of Ratings per Item:\")\n",
        "print(ratings_per_item.head())\n",
        "\n",
        "ratings_per_item.to_csv(\"ratings_per_item.csv\", index=False)\n"
      ],
      "metadata": {
        "id": "I3x2PtQVKJ-K"
      },
      "execution_count": null,
      "outputs": []
    },
    {
      "cell_type": "code",
      "execution_count": null,
      "metadata": {
        "id": "mboxbjONGFDj"
      },
      "outputs": [],
      "source": [
        "\n",
        "import pandas as pd\n",
        "import numpy as np\n",
        "import random\n",
        "\n",
        "np.random.seed(42)\n",
        "num_users = 1000\n",
        "num_items = 100\n",
        "num_ratings = 100000\n",
        "\n",
        "user_ids = np.arange(1, num_users + 1)\n",
        "item_ids = np.arange(1, num_items + 1)\n",
        "\n",
        "ratings_data = {\n",
        "    \"user_id\": np.random.choice(user_ids, size=num_ratings),\n",
        "    \"item_id\": np.random.choice(item_ids, size=num_ratings),\n",
        "    \"rating\": np.random.randint(1, 6, size=num_ratings)\n",
        "}\n",
        "\n",
        "ratings_df = pd.DataFrame(ratings_data)\n",
        "ratings_df.drop_duplicates(subset=[\"user_id\", \"item_id\"], inplace=True)\n",
        "ratings_df.reset_index(drop=True, inplace=True)\n",
        "\n",
        "print(\"Sample of the generated dataset:\")\n",
        "print(ratings_df.head())\n",
        "\n",
        "\n",
        "ratings_df.to_csv(\"generated_ratings_dataset.csv\", index=False)\n",
        "\n",
        "print(\"\\nDataset generated successfully and saved as 'generated_ratings_dataset.csv'.\")\n"
      ]
    }
  ]
}
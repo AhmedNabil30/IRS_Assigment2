{
  "nbformat": 4,
  "nbformat_minor": 0,
  "metadata": {
    "colab": {
      "provenance": []
    },
    "kernelspec": {
      "name": "python3",
      "display_name": "Python 3"
    },
    "language_info": {
      "name": "python"
    }
  },
  "cells": [
    {
      "cell_type": "code",
      "source": [
        "import pandas as pd\n",
        "import numpy as np\n",
        "\n",
        "file_path = '/content/(user_item_matrix 150x20)(in).csv'\n",
        "df = pd.read_csv(file_path, index_col=0)\n",
        "\n",
        "data_matrix = df.replace(0, np.nan).values\n",
        "num_users, num_items = data_matrix.shape\n",
        "\n",
        "dataset_stats = {\n",
        "    \"Shape\": df.shape,\n",
        "    \"Data Types\": df.dtypes.to_dict(),\n",
        "    \"Missing Values\": df.isnull().sum().sum(),\n",
        "    \"Summary\": df.describe()\n",
        "}\n",
        "\n",
        "print(\"Dataset Shape:\", dataset_stats[\"Shape\"])\n",
        "print(\"\\nData Types:\\n\", dataset_stats[\"Data Types\"])\n",
        "print(\"\\nDataset Summary:\\n\", dataset_stats[\"Summary\"])\n",
        "print(\"\\nFirst 10 rows of the dataset:\\n\", df.head(10))"
      ],
      "metadata": {
        "colab": {
          "base_uri": "https://localhost:8080/"
        },
        "id": "_ndeP-drpMY2",
        "outputId": "1e6461cf-9db1-4964-d7fc-e31f2ae6509a"
      },
      "execution_count": 2,
      "outputs": [
        {
          "output_type": "stream",
          "name": "stdout",
          "text": [
            "Dataset Shape: (150, 20)\n",
            "\n",
            "Data Types:\n",
            " {'Movie 1': dtype('int64'), 'Movie 2': dtype('int64'), 'Movie 3': dtype('int64'), 'Movie 4': dtype('int64'), 'Movie 5': dtype('int64'), 'Movie 6': dtype('int64'), 'Movie 7': dtype('int64'), 'Movie 8': dtype('int64'), 'Movie 9': dtype('int64'), 'Movie 10': dtype('int64'), 'Movie 11': dtype('int64'), 'Movie 12': dtype('int64'), 'Movie 13': dtype('int64'), 'Movie 14': dtype('int64'), 'Movie 15': dtype('int64'), 'Movie 16': dtype('int64'), 'Movie 17': dtype('int64'), 'Movie 18': dtype('int64'), 'Movie 19': dtype('int64'), 'Movie 20': dtype('int64')}\n",
            "\n",
            "Dataset Summary:\n",
            "           Movie 1     Movie 2     Movie 3     Movie 4     Movie 5     Movie 6  \\\n",
            "count  150.000000  150.000000  150.000000  150.000000  150.000000  150.000000   \n",
            "mean     2.300000    2.420000    2.386667    2.540000    2.320000    2.480000   \n",
            "std      1.681921    1.627243    1.725399    1.834165    1.660112    1.673801   \n",
            "min      0.000000    0.000000    0.000000    0.000000    0.000000    0.000000   \n",
            "25%      1.000000    1.000000    1.000000    1.000000    1.000000    1.000000   \n",
            "50%      2.000000    3.000000    2.000000    3.000000    2.000000    2.000000   \n",
            "75%      4.000000    4.000000    4.000000    4.000000    4.000000    4.000000   \n",
            "max      5.000000    5.000000    5.000000    5.000000    5.000000    5.000000   \n",
            "\n",
            "          Movie 7     Movie 8     Movie 9    Movie 10    Movie 11    Movie 12  \\\n",
            "count  150.000000  150.000000  150.000000  150.000000  150.000000  150.000000   \n",
            "mean     2.753333    2.626667    2.413333    2.626667    2.380000    2.520000   \n",
            "std      1.558422    2.274890    1.635129    1.665064    1.709311    1.819802   \n",
            "min      0.000000    0.000000    0.000000    0.000000    0.000000    0.000000   \n",
            "25%      1.000000    1.000000    1.000000    1.000000    1.000000    1.000000   \n",
            "50%      3.000000    3.000000    2.000000    3.000000    2.000000    3.000000   \n",
            "75%      4.000000    4.000000    4.000000    4.000000    4.000000    4.000000   \n",
            "max      5.000000   22.000000    5.000000    5.000000    5.000000    5.000000   \n",
            "\n",
            "         Movie 13    Movie 14    Movie 15    Movie 16    Movie 17    Movie 18  \\\n",
            "count  150.000000  150.000000  150.000000  150.000000  150.000000  150.000000   \n",
            "mean     2.300000    2.193333    2.960000    2.653333    2.160000    2.426667   \n",
            "std      1.752276    1.629002    1.501141    1.550002    1.714839    1.777362   \n",
            "min      0.000000    0.000000    0.000000    0.000000    0.000000    0.000000   \n",
            "25%      1.000000    1.000000    2.000000    2.000000    1.000000    1.000000   \n",
            "50%      2.000000    2.000000    3.000000    3.000000    2.000000    2.000000   \n",
            "75%      4.000000    3.000000    4.000000    4.000000    3.000000    4.000000   \n",
            "max      5.000000    5.000000    5.000000    5.000000    5.000000    5.000000   \n",
            "\n",
            "         Movie 19    Movie 20  \n",
            "count  150.000000  150.000000  \n",
            "mean     1.946667    2.246667  \n",
            "std      1.740889    1.805795  \n",
            "min      0.000000    0.000000  \n",
            "25%      0.000000    0.000000  \n",
            "50%      2.000000    2.000000  \n",
            "75%      3.000000    4.000000  \n",
            "max      5.000000    5.000000  \n",
            "\n",
            "First 10 rows of the dataset:\n",
            "          Movie 1  Movie 2  Movie 3  Movie 4  Movie 5  Movie 6  Movie 7  \\\n",
            "User_ID                                                                  \n",
            "1              4        3        1        0        4        0        5   \n",
            "2              1        0        5        3        5        0        3   \n",
            "3              0        1        3        5        2        0        3   \n",
            "4              5        4        0        0        4        3        2   \n",
            "5              2        3        2        4        4        3        1   \n",
            "6              2        0        4        1        0        0        1   \n",
            "7              3        2        0        4        0        3        5   \n",
            "8              2        0        0        2        4        4        1   \n",
            "9              0        1        4        0        5        4        1   \n",
            "10             4        1        2        2        5        2        5   \n",
            "\n",
            "         Movie 8  Movie 9  Movie 10  Movie 11  Movie 12  Movie 13  Movie 14  \\\n",
            "User_ID                                                                       \n",
            "1              4        3         0         0         3         3         1   \n",
            "2              0        0         0         4         5         3         4   \n",
            "3              5        3         3         0         0         4         0   \n",
            "4              0        4         0         3         5         0         5   \n",
            "5              2        2         4         4         2         1         0   \n",
            "6              5        3         1         3         1         2         5   \n",
            "7              1        2         3         2         3         2         2   \n",
            "8              3        5         5         3         0         0         0   \n",
            "9              4        3         1         1         1         2         0   \n",
            "10             4        0         0         5         0         0         3   \n",
            "\n",
            "         Movie 15  Movie 16  Movie 17  Movie 18  Movie 19  Movie 20  \n",
            "User_ID                                                              \n",
            "1               0         2         5         3         3         0  \n",
            "2               3         4         5         3         2         4  \n",
            "3               2         2         3         3         0         2  \n",
            "4               3         4         3         0         5         3  \n",
            "5               2         2         3         0         1         3  \n",
            "6               4         2         0         3         2         4  \n",
            "7               0         4         0         4         4         0  \n",
            "8               3         2         0         2         2         3  \n",
            "9               4         3         1         0         0         0  \n",
            "10              4         3         5         3         0         3  \n"
          ]
        }
      ]
    },
    {
      "cell_type": "code",
      "source": [
        "tnu = df.shape[0]\n",
        "tni = df.shape[1]\n",
        "\n",
        "print(f\" Num of Users : {tnu}\")\n",
        "print(f\" Num of Items : {tni}\")"
      ],
      "metadata": {
        "colab": {
          "base_uri": "https://localhost:8080/"
        },
        "id": "sLpkFqFMpqEv",
        "outputId": "f89d1652-b3b3-4431-8f6b-c761f1d78768"
      },
      "execution_count": 3,
      "outputs": [
        {
          "output_type": "stream",
          "name": "stdout",
          "text": [
            " Num of Users : 150\n",
            " Num of Items : 20\n"
          ]
        }
      ]
    },
    {
      "cell_type": "code",
      "source": [
        "ratings_per_item = (df != 0).sum(axis=0)\n",
        "\n",
        "print(\"Num of Ratings for Each Item:\")\n",
        "print(ratings_per_item)\n",
        "\n"
      ],
      "metadata": {
        "colab": {
          "base_uri": "https://localhost:8080/"
        },
        "id": "KHclfMEap6Z-",
        "outputId": "c4101e24-05d9-433f-c1fc-93ad6bf30afe"
      },
      "execution_count": 4,
      "outputs": [
        {
          "output_type": "stream",
          "name": "stdout",
          "text": [
            "Num of Ratings for Each Item:\n",
            "Movie 1     117\n",
            "Movie 2     124\n",
            "Movie 3     119\n",
            "Movie 4     116\n",
            "Movie 5     121\n",
            "Movie 6     124\n",
            "Movie 7     140\n",
            "Movie 8     128\n",
            "Movie 9     126\n",
            "Movie 10    130\n",
            "Movie 11    121\n",
            "Movie 12    118\n",
            "Movie 13    113\n",
            "Movie 14    119\n",
            "Movie 15    148\n",
            "Movie 16    133\n",
            "Movie 17    113\n",
            "Movie 18    118\n",
            "Movie 19    107\n",
            "Movie 20    110\n",
            "dtype: int64\n"
          ]
        }
      ]
    },
    {
      "cell_type": "code",
      "source": [
        "missing_ratings = (df == 0).sum(axis=1)\n",
        "\n",
        "U1 = missing_ratings[missing_ratings == 2].index[0] if (missing_ratings == 2).any() else None\n",
        "U2 = missing_ratings[missing_ratings == 3].index[0] if (missing_ratings == 3).any() else None\n",
        "U3 = missing_ratings[missing_ratings == 5].index[0] if (missing_ratings == 5).any() else None\n",
        "\n",
        "print(f\" {U1}\")\n",
        "print(f\" {U2}\")\n",
        "print(f\" {U3}\")"
      ],
      "metadata": {
        "colab": {
          "base_uri": "https://localhost:8080/"
        },
        "id": "uyOf8YeSqELO",
        "outputId": "f1f0b759-b70f-4f13-fdf3-8d640cf9d6cf"
      },
      "execution_count": 6,
      "outputs": [
        {
          "output_type": "stream",
          "name": "stdout",
          "text": [
            " 5\n",
            " 19\n",
            " 2\n"
          ]
        }
      ]
    },
    {
      "cell_type": "code",
      "source": [
        "total_users = df.shape[0]\n",
        "missing_ratings_item = (df == 0).sum(axis=0)\n",
        "missing_percentage = (missing_ratings_item / total_users) * 100\n",
        "\n",
        "closest_4_percent_index = (missing_percentage - 4).abs().argmin()\n",
        "closest_10_percent_index = (missing_percentage - 10).abs().argmin()\n",
        "\n",
        "\n",
        "I1_closest = missing_percentage.index[closest_4_percent_index]\n",
        "I2_closest = missing_percentage.index[closest_10_percent_index]\n",
        "\n",
        "print(\"Target Items:\")\n",
        "print(f\"Item with closest to 4% missing ratings (I1): {I1_closest} with {missing_percentage[I1_closest]:.2f}%\")\n",
        "print(f\"Item with closest to 10% missing ratings (I2): {I2_closest} with {missing_percentage[I2_closest]:.2f}%\")"
      ],
      "metadata": {
        "colab": {
          "base_uri": "https://localhost:8080/"
        },
        "id": "q9AhKb4aqko-",
        "outputId": "f11694ad-0577-46bb-cd7d-b75ac95752b3"
      },
      "execution_count": 7,
      "outputs": [
        {
          "output_type": "stream",
          "name": "stdout",
          "text": [
            "Target Items:\n",
            "Item with closest to 4% missing ratings (I1): Movie 15 with 1.33%\n",
            "Item with closest to 10% missing ratings (I2): Movie 16 with 11.33%\n"
          ]
        }
      ]
    },
    {
      "cell_type": "code",
      "source": [
        "active_users = [U1, U2, U3]\n",
        "\n",
        "def count_co_rated_items(user, df):\n",
        "    user_ratings = df.loc[user] > 0\n",
        "    co_users = (df.loc[:, user_ratings] > 0).sum(axis=1) > 0\n",
        "    co_rated_items = user_ratings.sum()\n",
        "    return co_users.sum() - 1, co_rated_items\n",
        "\n",
        "co_rated_stats = {}\n",
        "for user in active_users:\n",
        "    no_common_users, no_co_rated_items = count_co_rated_items(user, df)\n",
        "    co_rated_stats[user] = {\"No_common_users\": no_common_users, \"No_coRated_items\": no_co_rated_items}\n",
        "\n",
        "\n",
        "print(\"Co-rated Users and Items for Active Users:\")\n",
        "for user, stats in co_rated_stats.items():\n",
        "    print(f\"User {user}:\")\n",
        "    print(f\"  Number of Common Users (No_common_users): {stats['No_common_users']}\")\n",
        "    print(f\"  Number of Co-rated Items (No_coRated_items): {stats['No_coRated_items']}\")"
      ],
      "metadata": {
        "colab": {
          "base_uri": "https://localhost:8080/"
        },
        "id": "7B1wMXUqrKBH",
        "outputId": "7afcc728-2627-4f6d-8739-fb6842a444de"
      },
      "execution_count": 8,
      "outputs": [
        {
          "output_type": "stream",
          "name": "stdout",
          "text": [
            "Co-rated Users and Items for Active Users:\n",
            "User 5:\n",
            "  Number of Common Users (No_common_users): 149\n",
            "  Number of Co-rated Items (No_coRated_items): 18\n",
            "User 19:\n",
            "  Number of Common Users (No_common_users): 149\n",
            "  Number of Co-rated Items (No_coRated_items): 17\n",
            "User 2:\n",
            "  Number of Common Users (No_common_users): 149\n",
            "  Number of Co-rated Items (No_coRated_items): 15\n"
          ]
        }
      ]
    },
    {
      "cell_type": "code",
      "source": [
        "\n",
        "no_common_users = [co_rated_stats[user][\"No_common_users\"] for user in active_users]\n",
        "no_coRated_items = [co_rated_stats[user][\"No_coRated_items\"] for user in active_users]\n",
        "\n",
        "sorted_stats = sorted(zip(no_common_users, no_coRated_items), key=lambda x: -x[0])\n",
        "\n",
        "# Create a 2-D  array\n",
        "co_rated_array = np.array(sorted_stats)\n",
        "\n",
        "print(\"2-D Array (No_common_users, No_coRated_items):\")\n",
        "print(co_rated_array)\n",
        "\n",
        "\n"
      ],
      "metadata": {
        "colab": {
          "base_uri": "https://localhost:8080/"
        },
        "id": "w1m17cLIr8a_",
        "outputId": "bfafeff7-7ff7-44bd-d60a-0b94d9046d95"
      },
      "execution_count": 10,
      "outputs": [
        {
          "output_type": "stream",
          "name": "stdout",
          "text": [
            "2-D Array (No_common_users, No_coRated_items):\n",
            "[[149  18]\n",
            " [149  17]\n",
            " [149  15]]\n"
          ]
        }
      ]
    },
    {
      "cell_type": "code",
      "source": [
        "ratings_per_item = (df != 0).sum(axis=0)\n",
        "\n",
        "plt.figure(figsize=(10, 6))\n",
        "plt.plot(ratings_per_item.index, ratings_per_item.values, marker='o', linestyle='-', color='b')\n",
        "plt.title(\"Quantity of Ratings for Each Item\")\n",
        "plt.xlabel(\"Items\")\n",
        "plt.ylabel(\"Number of Ratings\")\n",
        "plt.xticks(rotation=45)\n",
        "plt.grid()\n",
        "plt.tight_layout()\n",
        "\n",
        "plot_output_path = \"ratings_quantity_curve.png\"\n",
        "plt.savefig(plot_output_path)\n",
        "\n",
        "plt.show()\n",
        "\n",
        "print(f\"Curve saved as: {plot_output_path}\")"
      ],
      "metadata": {
        "colab": {
          "base_uri": "https://localhost:8080/",
          "height": 519
        },
        "id": "YP6KOCDjsRKh",
        "outputId": "f88b5280-eace-433e-f1aa-626c8d4c60a5"
      },
      "execution_count": 12,
      "outputs": [
        {
          "output_type": "display_data",
          "data": {
            "text/plain": [
              "<Figure size 1000x600 with 1 Axes>"
            ],
            "image/png": "[encoded data removed]"
          },
          "metadata": {}
        },
        {
          "output_type": "stream",
          "name": "stdout",
          "text": [
            "Curve saved as: ratings_quantity_curve.png\n"
          ]
        }
      ]
    },
    {
      "cell_type": "code",
      "source": [
        "def calculate_threshold_beta(user, df, percentage=0.3):\n",
        "    user_rated_items = df.loc[user] > 0\n",
        "    total_items_rated = user_rated_items.sum()\n",
        "\n",
        "    threshold_items = int(percentage * total_items_rated)\n",
        "\n",
        "    co_users = (df.loc[:, user_rated_items] > 0).sum(axis=1)\n",
        "    max_users = (co_users >= threshold_items).sum() -1\n",
        "\n",
        "    return max_users\n",
        "\n",
        "threshold_beta = {}\n",
        "for user in active_users:\n",
        "    beta = calculate_threshold_beta(user, df, percentage=0.3)\n",
        "    threshold_beta[user] = beta\n",
        "\n",
        "print(\" β for Each Active User:\")\n",
        "for user, beta in threshold_beta.items():\n",
        "    print(f\"User {user}: Threshold β = {beta}\")"
      ],
      "metadata": {
        "colab": {
          "base_uri": "https://localhost:8080/"
        },
        "id": "PggJCb9St03n",
        "outputId": "6581e5b9-5545-48fc-e1a0-84bc272220c6"
      },
      "execution_count": 13,
      "outputs": [
        {
          "output_type": "stream",
          "name": "stdout",
          "text": [
            " β for Each Active User:\n",
            "User 5: Threshold β = 149\n",
            "User 19: Threshold β = 149\n",
            "User 2: Threshold β = 149\n"
          ]
        }
      ]
    },
    {
      "cell_type": "code",
      "source": [
        "def print_formatted_output(message, additional_info=\"\"):\n",
        "    print(f\"{message}: {additional_info}\")\n",
        "\n"
      ],
      "metadata": {
        "id": "PXFzzu0-uz1f"
      },
      "execution_count": 15,
      "outputs": []
    },
    {
      "cell_type": "code",
      "source": [
        "from scipy.spatial.distance import cosine\n",
        "\n",
        "def compute_cosine_similarity(user_matrix, active_user_idx):\n",
        "\n",
        "    active_user = np.nan_to_num(user_matrix[active_user_idx])\n",
        "    similarities = []\n",
        "    for user_idx, user in enumerate(user_matrix):\n",
        "        if user_idx != active_user_idx:\n",
        "            sim = 1 - cosine(active_user, np.nan_to_num(user))\n",
        "            similarities.append((user_idx, sim))\n",
        "    return sorted(similarities, key=lambda x: x[1], reverse=True)\n",
        "\n",
        "def top_20_percent(similarities):\n",
        "\n",
        "    top_n = int(0.2 * len(similarities))\n",
        "    return similarities[:top_n]\n",
        "\n",
        "def predict_ratings(user_matrix, active_user_idx, top_users):\n",
        "\n",
        "    active_user = user_matrix[active_user_idx]\n",
        "    predictions = {}\n",
        "    for item_idx in range(user_matrix.shape[1]):\n",
        "        if np.isnan(active_user[item_idx]):\n",
        "            num, den = 0, 0\n",
        "            for user_idx, sim in top_users:\n",
        "                if not np.isnan(user_matrix[user_idx][item_idx]):\n",
        "                    num += sim * user_matrix[user_idx][item_idx]\n",
        "                    den += abs(sim)\n",
        "            predictions[item_idx] = num / den if den != 0 else 0\n",
        "    return predictions\n",
        "\n",
        "def compute_discounted_similarity(similarities, beta):\n",
        "\n",
        "    return [(user_idx, sim * beta) for user_idx, sim in similarities]\n",
        "\n",
        "results = {}\n",
        "for active_user_idx in active_users:\n",
        "    print_formatted_output(f\"Processing Active User {active_user_idx}\", \"\")\n",
        "\n",
        "    # 1.1.1\n",
        "    cosine_similarities = compute_cosine_similarity(data_matrix, active_user_idx)\n",
        "    similarities_output = \"\\n\".join([f\"User {user}: {sim:.4f}\" for user, sim in cosine_similarities[:5]])\n",
        "    print_formatted_output(\"Top Cosine Similarities\", similarities_output)\n",
        "\n",
        "    # 1.1.2\n",
        "    top_users = top_20_percent(cosine_similarities)\n",
        "    top_users_output = \"\\n\".join([f\"User {user}: {sim:.4f}\" for user, sim in top_users])\n",
        "    print_formatted_output(\"Top 20% Closest Users\", top_users_output)\n",
        "\n",
        "    # 1.1.3\n",
        "    predictions = predict_ratings(data_matrix, active_user_idx, top_users)\n",
        "    predictions_output = \"\\n\".join([f\"Movie {item+1}: {pred:.2f}\" for item, pred in predictions.items()])\n",
        "    print_formatted_output(\"Predicted Ratings for Missing Items\", predictions_output)\n",
        "\n",
        "    # 1.1.4\n",
        "    beta = 0.8\n",
        "    discounted_similarities = compute_discounted_similarity(top_users, beta)\n",
        "    ds_output = \"\\n\".join([f\"User {user}: {sim:.4f}\" for user, sim in discounted_similarities])\n",
        "    print_formatted_output(\"Discounted Similarities\", ds_output)\n",
        "\n",
        "    # 1.1.5\n",
        "    top_discounted_users = top_20_percent(discounted_similarities)\n",
        "    top_ds_output = \"\\n\".join([f\"User {user}: {sim:.4f}\" for user, sim in top_discounted_users])\n",
        "    print_formatted_output(\"Top 20% Closest Users with Discounted Similarity\", top_ds_output)\n",
        "\n",
        "    # 1.1.6\n",
        "    discounted_predictions = predict_ratings(data_matrix, active_user_idx, top_discounted_users)\n",
        "    discounted_predictions_output = \"\\n\".join([f\"Movie {item+1}: {pred:.2f}\" for item, pred in discounted_predictions.items()])\n",
        "    print_formatted_output(\"Predicted Ratings with Discounted Similarity\", discounted_predictions_output)\n",
        "\n",
        "\n",
        "    results[active_user_idx] = {\n",
        "        \"predictions\": predictions,\n",
        "        \"discounted_predictions\": discounted_predictions\n",
        "    }\n"
      ],
      "metadata": {
        "colab": {
          "base_uri": "https://localhost:8080/"
        },
        "id": "G-q1z7gyuMI3",
        "outputId": "c1538fce-b5ad-4778-fc68-4ac9c1013f48"
      },
      "execution_count": 16,
      "outputs": [
        {
          "output_type": "stream",
          "name": "stdout",
          "text": [
            "Processing Active User 5: \n",
            "Top Cosine Similarities: User 129: 0.8603\n",
            "User 30: 0.8522\n",
            "User 78: 0.8154\n",
            "User 77: 0.8061\n",
            "User 73: 0.8020\n",
            "Top 20% Closest Users: User 129: 0.8603\n",
            "User 30: 0.8522\n",
            "User 78: 0.8154\n",
            "User 77: 0.8061\n",
            "User 73: 0.8020\n",
            "User 82: 0.7892\n",
            "User 119: 0.7885\n",
            "User 148: 0.7884\n",
            "User 136: 0.7759\n",
            "User 48: 0.7721\n",
            "User 33: 0.7693\n",
            "User 53: 0.7693\n",
            "User 93: 0.7682\n",
            "User 104: 0.7666\n",
            "User 118: 0.7663\n",
            "User 56: 0.7594\n",
            "User 120: 0.7590\n",
            "User 100: 0.7574\n",
            "User 45: 0.7553\n",
            "User 57: 0.7493\n",
            "User 83: 0.7469\n",
            "User 36: 0.7466\n",
            "User 24: 0.7449\n",
            "User 101: 0.7449\n",
            "User 12: 0.7429\n",
            "User 130: 0.7418\n",
            "User 25: 0.7407\n",
            "User 140: 0.7406\n",
            "User 90: 0.7373\n",
            "Predicted Ratings for Missing Items: Movie 2: 2.95\n",
            "Movie 5: 2.43\n",
            "Movie 6: 2.41\n",
            "Movie 17: 2.58\n",
            "Discounted Similarities: User 129: 0.6882\n",
            "User 30: 0.6818\n",
            "User 78: 0.6523\n",
            "User 77: 0.6449\n",
            "User 73: 0.6416\n",
            "User 82: 0.6314\n",
            "User 119: 0.6308\n",
            "User 148: 0.6307\n",
            "User 136: 0.6207\n",
            "User 48: 0.6176\n",
            "User 33: 0.6154\n",
            "User 53: 0.6154\n",
            "User 93: 0.6146\n",
            "User 104: 0.6132\n",
            "User 118: 0.6130\n",
            "User 56: 0.6075\n",
            "User 120: 0.6072\n",
            "User 100: 0.6059\n",
            "User 45: 0.6043\n",
            "User 57: 0.5995\n",
            "User 83: 0.5975\n",
            "User 36: 0.5973\n",
            "User 24: 0.5959\n",
            "User 101: 0.5959\n",
            "User 12: 0.5943\n",
            "User 130: 0.5934\n",
            "User 25: 0.5926\n",
            "User 140: 0.5925\n",
            "User 90: 0.5898\n",
            "Top 20% Closest Users with Discounted Similarity: User 129: 0.6882\n",
            "User 30: 0.6818\n",
            "User 78: 0.6523\n",
            "User 77: 0.6449\n",
            "User 73: 0.6416\n",
            "Predicted Ratings with Discounted Similarity: Movie 2: 2.50\n",
            "Movie 5: 2.52\n",
            "Movie 6: 1.25\n",
            "Movie 17: 1.67\n",
            "Processing Active User 19: \n",
            "Top Cosine Similarities: User 64: 0.8721\n",
            "User 83: 0.8666\n",
            "User 149: 0.8662\n",
            "User 62: 0.8522\n",
            "User 50: 0.8501\n",
            "Top 20% Closest Users: User 64: 0.8721\n",
            "User 83: 0.8666\n",
            "User 149: 0.8662\n",
            "User 62: 0.8522\n",
            "User 50: 0.8501\n",
            "User 117: 0.8497\n",
            "User 111: 0.8367\n",
            "User 112: 0.8321\n",
            "User 71: 0.8286\n",
            "User 33: 0.8281\n",
            "User 142: 0.8260\n",
            "User 120: 0.8142\n",
            "User 146: 0.8113\n",
            "User 147: 0.8025\n",
            "User 102: 0.8009\n",
            "User 86: 0.7993\n",
            "User 11: 0.7931\n",
            "User 57: 0.7918\n",
            "User 98: 0.7828\n",
            "User 89: 0.7811\n",
            "User 90: 0.7770\n",
            "User 45: 0.7750\n",
            "User 73: 0.7747\n",
            "User 130: 0.7730\n",
            "User 67: 0.7729\n",
            "User 100: 0.7714\n",
            "User 94: 0.7700\n",
            "User 115: 0.7698\n",
            "User 80: 0.7695\n",
            "Predicted Ratings for Missing Items: Movie 9: 2.49\n",
            "Movie 13: 2.72\n",
            "Discounted Similarities: User 64: 0.6977\n",
            "User 83: 0.6933\n",
            "User 149: 0.6930\n",
            "User 62: 0.6818\n",
            "User 50: 0.6801\n",
            "User 117: 0.6798\n",
            "User 111: 0.6694\n",
            "User 112: 0.6657\n",
            "User 71: 0.6629\n",
            "User 33: 0.6625\n",
            "User 142: 0.6608\n",
            "User 120: 0.6513\n",
            "User 146: 0.6490\n",
            "User 147: 0.6420\n",
            "User 102: 0.6408\n",
            "User 86: 0.6394\n",
            "User 11: 0.6344\n",
            "User 57: 0.6335\n",
            "User 98: 0.6262\n",
            "User 89: 0.6248\n",
            "User 90: 0.6216\n",
            "User 45: 0.6200\n",
            "User 73: 0.6197\n",
            "User 130: 0.6184\n",
            "User 67: 0.6183\n",
            "User 100: 0.6171\n",
            "User 94: 0.6160\n",
            "User 115: 0.6159\n",
            "User 80: 0.6156\n",
            "Top 20% Closest Users with Discounted Similarity: User 64: 0.6977\n",
            "User 83: 0.6933\n",
            "User 149: 0.6930\n",
            "User 62: 0.6818\n",
            "User 50: 0.6801\n",
            "Predicted Ratings with Discounted Similarity: Movie 9: 2.19\n",
            "Movie 13: 1.00\n",
            "Processing Active User 2: \n",
            "Top Cosine Similarities: User 90: 0.8793\n",
            "User 41: 0.8705\n",
            "User 113: 0.8437\n",
            "User 56: 0.8389\n",
            "User 15: 0.8339\n",
            "Top 20% Closest Users: User 90: 0.8793\n",
            "User 41: 0.8705\n",
            "User 113: 0.8437\n",
            "User 56: 0.8389\n",
            "User 15: 0.8339\n",
            "User 131: 0.8298\n",
            "User 85: 0.8175\n",
            "User 57: 0.8137\n",
            "User 77: 0.8057\n",
            "User 86: 0.8043\n",
            "User 89: 0.8001\n",
            "User 76: 0.7914\n",
            "User 108: 0.7912\n",
            "User 66: 0.7884\n",
            "User 45: 0.7843\n",
            "User 146: 0.7798\n",
            "User 119: 0.7783\n",
            "User 140: 0.7766\n",
            "User 42: 0.7730\n",
            "User 124: 0.7706\n",
            "User 25: 0.7556\n",
            "User 96: 0.7549\n",
            "User 21: 0.7511\n",
            "User 107: 0.7476\n",
            "User 144: 0.7469\n",
            "User 95: 0.7426\n",
            "User 118: 0.7385\n",
            "User 63: 0.7383\n",
            "User 103: 0.7360\n",
            "Predicted Ratings for Missing Items: Movie 1: 2.50\n",
            "Movie 6: 2.24\n",
            "Movie 11: 2.15\n",
            "Movie 12: 2.43\n",
            "Movie 14: 2.61\n",
            "Movie 19: 2.42\n",
            "Discounted Similarities: User 90: 0.7035\n",
            "User 41: 0.6964\n",
            "User 113: 0.6750\n",
            "User 56: 0.6711\n",
            "User 15: 0.6671\n",
            "User 131: 0.6638\n",
            "User 85: 0.6540\n",
            "User 57: 0.6510\n",
            "User 77: 0.6445\n",
            "User 86: 0.6434\n",
            "User 89: 0.6401\n",
            "User 76: 0.6332\n",
            "User 108: 0.6330\n",
            "User 66: 0.6308\n",
            "User 45: 0.6274\n",
            "User 146: 0.6239\n",
            "User 119: 0.6226\n",
            "User 140: 0.6212\n",
            "User 42: 0.6184\n",
            "User 124: 0.6165\n",
            "User 25: 0.6045\n",
            "User 96: 0.6040\n",
            "User 21: 0.6008\n",
            "User 107: 0.5981\n",
            "User 144: 0.5976\n",
            "User 95: 0.5941\n",
            "User 118: 0.5908\n",
            "User 63: 0.5906\n",
            "User 103: 0.5888\n",
            "Top 20% Closest Users with Discounted Similarity: User 90: 0.7035\n",
            "User 41: 0.6964\n",
            "User 113: 0.6750\n",
            "User 56: 0.6711\n",
            "User 15: 0.6671\n",
            "Predicted Ratings with Discounted Similarity: Movie 1: 2.49\n",
            "Movie 6: 2.01\n",
            "Movie 11: 2.03\n",
            "Movie 12: 2.98\n",
            "Movie 14: 1.98\n",
            "Movie 19: 2.00\n"
          ]
        }
      ]
    }
  ]
}
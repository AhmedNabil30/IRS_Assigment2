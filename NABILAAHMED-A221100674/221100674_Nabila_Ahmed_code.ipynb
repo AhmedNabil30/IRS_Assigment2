{
  "nbformat": 4,
  "nbformat_minor": 0,
  "metadata": {
    "colab": {
      "provenance": []
    },
    "kernelspec": {
      "name": "python3",
      "display_name": "Python 3"
    },
    "language_info": {
      "name": "python"
    }
  },
  "cells": [
    {
      "cell_type": "markdown",
      "source": [
        "Cheking the dataset path"
      ],
      "metadata": {
        "id": "o-POrUfZq_S5"
      }
    },
    {
      "cell_type": "code",
      "source": [
        "import os\n",
        "\n",
        "dataset_path = r\"/content/TMDB user movie ratings.csv\"\n",
        "\n",
        "\n",
        "def validate_dataset_path(path):\n",
        "    if not os.path.exists(path):\n",
        "        raise FileNotFoundError(f\"The dataset file was not found at: {path}\")\n",
        "    print(f\"Dataset path exists: {path}\")\n",
        "validate_dataset_path(dataset_path)\n"
      ],
      "metadata": {
        "colab": {
          "base_uri": "https://localhost:8080/"
        },
        "id": "r4Dr18YDovz4",
        "outputId": "2ef69b76-da3e-4d97-d7d9-5bc0d2f2592b"
      },
      "execution_count": null,
      "outputs": [
        {
          "output_type": "stream",
          "name": "stdout",
          "text": [
            "Dataset path exists: /content/TMDB user movie ratings.csv\n"
          ]
        }
      ]
    },
    {
      "cell_type": "markdown",
      "source": [
        "Loading Dataset"
      ],
      "metadata": {
        "id": "ZnxAi2lqvknK"
      }
    },
    {
      "cell_type": "code",
      "source": [
        "\n",
        "def load_dataset(path):\n",
        "    \"\"\"\n",
        "    Load the dataset from the given path and handle any issues.\n",
        "    \"\"\"\n",
        "    data = pd.read_csv(path)\n",
        "    print(f\"Dataset loaded successfully with {data.shape[0]} rows and {data.shape[1]} columns.\")\n",
        "    return data\n",
        "\n",
        "dataset = load_dataset(dataset_path)\n",
        "\n",
        "print(\"Preview of the loaded dataset:\")\n",
        "print(dataset.head())\n"
      ],
      "metadata": {
        "colab": {
          "base_uri": "https://localhost:8080/"
        },
        "id": "tlmTWEFFrLLf",
        "outputId": "9b4482c1-cec3-4f11-ccad-38b53e604d77"
      },
      "execution_count": null,
      "outputs": [
        {
          "output_type": "stream",
          "name": "stdout",
          "text": [
            "Dataset loaded successfully with 884 rows and 4 columns.\n",
            "Preview of the loaded dataset:\n",
            "   user_id  media_id  rating                   title\n",
            "0        1     27205     8.3               Inception\n",
            "1        1    157336     8.1            Interstellar\n",
            "2        1       155     8.5         The Dark Knight\n",
            "3        1    299536     8.3  Avengers: Infinity War\n",
            "4        1       550     7.9              Fight Club\n"
          ]
        }
      ]
    },
    {
      "cell_type": "markdown",
      "source": [
        "Adjusting Rating Scale from 1-5"
      ],
      "metadata": {
        "id": "yYwTl67Vv-FR"
      }
    },
    {
      "cell_type": "code",
      "source": [
        "import pandas as pd\n",
        "\n",
        "\n",
        "dataset_path = \"/content/TMDB user movie ratings.csv\"\n",
        "dataset = pd.read_csv(dataset_path)\n",
        "\n",
        "\n",
        "if 'rating' in dataset.columns:\n",
        "    def adjust_rating_scale(data, column, new_min=1, new_max=5):\n",
        "        col = data[column]\n",
        "        scaled_col = (col - col.min()) / (col.max() - col.min())  # Normalize to 0-1\n",
        "        data[column] = (scaled_col * (new_max - new_min) + new_min).round(2)\n",
        "        print(f\"Ratings scaled to range {new_min}-{new_max}.\")\n",
        "        return data\n",
        "\n",
        "    dataset = adjust_rating_scale(dataset, column='rating')\n",
        "\n",
        "    print(\"Adjusted dataset preview:\")\n",
        "    print(dataset.head())\n",
        "else:\n",
        "    print(\"'rating' column not found in dataset.\")\n"
      ],
      "metadata": {
        "colab": {
          "base_uri": "https://localhost:8080/"
        },
        "id": "d9m1f3QavDXB",
        "outputId": "56da8c82-0196-4a18-b604-9fcd7e1989f1"
      },
      "execution_count": null,
      "outputs": [
        {
          "output_type": "stream",
          "name": "stdout",
          "text": [
            "Ratings scaled to range 1-5.\n",
            "Adjusted dataset preview:\n",
            "   user_id  media_id  rating                   title\n",
            "0        1     27205    2.83               Inception\n",
            "1        1    157336    2.50            Interstellar\n",
            "2        1       155    3.17         The Dark Knight\n",
            "3        1    299536    2.83  Avengers: Infinity War\n",
            "4        1       550    2.17              Fight Club\n"
          ]
        }
      ]
    },
    {
      "cell_type": "markdown",
      "source": [
        "Save the Adjustments"
      ],
      "metadata": {
        "id": "jECSvkWt2oMa"
      }
    },
    {
      "cell_type": "code",
      "source": [
        "import os\n",
        "\n",
        "def save_adjusted_dataset(dataframe, file_path):\n",
        "\n",
        "    output_dir = os.path.join(os.path.dirname(file_path), \"a/content\")\n",
        "    os.makedirs(output_dir, exist_ok=True)\n",
        "\n",
        "    output_file = os.path.join(output_dir, \"tmdb_movies_ratings_adjusted.xlsx\")\n",
        "    dataframe.to_excel(output_file, index=False)\n",
        "    print(f\"File saved successfully at: {output_file}\")\n",
        "    return output_file\n",
        "\n",
        "adjusted_dataset_path = save_adjusted_dataset(dataset, dataset_path)\n",
        "\n",
        "print(\"Dataset saved:\", adjusted_dataset_path)\n"
      ],
      "metadata": {
        "colab": {
          "base_uri": "https://localhost:8080/"
        },
        "id": "Qc-HY9Jt2iKN",
        "outputId": "a0814661-c2e2-4f6e-868d-462caf000f03"
      },
      "execution_count": null,
      "outputs": [
        {
          "output_type": "stream",
          "name": "stdout",
          "text": [
            "File saved successfully at: /content/a/content/tmdb_movies_ratings_adjusted.xlsx\n",
            "Dataset saved: /content/a/content/tmdb_movies_ratings_adjusted.xlsx\n"
          ]
        }
      ]
    },
    {
      "cell_type": "markdown",
      "source": [
        " Requirements for Both User-Based and Item-Based CF"
      ],
      "metadata": {
        "id": "UFpnDcQ423wG"
      }
    },
    {
      "cell_type": "code",
      "source": [
        "\n",
        "import pandas as pd\n",
        "import numpy as np\n",
        "import matplotlib.pyplot as plt"
      ],
      "metadata": {
        "id": "Q_oEjun02vvl"
      },
      "execution_count": null,
      "outputs": []
    },
    {
      "cell_type": "code",
      "source": [
        "import pandas as pd\n",
        "\n",
        "\n",
        "dataset_path = \"/content/TMDB user movie ratings.csv\"\n",
        "dataset = pd.read_csv(dataset_path)\n",
        "\n",
        "\n",
        "if 'rating' in dataset.columns:\n",
        "    def adjust_rating_scale(data, column, new_min=1, new_max=5):\n",
        "        col = data[column]\n",
        "        scaled_col = (col - col.min()) / (col.max() - col.min())  # Normalize to 0-1\n",
        "        data[column] = (scaled_col * (new_max - new_min) + new_min).round(2)\n",
        "        print(f\"Ratings scaled to range {new_min}-{new_max}.\")\n",
        "        return data\n",
        "\n",
        "    dataset = adjust_rating_scale(dataset, column='rating')\n",
        "\n",
        "    print(\"Adjusted dataset preview:\")\n",
        "    print(dataset.head())\n",
        "else:\n",
        "    print(\"'rating' column not found in dataset.\")\n",
        "\n"
      ],
      "metadata": {
        "colab": {
          "base_uri": "https://localhost:8080/"
        },
        "id": "k_w9nzUt29hj",
        "outputId": "a41070bd-f91b-4270-deb9-09b3bef9a74d"
      },
      "execution_count": null,
      "outputs": [
        {
          "output_type": "stream",
          "name": "stdout",
          "text": [
            "Ratings scaled to range 1-5.\n",
            "Adjusted dataset preview:\n",
            "   user_id  media_id  rating                   title\n",
            "0        1     27205    2.83               Inception\n",
            "1        1    157336    2.50            Interstellar\n",
            "2        1       155    3.17         The Dark Knight\n",
            "3        1    299536    2.83  Avengers: Infinity War\n",
            "4        1       550    2.17              Fight Club\n"
          ]
        }
      ]
    },
    {
      "cell_type": "code",
      "source": [
        "def count_unique_users_and_items(dataframe, user_col=\"user_id\", item_col=\"media_id\"):\n",
        "\n",
        "    users_count = dataframe[user_col].nunique()\n",
        "    items_count = dataframe[item_col].nunique()\n",
        "    print(f\"Unique users: {users_count}\")\n",
        "    print(f\"Unique items: {items_count}\")\n",
        "    return users_count, items_count\n",
        "\n",
        "users_count, items_count = count_unique_users_and_items(dataset)"
      ],
      "metadata": {
        "colab": {
          "base_uri": "https://localhost:8080/"
        },
        "id": "8IZanvdB3wqK",
        "outputId": "e4461e89-5fb8-425e-f9ed-e82fbdf094ce"
      },
      "execution_count": null,
      "outputs": [
        {
          "output_type": "stream",
          "name": "stdout",
          "text": [
            "Unique users: 60\n",
            "Unique items: 86\n"
          ]
        }
      ]
    },
    {
      "cell_type": "code",
      "source": [
        "import pandas as pd\n",
        "\n",
        "\n",
        "dataset_path = \"/content/TMDB user movie ratings.csv\"\n",
        "dataset = pd.read_csv(dataset_path)\n",
        "\n",
        "\n",
        "tnu = dataset['user_id'].nunique()\n",
        "tni = dataset['media_id'].nunique()\n",
        "\n",
        "# Print results\n",
        "print(f\"Total number of users (tnu): {tnu}\")\n",
        "print(f\"Total number of items (tni): {tni}\")\n"
      ],
      "metadata": {
        "colab": {
          "base_uri": "https://localhost:8080/"
        },
        "id": "UB6_LQpf4agU",
        "outputId": "4406cedd-c1c9-4d29-e98c-27c7fa9596bc"
      },
      "execution_count": null,
      "outputs": [
        {
          "output_type": "stream",
          "name": "stdout",
          "text": [
            "Total number of users (tnu): 60\n",
            "Total number of items (tni): 86\n"
          ]
        }
      ]
    },
    {
      "cell_type": "code",
      "source": [
        "import pandas as pd\n",
        "import matplotlib.pyplot as plt\n",
        "\n",
        "\n",
        "dataset_path = \"/content/TMDB user movie ratings.csv\"\n",
        "dataset = pd.read_csv(dataset_path)\n",
        "\n",
        "\n",
        "ratings_per_product = dataset.groupby('media_id')['rating'].count()\n",
        "\n",
        "\n",
        "print(\"Number of ratings for every product:\")\n",
        "print(ratings_per_product)\n",
        "\n",
        "\n",
        "plt.figure(figsize=(12, 6))\n",
        "ratings_per_product.sort_values(ascending=False).head(20).plot(kind='bar', color='skyblue')\n",
        "plt.title(\"Top 20 Products by Number of Ratings\")\n",
        "plt.xlabel(\"Product ID\")\n",
        "plt.ylabel(\"Number of Ratings\")\n",
        "plt.xticks(rotation=45)\n",
        "plt.grid(axis='y', alpha=0.3)\n",
        "plt.tight_layout()\n",
        "\n",
        "plt.show()\n",
        "\n"
      ],
      "metadata": {
        "colab": {
          "base_uri": "https://localhost:8080/",
          "height": 850
        },
        "id": "PdiduqD6OVmk",
        "outputId": "bbc0e92d-8bd5-43dc-820c-0b59ec2cc72c"
      },
      "execution_count": null,
      "outputs": [
        {
          "output_type": "stream",
          "name": "stdout",
          "text": [
            "Number of ratings for every product:\n",
            "media_id\n",
            "13         14\n",
            "28         10\n",
            "73         10\n",
            "101         6\n",
            "105         9\n",
            "           ..\n",
            "724089      9\n",
            "761053      9\n",
            "995133     11\n",
            "1084736     9\n",
            "1184918     9\n",
            "Name: rating, Length: 86, dtype: int64\n"
          ]
        },
        {
          "output_type": "display_data",
          "data": {
            "text/plain": [
              "<Figure size 1200x600 with 1 Axes>"
            ],
            "image/png": "[encoded data removed]"
          },
          "metadata": {}
        }
      ]
    },
    {
      "cell_type": "code",
      "source": [
        "import pandas as pd\n",
        "import numpy as np\n",
        "\n",
        "\n",
        "dataset_path = \"/content/TMDB user movie ratings.csv\"\n",
        "\n",
        "\n",
        "def create_user_item_matrix(data):\n",
        "\n",
        "    unique_users = data['user_id'].unique()\n",
        "    unique_items = data['media_id'].unique()\n",
        "    matrix = pd.DataFrame(np.nan, index=unique_users, columns=unique_items)\n",
        "\n",
        "    for _, row in data.iterrows():\n",
        "        matrix.at[row['user_id'], row['media_id']] = row['rating']\n",
        "    return matrix\n",
        "\n",
        "user_item_matrix = create_user_item_matrix(dataset)\n",
        "\n",
        "\n",
        "def calculate_missing_ratings(matrix):\n",
        "    return matrix.isna().sum(axis=1)\n",
        "\n",
        "def find_closest_user(missing_ratings, target):\n",
        "    return missing_ratings.iloc[(missing_ratings - target).abs().argsort()].index[0]\n",
        "\n",
        "def select_users_with_specific_missing_ratings(matrix):\n",
        "    missing_ratings = calculate_missing_ratings(matrix)\n",
        "    if len(missing_ratings) < 3:\n",
        "        raise ValueError(\"Not enough users to select 3 distinct users.\")\n",
        "    U1 = find_closest_user(missing_ratings, 2)\n",
        "    U2 = find_closest_user(missing_ratings, 3)\n",
        "    U3 = find_closest_user(missing_ratings, 5)\n",
        "    selected_users = list({U1, U2, U3})\n",
        "    print(f\"Selected users: {selected_users} (closest to 2, 3, and 5 missing ratings).\")\n",
        "    return selected_users\n",
        "\n",
        "selected_users = select_users_with_specific_missing_ratings(user_item_matrix)\n",
        "\n"
      ],
      "metadata": {
        "colab": {
          "base_uri": "https://localhost:8080/"
        },
        "id": "xiGxBSUwO0OM",
        "outputId": "36448620-9ca4-4f6a-bffb-19e12b4e88bd"
      },
      "execution_count": null,
      "outputs": [
        {
          "output_type": "stream",
          "name": "stdout",
          "text": [
            "Selected users: [60] (closest to 2, 3, and 5 missing ratings).\n"
          ]
        }
      ]
    },
    {
      "cell_type": "code",
      "source": [
        "import pandas as pd\n",
        "\n",
        "\n",
        "dataset_path = \"/content/TMDB user movie ratings.csv\"\n",
        "dataset = pd.read_csv(dataset_path)\n",
        "\n",
        "unique_users = dataset['user_id'].unique()\n",
        "unique_items = dataset['media_id'].unique()\n",
        "\n",
        "\n",
        "import numpy as np\n",
        "user_item_matrix = pd.DataFrame(np.nan, index=unique_users, columns=unique_items)\n",
        "\n",
        "\n",
        "for _, row in dataset.iterrows():\n",
        "    user_item_matrix.at[row['user_id'], row['media_id']] = row['rating']\n",
        "\n",
        "\n",
        "print(\"User-Item Matrix created:\")\n",
        "print(user_item_matrix.head())\n"
      ],
      "metadata": {
        "id": "_UxkJYVNbsRB",
        "colab": {
          "base_uri": "https://localhost:8080/"
        },
        "outputId": "3d0cc4d1-d0d9-410b-a7d5-85e778f150cc"
      },
      "execution_count": null,
      "outputs": [
        {
          "output_type": "stream",
          "name": "stdout",
          "text": [
            "User-Item Matrix created:\n",
            "   27205   157336  155     299536  550     680     13      278     299534  \\\n",
            "1     8.3     8.1     8.5     8.3     7.9     7.6     8.9     9.4     7.7   \n",
            "2     8.9     8.1     8.3     8.6     8.3     8.2     8.1     8.6     8.4   \n",
            "3     8.9     8.2     8.1     8.6     9.3     7.9     7.9     9.5     8.0   \n",
            "4     8.4     8.3     7.9     8.7     9.4     8.0     9.0     8.7     9.2   \n",
            "5     8.1     8.6     9.5     8.6     8.2     9.3     8.9     8.3     7.8   \n",
            "\n",
            "   120     ...  14537   265177  101     244786  504253  11216   207     \\\n",
            "1     8.1  ...     NaN     NaN     NaN     NaN     NaN     NaN     NaN   \n",
            "2     9.0  ...     NaN     NaN     NaN     NaN     NaN     NaN     NaN   \n",
            "3     8.0  ...     NaN     NaN     NaN     NaN     NaN     NaN     NaN   \n",
            "4     8.9  ...     NaN     NaN     NaN     NaN     NaN     NaN     NaN   \n",
            "5     7.8  ...     NaN     NaN     NaN     NaN     NaN     NaN     NaN   \n",
            "\n",
            "   42269   423     995133  \n",
            "1     NaN     NaN     NaN  \n",
            "2     NaN     NaN     NaN  \n",
            "3     NaN     NaN     NaN  \n",
            "4     NaN     NaN     NaN  \n",
            "5     NaN     NaN     NaN  \n",
            "\n",
            "[5 rows x 86 columns]\n"
          ]
        }
      ]
    },
    {
      "cell_type": "code",
      "source": [
        "import pandas as pd\n",
        "import numpy as np\n",
        "\n",
        "\n",
        "def calculate_missing_ratings_per_user(matrix):\n",
        "\n",
        "    return matrix.isna().sum(axis=1)\n",
        "\n",
        "\n",
        "def get_user_closest_to_target(missing_ratings, target, excluded_users):\n",
        "\n",
        "\n",
        "    filtered_ratings = missing_ratings.drop(index=excluded_users, errors='ignore')\n",
        "    closest_user = filtered_ratings.iloc[(filtered_ratings - target).abs().argsort()].index[0]\n",
        "    return closest_user\n",
        "\n",
        "\n",
        "def select_users_with_missing_targets(matrix, targets=[2, 3, 5]):\n",
        "\n",
        "    missing_ratings = calculate_missing_ratings_per_user(matrix)\n",
        "    selected_users = []\n",
        "\n",
        "    for target in targets:\n",
        "        closest_user = get_user_closest_to_target(missing_ratings, target, excluded_users=selected_users)\n",
        "        selected_users.append(closest_user)\n",
        "\n",
        "    print(f\"Selected users: {selected_users} (closest to {targets} missing ratings).\")\n",
        "    return selected_users\n",
        "\n",
        "\n",
        "def create_user_item_matrix(data):\n",
        "\n",
        "    unique_users = data['user_id'].unique()\n",
        "    unique_items = data['media_id'].unique()\n",
        "    matrix = pd.DataFrame(np.nan, index=unique_users, columns=unique_items)\n",
        "\n",
        "    for _, row in data.iterrows():\n",
        "        matrix.at[row['user_id'], row['media_id']] = row['rating']\n",
        "    return matrix\n",
        "\n",
        "dataset_path = \"/content/TMDB user movie ratings.csv\"\n",
        "dataset = pd.read_csv(dataset_path)\n",
        "\n",
        "\n",
        "user_item_matrix = create_user_item_matrix(dataset)\n",
        "\n",
        "\n",
        "selected_users = select_users_with_missing_targets(user_item_matrix)\n"
      ],
      "metadata": {
        "colab": {
          "base_uri": "https://localhost:8080/"
        },
        "id": "fWJB57uYKHDz",
        "outputId": "c672a50b-6e7f-41e8-803f-a9b94d68e9d3"
      },
      "execution_count": null,
      "outputs": [
        {
          "output_type": "stream",
          "name": "stdout",
          "text": [
            "Selected users: [60, 41, 11] (closest to [2, 3, 5] missing ratings).\n"
          ]
        }
      ]
    },
    {
      "cell_type": "code",
      "source": [
        "import pandas as pd\n",
        "import numpy as np\n",
        "\n",
        "\n",
        "def calculate_missing_percentage_per_item(matrix):\n",
        "\n",
        "    total_users = matrix.shape[0]\n",
        "    missing_count = matrix.isna().sum(axis=0)\n",
        "    return (missing_count / total_users) * 100\n",
        "\n",
        "\n",
        "def get_item_closest_to_target(missing_percentages, target, excluded_items):\n",
        "\n",
        "    filtered_percentages = missing_percentages.drop(index=excluded_items, errors='ignore')\n",
        "    closest_item = filtered_percentages.iloc[(filtered_percentages - target).abs().argsort()].index[0]\n",
        "    return closest_item\n",
        "\n",
        "def select_items_with_missing_percentages(matrix, targets=[4, 10]):\n",
        "\n",
        "    missing_percentages = calculate_missing_percentage_per_item(matrix)\n",
        "    selected_items = []\n",
        "\n",
        "    for target in targets:\n",
        "        closest_item = get_item_closest_to_target(missing_percentages, target, excluded_items=selected_items)\n",
        "        selected_items.append(closest_item)\n",
        "\n",
        "    print(f\"Selected items: I1={selected_items[0]} (closest to {targets[0]}%), \"\n",
        "          f\"I2={selected_items[1]} (closest to {targets[1]}%).\")\n",
        "    return selected_items\n",
        "\n",
        "def create_user_item_matrix(data):\n",
        "\n",
        "    unique_users = data['user_id'].unique()\n",
        "    unique_items = data['media_id'].unique()\n",
        "    matrix = pd.DataFrame(np.nan, index=unique_users, columns=unique_items)\n",
        "\n",
        "    for _, row in data.iterrows():\n",
        "        matrix.at[row['user_id'], row['media_id']] = row['rating']\n",
        "    return matrix\n",
        "\n",
        "\n",
        "dataset_path = \"/content/TMDB user movie ratings.csv\"\n",
        "dataset = pd.read_csv(dataset_path)\n",
        "\n",
        "\n",
        "user_item_matrix = create_user_item_matrix(dataset)\n",
        "\n",
        "\n",
        "selected_items = select_items_with_missing_percentages(user_item_matrix)\n"
      ],
      "metadata": {
        "colab": {
          "base_uri": "https://localhost:8080/"
        },
        "id": "qhRGAbmGKrFD",
        "outputId": "e534e6b4-3c6a-4dcc-9bf6-e2a903c03d40"
      },
      "execution_count": null,
      "outputs": [
        {
          "output_type": "stream",
          "name": "stdout",
          "text": [
            "Selected items: I1=299536 (closest to 4%), I2=550 (closest to 10%).\n"
          ]
        }
      ]
    },
    {
      "cell_type": "code",
      "source": [
        "import pandas as pd\n",
        "import numpy as np\n",
        "\n",
        "\n",
        "def get_rated_items(matrix, user):\n",
        "\n",
        "    return set(matrix.loc[user].dropna().index)\n",
        "\n",
        "\n",
        "def compare_rated_items(user_items, other_user_items):\n",
        "\n",
        "    return user_items.intersection(other_user_items)\n",
        "\n",
        "\n",
        "def analyze_co_rated_items(matrix, user):\n",
        "\n",
        "    user_items = get_rated_items(matrix, user)\n",
        "    no_common_users = 0\n",
        "    no_coRated_items = len(user_items)\n",
        "\n",
        "    print(f\"\\nItems rated by User {user}: {user_items}\")\n",
        "\n",
        "    for other_user in matrix.index:\n",
        "        if user != other_user:  # Avoid self-comparison\n",
        "            other_user_items = get_rated_items(matrix, other_user)\n",
        "            shared_items = compare_rated_items(user_items, other_user_items)\n",
        "\n",
        "            if len(shared_items) == 0:\n",
        "                no_common_users += 1\n",
        "            else:\n",
        "                print(f\"User {user} and User {other_user} share {len(shared_items)} items: {shared_items}\")\n",
        "\n",
        "    return {'No_common_users': no_common_users, 'No_coRated_items': no_coRated_items}\n",
        "\n",
        "# Function to count co-rated items and analyze overlap for multiple users\n",
        "def count_co_rated_items_with_overlap(matrix, selected_users):\n",
        "\n",
        "    co_rated_counts = {}\n",
        "\n",
        "    for user in selected_users:\n",
        "        co_rated_counts[user] = analyze_co_rated_items(matrix, user)\n",
        "\n",
        "    print(f\"\\nCo-rated counts for selected users: {co_rated_counts}\")\n",
        "    return co_rated_counts\n",
        "\n",
        "\n",
        "co_rated_counts = count_co_rated_items_with_overlap(user_item_matrix, selected_users)\n"
      ],
      "metadata": {
        "colab": {
          "base_uri": "https://localhost:8080/"
        },
        "id": "6igr_KJ0MBNu",
        "outputId": "feca808f-5de1-4e54-df39-705683cc8196"
      },
      "execution_count": null,
      "outputs": [
        {
          "output_type": "stream",
          "name": "stdout",
          "text": [
            "\n",
            "Items rated by User 60: {129, 389, 25237, 278, 539, 155, 550, 630566, 423, 18491, 995133, 27205, 4935, 378064, 598, 346, 761053, 255709, 497, 121}\n",
            "User 60 and User 1 share 4 items: {155, 27205, 550, 278}\n",
            "User 60 and User 2 share 4 items: {155, 27205, 550, 278}\n",
            "User 60 and User 3 share 4 items: {155, 27205, 550, 278}\n",
            "User 60 and User 4 share 4 items: {155, 27205, 550, 278}\n",
            "User 60 and User 5 share 4 items: {155, 27205, 550, 278}\n",
            "User 60 and User 6 share 4 items: {155, 27205, 550, 278}\n",
            "User 60 and User 7 share 4 items: {155, 27205, 550, 278}\n",
            "User 60 and User 8 share 4 items: {155, 27205, 550, 278}\n",
            "User 60 and User 9 share 4 items: {155, 27205, 550, 278}\n",
            "User 60 and User 10 share 4 items: {155, 27205, 550, 278}\n",
            "User 60 and User 11 share 6 items: {550, 4935, 378064, 497, 18491, 255709}\n",
            "User 60 and User 12 share 1 items: {25237}\n",
            "User 60 and User 13 share 5 items: {27205, 4935, 497, 25237, 18491}\n",
            "User 60 and User 14 share 5 items: {27205, 389, 630566, 346, 539}\n",
            "User 60 and User 15 share 5 items: {129, 27205, 550, 389, 761053}\n",
            "User 60 and User 16 share 5 items: {550, 4935, 378064, 598, 121}\n",
            "User 60 and User 17 share 3 items: {539, 389, 550}\n",
            "User 60 and User 18 share 2 items: {497, 539}\n",
            "User 60 and User 19 share 6 items: {27205, 389, 25237, 598, 155, 761053}\n",
            "User 60 and User 20 share 3 items: {255709, 389, 278}\n",
            "User 60 and User 21 share 3 items: {129, 155, 598}\n",
            "User 60 and User 22 share 3 items: {346, 539, 25237}\n",
            "User 60 and User 23 share 3 items: {346, 630566, 278}\n",
            "User 60 and User 24 share 2 items: {378064, 497}\n",
            "User 60 and User 25 share 5 items: {255709, 378064, 25237, 155, 761053}\n",
            "User 60 and User 26 share 2 items: {129, 598}\n",
            "User 60 and User 27 share 4 items: {121, 389, 25237, 4935}\n",
            "User 60 and User 28 share 4 items: {121, 539, 278, 4935}\n",
            "User 60 and User 29 share 8 items: {389, 550, 423, 4935, 155, 497, 278, 539}\n",
            "User 60 and User 30 share 6 items: {389, 995133, 598, 121, 18491, 761053}\n",
            "User 60 and User 31 share 7 items: {389, 630566, 550, 598, 121, 539, 761053}\n",
            "User 60 and User 32 share 7 items: {27205, 550, 630566, 278, 598, 539, 18491}\n",
            "User 60 and User 33 share 4 items: {378064, 346, 25237, 598}\n",
            "User 60 and User 34 share 5 items: {129, 378064, 25237, 155, 995133}\n",
            "User 60 and User 35 share 2 items: {18491, 255709}\n",
            "User 60 and User 36 share 3 items: {630566, 255709, 550}\n",
            "User 60 and User 37 share 3 items: {129, 761053, 4935}\n",
            "User 60 and User 38 share 5 items: {129, 630566, 497, 539, 761053}\n",
            "User 60 and User 39 share 3 items: {129, 25237, 278}\n",
            "User 60 and User 40 share 6 items: {389, 630566, 378064, 121, 155, 995133}\n",
            "User 60 and User 41 share 3 items: {255709, 995133, 25237}\n",
            "User 60 and User 42 share 1 items: {995133}\n",
            "User 60 and User 43 share 5 items: {630566, 497, 25237, 598, 278}\n",
            "User 60 and User 44 share 2 items: {497, 995133}\n",
            "User 60 and User 45 share 7 items: {423, 18491, 155, 25237, 278, 539, 761053}\n",
            "User 60 and User 46 share 3 items: {121, 255709, 550}\n",
            "User 60 and User 47 share 4 items: {129, 995133, 27205, 598}\n",
            "User 60 and User 48 share 6 items: {550, 378064, 598, 278, 121, 995133}\n",
            "User 60 and User 49 share 4 items: {378064, 598, 155, 278}\n",
            "User 60 and User 50 share 3 items: {423, 121, 4935}\n",
            "User 60 and User 51 share 2 items: {497, 550}\n",
            "User 60 and User 52 share 5 items: {27205, 389, 4935, 278, 255709}\n",
            "User 60 and User 53 share 4 items: {378064, 121, 550, 4935}\n",
            "User 60 and User 54 share 5 items: {129, 378064, 121, 155, 255709}\n",
            "User 60 and User 55 share 7 items: {129, 423, 497, 598, 539, 18491, 255709}\n",
            "User 60 and User 56 share 1 items: {18491}\n",
            "User 60 and User 57 share 2 items: {598, 630566}\n",
            "User 60 and User 58 share 6 items: {423, 497, 598, 278, 18491, 995133}\n",
            "User 60 and User 59 share 2 items: {995133, 550}\n",
            "\n",
            "Items rated by User 41: {769, 901, 299534, 25237, 1184918, 157336, 527641, 28, 92321, 508965, 429, 995133, 335, 975, 207, 599, 265177, 255709, 240, 572154}\n",
            "User 41 and User 1 share 2 items: {157336, 299534}\n",
            "User 41 and User 2 share 2 items: {157336, 299534}\n",
            "User 41 and User 3 share 2 items: {157336, 299534}\n",
            "User 41 and User 4 share 2 items: {157336, 299534}\n",
            "User 41 and User 5 share 2 items: {157336, 299534}\n",
            "User 41 and User 6 share 2 items: {157336, 299534}\n",
            "User 41 and User 7 share 2 items: {157336, 299534}\n",
            "User 41 and User 8 share 2 items: {157336, 299534}\n",
            "User 41 and User 9 share 2 items: {157336, 299534}\n",
            "User 41 and User 10 share 2 items: {157336, 299534}\n",
            "User 41 and User 11 share 4 items: {527641, 28, 255709, 335}\n",
            "User 41 and User 12 share 6 items: {508965, 299534, 975, 25237, 1184918, 527641}\n",
            "User 41 and User 13 share 5 items: {429, 299534, 25237, 599, 157336}\n",
            "User 41 and User 14 share 4 items: {157336, 92321, 572154, 429}\n",
            "User 41 and User 15 share 3 items: {92321, 508965, 901}\n",
            "User 41 and User 16 share 4 items: {92321, 28, 429, 335}\n",
            "User 41 and User 17 share 4 items: {527641, 92321, 299534, 335}\n",
            "User 41 and User 18 share 3 items: {240, 92321, 769}\n",
            "User 41 and User 19 share 4 items: {92321, 25237, 299534, 975}\n",
            "User 41 and User 20 share 2 items: {255709, 1184918}\n",
            "User 41 and User 21 share 5 items: {508965, 299534, 240, 1184918, 265177}\n",
            "User 41 and User 22 share 2 items: {157336, 25237}\n",
            "User 41 and User 23 share 3 items: {157336, 92321, 429}\n",
            "User 41 and User 24 share 3 items: {240, 769, 207}\n",
            "User 41 and User 25 share 4 items: {255709, 25237, 299534, 207}\n",
            "User 41 and User 26 share 4 items: {157336, 572154, 975, 335}\n",
            "User 41 and User 27 share 5 items: {508965, 25237, 1184918, 157336, 28}\n",
            "User 41 and User 28 share 4 items: {769, 28, 429, 975}\n",
            "User 41 and User 29 share 1 items: {769}\n",
            "User 41 and User 30 share 4 items: {769, 995133, 265177, 508965}\n",
            "User 41 and User 31 share 2 items: {265177, 1184918}\n",
            "User 41 and User 32 share 2 items: {299534, 335}\n",
            "User 41 and User 33 share 5 items: {769, 429, 25237, 265177, 28}\n",
            "User 41 and User 34 share 4 items: {769, 995133, 25237, 1184918}\n",
            "User 41 and User 35 share 1 items: {255709}\n",
            "User 41 and User 36 share 7 items: {92321, 508965, 975, 599, 265177, 28, 255709}\n",
            "User 41 and User 37 share 1 items: {901}\n",
            "User 41 and User 38 share 4 items: {240, 28, 429, 207}\n",
            "User 41 and User 39 share 2 items: {572154, 25237}\n",
            "User 41 and User 40 share 3 items: {92321, 995133, 299534}\n",
            "User 41 and User 42 share 4 items: {527641, 207, 995133, 335}\n",
            "User 41 and User 43 share 7 items: {92321, 508965, 975, 240, 25237, 1184918, 527641}\n",
            "User 41 and User 44 share 5 items: {92321, 207, 335, 265177, 995133}\n",
            "User 41 and User 45 share 4 items: {240, 769, 265177, 25237}\n",
            "User 41 and User 46 share 4 items: {240, 255709, 901, 975}\n",
            "User 41 and User 47 share 3 items: {995133, 508965, 335}\n",
            "User 41 and User 48 share 3 items: {265177, 995133, 429}\n",
            "User 41 and User 49 share 1 items: {265177}\n",
            "User 41 and User 50 share 2 items: {28, 429}\n",
            "User 41 and User 51 share 2 items: {240, 769}\n",
            "User 41 and User 52 share 2 items: {255709, 975}\n",
            "User 41 and User 53 share 2 items: {157336, 1184918}\n",
            "User 41 and User 54 share 3 items: {527641, 255709, 599}\n",
            "User 41 and User 55 share 7 items: {769, 901, 975, 599, 265177, 572154, 255709}\n",
            "User 41 and User 56 share 4 items: {240, 157336, 508965, 599}\n",
            "User 41 and User 57 share 3 items: {28, 299534, 599}\n",
            "User 41 and User 58 share 3 items: {92321, 995133, 975}\n",
            "User 41 and User 59 share 1 items: {995133}\n",
            "User 41 and User 60 share 3 items: {255709, 995133, 25237}\n",
            "\n",
            "Items rated by User 11: {128, 447362, 8587, 299536, 914, 274, 527641, 28, 550, 424, 1585, 18491, 4935, 19404, 12493, 335, 378064, 255709, 1891, 497}\n",
            "User 11 and User 1 share 2 items: {299536, 550}\n",
            "User 11 and User 2 share 2 items: {299536, 550}\n",
            "User 11 and User 3 share 2 items: {299536, 550}\n",
            "User 11 and User 4 share 2 items: {299536, 550}\n",
            "User 11 and User 5 share 2 items: {299536, 550}\n",
            "User 11 and User 6 share 2 items: {299536, 550}\n",
            "User 11 and User 7 share 2 items: {299536, 550}\n",
            "User 11 and User 8 share 2 items: {299536, 550}\n",
            "User 11 and User 9 share 2 items: {299536, 550}\n",
            "User 11 and User 10 share 2 items: {299536, 550}\n",
            "User 11 and User 12 share 2 items: {527641, 19404}\n",
            "User 11 and User 13 share 6 items: {447362, 1891, 4935, 424, 497, 18491}\n",
            "User 11 and User 15 share 3 items: {299536, 1585, 550}\n",
            "User 11 and User 16 share 7 items: {550, 4935, 12493, 335, 299536, 378064, 28}\n",
            "User 11 and User 17 share 8 items: {447362, 1891, 550, 424, 335, 299536, 274, 527641}\n",
            "User 11 and User 18 share 3 items: {128, 497, 8587}\n",
            "User 11 and User 19 share 2 items: {424, 1585}\n",
            "User 11 and User 20 share 2 items: {299536, 255709}\n",
            "User 11 and User 21 share 1 items: {19404}\n",
            "User 11 and User 22 share 2 items: {128, 914}\n",
            "User 11 and User 23 share 1 items: {299536}\n",
            "User 11 and User 24 share 4 items: {378064, 497, 274, 12493}\n",
            "User 11 and User 25 share 5 items: {12493, 299536, 1585, 378064, 255709}\n",
            "User 11 and User 26 share 4 items: {424, 1891, 19404, 335}\n",
            "User 11 and User 27 share 5 items: {1891, 4935, 19404, 299536, 28}\n",
            "User 11 and User 28 share 5 items: {128, 4935, 12493, 1585, 28}\n",
            "User 11 and User 29 share 6 items: {128, 550, 4935, 19404, 497, 914}\n",
            "User 11 and User 30 share 2 items: {18491, 1891}\n",
            "User 11 and User 31 share 2 items: {447362, 550}\n",
            "User 11 and User 32 share 8 items: {550, 424, 8587, 12493, 335, 299536, 274, 18491}\n",
            "User 11 and User 33 share 4 items: {378064, 1585, 1891, 28}\n",
            "User 11 and User 34 share 2 items: {378064, 914}\n",
            "User 11 and User 35 share 6 items: {447362, 424, 12493, 1585, 18491, 255709}\n",
            "User 11 and User 36 share 8 items: {128, 447362, 550, 424, 274, 914, 28, 255709}\n",
            "User 11 and User 37 share 3 items: {128, 424, 4935}\n",
            "User 11 and User 38 share 5 items: {128, 1891, 8587, 497, 28}\n",
            "User 11 and User 39 share 2 items: {1585, 914}\n",
            "User 11 and User 40 share 2 items: {299536, 378064}\n",
            "User 11 and User 41 share 4 items: {527641, 28, 255709, 335}\n",
            "User 11 and User 42 share 4 items: {527641, 914, 12493, 335}\n",
            "User 11 and User 43 share 3 items: {497, 1891, 527641}\n",
            "User 11 and User 44 share 4 items: {299536, 497, 914, 335}\n",
            "User 11 and User 45 share 1 items: {18491}\n",
            "User 11 and User 46 share 3 items: {299536, 255709, 550}\n",
            "User 11 and User 47 share 3 items: {1585, 914, 335}\n",
            "User 11 and User 48 share 3 items: {378064, 19404, 550}\n",
            "User 11 and User 49 share 5 items: {447362, 424, 8587, 299536, 378064}\n",
            "User 11 and User 50 share 4 items: {128, 914, 28, 4935}\n",
            "User 11 and User 51 share 3 items: {497, 914, 550}\n",
            "User 11 and User 52 share 6 items: {4935, 19404, 12493, 299536, 1585, 255709}\n",
            "User 11 and User 53 share 4 items: {378064, 1891, 550, 4935}\n",
            "User 11 and User 54 share 4 items: {378064, 527641, 8587, 255709}\n",
            "User 11 and User 55 share 6 items: {1891, 1585, 274, 497, 18491, 255709}\n",
            "User 11 and User 56 share 2 items: {1585, 18491}\n",
            "User 11 and User 57 share 3 items: {1585, 914, 28}\n",
            "User 11 and User 58 share 4 items: {424, 1585, 18491, 497}\n",
            "User 11 and User 59 share 3 items: {1585, 12493, 550}\n",
            "User 11 and User 60 share 6 items: {550, 4935, 378064, 497, 18491, 255709}\n",
            "\n",
            "Co-rated counts for selected users: {60: {'No_common_users': 0, 'No_coRated_items': 20}, 41: {'No_common_users': 0, 'No_coRated_items': 20}, 11: {'No_common_users': 1, 'No_coRated_items': 20}}\n"
          ]
        }
      ]
    },
    {
      "cell_type": "code",
      "source": [
        "import numpy as np\n",
        "\n",
        "\n",
        "def extract_co_rated_values(co_rated_counts):\n",
        "\n",
        "    no_common_users = [count['No_common_users'] for count in co_rated_counts.values()]\n",
        "    no_coRated_items = [count['No_coRated_items'] for count in co_rated_counts.values()]\n",
        "    return no_common_users, no_coRated_items\n",
        "\n",
        "\n",
        "def combine_values_to_2d_array(no_common_users, no_coRated_items):\n",
        "\n",
        "    return np.column_stack((no_common_users, no_coRated_items))\n",
        "\n",
        "\n",
        "def generate_2d_array(co_rated_counts):\n",
        "\n",
        "\n",
        "    no_common_users, no_coRated_items = extract_co_rated_values(co_rated_counts)\n",
        "\n",
        "\n",
        "    matrix = combine_values_to_2d_array(no_common_users, no_coRated_items)\n",
        "\n",
        "\n",
        "    print(\"\\nGenerated 2D Array of co-rated counts (rows=users, columns=['No_common_users', 'No_coRated_items']):\")\n",
        "    print(matrix)\n",
        "    return matrix\n",
        "\n",
        "\n",
        "co_rated_matrix = generate_2d_array(co_rated_counts)\n"
      ],
      "metadata": {
        "id": "2g2BRdAgMd3z",
        "outputId": "14b1f693-2502-4251-ecf0-ec451972c0b0",
        "colab": {
          "base_uri": "https://localhost:8080/"
        }
      },
      "execution_count": null,
      "outputs": [
        {
          "output_type": "stream",
          "name": "stdout",
          "text": [
            "\n",
            "Generated 2D Array of co-rated counts (rows=users, columns=['No_common_users', 'No_coRated_items']):\n",
            "[[ 0 20]\n",
            " [ 0 20]\n",
            " [ 1 20]]\n"
          ]
        }
      ]
    },
    {
      "cell_type": "code",
      "source": [
        "import pandas as pd\n",
        "import matplotlib.pyplot as plt\n",
        "\n",
        "dataset_path = \"/content/TMDB user movie ratings.csv\"\n",
        "dataset = pd.read_csv(dataset_path)\n",
        "\n",
        "\n",
        "def compute_ratings_per_item(data):\n",
        "    \"\"\"\n",
        "    Compute the number of ratings for each item.\n",
        "    \"\"\"\n",
        "    return data.groupby('media_id')['rating'].count()\n",
        "\n",
        "\n",
        "def plot_ratings_distribution(ratings_per_item):\n",
        "    \"\"\"\n",
        "    Plot the quantity of ratings for every item in the dataset.\n",
        "    \"\"\"\n",
        "    plt.figure(figsize=(10, 6))\n",
        "    ratings_per_item.plot(kind='bar', color='steelblue')\n",
        "    plt.title(\"Quantity of Ratings per Item\")\n",
        "    plt.xlabel(\"Media ID\")\n",
        "    plt.ylabel(\"Number of Ratings\")\n",
        "    plt.xticks(rotation=90)\n",
        "    plt.tight_layout()\n",
        "    plt.show()\n",
        "\n",
        "\n",
        "ratings_per_item = compute_ratings_per_item(dataset)\n",
        "\n",
        "plot_ratings_distribution(ratings_per_item)\n"
      ],
      "metadata": {
        "colab": {
          "base_uri": "https://localhost:8080/",
          "height": 607
        },
        "id": "rjzhsrko2SdS",
        "outputId": "987b2151-6c5b-46a5-fec2-1756afe9125b"
      },
      "execution_count": null,
      "outputs": [
        {
          "output_type": "display_data",
          "data": {
            "text/plain": [
              "<Figure size 1000x600 with 1 Axes>"
            ],
            "image/png": "[encoded data removed]"
          },
          "metadata": {}
        }
      ]
    },
    {
      "cell_type": "code",
      "source": [
        "import pandas as pd\n",
        "import numpy as np\n",
        "\n",
        "\n",
        "def calculate_threshold_items(total_items, threshold):\n",
        "\n",
        "    return int(total_items * threshold)\n",
        "\n",
        "\n",
        "def get_rated_items_for_user(matrix, user):\n",
        "\n",
        "    return set(matrix.loc[user].dropna().index)\n",
        "\n",
        "def count_co_rated_users(matrix, active_user, threshold_items):\n",
        "\n",
        "    active_user_items = get_rated_items_for_user(matrix, active_user)\n",
        "    co_rated_user_count = 0\n",
        "\n",
        "    for other_user in matrix.index:\n",
        "        if active_user != other_user:\n",
        "            other_user_items = get_rated_items_for_user(matrix, other_user)\n",
        "            shared_items_count = len(active_user_items.intersection(other_user_items))\n",
        "            if shared_items_count >= threshold_items:\n",
        "                co_rated_user_count += 1\n",
        "    return co_rated_user_count\n",
        "\n",
        "\n",
        "def max_co_rated_users(matrix, selected_users, threshold=0.3):\n",
        "\n",
        "    total_items = matrix.shape[1]\n",
        "    threshold_items = calculate_threshold_items(total_items, threshold)\n",
        "    max_users = {}\n",
        "\n",
        "    for user in selected_users:\n",
        "        co_rated_user_count = count_co_rated_users(matrix, user, threshold_items)\n",
        "        max_users[user] = co_rated_user_count\n",
        "\n",
        "    print(f\"Maximum number of users co-rating at least {threshold * 100}% items:\")\n",
        "    print(max_users)\n",
        "    return max_users\n",
        "\n",
        "\n",
        "threshold = 0.3\n",
        "max_users = max_co_rated_users(user_item_matrix, selected_users, threshold)\n"
      ],
      "metadata": {
        "colab": {
          "base_uri": "https://localhost:8080/"
        },
        "id": "9Zw93Afv2WJD",
        "outputId": "6a3f0d46-9056-4ab8-8323-b84271bc05d2"
      },
      "execution_count": null,
      "outputs": [
        {
          "output_type": "stream",
          "name": "stdout",
          "text": [
            "Maximum number of users co-rating at least 30.0% items:\n",
            "{60: 0, 41: 0, 11: 0}\n"
          ]
        }
      ]
    },
    {
      "cell_type": "code",
      "source": [
        "\n",
        "import pandas as pd\n",
        "import numpy as np\n",
        "from sklearn.metrics.pairwise import cosine_similarity\n",
        "from scipy.stats import pearsonr\n",
        "from sklearn.metrics.pairwise import cosine_similarity\n",
        "from scipy.stats import pearsonr\n"
      ],
      "metadata": {
        "id": "xIYKFk0Z4zdD"
      },
      "execution_count": null,
      "outputs": []
    },
    {
      "cell_type": "code",
      "source": [
        "import pandas as pd\n",
        "\n",
        "dataset_path = \"/content/TMDB user movie ratings.csv\"\n",
        "dataset = pd.read_csv(dataset_path)\n",
        "\n",
        "\n",
        "if 'rating' in dataset.columns:\n",
        "    def adjust_rating_scale(data, column, new_min=1, new_max=5):\n",
        "        col = data[column]\n",
        "        scaled_col = (col - col.min()) / (col.max() - col.min())  # Normalize to 0-1\n",
        "        data[column] = (scaled_col * (new_max - new_min) + new_min).round(2)\n",
        "        print(f\"Ratings scaled to range {new_min}-{new_max}.\")\n",
        "        return data\n",
        "\n",
        "    dataset = adjust_rating_scale(dataset, column='rating')\n",
        "\n",
        "\n",
        "    print(\"Adjusted dataset preview:\")\n",
        "    print(dataset.head())\n",
        "else:\n",
        "    print(\"'rating' column not found in dataset.\")\n"
      ],
      "metadata": {
        "colab": {
          "base_uri": "https://localhost:8080/"
        },
        "id": "6MUaSpuN5Ins",
        "outputId": "4f9482ea-74f6-4924-e23a-da5742da26db"
      },
      "execution_count": null,
      "outputs": [
        {
          "output_type": "stream",
          "name": "stdout",
          "text": [
            "Ratings scaled to range 1-5.\n",
            "Adjusted dataset preview:\n",
            "   user_id  media_id  rating                   title\n",
            "0        1     27205    2.83               Inception\n",
            "1        1    157336    2.50            Interstellar\n",
            "2        1       155    3.17         The Dark Knight\n",
            "3        1    299536    2.83  Avengers: Infinity War\n",
            "4        1       550    2.17              Fight Club\n"
          ]
        }
      ]
    },
    {
      "cell_type": "markdown",
      "source": [
        "User-Item Matrix"
      ],
      "metadata": {
        "id": "KMkG_vgG5-RN"
      }
    },
    {
      "cell_type": "code",
      "source": [
        "import pandas as pd\n",
        "\n",
        "def validate_columns(data, required_columns):\n",
        "\n",
        "    if not required_columns.issubset(data.columns):\n",
        "        raise ValueError(f\"Dataset must contain the following columns: {required_columns}\")\n",
        "\n",
        "def create_user_item_matrix(data, user_column, item_column, rating_column):\n",
        "\n",
        "    return data.pivot(index=user_column, columns=item_column, values=rating_column)\n",
        "\n",
        "\n",
        "def log_matrix_properties(matrix):\n",
        "\n",
        "    missing_values = matrix.isna().sum().sum()\n",
        "    print(f\"User-Item matrix created with shape {matrix.shape} and {missing_values} missing values.\")\n",
        "\n",
        "def prepare_user_item_matrix(data, user_column='user_id', item_column='media_id', rating_column='rating'):\n",
        "d.DataFrame: User-item matrix.\n",
        ""
      ],
      "metadata": {
        "colab": {
          "base_uri": "https://localhost:8080/"
        },
        "id": "lHC9rAJD5VWA",
        "outputId": "e9b2ce84-1f89-4513-e4fb-ee1be7152ce6"
      },
      "execution_count": null,
      "outputs": [
        {
          "output_type": "stream",
          "name": "stdout",
          "text": [
            "User-Item matrix created with shape (60, 86) and 4276 missing values.\n",
            "User-Item Matrix (Preview):\n",
            "media_id  13       28       73       101      105      120      121      \\\n",
            "user_id                                                                   \n",
            "1             8.9      NaN      NaN      NaN      NaN      8.1      NaN   \n",
            "2             8.1      NaN      NaN      NaN      NaN      9.0      NaN   \n",
            "3             7.9      NaN      NaN      NaN      NaN      8.0      NaN   \n",
            "4             9.0      NaN      NaN      NaN      NaN      8.9      NaN   \n",
            "5             8.9      NaN      NaN      NaN      NaN      7.8      NaN   \n",
            "\n",
            "media_id  122      128      129      ...  572154   630566   637920   644479   \\\n",
            "user_id                              ...                                       \n",
            "1             NaN      NaN      NaN  ...      NaN      NaN      NaN      NaN   \n",
            "2             NaN      NaN      NaN  ...      NaN      NaN      NaN      NaN   \n",
            "3             NaN      NaN      NaN  ...      NaN      NaN      NaN      NaN   \n",
            "4             NaN      NaN      NaN  ...      NaN      NaN      NaN      NaN   \n",
            "5             NaN      NaN      NaN  ...      NaN      NaN      NaN      NaN   \n",
            "\n",
            "media_id  696374   724089   761053   995133   1084736  1184918  \n",
            "user_id                                                         \n",
            "1             NaN      NaN      NaN      NaN      NaN      NaN  \n",
            "2             NaN      NaN      NaN      NaN      NaN      NaN  \n",
            "3             NaN      NaN      NaN      NaN      NaN      NaN  \n",
            "4             NaN      NaN      NaN      NaN      NaN      NaN  \n",
            "5             NaN      NaN      NaN      NaN      NaN      NaN  \n",
            "\n",
            "[5 rows x 86 columns]\n"
          ]
        }
      ]
    },
    {
      "cell_type": "markdown",
      "source": [
        "cosine similarity"
      ],
      "metadata": {
        "id": "JgDF8cdw7_sK"
      }
    },
    {
      "cell_type": "code",
      "source": [
        "from sklearn.metrics.pairwise import cosine_similarity\n",
        "import pandas as pd\n",
        "\n",
        "\n",
        "def preprocess_matrix(matrix, adjust_bias=False):\n",
        "\n",
        "    if adjust_bias:\n",
        "        centered_matrix = matrix.sub(matrix.mean(axis=1), axis=0).fillna(0)\n",
        "        return centered_matrix\n",
        "    return matrix.fillna(0)\n",
        "\n",
        "\n",
        "def calculate_cosine_similarity(processed_matrix):\n",
        "\n",
        "    return cosine_similarity(processed_matrix)\n",
        "\n",
        "\n",
        "def format_similarity_matrix(similarity_matrix, index_labels):\n",
        "\n",
        "    return pd.DataFrame(similarity_matrix, index=index_labels, columns=index_labels)\n",
        "\n",
        "\n",
        "def generate_cosine_similarity(matrix, adjust_bias=False):\n",
        "\n",
        "\n",
        "    preprocessed_matrix = preprocess_matrix(matrix, adjust_bias)\n",
        "\n",
        "\n",
        "    similarity_matrix = calculate_cosine_similarity(preprocessed_matrix)\n",
        "\n",
        "\n",
        "    similarity_df = format_similarity_matrix(similarity_matrix, preprocessed_matrix.index)\n",
        "\n",
        "\n",
        "    print(f\"Cosine similarity computed. Adjust Bias: {adjust_bias}. Shape: {similarity_df.shape}.\")\n",
        "    return similarity_df\n",
        "\n",
        "\n",
        "cosine_similarity_no_bias = generate_cosine_similarity(user_item_matrix, adjust_bias=False)\n",
        "\n",
        "\n",
        "cosine_similarity_with_bias = generate_cosine_similarity(user_item_matrix, adjust_bias=True)\n",
        "\n",
        "print(\"Cosine Similarity without Bias Adjustment:\")\n",
        "print(cosine_similarity_no_bias.head())\n",
        "\n",
        "print(\"\\nCosine Similarity with Bias Adjustment:\")\n",
        "print(cosine_similarity_with_bias.head())\n"
      ],
      "metadata": {
        "colab": {
          "base_uri": "https://localhost:8080/"
        },
        "id": "wqZi3rP457sp",
        "outputId": "f77b0e1f-cf3c-4a6f-bf66-d9f68dd08a8d"
      },
      "execution_count": null,
      "outputs": [
        {
          "output_type": "stream",
          "name": "stdout",
          "text": [
            "Cosine similarity computed. Adjust Bias: False. Shape: (60, 60).\n",
            "Cosine similarity computed. Adjust Bias: True. Shape: (60, 60).\n",
            "Cosine Similarity without Bias Adjustment:\n",
            "user_id        1         2         3         4         5         6         7   \\\n",
            "user_id                                                                         \n",
            "1        1.000000  0.997622  0.997496  0.996503  0.996373  0.999193  0.997276   \n",
            "2        0.997622  1.000000  0.997798  0.998123  0.995821  0.998732  0.997170   \n",
            "3        0.997496  0.997798  1.000000  0.997260  0.994176  0.997941  0.993989   \n",
            "4        0.996503  0.998123  0.997260  1.000000  0.993883  0.997251  0.995003   \n",
            "5        0.996373  0.995821  0.994176  0.993883  1.000000  0.997817  0.996627   \n",
            "\n",
            "user_id        8         9         10  ...        51        52        53  \\\n",
            "user_id                                ...                                 \n",
            "1        0.995364  0.996612  0.996847  ...  0.240065  0.283985  0.157822   \n",
            "2        0.996669  0.998805  0.996627  ...  0.237707  0.280676  0.158627   \n",
            "3        0.995867  0.997341  0.996245  ...  0.242775  0.289477  0.168978   \n",
            "4        0.996167  0.997589  0.996289  ...  0.249128  0.270708  0.166895   \n",
            "5        0.994950  0.994559  0.996434  ...  0.252643  0.266670  0.161253   \n",
            "\n",
            "user_id        54   55        56        57        58        59        60  \n",
            "user_id                                                                   \n",
            "1        0.177160  0.0  0.179277  0.060608  0.077404  0.172753  0.272398  \n",
            "2        0.181477  0.0  0.183223  0.064873  0.069484  0.183373  0.267192  \n",
            "3        0.168597  0.0  0.180508  0.061756  0.076721  0.182885  0.280931  \n",
            "4        0.172100  0.0  0.178458  0.069350  0.068608  0.189081  0.263704  \n",
            "5        0.179247  0.0  0.200054  0.059726  0.066488  0.167936  0.264731  \n",
            "\n",
            "[5 rows x 60 columns]\n",
            "\n",
            "Cosine Similarity with Bias Adjustment:\n",
            "user_id        1         2         3         4         5         6         7   \\\n",
            "user_id                                                                         \n",
            "1        1.000000  0.096030  0.408476 -0.016332  0.111580  0.795232  0.390893   \n",
            "2        0.096030  1.000000  0.291813  0.123324 -0.613043  0.026976  0.118265   \n",
            "3        0.408476  0.291813  1.000000  0.275440 -0.326641  0.356780 -0.263545   \n",
            "4       -0.016332  0.123324  0.275440  1.000000 -0.707571 -0.299358 -0.265783   \n",
            "5        0.111580 -0.613043 -0.326641 -0.707571  1.000000  0.256403  0.270076   \n",
            "\n",
            "user_id        8         9         10  ...        51        52        53  \\\n",
            "user_id                                ...                                 \n",
            "1        0.080679  0.139357  0.151244  ... -0.010653 -0.122472  0.044151   \n",
            "2        0.135243  0.633136 -0.466634  ...  0.138315  0.163936  0.035256   \n",
            "3        0.228586  0.374406  0.067154  ...  0.118743 -0.006651 -0.084745   \n",
            "4        0.169312  0.306394 -0.146644  ...  0.015724 -0.032843 -0.087574   \n",
            "5        0.028739 -0.326855  0.081264  ... -0.132316 -0.011563  0.031270   \n",
            "\n",
            "user_id        54   55        56        57        58        59        60  \n",
            "user_id                                                                   \n",
            "1       -0.016799  0.0 -0.225342  0.096893 -0.109238  0.092945 -0.127729  \n",
            "2        0.194906  0.0 -0.079704  0.014417 -0.025251 -0.047509 -0.109158  \n",
            "3       -0.131817  0.0 -0.151704  0.067009 -0.094250 -0.111888 -0.133399  \n",
            "4       -0.032019  0.0 -0.211801 -0.101139 -0.005368 -0.189948  0.169265  \n",
            "5       -0.048438  0.0  0.258952  0.110808  0.019135  0.125234 -0.072987  \n",
            "\n",
            "[5 rows x 60 columns]\n"
          ]
        }
      ]
    },
    {
      "cell_type": "markdown",
      "source": [
        "Pearson Correlation"
      ],
      "metadata": {
        "id": "yBtJ_ZEN7S3_"
      }
    },
    {
      "cell_type": "code",
      "source": [
        "from scipy.stats import pearsonr\n",
        "import numpy as np\n",
        "import pandas as pd\n",
        "\n",
        "def preprocess_user_item_matrix(matrix, fill_value=0):\n",
        "\n",
        "    return matrix.fillna(fill_value)\n",
        "\n",
        "def compute_pairwise_pcc(user_1, user_2):\n",
        "\n",
        "    correlation, _ = pearsonr(user_1, user_2)\n",
        "    return correlation\n",
        "\n",
        "\n",
        "def initialize_similarity_matrix(num_rows):\n",
        "\n",
        "    return np.zeros((num_rows, num_rows))\n",
        "\n",
        "def compute_pcc_similarity(matrix):\n",
        "\n",
        "\n",
        "    processed_matrix = preprocess_user_item_matrix(matrix)\n",
        "\n",
        "    num_users = processed_matrix.shape[0]\n",
        "    similarity_matrix = initialize_similarity_matrix(num_users)\n",
        "\n",
        "\n",
        "    for i, user_i in enumerate(processed_matrix.index):\n",
        "        for j, user_j in enumerate(processed_matrix.index):\n",
        "            if i != j:\n",
        "                similarity_matrix[i, j] = compute_pairwise_pcc(processed_matrix.loc[user_i], processed_matrix.loc[user_j])\n",
        "            else:\n",
        "                similarity_matrix[i, j] = 1.0\n",
        "\n",
        "\n",
        "    similarity_df = pd.DataFrame(similarity_matrix, index=processed_matrix.index, columns=processed_matrix.index)\n",
        "    print(f\"PCC similarity computed. Shape: {similarity_df.shape}.\")\n",
        "    return similarity_df\n",
        "\n",
        "\n",
        "pcc_similarity = compute_pcc_similarity(user_item_matrix)\n",
        "print(pcc_similarity.head())\n"
      ],
      "metadata": {
        "colab": {
          "base_uri": "https://localhost:8080/"
        },
        "id": "X0hCrnjx7Hyi",
        "outputId": "56b1b994-812a-481a-acf5-c5734a917676"
      },
      "execution_count": null,
      "outputs": [
        {
          "output_type": "stream",
          "name": "stdout",
          "text": [
            "PCC similarity computed. Shape: (60, 60).\n",
            "user_id        1         2         3         4         5         6         7   \\\n",
            "user_id                                                                         \n",
            "1        1.000000  0.997310  0.997168  0.996045  0.995898  0.999087  0.996920   \n",
            "2        0.997310  1.000000  0.997510  0.997877  0.995273  0.998566  0.996800   \n",
            "3        0.997168  0.997510  1.000000  0.996901  0.993414  0.997672  0.993202   \n",
            "4        0.996045  0.997877  0.996901  1.000000  0.993081  0.996890  0.994349   \n",
            "5        0.995898  0.995273  0.993414  0.993081  1.000000  0.997531  0.996185   \n",
            "\n",
            "user_id        8         9         10  ...        51        52        53  \\\n",
            "user_id                                ...                                 \n",
            "1        0.994758  0.996169  0.996433  ...  0.119659  0.175285  0.024303   \n",
            "2        0.996233  0.998649  0.996184  ...  0.116727  0.171294  0.025031   \n",
            "3        0.995327  0.996993  0.995754  ...  0.122851  0.181662  0.037310   \n",
            "4        0.995665  0.997273  0.995802  ...  0.130121  0.159901  0.034768   \n",
            "5        0.994290  0.993846  0.995967  ...  0.134296  0.155326  0.028314   \n",
            "\n",
            "user_id        54        55        56        57        58        59        60  \n",
            "user_id                                                                        \n",
            "1        0.041477 -0.198799  0.060062 -0.118973 -0.098785  0.058454  0.131797  \n",
            "2        0.046314 -0.199098  0.064401 -0.114114 -0.108594  0.070372  0.125238  \n",
            "3        0.031511 -0.198729  0.061515 -0.117527 -0.099544  0.070028  0.142204  \n",
            "4        0.035482 -0.198906  0.059057 -0.108548 -0.109472  0.076981  0.121162  \n",
            "5        0.043945 -0.198761  0.083896 -0.120001 -0.111892  0.052992  0.122526  \n",
            "\n",
            "[5 rows x 60 columns]\n"
          ]
        }
      ]
    }
  ]
}
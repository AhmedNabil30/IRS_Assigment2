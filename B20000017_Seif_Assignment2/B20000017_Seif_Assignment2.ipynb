{
 "cells": [
  {
   "cell_type": "code",
   "execution_count": 173,
   "id": "b712258f-e423-4b70-8942-f71911286f3a",
   "metadata": {},
   "outputs": [],
   "source": [
    "import pandas as pd\n",
    "import numpy as np\n",
    "import matplotlib.pyplot as plt\n",
    "from sklearn.metrics.pairwise import cosine_similarity\n",
    "from scipy.stats import pearsonr"
   ]
  },
  {
   "cell_type": "code",
   "execution_count": 174,
   "id": "dcaf759c-d1f0-4536-ab4d-baa5876e01f2",
   "metadata": {},
   "outputs": [],
   "source": [
    "file_path = \"B20000017_Seif_Assignment2.csv\"\n",
    "data = pd.read_csv(file_path)"
   ]
  },
  {
   "cell_type": "code",
   "execution_count": 175,
   "id": "9a1c3cb1-dc3c-4466-82fc-0b3ecbbf314a",
   "metadata": {},
   "outputs": [],
   "source": [
    "data['rating'] = data['rating'].clip(lower=1, upper=5)"
   ]
  },
  {
   "cell_type": "code",
   "execution_count": 176,
   "id": "ec28f189-f4d4-4a17-9e2f-db2f758f0a63",
   "metadata": {},
   "outputs": [
    {
     "name": "stdout",
     "output_type": "stream",
     "text": [
      "\n",
      "Total Users (tnu): 5\n",
      "Total Items (tni): 39\n",
      "\n"
     ]
    }
   ],
   "source": [
    "tnu = data['userId'].nunique()\n",
    "tni = data['movieId'].nunique()\n",
    "print(f\"\\nTotal Users (tnu): {tnu}\")\n",
    "print(f\"Total Items (tni): {tni}\\n\")"
   ]
  },
  {
   "cell_type": "code",
   "execution_count": 177,
   "id": "cff6679d-cb18-497c-8408-afb8516ad7eb",
   "metadata": {},
   "outputs": [
    {
     "name": "stdout",
     "output_type": "stream",
     "text": [
      "Ratings per item:\n",
      "movieId\n",
      "1     0\n",
      "2     2\n",
      "3     0\n",
      "6     1\n",
      "10    1\n",
      "Name: rating, dtype: int64 \n",
      "...\n"
     ]
    }
   ],
   "source": [
    "ratings_per_item = data.groupby('movieId')['rating'].count()\n",
    "print(\"Ratings per item:\")\n",
    "print(ratings_per_item.head(), \"\\n...\")"
   ]
  },
  {
   "cell_type": "code",
   "execution_count": 178,
   "id": "f510f9d8-1f58-441f-a66a-8a034f2765f4",
   "metadata": {},
   "outputs": [
    {
     "name": "stdout",
     "output_type": "stream",
     "text": [
      "Active users and their missing ratings:\n",
      "{1: 2, 2: 3, 3: 5} \n",
      "\n"
     ]
    }
   ],
   "source": [
    "active_users = data['userId'].unique()[:3]  \n",
    "missing_ratings = {active_users[0]: 2, active_users[1]: 3, active_users[2]: 5}\n",
    "\n",
    "for user, missing_count in missing_ratings.items():\n",
    "    user_data = data[data['userId'] == user]\n",
    "    if len(user_data[user_data['rating'].notnull()]) >= missing_count:\n",
    "        indices_to_nullify = user_data[user_data['rating'].notnull()].sample(n=missing_count, random_state=42).index\n",
    "        data.loc[indices_to_nullify, 'rating'] = np.nan\n",
    "\n",
    "print(\"Active users and their missing ratings:\")\n",
    "print(missing_ratings, \"\\n\")"
   ]
  },
  {
   "cell_type": "code",
   "execution_count": 179,
   "id": "b6fe5781-caa8-4a7e-9914-f0c9a7d1ae83",
   "metadata": {},
   "outputs": [
    {
     "name": "stdout",
     "output_type": "stream",
     "text": [
      "Target items and their missing ratings percentages:\n",
      "{2: 0.04, 29: 0.1} \n",
      "\n"
     ]
    }
   ],
   "source": [
    "target_items = data['movieId'].unique()[:2]  \n",
    "missing_percentages = {target_items[0]: 0.04, target_items[1]: 0.1}\n",
    "\n",
    "for item, missing_percentage in missing_percentages.items():\n",
    "    item_data = data[data['movieId'] == item]\n",
    "    missing_count = int(len(item_data) * missing_percentage)\n",
    "    if len(item_data[item_data['rating'].notnull()]) >= missing_count:\n",
    "        indices_to_nullify = item_data[item_data['rating'].notnull()].sample(n=missing_count, random_state=42).index\n",
    "        data.loc[indices_to_nullify, 'rating'] = np.nan\n",
    "\n",
    "print(\"Target items and their missing ratings percentages:\")\n",
    "print(missing_percentages, \"\\n\")"
   ]
  },
  {
   "cell_type": "code",
   "execution_count": 180,
   "id": "d88e4a7c-2f08-44c3-b077-58ad6e501d8c",
   "metadata": {},
   "outputs": [],
   "source": [
    "common_users_data = []\n",
    "\n",
    "for user in active_users:\n",
    "    user_items = set(data[data['userId'] == user]['movieId'].dropna())\n",
    "    for other_user in data['userId'].unique():\n",
    "        if other_user != user:\n",
    "            other_user_items = set(data[data['userId'] == other_user]['movieId'].dropna())\n",
    "            common_items = user_items & other_user_items\n",
    "            if common_items:\n",
    "                common_users_data.append((user, other_user, len(common_items)))"
   ]
  },
  {
   "cell_type": "code",
   "execution_count": 181,
   "id": "0df9a43d-62a2-4eb8-817d-5ec0098ca89f",
   "metadata": {},
   "outputs": [
    {
     "name": "stdout",
     "output_type": "stream",
     "text": [
      "\n",
      "Common users and co-rated items:\n",
      "   OtherUser  No_coRated_items\n",
      "3          5                 4\n",
      "1          3                 3\n",
      "2          4                 3\n",
      "7          5                 3\n",
      "8          1                 3 \n",
      "...\n"
     ]
    },
    {
     "data": {
      "image/png": "[encoded data removed]",
      "text/plain": [
       "<Figure size 1000x600 with 1 Axes>"
      ]
     },
     "metadata": {},
     "output_type": "display_data"
    }
   ],
   "source": [
    "common_users_df = pd.DataFrame(common_users_data, columns=['ActiveUser', 'OtherUser', 'No_coRated_items'])\n",
    "common_users_array = common_users_df.sort_values('No_coRated_items', ascending=False)[['OtherUser', 'No_coRated_items']]\n",
    "print(\"\\nCommon users and co-rated items:\")\n",
    "print(common_users_array.head(), \"\\n...\")\n",
    "\n",
    "\n",
    "ratings_per_item_sorted = ratings_per_item.sort_values(ascending=False)\n",
    "plt.figure(figsize=(10, 6))\n",
    "plt.plot(ratings_per_item_sorted.values)\n",
    "plt.xlabel('Item Index (Sorted)')\n",
    "plt.ylabel('Number of Ratings')\n",
    "plt.title('Ratings per Item')\n",
    "plt.show()"
   ]
  },
  {
   "cell_type": "code",
   "execution_count": 182,
   "id": "0c12060f-3c2a-4c5a-b615-0e2847808a6f",
   "metadata": {},
   "outputs": [
    {
     "name": "stdout",
     "output_type": "stream",
     "text": [
      "Thresholds for active users (30% co-rated items):\n",
      "{1: 4, 2: 1, 3: 3} \n",
      "\n"
     ]
    }
   ],
   "source": [
    "thresholds = {}\n",
    "\n",
    "for user in active_users:\n",
    "    user_items = set(data[data['userId'] == user]['movieId'].dropna())\n",
    "    total_items = len(user_items)\n",
    "    required_items = int(total_items * 0.3)\n",
    "\n",
    "    co_rated_users = []\n",
    "    for other_user in data['userId'].unique():\n",
    "        if other_user != user:\n",
    "            other_user_items = set(data[data['userId'] == other_user]['movieId'].dropna())\n",
    "            common_items = user_items & other_user_items\n",
    "            if len(common_items) >= required_items:\n",
    "                co_rated_users.append(other_user)\n",
    "\n",
    "    thresholds[user] = len(co_rated_users)\n",
    "\n",
    "print(\"Thresholds for active users (30% co-rated items):\")\n",
    "print(thresholds, \"\\n\")"
   ]
  },
  {
   "cell_type": "code",
   "execution_count": 183,
   "id": "e073f9a6-7e44-4d1a-be19-1a9723e2ca30",
   "metadata": {},
   "outputs": [],
   "source": [
    "user_item_matrix = data.pivot_table(index='userId', columns='movieId', values='rating', aggfunc='mean').fillna(0)\n",
    "cosine_sim = cosine_similarity(user_item_matrix)\n",
    "cosine_sim_df = pd.DataFrame(cosine_sim, index=user_item_matrix.index, columns=user_item_matrix.index)"
   ]
  },
  {
   "cell_type": "code",
   "execution_count": 184,
   "id": "c3503e3b-72c0-4d48-9f9c-41e2490395b1",
   "metadata": {},
   "outputs": [
    {
     "name": "stdout",
     "output_type": "stream",
     "text": [
      "Top 20% closest users (cosine similarity):\n",
      "User 1: [5]\n",
      "User 2: [1]\n",
      "User 3: [1]\n"
     ]
    }
   ],
   "source": [
    "closest_users = {}\n",
    "\n",
    "for user in active_users:\n",
    "    user_similarities = cosine_sim_df.loc[user].sort_values(ascending=False)\n",
    "    top_20_percent = int(len(user_similarities) * 0.2)\n",
    "    closest_users[user] = user_similarities.index[1:top_20_percent+1]  # Exclude the user itself\n",
    "\n",
    "print(\"Top 20% closest users (cosine similarity):\")\n",
    "for user, neighbors in closest_users.items():\n",
    "    print(f\"User {user}: {list(neighbors)}\")"
   ]
  },
  {
   "cell_type": "code",
   "execution_count": 185,
   "id": "f0b40fac-9681-48cc-9461-3b59b8390474",
   "metadata": {},
   "outputs": [
    {
     "name": "stdout",
     "output_type": "stream",
     "text": [
      "Predictions for unseen items (cosine similarity):\n",
      "User 1: {6: 0.0, 10: 0.0, 11: 5.0, 17: 3.0, 19: 0.0, 24: 0.0, 32: 5.0, 60: 3.0, 110: 4.0, 123: 0.0, 124: 2.0, 129: 0.0, 140: 2.0, 141: 5.0, 156: 0.0, 166: 0.0, 167: 0.0, 168: 0.0, 169: 0.0, 170: 0.0, 175: 0.0, 180: 0.0, 196: 0.0}\n",
      "User 2: {2: 0, 6: 0, 10: 0, 11: 0, 17: 0, 19: 0, 24: 0, 32: 0, 50: 0, 60: 0, 110: 0, 112: 0, 123: 0, 124: 0, 129: 0, 140: 0, 141: 0, 156: 0, 167: 0, 168: 0, 170: 0, 175: 0, 196: 0}\n",
      "User 3: {2: 0, 6: 0, 10: 0, 11: 0, 17: 0, 19: 0, 32: 0, 50: 0, 60: 0, 110: 0, 112: 0, 124: 0, 129: 0, 140: 0, 141: 0, 156: 0, 166: 0, 167: 0, 168: 0, 169: 0, 170: 0, 180: 0}\n"
     ]
    }
   ],
   "source": [
    "def predict_rating(active_user, item_id, neighbors):\n",
    "    neighbor_ratings = user_item_matrix.loc[neighbors, item_id]\n",
    "    similarity_scores = cosine_sim_df.loc[active_user, neighbors]\n",
    "    numerator = (neighbor_ratings * similarity_scores).sum()\n",
    "    denominator = similarity_scores.sum()\n",
    "    return numerator / denominator if denominator != 0 else 0\n",
    "\n",
    "predictions = {}\n",
    "\n",
    "for user in active_users:\n",
    "    unseen_items = user_item_matrix.loc[user][user_item_matrix.loc[user] == 0].index\n",
    "    predictions[user] = {item: predict_rating(user, item, closest_users[user]) for item in unseen_items}\n",
    "\n",
    "print(\"Predictions for unseen items (cosine similarity):\")\n",
    "for user, items in predictions.items():\n",
    "    print(f\"User {user}: {items}\")"
   ]
  },
  {
   "cell_type": "code",
   "execution_count": 186,
   "id": "fd0cb88d-eadc-4419-b0b2-8d80a9c3c254",
   "metadata": {},
   "outputs": [],
   "source": [
    "def compute_discount_factor(active_user, beta):\n",
    "    return 1 / (1 + np.exp(-beta))\n",
    "\n",
    "discounted_similarities = {}\n",
    "\n",
    "for user in active_users:\n",
    "    beta = thresholds[user]\n",
    "    discount_factor = compute_discount_factor(user, beta)\n",
    "    discounted_similarities[user] = cosine_sim_df.loc[user] * discount_factor"
   ]
  },
  {
   "cell_type": "code",
   "execution_count": 187,
   "id": "36907d8c-f340-4e00-b12f-7b76a76f4000",
   "metadata": {},
   "outputs": [
    {
     "name": "stdout",
     "output_type": "stream",
     "text": [
      "\n",
      "Top 20% closest users (discounted similarity):\n",
      "User 1: [5]\n",
      "User 2: [1]\n",
      "User 3: [1]\n"
     ]
    }
   ],
   "source": [
    "closest_users_discounted = {}\n",
    "\n",
    "for user in active_users:\n",
    "    user_similarities = discounted_similarities[user].sort_values(ascending=False)\n",
    "    top_20_percent = int(len(user_similarities) * 0.2)\n",
    "    closest_users_discounted[user] = user_similarities.index[1:top_20_percent+1]\n",
    "\n",
    "print(\"\\nTop 20% closest users (discounted similarity):\")\n",
    "for user, neighbors in closest_users_discounted.items():\n",
    "    print(f\"User {user}: {list(neighbors)}\")"
   ]
  },
  {
   "cell_type": "code",
   "execution_count": 188,
   "id": "a3443a25-822c-41a2-98d5-3055acfcc769",
   "metadata": {},
   "outputs": [
    {
     "name": "stdout",
     "output_type": "stream",
     "text": [
      "\n",
      "Predictions for unseen items (discounted similarity):\n",
      "User 1: {6: 0.0, 10: 0.0, 11: 5.0, 17: 3.0, 19: 0.0, 24: 0.0, 32: 5.0, 60: 3.0, 110: 4.0, 123: 0.0, 124: 2.0, 129: 0.0, 140: 2.0, 141: 5.0, 156: 0.0, 166: 0.0, 167: 0.0, 168: 0.0, 169: 0.0, 170: 0.0, 175: 0.0, 180: 0.0, 196: 0.0}\n",
      "User 2: {2: 0, 6: 0, 10: 0, 11: 0, 17: 0, 19: 0, 24: 0, 32: 0, 50: 0, 60: 0, 110: 0, 112: 0, 123: 0, 124: 0, 129: 0, 140: 0, 141: 0, 156: 0, 167: 0, 168: 0, 170: 0, 175: 0, 196: 0}\n",
      "User 3: {2: 0, 6: 0, 10: 0, 11: 0, 17: 0, 19: 0, 32: 0, 50: 0, 60: 0, 110: 0, 112: 0, 124: 0, 129: 0, 140: 0, 141: 0, 156: 0, 166: 0, 167: 0, 168: 0, 169: 0, 170: 0, 180: 0}\n"
     ]
    }
   ],
   "source": [
    "predictions_discounted = {}\n",
    "\n",
    "for user in active_users:\n",
    "    unseen_items = user_item_matrix.loc[user][user_item_matrix.loc[user] == 0].index\n",
    "    predictions_discounted[user] = {item: predict_rating(user, item, closest_users_discounted[user]) for item in unseen_items}\n",
    "\n",
    "print(\"\\nPredictions for unseen items (discounted similarity):\")\n",
    "for user, items in predictions_discounted.items():\n",
    "    print(f\"User {user}: {items}\")"
   ]
  },
  {
   "cell_type": "code",
   "execution_count": 189,
   "id": "88d785ad-fedf-49c0-a6ef-72d5bc89aaa8",
   "metadata": {},
   "outputs": [],
   "source": [
    "results = {\n",
    "    \"Closest Users\": closest_users,\n",
    "    \"Predictions\": predictions,\n",
    "    \"Discounted Closest Users\": closest_users_discounted,\n",
    "    \"Discounted Predictions\": predictions_discounted\n",
    "          }\n"
   ]
  },
  {
   "cell_type": "code",
   "execution_count": 190,
   "id": "d7bd03ca-362c-4821-9ef1-00de26725573",
   "metadata": {},
   "outputs": [
    {
     "name": "stdout",
     "output_type": "stream",
     "text": [
      "\n",
      "Comparison of Results:\n",
      "User 1:\n",
      "  Closest Users (cosine similarity): [5]\n",
      "  Closest Users (discounted similarity): [5]\n",
      "  Predictions (cosine similarity): {6: 0.0, 10: 0.0, 11: 5.0, 17: 3.0, 19: 0.0, 24: 0.0, 32: 5.0, 60: 3.0, 110: 4.0, 123: 0.0, 124: 2.0, 129: 0.0, 140: 2.0, 141: 5.0, 156: 0.0, 166: 0.0, 167: 0.0, 168: 0.0, 169: 0.0, 170: 0.0, 175: 0.0, 180: 0.0, 196: 0.0}\n",
      "  Predictions (discounted similarity): {6: 0.0, 10: 0.0, 11: 5.0, 17: 3.0, 19: 0.0, 24: 0.0, 32: 5.0, 60: 3.0, 110: 4.0, 123: 0.0, 124: 2.0, 129: 0.0, 140: 2.0, 141: 5.0, 156: 0.0, 166: 0.0, 167: 0.0, 168: 0.0, 169: 0.0, 170: 0.0, 175: 0.0, 180: 0.0, 196: 0.0}\n",
      "\n",
      "User 2:\n",
      "  Closest Users (cosine similarity): [1]\n",
      "  Closest Users (discounted similarity): [1]\n",
      "  Predictions (cosine similarity): {2: 0, 6: 0, 10: 0, 11: 0, 17: 0, 19: 0, 24: 0, 32: 0, 50: 0, 60: 0, 110: 0, 112: 0, 123: 0, 124: 0, 129: 0, 140: 0, 141: 0, 156: 0, 167: 0, 168: 0, 170: 0, 175: 0, 196: 0}\n",
      "  Predictions (discounted similarity): {2: 0, 6: 0, 10: 0, 11: 0, 17: 0, 19: 0, 24: 0, 32: 0, 50: 0, 60: 0, 110: 0, 112: 0, 123: 0, 124: 0, 129: 0, 140: 0, 141: 0, 156: 0, 167: 0, 168: 0, 170: 0, 175: 0, 196: 0}\n",
      "\n",
      "User 3:\n",
      "  Closest Users (cosine similarity): [1]\n",
      "  Closest Users (discounted similarity): [1]\n",
      "  Predictions (cosine similarity): {2: 0, 6: 0, 10: 0, 11: 0, 17: 0, 19: 0, 32: 0, 50: 0, 60: 0, 110: 0, 112: 0, 124: 0, 129: 0, 140: 0, 141: 0, 156: 0, 166: 0, 167: 0, 168: 0, 169: 0, 170: 0, 180: 0}\n",
      "  Predictions (discounted similarity): {2: 0, 6: 0, 10: 0, 11: 0, 17: 0, 19: 0, 32: 0, 50: 0, 60: 0, 110: 0, 112: 0, 124: 0, 129: 0, 140: 0, 141: 0, 156: 0, 166: 0, 167: 0, 168: 0, 169: 0, 170: 0, 180: 0}\n",
      "\n"
     ]
    }
   ],
   "source": [
    "print(\"\\nComparison of Results:\")\n",
    "for user in active_users:\n",
    "    print(f\"User {user}:\")\n",
    "    print(f\"  Closest Users (cosine similarity): {list(closest_users[user])}\")\n",
    "    print(f\"  Closest Users (discounted similarity): {list(closest_users_discounted[user])}\")\n",
    "    print(f\"  Predictions (cosine similarity): {predictions[user]}\")\n",
    "    print(f\"  Predictions (discounted similarity): {predictions_discounted[user]}\\n\")"
   ]
  },
  {
   "cell_type": "code",
   "execution_count": 191,
   "id": "76a2357e-f069-40b1-bade-05df6338d94f",
   "metadata": {},
   "outputs": [
    {
     "name": "stdout",
     "output_type": "stream",
     "text": [
      "Top 25% closest items (Cosine Similarity):\n",
      "Item 2: [112, 50, 141, 140, 110, 60]\n"
     ]
    }
   ],
   "source": [
    "item_user_matrix = data.pivot_table(index='movieId', columns='userId', values='rating')\n",
    "\n",
    "\n",
    "item_user_matrix_filled = item_user_matrix.fillna(0)\n",
    "cosine_sim = cosine_similarity(item_user_matrix_filled)\n",
    "item_similarity_df = pd.DataFrame(cosine_sim, index=item_user_matrix.index, columns=item_user_matrix.index)\n",
    "\n",
    "\n",
    "closest_items_cosine = {}\n",
    "\n",
    "for item in target_items:\n",
    "    if item in item_similarity_df.index:\n",
    "        item_similarities = item_similarity_df.loc[item].sort_values(ascending=False)\n",
    "        top_25_percent = int(len(item_similarities) * 0.25)\n",
    "        closest_items_cosine[item] = item_similarities.index[1:top_25_percent+1]\n",
    "\n",
    "print(\"Top 25% closest items (Cosine Similarity):\")\n",
    "for item, similar_items in closest_items_cosine.items():\n",
    "    print(f\"Item {item}: {list(similar_items)}\")"
   ]
  },
  {
   "cell_type": "code",
   "execution_count": 192,
   "id": "3e3e4ece-236e-4f61-ad0d-250e4029871d",
   "metadata": {},
   "outputs": [
    {
     "name": "stdout",
     "output_type": "stream",
     "text": [
      "Predictions for missing ratings (Cosine Similarity):\n",
      "User 2, Item 2: 0.0\n",
      "User 3, Item 2: 0.0\n"
     ]
    }
   ],
   "source": [
    "def predict_rating_cosine(active_user, target_item, neighbors):\n",
    "    neighbor_ratings = item_user_matrix.loc[neighbors, active_user]\n",
    "    similarity_scores = item_similarity_df.loc[target_item, neighbors]\n",
    "    numerator = (neighbor_ratings * similarity_scores).sum()\n",
    "    denominator = similarity_scores.sum()\n",
    "    return numerator / denominator if denominator != 0 else np.nan\n",
    "\n",
    "predictions_cosine = {}\n",
    "\n",
    "for item in target_items:\n",
    "    for user in active_users:\n",
    "        if item in item_user_matrix.index and pd.isna(item_user_matrix.loc[item, user]):\n",
    "            predictions_cosine[(user, item)] = predict_rating_cosine(user, item, closest_items_cosine.get(item, []))\n",
    "\n",
    "print(\"Predictions for missing ratings (Cosine Similarity):\")\n",
    "for (user, item), prediction in predictions_cosine.items():\n",
    "    print(f\"User {user}, Item {item}: {prediction}\")"
   ]
  },
  {
   "cell_type": "code",
   "execution_count": 193,
   "id": "601ec395-e313-4fc7-9743-9b7470e8d104",
   "metadata": {},
   "outputs": [],
   "source": [
    "def compute_discount_factor(beta):\n",
    "    return 1 / (1 + np.exp(-beta))\n",
    "\n",
    "discounted_similarities_cosine = {}\n",
    "\n",
    "for item in target_items:\n",
    "    if item in item_similarity_df.index:\n",
    "        beta = len(data[data['movieId'] == item]['userId'].unique())\n",
    "        discount_factor = compute_discount_factor(beta)\n",
    "        discounted_similarities_cosine[item] = item_similarity_df.loc[item] * discount_factor\n"
   ]
  },
  {
   "cell_type": "code",
   "execution_count": 194,
   "id": "490ed164-1f9d-4398-b4be-a26f30dd765e",
   "metadata": {},
   "outputs": [
    {
     "name": "stdout",
     "output_type": "stream",
     "text": [
      "\n",
      "Top 20% closest items (Discounted Cosine Similarity):\n",
      "Item 2: [112, 50, 141, 140, 110]\n"
     ]
    }
   ],
   "source": [
    "closest_items_discounted_cosine = {}\n",
    "\n",
    "for item in target_items:\n",
    "    if item in discounted_similarities_cosine:\n",
    "        item_similarities = discounted_similarities_cosine[item].sort_values(ascending=False)\n",
    "        top_20_percent = int(len(item_similarities) * 0.2)\n",
    "        closest_items_discounted_cosine[item] = item_similarities.index[1:top_20_percent+1]\n",
    "\n",
    "print(\"\\nTop 20% closest items (Discounted Cosine Similarity):\")\n",
    "for item, similar_items in closest_items_discounted_cosine.items():\n",
    "    print(f\"Item {item}: {list(similar_items)}\")"
   ]
  },
  {
   "cell_type": "code",
   "execution_count": 195,
   "id": "7ae5547e-725a-485a-8367-0d23461fe618",
   "metadata": {},
   "outputs": [
    {
     "name": "stdout",
     "output_type": "stream",
     "text": [
      "\n",
      "Predictions for missing ratings (Discounted Cosine Similarity):\n",
      "User 2, Item 2: 0.0\n",
      "User 3, Item 2: 0.0\n"
     ]
    }
   ],
   "source": [
    "predictions_discounted_cosine = {}\n",
    "\n",
    "for item in target_items:\n",
    "    for user in active_users:\n",
    "        if item in item_user_matrix.index and pd.isna(item_user_matrix.loc[item, user]):\n",
    "            predictions_discounted_cosine[(user, item)] = predict_rating_cosine(user, item, closest_items_discounted_cosine.get(item, []))\n",
    "\n",
    "print(\"\\nPredictions for missing ratings (Discounted Cosine Similarity):\")\n",
    "for (user, item), prediction in predictions_discounted_cosine.items():\n",
    "    print(f\"User {user}, Item {item}: {prediction}\")"
   ]
  },
  {
   "cell_type": "code",
   "execution_count": 196,
   "id": "4cbc4593-29bd-4617-9630-9b7c91e4b9b7",
   "metadata": {},
   "outputs": [
    {
     "name": "stdout",
     "output_type": "stream",
     "text": [
      "\n",
      "Comparison of Results (Cosine Similarity):\n",
      "Item 2:\n",
      "  Closest Items (Cosine): [112, 50, 141, 140, 110, 60]\n",
      "  Closest Items (Discounted Cosine): [112, 50, 141, 140, 110]\n",
      "Item 29:\n",
      "  Closest Items (Cosine): []\n",
      "  Closest Items (Discounted Cosine): []\n"
     ]
    }
   ],
   "source": [
    "print(\"\\nComparison of Results (Cosine Similarity):\")\n",
    "for item in target_items:\n",
    "    print(f\"Item {item}:\")\n",
    "    print(f\"  Closest Items (Cosine): {list(closest_items_cosine.get(item, []))}\")\n",
    "    print(f\"  Closest Items (Discounted Cosine): {list(closest_items_discounted_cosine.get(item, []))}\")\n"
   ]
  },
  {
   "cell_type": "code",
   "execution_count": null,
   "id": "4659ea5b-f550-4ce2-bd3e-16a6c4ae7c62",
   "metadata": {},
   "outputs": [],
   "source": []
  },
  {
   "cell_type": "code",
   "execution_count": null,
   "id": "bd58caf4-81e3-4f5c-a3b1-6c42118968e0",
   "metadata": {},
   "outputs": [],
   "source": []
  }
 ],
 "metadata": {
  "kernelspec": {
   "display_name": "Python 3 (ipykernel)",
   "language": "python",
   "name": "python3"
  },
  "language_info": {
   "codemirror_mode": {
    "name": "ipython",
    "version": 3
   },
   "file_extension": ".py",
   "mimetype": "text/x-python",
   "name": "python",
   "nbconvert_exporter": "python",
   "pygments_lexer": "ipython3",
   "version": "3.11.7"
  }
 },
 "nbformat": 4,
 "nbformat_minor": 5
}

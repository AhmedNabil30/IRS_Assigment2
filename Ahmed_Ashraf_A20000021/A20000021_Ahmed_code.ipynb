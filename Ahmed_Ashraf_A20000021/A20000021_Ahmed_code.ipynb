{
  "nbformat": 4,
  "nbformat_minor": 0,
  "metadata": {
    "colab": {
      "provenance": [],
      "gpuType": "T4"
    },
    "kernelspec": {
      "name": "python3",
      "display_name": "Python 3"
    },
    "language_info": {
      "name": "python"
    },
    "accelerator": "GPU"
  },
  "cells": [
    {
      "cell_type": "code",
      "execution_count": 13,
      "metadata": {
        "id": "SjNR6JUy5pHC"
      },
      "outputs": [],
      "source": [
        "import pandas as pd\n",
        "import numpy as np\n",
        "import matplotlib.pyplot as plt\n",
        "from sklearn.metrics.pairwise import cosine_similarity\n",
        "from sklearn.metrics import mean_squared_error\n",
        "from math import sqrt"
      ]
    },
    {
      "cell_type": "code",
      "source": [
        "data = pd.read_csv('/content/A20000021_Ahmed_Dataset.csv', encoding='ISO-8859-1', header=None, on_bad_lines='warn')\n",
        "data.columns = [\"Product\", \"Rating\", \"Ratings Count\", \"Availability\"]\n",
        "data = data.dropna().reset_index(drop=True)\n",
        "data.head()"
      ],
      "metadata": {
        "colab": {
          "base_uri": "https://localhost:8080/",
          "height": 206
        },
        "id": "sv6P_doG6Gvt",
        "outputId": "a762e33c-6356-47da-e1e8-c13d3c7b7f0d"
      },
      "execution_count": 14,
      "outputs": [
        {
          "output_type": "execute_result",
          "data": {
            "text/plain": [
              "                                             Product              Rating  \\\n",
              "0  Xiaomi Redmi A3 3GB RAM | 64GB ROM 6.71 Inches...  3.5 out of 5 stars   \n",
              "1  Xiaomi Redmi Note 12 Dual SIM Smartphone with ...  4.1 out of 5 stars   \n",
              "2  Amazon Essentials Men's Digital Chronograph Bl...  4.3 out of 5 stars   \n",
              "3  LUENX Aviator Sunglasses for Men Square Polari...  4.5 out of 5 stars   \n",
              "4  SAMSUNG Galaxy S24 Ultra Cell Phone 512GB AI S...  4.5 out of 5 stars   \n",
              "\n",
              "   Ratings Count                        Availability  \n",
              "0     63 ratings                            In Stock  \n",
              "1  25316 ratings                            In Stock  \n",
              "2    743 ratings                            In Stock  \n",
              "3   4587 ratings                            In Stock  \n",
              "4    226 ratings  Only 3 left in stock - order soon.  "
            ],
            "text/html": [
              "\n",
              "  <div id=\"df-9da731cc-64cb-416f-a673-64db67db332d\" class=\"colab-df-container\">\n",
              "    <div>\n",
              "<style scoped>\n",
              "    .dataframe tbody tr th:only-of-type {\n",
              "        vertical-align: middle;\n",
              "    }\n",
              "\n",
              "    .dataframe tbody tr th {\n",
              "        vertical-align: top;\n",
              "    }\n",
              "\n",
              "    .dataframe thead th {\n",
              "        text-align: right;\n",
              "    }\n",
              "</style>\n",
              "<table border=\"1\" class=\"dataframe\">\n",
              "  <thead>\n",
              "    <tr style=\"text-align: right;\">\n",
              "      <th></th>\n",
              "      <th>Product</th>\n",
              "      <th>Rating</th>\n",
              "      <th>Ratings Count</th>\n",
              "      <th>Availability</th>\n",
              "    </tr>\n",
              "  </thead>\n",
              "  <tbody>\n",
              "    <tr>\n",
              "      <th>0</th>\n",
              "      <td>Xiaomi Redmi A3 3GB RAM | 64GB ROM 6.71 Inches...</td>\n",
              "      <td>3.5 out of 5 stars</td>\n",
              "      <td>63 ratings</td>\n",
              "      <td>In Stock</td>\n",
              "    </tr>\n",
              "    <tr>\n",
              "      <th>1</th>\n",
              "      <td>Xiaomi Redmi Note 12 Dual SIM Smartphone with ...</td>\n",
              "      <td>4.1 out of 5 stars</td>\n",
              "      <td>25316 ratings</td>\n",
              "      <td>In Stock</td>\n",
              "    </tr>\n",
              "    <tr>\n",
              "      <th>2</th>\n",
              "      <td>Amazon Essentials Men's Digital Chronograph Bl...</td>\n",
              "      <td>4.3 out of 5 stars</td>\n",
              "      <td>743 ratings</td>\n",
              "      <td>In Stock</td>\n",
              "    </tr>\n",
              "    <tr>\n",
              "      <th>3</th>\n",
              "      <td>LUENX Aviator Sunglasses for Men Square Polari...</td>\n",
              "      <td>4.5 out of 5 stars</td>\n",
              "      <td>4587 ratings</td>\n",
              "      <td>In Stock</td>\n",
              "    </tr>\n",
              "    <tr>\n",
              "      <th>4</th>\n",
              "      <td>SAMSUNG Galaxy S24 Ultra Cell Phone 512GB AI S...</td>\n",
              "      <td>4.5 out of 5 stars</td>\n",
              "      <td>226 ratings</td>\n",
              "      <td>Only 3 left in stock - order soon.</td>\n",
              "    </tr>\n",
              "  </tbody>\n",
              "</table>\n",
              "</div>\n",
              "    <div class=\"colab-df-buttons\">\n",
              "\n",
              "  <div class=\"colab-df-container\">\n",
              "    <button class=\"colab-df-convert\" onclick=\"convertToInteractive('df-9da731cc-64cb-416f-a673-64db67db332d')\"\n",
              "            title=\"Convert this dataframe to an interactive table.\"\n",
              "            style=\"display:none;\">\n",
              "\n",
              "  <svg xmlns=\"http://www.w3.org/2000/svg\" height=\"24px\" viewBox=\"0 -960 960 960\">\n",
              "    <path d=\"M120-120v-720h720v720H120Zm60-500h600v-160H180v160Zm220 220h160v-160H400v160Zm0 220h160v-160H400v160ZM180-400h160v-160H180v160Zm440 0h160v-160H620v160ZM180-180h160v-160H180v160Zm440 0h160v-160H620v160Z\"/>\n",
              "  </svg>\n",
              "    </button>\n",
              "\n",
              "  <style>\n",
              "    .colab-df-container {\n",
              "      display:flex;\n",
              "      gap: 12px;\n",
              "    }\n",
              "\n",
              "    .colab-df-convert {\n",
              "      background-color: #E8F0FE;\n",
              "      border: none;\n",
              "      border-radius: 50%;\n",
              "      cursor: pointer;\n",
              "      display: none;\n",
              "      fill: #1967D2;\n",
              "      height: 32px;\n",
              "      padding: 0 0 0 0;\n",
              "      width: 32px;\n",
              "    }\n",
              "\n",
              "    .colab-df-convert:hover {\n",
              "      background-color: #E2EBFA;\n",
              "      box-shadow: 0px 1px 2px rgba(60, 64, 67, 0.3), 0px 1px 3px 1px rgba(60, 64, 67, 0.15);\n",
              "      fill: #174EA6;\n",
              "    }\n",
              "\n",
              "    .colab-df-buttons div {\n",
              "      margin-bottom: 4px;\n",
              "    }\n",
              "\n",
              "    [theme=dark] .colab-df-convert {\n",
              "      background-color: #3B4455;\n",
              "      fill: #D2E3FC;\n",
              "    }\n",
              "\n",
              "    [theme=dark] .colab-df-convert:hover {\n",
              "      background-color: #434B5C;\n",
              "      box-shadow: 0px 1px 3px 1px rgba(0, 0, 0, 0.15);\n",
              "      filter: drop-shadow(0px 1px 2px rgba(0, 0, 0, 0.3));\n",
              "      fill: #FFFFFF;\n",
              "    }\n",
              "  </style>\n",
              "\n",
              "    <script>\n",
              "      const buttonEl =\n",
              "        document.querySelector('#df-9da731cc-64cb-416f-a673-64db67db332d button.colab-df-convert');\n",
              "      buttonEl.style.display =\n",
              "        google.colab.kernel.accessAllowed ? 'block' : 'none';\n",
              "\n",
              "      async function convertToInteractive(key) {\n",
              "        const element = document.querySelector('#df-9da731cc-64cb-416f-a673-64db67db332d');\n",
              "        const dataTable =\n",
              "          await google.colab.kernel.invokeFunction('convertToInteractive',\n",
              "                                                    [key], {});\n",
              "        if (!dataTable) return;\n",
              "\n",
              "        const docLinkHtml = 'Like what you see? Visit the ' +\n",
              "          '<a target=\"_blank\" href=https://colab.research.google.com/notebooks/data_table.ipynb>data table notebook</a>'\n",
              "          + ' to learn more about interactive tables.';\n",
              "        element.innerHTML = '';\n",
              "        dataTable['output_type'] = 'display_data';\n",
              "        await google.colab.output.renderOutput(dataTable, element);\n",
              "        const docLink = document.createElement('div');\n",
              "        docLink.innerHTML = docLinkHtml;\n",
              "        element.appendChild(docLink);\n",
              "      }\n",
              "    </script>\n",
              "  </div>\n",
              "\n",
              "\n",
              "<div id=\"df-e6a272d5-b3f7-4def-a68c-47fddcbc34ed\">\n",
              "  <button class=\"colab-df-quickchart\" onclick=\"quickchart('df-e6a272d5-b3f7-4def-a68c-47fddcbc34ed')\"\n",
              "            title=\"Suggest charts\"\n",
              "            style=\"display:none;\">\n",
              "\n",
              "<svg xmlns=\"http://www.w3.org/2000/svg\" height=\"24px\"viewBox=\"0 0 24 24\"\n",
              "     width=\"24px\">\n",
              "    <g>\n",
              "        <path d=\"M19 3H5c-1.1 0-2 .9-2 2v14c0 1.1.9 2 2 2h14c1.1 0 2-.9 2-2V5c0-1.1-.9-2-2-2zM9 17H7v-7h2v7zm4 0h-2V7h2v10zm4 0h-2v-4h2v4z\"/>\n",
              "    </g>\n",
              "</svg>\n",
              "  </button>\n",
              "\n",
              "<style>\n",
              "  .colab-df-quickchart {\n",
              "      --bg-color: #E8F0FE;\n",
              "      --fill-color: #1967D2;\n",
              "      --hover-bg-color: #E2EBFA;\n",
              "      --hover-fill-color: #174EA6;\n",
              "      --disabled-fill-color: #AAA;\n",
              "      --disabled-bg-color: #DDD;\n",
              "  }\n",
              "\n",
              "  [theme=dark] .colab-df-quickchart {\n",
              "      --bg-color: #3B4455;\n",
              "      --fill-color: #D2E3FC;\n",
              "      --hover-bg-color: #434B5C;\n",
              "      --hover-fill-color: #FFFFFF;\n",
              "      --disabled-bg-color: #3B4455;\n",
              "      --disabled-fill-color: #666;\n",
              "  }\n",
              "\n",
              "  .colab-df-quickchart {\n",
              "    background-color: var(--bg-color);\n",
              "    border: none;\n",
              "    border-radius: 50%;\n",
              "    cursor: pointer;\n",
              "    display: none;\n",
              "    fill: var(--fill-color);\n",
              "    height: 32px;\n",
              "    padding: 0;\n",
              "    width: 32px;\n",
              "  }\n",
              "\n",
              "  .colab-df-quickchart:hover {\n",
              "    background-color: var(--hover-bg-color);\n",
              "    box-shadow: 0 1px 2px rgba(60, 64, 67, 0.3), 0 1px 3px 1px rgba(60, 64, 67, 0.15);\n",
              "    fill: var(--button-hover-fill-color);\n",
              "  }\n",
              "\n",
              "  .colab-df-quickchart-complete:disabled,\n",
              "  .colab-df-quickchart-complete:disabled:hover {\n",
              "    background-color: var(--disabled-bg-color);\n",
              "    fill: var(--disabled-fill-color);\n",
              "    box-shadow: none;\n",
              "  }\n",
              "\n",
              "  .colab-df-spinner {\n",
              "    border: 2px solid var(--fill-color);\n",
              "    border-color: transparent;\n",
              "    border-bottom-color: var(--fill-color);\n",
              "    animation:\n",
              "      spin 1s steps(1) infinite;\n",
              "  }\n",
              "\n",
              "  @keyframes spin {\n",
              "    0% {\n",
              "      border-color: transparent;\n",
              "      border-bottom-color: var(--fill-color);\n",
              "      border-left-color: var(--fill-color);\n",
              "    }\n",
              "    20% {\n",
              "      border-color: transparent;\n",
              "      border-left-color: var(--fill-color);\n",
              "      border-top-color: var(--fill-color);\n",
              "    }\n",
              "    30% {\n",
              "      border-color: transparent;\n",
              "      border-left-color: var(--fill-color);\n",
              "      border-top-color: var(--fill-color);\n",
              "      border-right-color: var(--fill-color);\n",
              "    }\n",
              "    40% {\n",
              "      border-color: transparent;\n",
              "      border-right-color: var(--fill-color);\n",
              "      border-top-color: var(--fill-color);\n",
              "    }\n",
              "    60% {\n",
              "      border-color: transparent;\n",
              "      border-right-color: var(--fill-color);\n",
              "    }\n",
              "    80% {\n",
              "      border-color: transparent;\n",
              "      border-right-color: var(--fill-color);\n",
              "      border-bottom-color: var(--fill-color);\n",
              "    }\n",
              "    90% {\n",
              "      border-color: transparent;\n",
              "      border-bottom-color: var(--fill-color);\n",
              "    }\n",
              "  }\n",
              "</style>\n",
              "\n",
              "  <script>\n",
              "    async function quickchart(key) {\n",
              "      const quickchartButtonEl =\n",
              "        document.querySelector('#' + key + ' button');\n",
              "      quickchartButtonEl.disabled = true;  // To prevent multiple clicks.\n",
              "      quickchartButtonEl.classList.add('colab-df-spinner');\n",
              "      try {\n",
              "        const charts = await google.colab.kernel.invokeFunction(\n",
              "            'suggestCharts', [key], {});\n",
              "      } catch (error) {\n",
              "        console.error('Error during call to suggestCharts:', error);\n",
              "      }\n",
              "      quickchartButtonEl.classList.remove('colab-df-spinner');\n",
              "      quickchartButtonEl.classList.add('colab-df-quickchart-complete');\n",
              "    }\n",
              "    (() => {\n",
              "      let quickchartButtonEl =\n",
              "        document.querySelector('#df-e6a272d5-b3f7-4def-a68c-47fddcbc34ed button');\n",
              "      quickchartButtonEl.style.display =\n",
              "        google.colab.kernel.accessAllowed ? 'block' : 'none';\n",
              "    })();\n",
              "  </script>\n",
              "</div>\n",
              "\n",
              "    </div>\n",
              "  </div>\n"
            ],
            "application/vnd.google.colaboratory.intrinsic+json": {
              "type": "dataframe",
              "variable_name": "data",
              "summary": "{\n  \"name\": \"data\",\n  \"rows\": 17,\n  \"fields\": [\n    {\n      \"column\": \"Product\",\n      \"properties\": {\n        \"dtype\": \"string\",\n        \"num_unique_values\": 11,\n        \"samples\": [\n          \"Google Pixel 8 Pro 5G | Unlocked Dual SIM (nano-SIM eSIM) | 6.7-inch Android Smartphone (256GB + 12GB RAM Obsidian)\",\n          \"Xiaomi Redmi A3 3GB RAM | 64GB ROM 6.71 Inches HD+ 90HZ Display 5000mAH Battery 2 SIM Dual Camera (4G) Black | 1 year Local warranty\",\n          \"ETAMOON Wireless Gaming Controller compatible with XBox 360 Xbox One PS3 Windows PC Linux Connection USB Charging LED Backlight (Black-green) Dual Shock\"\n        ],\n        \"semantic_type\": \"\",\n        \"description\": \"\"\n      }\n    },\n    {\n      \"column\": \"Rating\",\n      \"properties\": {\n        \"dtype\": \"category\",\n        \"num_unique_values\": 8,\n        \"samples\": [\n          \"4.1 out of 5 stars\",\n          \"3.9 out of 5 stars\",\n          \"3.5 out of 5 stars\"\n        ],\n        \"semantic_type\": \"\",\n        \"description\": \"\"\n      }\n    },\n    {\n      \"column\": \"Ratings Count\",\n      \"properties\": {\n        \"dtype\": \"string\",\n        \"num_unique_values\": 11,\n        \"samples\": [\n          \"429 ratings\",\n          \"63 ratings\",\n          \"24 ratings\"\n        ],\n        \"semantic_type\": \"\",\n        \"description\": \"\"\n      }\n    },\n    {\n      \"column\": \"Availability\",\n      \"properties\": {\n        \"dtype\": \"category\",\n        \"num_unique_values\": 4,\n        \"samples\": [\n          \"Only 3 left in stock - order soon.\",\n          \"Available to ship in 1-2 days\",\n          \"In Stock\"\n        ],\n        \"semantic_type\": \"\",\n        \"description\": \"\"\n      }\n    }\n  ]\n}"
            }
          },
          "metadata": {},
          "execution_count": 14
        }
      ]
    },
    {
      "cell_type": "code",
      "source": [
        "def parse_rating(rating_str):\n",
        "    try:\n",
        "        return float(rating_str.split(\" out of \")[0])\n",
        "    except:\n",
        "        return np.nan\n",
        "\n",
        "data[\"Rating\"] = data[\"Rating\"].apply(parse_rating)\n",
        "data['User'] = data.index"
      ],
      "metadata": {
        "id": "D0X_jDnm6H-Y"
      },
      "execution_count": 15,
      "outputs": []
    },
    {
      "cell_type": "code",
      "source": [
        "ratings_matrix = data.pivot_table(index='User', columns='Product', values='Rating')"
      ],
      "metadata": {
        "id": "43Zs-EJS6w4T"
      },
      "execution_count": 16,
      "outputs": []
    },
    {
      "cell_type": "code",
      "source": [
        "tnu = len(data[\"Ratings Count\"].unique())\n",
        "tni = len(data[\"Product\"].unique())"
      ],
      "metadata": {
        "id": "4onLhg4s7HXp"
      },
      "execution_count": 17,
      "outputs": []
    },
    {
      "cell_type": "code",
      "source": [
        "ratings_per_item = data.groupby(\"Product\")[\"Rating\"].count()\n",
        "\n",
        "active_users = {\"U1\": 2, \"U2\": 3, \"U3\": 5}\n",
        "\n",
        "target_items = {\"I1\": 0.04, \"I2\": 0.10}"
      ],
      "metadata": {
        "id": "2n9i6nHV7su2"
      },
      "execution_count": 18,
      "outputs": []
    },
    {
      "cell_type": "code",
      "source": [
        "def count_common_users_and_items(active_user_ratings, all_user_ratings):\n",
        "    common_users, co_rated_items = 0, 0\n",
        "    for user_ratings in all_user_ratings:\n",
        "        common = ~np.isnan(active_user_ratings) & ~np.isnan(user_ratings)\n",
        "        common_users += np.sum(common)\n",
        "        co_rated_items += np.sum(common & (active_user_ratings == user_ratings))\n",
        "    return common_users, co_rated_items"
      ],
      "metadata": {
        "id": "VH_vYarx77Bc"
      },
      "execution_count": 19,
      "outputs": []
    },
    {
      "cell_type": "code",
      "source": [
        "#2D array\n",
        "common_users_items = []\n",
        "for user in active_users.keys():\n",
        "    common_users, co_rated_items = count_common_users_and_items(data[\"Rating\"], data[\"Rating\"])\n",
        "    common_users_items.append([common_users, co_rated_items])\n",
        "\n",
        "common_users_items = np.array(common_users_items)\n",
        "common_users_items_sorted = common_users_items[np.argsort(-common_users_items[:, 0])]"
      ],
      "metadata": {
        "id": "XwtSkTZM7_ls"
      },
      "execution_count": 20,
      "outputs": []
    },
    {
      "cell_type": "code",
      "source": [
        "# quantity of ratings per item\n",
        "plt.figure(figsize=(10, 8))\n",
        "plt.plot(ratings_per_item.index, ratings_per_item.values, marker=\"o\")\n",
        "plt.title(\"number of ratings for each item\")\n",
        "plt.xlabel(\"Items\")\n",
        "plt.ylabel(\"Number of Ratings\")\n",
        "plt.grid()\n",
        "plt.show()"
      ],
      "metadata": {
        "colab": {
          "base_uri": "https://localhost:8080/",
          "height": 591
        },
        "id": "fb-b-cmK8F-6",
        "outputId": "ad5bd462-f384-4d5e-9ae2-a61439ffcc20"
      },
      "execution_count": 30,
      "outputs": [
        {
          "output_type": "stream",
          "name": "stderr",
          "text": [
            "/usr/local/lib/python3.10/dist-packages/IPython/core/pylabtools.py:151: UserWarning: Glyph 150 (\\x96) missing from current font.\n",
            "  fig.canvas.print_figure(bytes_io, **kw)\n"
          ]
        },
        {
          "output_type": "display_data",
          "data": {
            "text/plain": [
              "<Figure size 1000x800 with 1 Axes>"
            ],
            "image/png": "[encoded data removed]"
          },
          "metadata": {}
        }
      ]
    },
    {
      "cell_type": "code",
      "source": [
        "thresholds = {}\n",
        "for user in active_users.keys():\n",
        "    thresholds[user] = max([common_users for common_users in common_users_items[:, 0] if common_users >= 0.3 * len(data)])\n",
        "\n",
        "thresholds"
      ],
      "metadata": {
        "colab": {
          "base_uri": "https://localhost:8080/"
        },
        "id": "max4LvOc8Jzc",
        "outputId": "795541b7-039a-45d7-dc33-f4a2e158ef83"
      },
      "execution_count": 26,
      "outputs": [
        {
          "output_type": "execute_result",
          "data": {
            "text/plain": [
              "{'U1': 289, 'U2': 289, 'U3': 289}"
            ]
          },
          "metadata": {},
          "execution_count": 26
        }
      ]
    },
    {
      "cell_type": "code",
      "source": [
        "def compute_cosine_similarity(ratings):\n",
        "    ratings_matrix = ratings.fillna(0).values\n",
        "    return cosine_similarity(ratings_matrix)"
      ],
      "metadata": {
        "id": "HvS2sWSq8a3C"
      },
      "execution_count": 27,
      "outputs": []
    },
    {
      "cell_type": "code",
      "source": [
        "def compute_pearson_similarity(ratings):\n",
        "    import numpy as np\n",
        "    from scipy.stats import pearsonr\n",
        "\n",
        "    if isinstance(ratings, pd.DataFrame):\n",
        "        ratings = ratings.to_numpy()\n",
        "\n",
        "    n_users = ratings.shape[0]\n",
        "    similarity_matrix = np.zeros((n_users, n_users))\n",
        "\n",
        "    for i in range(n_users):\n",
        "        for j in range(n_users):\n",
        "            if i != j:\n",
        "                common = ~np.isnan(ratings[i]) & ~np.isnan(ratings[j])\n",
        "                if np.sum(common) > 1:\n",
        "                    similarity_matrix[i, j] = pearsonr(ratings[i][common], ratings[j][common])[0]\n",
        "\n",
        "    return similarity_matrix"
      ],
      "metadata": {
        "id": "mWat90g1-R8r"
      },
      "execution_count": 28,
      "outputs": []
    },
    {
      "cell_type": "code",
      "source": [
        "def compute_discounted_similarity(similarity_matrix, threshold):\n",
        "\n",
        "    discounted_similarity_matrix = similarity_matrix.copy()\n",
        "    discounted_similarity_matrix[discounted_similarity_matrix < threshold] = 0\n",
        "    return discounted_similarity_matrix"
      ],
      "metadata": {
        "id": "FshIt8y4-WBR"
      },
      "execution_count": 29,
      "outputs": []
    },
    {
      "cell_type": "code",
      "source": [
        "def get_top_k(similarity_matrix, k):\n",
        "    top_k_indices = {}\n",
        "    for i, similarities in enumerate(similarity_matrix):\n",
        "        sorted_indices = np.argsort(-similarities)\n",
        "        top_k_indices[i] = sorted_indices[:int(k * len(similarities))]\n",
        "    return top_k_indices"
      ],
      "metadata": {
        "id": "oGIZNUR3_Eo5"
      },
      "execution_count": 31,
      "outputs": []
    },
    {
      "cell_type": "code",
      "source": [
        "def predict_ratings(similarity_matrix, ratings, top_k_indices):\n",
        "    predictions = {}\n",
        "    ratings = np.atleast_2d(ratings)  # Ensures ratings is always 2D\n",
        "    for user, neighbors in top_k_indices.items():\n",
        "        user_predictions = []\n",
        "        for item in range(ratings.shape[1]):\n",
        "            if np.isnan(ratings[user, item]):\n",
        "                weighted_sum = sum(\n",
        "                    similarity_matrix[user, neighbor] * ratings[neighbor, item]\n",
        "                    for neighbor in neighbors if not np.isnan(ratings[neighbor, item])\n",
        "                )\n",
        "                weight_sum = sum(\n",
        "                    abs(similarity_matrix[user, neighbor])\n",
        "                    for neighbor in neighbors if not np.isnan(ratings[neighbor, item])\n",
        "                )\n",
        "                user_predictions.append(weighted_sum / weight_sum if weight_sum != 0 else np.nan)\n",
        "            else:\n",
        "                user_predictions.append(ratings[user, item])\n",
        "        predictions[user] = user_predictions\n",
        "    return predictions"
      ],
      "metadata": {
        "id": "S1W4L4n2A2tA"
      },
      "execution_count": 32,
      "outputs": []
    },
    {
      "cell_type": "code",
      "source": [
        "def calculate_predictions_diff(predictions_1, predictions_2):\n",
        "    diff_sum = 0\n",
        "    count = 0\n",
        "    for user in predictions_1:\n",
        "        for item, pred_1 in enumerate(predictions_1[user]):\n",
        "            pred_2 = predictions_2.get(user, [])[item]\n",
        "            if not np.isnan(pred_1) and not np.isnan(pred_2):\n",
        "                diff_sum += abs(pred_1 - pred_2)\n",
        "                count += 1\n",
        "    return diff_sum / count if count > 0 else np.nan\n",
        "\n",
        "def mean_center(matrix):\n",
        "    row_means = np.nanmean(matrix, axis=1, keepdims=True)\n",
        "\n",
        "    mean_centered = matrix - row_means\n",
        "    mean_centered[np.isnan(matrix)] = np.nan\n",
        "\n",
        "    return mean_centered"
      ],
      "metadata": {
        "id": "5pbKg2BaA44j"
      },
      "execution_count": 33,
      "outputs": []
    },
    {
      "cell_type": "code",
      "source": [
        "#1.1\n",
        "cosine_sim = compute_cosine_similarity(ratings_matrix)\n",
        "\n",
        "top_users_cosine = get_top_k(cosine_sim, 0.2)\n",
        "\n",
        "\n",
        "predictions_cosine = predict_ratings(cosine_sim, ratings_matrix, top_users_cosine)\n",
        "\n",
        "discounted_cosine_sim = compute_discounted_similarity(cosine_sim, threshold=3)\n",
        "\n",
        "top_users_discounted = get_top_k(discounted_cosine_sim, 0.2)\n",
        "\n",
        "predictions_discounted = predict_ratings(discounted_cosine_sim, ratings_matrix, top_users_discounted)\n",
        "\n",
        "print(\"Top users (Cosine Similarity):\")\n",
        "print(top_users_cosine)\n",
        "print(\"\\nTop users (Discounted Similarity):\")\n",
        "print(top_users_discounted)\n",
        "\n",
        "print(\"\\nPredictions (Cosine Similarity):\")\n",
        "print(predictions_cosine)\n",
        "print(\"\\nPredictions (Discounted Similarity):\")\n",
        "print(predictions_discounted)"
      ],
      "metadata": {
        "colab": {
          "base_uri": "https://localhost:8080/"
        },
        "id": "oPqG1BGJA9JU",
        "outputId": "4a7a5608-7b3f-4014-88dd-fad50b1f506e"
      },
      "execution_count": 35,
      "outputs": [
        {
          "output_type": "stream",
          "name": "stdout",
          "text": [
            "Top users (Cosine Similarity):\n",
            "{0: array([ 0, 13, 14]), 1: array([ 1, 14,  0]), 2: array([ 2,  0, 14]), 3: array([16,  3, 14]), 4: array([ 4,  0, 14]), 5: array([ 5, 15,  0]), 6: array([ 6,  0, 14]), 7: array([ 7,  0, 14]), 8: array([ 8, 11, 10]), 9: array([ 9,  0, 14]), 10: array([ 8, 11, 10]), 11: array([ 8, 11, 10]), 12: array([12,  0, 14]), 13: array([ 0, 13, 14]), 14: array([ 1, 14,  0]), 15: array([ 5, 15,  0]), 16: array([16,  3, 14])}\n",
            "\n",
            "Top users (Discounted Similarity):\n",
            "{0: array([ 0, 14, 13]), 1: array([ 0, 14, 13]), 2: array([ 0, 14, 13]), 3: array([ 0, 14, 13]), 4: array([ 0, 14, 13]), 5: array([ 0, 14, 13]), 6: array([ 0, 14, 13]), 7: array([ 0, 14, 13]), 8: array([ 0, 14, 13]), 9: array([ 0, 14, 13]), 10: array([ 0, 14, 13]), 11: array([ 0, 14, 13]), 12: array([ 0, 14, 13]), 13: array([ 0, 14, 13]), 14: array([ 0, 14, 13]), 15: array([ 0, 14, 13]), 16: array([ 0, 14, 13])}\n",
            "\n",
            "Predictions (Cosine Similarity):\n",
            "{0: [nan, nan, nan, nan, nan, nan, nan, nan, 3.5, nan, nan], 1: [nan, nan, nan, nan, nan, nan, nan, nan, nan, 4.1, nan], 2: [4.3, nan, nan, nan, nan, nan, nan, nan, nan, nan, nan], 3: [nan, nan, nan, nan, 4.5, nan, nan, nan, nan, nan, nan], 4: [nan, nan, nan, nan, nan, 4.5, nan, nan, nan, nan, nan], 5: [nan, nan, 4.3, nan, nan, nan, nan, nan, nan, nan, nan], 6: [nan, nan, nan, nan, nan, nan, nan, nan, nan, nan, 4.2], 7: [nan, nan, nan, nan, nan, nan, 4.3, nan, nan, nan, nan], 8: [nan, nan, nan, 3.9, nan, nan, nan, nan, nan, nan, nan], 9: [nan, 3.2, nan, nan, nan, nan, nan, nan, nan, nan, nan], 10: [nan, nan, nan, 3.9, nan, nan, nan, nan, nan, nan, nan], 11: [nan, nan, nan, 3.9, nan, nan, nan, nan, nan, nan, nan], 12: [nan, nan, nan, nan, nan, nan, nan, 4.6, nan, nan, nan], 13: [nan, nan, nan, nan, nan, nan, nan, nan, 3.5, nan, nan], 14: [nan, nan, nan, nan, nan, nan, nan, nan, nan, 4.1, nan], 15: [nan, nan, 4.3, nan, nan, nan, nan, nan, nan, nan, nan], 16: [nan, nan, nan, nan, 4.5, nan, nan, nan, nan, nan, nan]}\n",
            "\n",
            "Predictions (Discounted Similarity):\n",
            "{0: [nan, nan, nan, nan, nan, nan, nan, nan, 3.5, nan, nan], 1: [nan, nan, nan, nan, nan, nan, nan, nan, nan, 4.1, nan], 2: [4.3, nan, nan, nan, nan, nan, nan, nan, nan, nan, nan], 3: [nan, nan, nan, nan, 4.5, nan, nan, nan, nan, nan, nan], 4: [nan, nan, nan, nan, nan, 4.5, nan, nan, nan, nan, nan], 5: [nan, nan, 4.3, nan, nan, nan, nan, nan, nan, nan, nan], 6: [nan, nan, nan, nan, nan, nan, nan, nan, nan, nan, 4.2], 7: [nan, nan, nan, nan, nan, nan, 4.3, nan, nan, nan, nan], 8: [nan, nan, nan, 3.9, nan, nan, nan, nan, nan, nan, nan], 9: [nan, 3.2, nan, nan, nan, nan, nan, nan, nan, nan, nan], 10: [nan, nan, nan, 3.9, nan, nan, nan, nan, nan, nan, nan], 11: [nan, nan, nan, 3.9, nan, nan, nan, nan, nan, nan, nan], 12: [nan, nan, nan, nan, nan, nan, nan, 4.6, nan, nan, nan], 13: [nan, nan, nan, nan, nan, nan, nan, nan, 3.5, nan, nan], 14: [nan, nan, nan, nan, nan, nan, nan, nan, nan, 4.1, nan], 15: [nan, nan, 4.3, nan, nan, nan, nan, nan, nan, nan, nan], 16: [nan, nan, nan, nan, 4.5, nan, nan, nan, nan, nan, nan]}\n"
          ]
        }
      ]
    },
    {
      "cell_type": "code",
      "source": [
        "#1.2\n",
        "mean_centered_ratings = mean_center(ratings_matrix)\n",
        "cosine_sim_bias = compute_cosine_similarity(mean_centered_ratings)\n",
        "\n",
        "top_users_cosine_bias = get_top_k(cosine_sim_bias, 0.2)\n",
        "\n",
        "\n",
        "predictions_cosine_bias = predict_ratings(cosine_sim_bias, ratings_matrix, top_users_cosine_bias)\n",
        "\n",
        "discounted_cosine_sim_bias = compute_discounted_similarity(cosine_sim_bias, threshold=3)\n",
        "top_users_discounted_bias = get_top_k(discounted_cosine_sim_bias, 0.2)\n",
        "\n",
        "predictions_discounted_bias = predict_ratings(discounted_cosine_sim_bias, ratings_matrix, top_users_discounted_bias)\n",
        "\n",
        "print(\"Top users (Cosine Similarity with Bias Adjustment):\")\n",
        "print(top_users_cosine_bias)\n",
        "print(\"\\nTop users (Discounted Cosine Similarity with Bias Adjustment):\")\n",
        "print(top_users_discounted_bias)\n",
        "\n",
        "print(\"\\nPredictions (Cosine Similarity with Bias Adjustment):\")\n",
        "print(predictions_cosine_bias)\n",
        "print(\"\\nPredictions (Discounted Cosine Similarity with Bias Adjustment):\")\n",
        "print(predictions_discounted_bias)"
      ],
      "metadata": {
        "colab": {
          "base_uri": "https://localhost:8080/"
        },
        "id": "5hp_4nFlBHkX",
        "outputId": "8dd5d50c-bea8-4035-cb4e-fb83493975b4"
      },
      "execution_count": 36,
      "outputs": [
        {
          "output_type": "stream",
          "name": "stdout",
          "text": [
            "Top users (Cosine Similarity with Bias Adjustment):\n",
            "{0: array([ 0, 14, 13]), 1: array([ 0, 14, 13]), 2: array([ 0, 14, 13]), 3: array([ 0, 14, 13]), 4: array([ 0, 14, 13]), 5: array([ 0, 14, 13]), 6: array([ 0, 14, 13]), 7: array([ 0, 14, 13]), 8: array([ 0, 14, 13]), 9: array([ 0, 14, 13]), 10: array([ 0, 14, 13]), 11: array([ 0, 14, 13]), 12: array([ 0, 14, 13]), 13: array([ 0, 14, 13]), 14: array([ 0, 14, 13]), 15: array([ 0, 14, 13]), 16: array([ 0, 14, 13])}\n",
            "\n",
            "Top users (Discounted Cosine Similarity with Bias Adjustment):\n",
            "{0: array([ 0, 14, 13]), 1: array([ 0, 14, 13]), 2: array([ 0, 14, 13]), 3: array([ 0, 14, 13]), 4: array([ 0, 14, 13]), 5: array([ 0, 14, 13]), 6: array([ 0, 14, 13]), 7: array([ 0, 14, 13]), 8: array([ 0, 14, 13]), 9: array([ 0, 14, 13]), 10: array([ 0, 14, 13]), 11: array([ 0, 14, 13]), 12: array([ 0, 14, 13]), 13: array([ 0, 14, 13]), 14: array([ 0, 14, 13]), 15: array([ 0, 14, 13]), 16: array([ 0, 14, 13])}\n",
            "\n",
            "Predictions (Cosine Similarity with Bias Adjustment):\n",
            "{0: [nan, nan, nan, nan, nan, nan, nan, nan, 3.5, nan, nan], 1: [nan, nan, nan, nan, nan, nan, nan, nan, nan, 4.1, nan], 2: [4.3, nan, nan, nan, nan, nan, nan, nan, nan, nan, nan], 3: [nan, nan, nan, nan, 4.5, nan, nan, nan, nan, nan, nan], 4: [nan, nan, nan, nan, nan, 4.5, nan, nan, nan, nan, nan], 5: [nan, nan, 4.3, nan, nan, nan, nan, nan, nan, nan, nan], 6: [nan, nan, nan, nan, nan, nan, nan, nan, nan, nan, 4.2], 7: [nan, nan, nan, nan, nan, nan, 4.3, nan, nan, nan, nan], 8: [nan, nan, nan, 3.9, nan, nan, nan, nan, nan, nan, nan], 9: [nan, 3.2, nan, nan, nan, nan, nan, nan, nan, nan, nan], 10: [nan, nan, nan, 3.9, nan, nan, nan, nan, nan, nan, nan], 11: [nan, nan, nan, 3.9, nan, nan, nan, nan, nan, nan, nan], 12: [nan, nan, nan, nan, nan, nan, nan, 4.6, nan, nan, nan], 13: [nan, nan, nan, nan, nan, nan, nan, nan, 3.5, nan, nan], 14: [nan, nan, nan, nan, nan, nan, nan, nan, nan, 4.1, nan], 15: [nan, nan, 4.3, nan, nan, nan, nan, nan, nan, nan, nan], 16: [nan, nan, nan, nan, 4.5, nan, nan, nan, nan, nan, nan]}\n",
            "\n",
            "Predictions (Discounted Cosine Similarity with Bias Adjustment):\n",
            "{0: [nan, nan, nan, nan, nan, nan, nan, nan, 3.5, nan, nan], 1: [nan, nan, nan, nan, nan, nan, nan, nan, nan, 4.1, nan], 2: [4.3, nan, nan, nan, nan, nan, nan, nan, nan, nan, nan], 3: [nan, nan, nan, nan, 4.5, nan, nan, nan, nan, nan, nan], 4: [nan, nan, nan, nan, nan, 4.5, nan, nan, nan, nan, nan], 5: [nan, nan, 4.3, nan, nan, nan, nan, nan, nan, nan, nan], 6: [nan, nan, nan, nan, nan, nan, nan, nan, nan, nan, 4.2], 7: [nan, nan, nan, nan, nan, nan, 4.3, nan, nan, nan, nan], 8: [nan, nan, nan, 3.9, nan, nan, nan, nan, nan, nan, nan], 9: [nan, 3.2, nan, nan, nan, nan, nan, nan, nan, nan, nan], 10: [nan, nan, nan, 3.9, nan, nan, nan, nan, nan, nan, nan], 11: [nan, nan, nan, 3.9, nan, nan, nan, nan, nan, nan, nan], 12: [nan, nan, nan, nan, nan, nan, nan, 4.6, nan, nan, nan], 13: [nan, nan, nan, nan, nan, nan, nan, nan, 3.5, nan, nan], 14: [nan, nan, nan, nan, nan, nan, nan, nan, nan, 4.1, nan], 15: [nan, nan, 4.3, nan, nan, nan, nan, nan, nan, nan, nan], 16: [nan, nan, nan, nan, 4.5, nan, nan, nan, nan, nan, nan]}\n"
          ]
        }
      ]
    },
    {
      "cell_type": "code",
      "source": [
        "#1.3\n",
        "pearson_sim = compute_pearson_similarity(ratings_matrix)\n",
        "\n",
        "top_users_pearson = get_top_k(pearson_sim, 0.2)\n",
        "\n",
        "predictions_pearson = predict_ratings(pearson_sim, ratings_matrix, top_users_pearson)\n",
        "\n",
        "discounted_pearson_sim = compute_discounted_similarity(pearson_sim, threshold=3)\n",
        "\n",
        "top_users_discounted_pearson = get_top_k(discounted_pearson_sim, 0.2)\n",
        "\n",
        "predictions_discounted_pearson = predict_ratings(discounted_pearson_sim, ratings_matrix, top_users_discounted_pearson)\n",
        "\n",
        "print(\"Top users (Pearson Correlation Coefficient):\")\n",
        "print(top_users_pearson)\n",
        "print(\"\\nTop users (Discounted Pearson Correlation Coefficient):\")\n",
        "print(top_users_discounted_pearson)\n",
        "\n",
        "print(\"\\nPredictions (Pearson Correlation Coefficient):\")\n",
        "print(predictions_pearson)\n",
        "print(\"\\nPredictions (Discounted Pearson Correlation Coefficient):\")\n",
        "print(predictions_discounted_pearson)"
      ],
      "metadata": {
        "colab": {
          "base_uri": "https://localhost:8080/"
        },
        "id": "840Cy1tdBRzF",
        "outputId": "b7ace1a8-a369-45d6-b5a6-087804bad8bb"
      },
      "execution_count": 37,
      "outputs": [
        {
          "output_type": "stream",
          "name": "stdout",
          "text": [
            "Top users (Pearson Correlation Coefficient):\n",
            "{0: array([ 0, 14, 13]), 1: array([ 0, 14, 13]), 2: array([ 0, 14, 13]), 3: array([ 0, 14, 13]), 4: array([ 0, 14, 13]), 5: array([ 0, 14, 13]), 6: array([ 0, 14, 13]), 7: array([ 0, 14, 13]), 8: array([ 0, 14, 13]), 9: array([ 0, 14, 13]), 10: array([ 0, 14, 13]), 11: array([ 0, 14, 13]), 12: array([ 0, 14, 13]), 13: array([ 0, 14, 13]), 14: array([ 0, 14, 13]), 15: array([ 0, 14, 13]), 16: array([ 0, 14, 13])}\n",
            "\n",
            "Top users (Discounted Pearson Correlation Coefficient):\n",
            "{0: array([ 0, 14, 13]), 1: array([ 0, 14, 13]), 2: array([ 0, 14, 13]), 3: array([ 0, 14, 13]), 4: array([ 0, 14, 13]), 5: array([ 0, 14, 13]), 6: array([ 0, 14, 13]), 7: array([ 0, 14, 13]), 8: array([ 0, 14, 13]), 9: array([ 0, 14, 13]), 10: array([ 0, 14, 13]), 11: array([ 0, 14, 13]), 12: array([ 0, 14, 13]), 13: array([ 0, 14, 13]), 14: array([ 0, 14, 13]), 15: array([ 0, 14, 13]), 16: array([ 0, 14, 13])}\n",
            "\n",
            "Predictions (Pearson Correlation Coefficient):\n",
            "{0: [nan, nan, nan, nan, nan, nan, nan, nan, 3.5, nan, nan], 1: [nan, nan, nan, nan, nan, nan, nan, nan, nan, 4.1, nan], 2: [4.3, nan, nan, nan, nan, nan, nan, nan, nan, nan, nan], 3: [nan, nan, nan, nan, 4.5, nan, nan, nan, nan, nan, nan], 4: [nan, nan, nan, nan, nan, 4.5, nan, nan, nan, nan, nan], 5: [nan, nan, 4.3, nan, nan, nan, nan, nan, nan, nan, nan], 6: [nan, nan, nan, nan, nan, nan, nan, nan, nan, nan, 4.2], 7: [nan, nan, nan, nan, nan, nan, 4.3, nan, nan, nan, nan], 8: [nan, nan, nan, 3.9, nan, nan, nan, nan, nan, nan, nan], 9: [nan, 3.2, nan, nan, nan, nan, nan, nan, nan, nan, nan], 10: [nan, nan, nan, 3.9, nan, nan, nan, nan, nan, nan, nan], 11: [nan, nan, nan, 3.9, nan, nan, nan, nan, nan, nan, nan], 12: [nan, nan, nan, nan, nan, nan, nan, 4.6, nan, nan, nan], 13: [nan, nan, nan, nan, nan, nan, nan, nan, 3.5, nan, nan], 14: [nan, nan, nan, nan, nan, nan, nan, nan, nan, 4.1, nan], 15: [nan, nan, 4.3, nan, nan, nan, nan, nan, nan, nan, nan], 16: [nan, nan, nan, nan, 4.5, nan, nan, nan, nan, nan, nan]}\n",
            "\n",
            "Predictions (Discounted Pearson Correlation Coefficient):\n",
            "{0: [nan, nan, nan, nan, nan, nan, nan, nan, 3.5, nan, nan], 1: [nan, nan, nan, nan, nan, nan, nan, nan, nan, 4.1, nan], 2: [4.3, nan, nan, nan, nan, nan, nan, nan, nan, nan, nan], 3: [nan, nan, nan, nan, 4.5, nan, nan, nan, nan, nan, nan], 4: [nan, nan, nan, nan, nan, 4.5, nan, nan, nan, nan, nan], 5: [nan, nan, 4.3, nan, nan, nan, nan, nan, nan, nan, nan], 6: [nan, nan, nan, nan, nan, nan, nan, nan, nan, nan, 4.2], 7: [nan, nan, nan, nan, nan, nan, 4.3, nan, nan, nan, nan], 8: [nan, nan, nan, 3.9, nan, nan, nan, nan, nan, nan, nan], 9: [nan, 3.2, nan, nan, nan, nan, nan, nan, nan, nan, nan], 10: [nan, nan, nan, 3.9, nan, nan, nan, nan, nan, nan, nan], 11: [nan, nan, nan, 3.9, nan, nan, nan, nan, nan, nan, nan], 12: [nan, nan, nan, nan, nan, nan, nan, 4.6, nan, nan, nan], 13: [nan, nan, nan, nan, nan, nan, nan, nan, 3.5, nan, nan], 14: [nan, nan, nan, nan, nan, nan, nan, nan, nan, 4.1, nan], 15: [nan, nan, 4.3, nan, nan, nan, nan, nan, nan, nan, nan], 16: [nan, nan, nan, nan, 4.5, nan, nan, nan, nan, nan, nan]}\n"
          ]
        }
      ]
    },
    {
      "cell_type": "code",
      "source": [
        "# 2.1\n",
        "cosine_sim = compute_cosine_similarity(ratings_matrix)\n",
        "\n",
        "top_items_cosine = get_top_k(cosine_sim, 0.25)\n",
        "\n",
        "predictions_cosine = predict_ratings(cosine_sim, ratings_matrix, top_items_cosine)\n",
        "\n",
        "discounted_cosine_sim = compute_discounted_similarity(cosine_sim, threshold=8)\n",
        "\n",
        "top_items_discounted_cosine = get_top_k(discounted_cosine_sim, 0.2)\n",
        "\n",
        "predictions_discounted_cosine = predict_ratings(discounted_cosine_sim, ratings_matrix, top_items_discounted_cosine)\n",
        "\n",
        "print(\"Top items (Cosine Similarity):\")\n",
        "print(top_items_cosine)\n",
        "print(\"\\nTop items (Discounted Cosine Similarity):\")\n",
        "print(top_items_discounted_cosine)\n",
        "\n",
        "print(\"\\nPredictions (Cosine Similarity):\")\n",
        "print(predictions_cosine)\n",
        "print(\"\\nPredictions (Discounted Cosine Similarity):\")\n",
        "print(predictions_discounted_cosine)"
      ],
      "metadata": {
        "colab": {
          "base_uri": "https://localhost:8080/"
        },
        "id": "bhEXISELBZoL",
        "outputId": "417dba15-bbd0-448c-d448-fbeabf130822"
      },
      "execution_count": 38,
      "outputs": [
        {
          "output_type": "stream",
          "name": "stdout",
          "text": [
            "Top items (Cosine Similarity):\n",
            "{0: array([ 0, 13, 14, 12]), 1: array([ 1, 14,  0, 13]), 2: array([ 2,  0, 14, 13]), 3: array([16,  3, 14, 13]), 4: array([ 4,  0, 14, 13]), 5: array([ 5, 15,  0, 14]), 6: array([ 6,  0, 14, 13]), 7: array([ 7,  0, 14, 13]), 8: array([ 8, 11, 10, 14]), 9: array([ 9,  0, 14, 13]), 10: array([ 8, 11, 10, 14]), 11: array([ 8, 11, 10, 14]), 12: array([12,  0, 14, 13]), 13: array([ 0, 13, 14, 12]), 14: array([ 1, 14,  0, 13]), 15: array([ 5, 15,  0, 14]), 16: array([16,  3, 14, 13])}\n",
            "\n",
            "Top items (Discounted Cosine Similarity):\n",
            "{0: array([ 0, 14, 13]), 1: array([ 0, 14, 13]), 2: array([ 0, 14, 13]), 3: array([ 0, 14, 13]), 4: array([ 0, 14, 13]), 5: array([ 0, 14, 13]), 6: array([ 0, 14, 13]), 7: array([ 0, 14, 13]), 8: array([ 0, 14, 13]), 9: array([ 0, 14, 13]), 10: array([ 0, 14, 13]), 11: array([ 0, 14, 13]), 12: array([ 0, 14, 13]), 13: array([ 0, 14, 13]), 14: array([ 0, 14, 13]), 15: array([ 0, 14, 13]), 16: array([ 0, 14, 13])}\n",
            "\n",
            "Predictions (Cosine Similarity):\n",
            "{0: [nan, nan, nan, nan, nan, nan, nan, nan, 3.5, nan, nan], 1: [nan, nan, nan, nan, nan, nan, nan, nan, nan, 4.1, nan], 2: [4.3, nan, nan, nan, nan, nan, nan, nan, nan, nan, nan], 3: [nan, nan, nan, nan, 4.5, nan, nan, nan, nan, nan, nan], 4: [nan, nan, nan, nan, nan, 4.5, nan, nan, nan, nan, nan], 5: [nan, nan, 4.3, nan, nan, nan, nan, nan, nan, nan, nan], 6: [nan, nan, nan, nan, nan, nan, nan, nan, nan, nan, 4.2], 7: [nan, nan, nan, nan, nan, nan, 4.3, nan, nan, nan, nan], 8: [nan, nan, nan, 3.9, nan, nan, nan, nan, nan, nan, nan], 9: [nan, 3.2, nan, nan, nan, nan, nan, nan, nan, nan, nan], 10: [nan, nan, nan, 3.9, nan, nan, nan, nan, nan, nan, nan], 11: [nan, nan, nan, 3.9, nan, nan, nan, nan, nan, nan, nan], 12: [nan, nan, nan, nan, nan, nan, nan, 4.6, nan, nan, nan], 13: [nan, nan, nan, nan, nan, nan, nan, nan, 3.5, nan, nan], 14: [nan, nan, nan, nan, nan, nan, nan, nan, nan, 4.1, nan], 15: [nan, nan, 4.3, nan, nan, nan, nan, nan, nan, nan, nan], 16: [nan, nan, nan, nan, 4.5, nan, nan, nan, nan, nan, nan]}\n",
            "\n",
            "Predictions (Discounted Cosine Similarity):\n",
            "{0: [nan, nan, nan, nan, nan, nan, nan, nan, 3.5, nan, nan], 1: [nan, nan, nan, nan, nan, nan, nan, nan, nan, 4.1, nan], 2: [4.3, nan, nan, nan, nan, nan, nan, nan, nan, nan, nan], 3: [nan, nan, nan, nan, 4.5, nan, nan, nan, nan, nan, nan], 4: [nan, nan, nan, nan, nan, 4.5, nan, nan, nan, nan, nan], 5: [nan, nan, 4.3, nan, nan, nan, nan, nan, nan, nan, nan], 6: [nan, nan, nan, nan, nan, nan, nan, nan, nan, nan, 4.2], 7: [nan, nan, nan, nan, nan, nan, 4.3, nan, nan, nan, nan], 8: [nan, nan, nan, 3.9, nan, nan, nan, nan, nan, nan, nan], 9: [nan, 3.2, nan, nan, nan, nan, nan, nan, nan, nan, nan], 10: [nan, nan, nan, 3.9, nan, nan, nan, nan, nan, nan, nan], 11: [nan, nan, nan, 3.9, nan, nan, nan, nan, nan, nan, nan], 12: [nan, nan, nan, nan, nan, nan, nan, 4.6, nan, nan, nan], 13: [nan, nan, nan, nan, nan, nan, nan, nan, 3.5, nan, nan], 14: [nan, nan, nan, nan, nan, nan, nan, nan, nan, 4.1, nan], 15: [nan, nan, 4.3, nan, nan, nan, nan, nan, nan, nan, nan], 16: [nan, nan, nan, nan, 4.5, nan, nan, nan, nan, nan, nan]}\n"
          ]
        }
      ]
    },
    {
      "cell_type": "code",
      "source": [
        "# 2.2\n",
        "mean_centered_ratings = ratings_matrix - ratings_matrix.mean(axis=0)\n",
        "\n",
        "top_items_cosine_bias = get_top_k(cosine_sim_bias, 0.2)\n",
        "\n",
        "predictions_cosine_bias = predict_ratings(cosine_sim_bias, ratings_matrix, top_items_cosine_bias)\n",
        "\n",
        "discounted_cosine_sim_bias = compute_discounted_similarity(cosine_sim_bias, threshold=8)\n",
        "\n",
        "top_items_discounted_cosine_bias = get_top_k(discounted_cosine_sim_bias, 0.2)\n",
        "\n",
        "predictions_discounted_cosine_bias = predict_ratings(discounted_cosine_sim_bias, ratings_matrix, top_items_discounted_cosine_bias)\n",
        "\n",
        "print(\"Top items (Mean-centered Cosine Similarity):\")\n",
        "print(top_items_cosine_bias)\n",
        "print(\"\\nTop items (Discounted Mean-centered Cosine Similarity):\")\n",
        "print(top_items_discounted_cosine_bias)\n",
        "\n",
        "print(\"\\nPredictions (Mean-centered Cosine Similarity):\")\n",
        "print(predictions_cosine_bias)\n",
        "print(\"\\nPredictions (Discounted Mean-centered Cosine Similarity):\")\n",
        "print(predictions_discounted_cosine_bias)"
      ],
      "metadata": {
        "colab": {
          "base_uri": "https://localhost:8080/"
        },
        "id": "pgPugXY9Bhv5",
        "outputId": "07e3eff3-0ea2-4b06-fd87-551ef1c14d37"
      },
      "execution_count": 39,
      "outputs": [
        {
          "output_type": "stream",
          "name": "stdout",
          "text": [
            "Top items (Mean-centered Cosine Similarity):\n",
            "{0: array([ 0, 14, 13]), 1: array([ 0, 14, 13]), 2: array([ 0, 14, 13]), 3: array([ 0, 14, 13]), 4: array([ 0, 14, 13]), 5: array([ 0, 14, 13]), 6: array([ 0, 14, 13]), 7: array([ 0, 14, 13]), 8: array([ 0, 14, 13]), 9: array([ 0, 14, 13]), 10: array([ 0, 14, 13]), 11: array([ 0, 14, 13]), 12: array([ 0, 14, 13]), 13: array([ 0, 14, 13]), 14: array([ 0, 14, 13]), 15: array([ 0, 14, 13]), 16: array([ 0, 14, 13])}\n",
            "\n",
            "Top items (Discounted Mean-centered Cosine Similarity):\n",
            "{0: array([ 0, 14, 13]), 1: array([ 0, 14, 13]), 2: array([ 0, 14, 13]), 3: array([ 0, 14, 13]), 4: array([ 0, 14, 13]), 5: array([ 0, 14, 13]), 6: array([ 0, 14, 13]), 7: array([ 0, 14, 13]), 8: array([ 0, 14, 13]), 9: array([ 0, 14, 13]), 10: array([ 0, 14, 13]), 11: array([ 0, 14, 13]), 12: array([ 0, 14, 13]), 13: array([ 0, 14, 13]), 14: array([ 0, 14, 13]), 15: array([ 0, 14, 13]), 16: array([ 0, 14, 13])}\n",
            "\n",
            "Predictions (Mean-centered Cosine Similarity):\n",
            "{0: [nan, nan, nan, nan, nan, nan, nan, nan, 3.5, nan, nan], 1: [nan, nan, nan, nan, nan, nan, nan, nan, nan, 4.1, nan], 2: [4.3, nan, nan, nan, nan, nan, nan, nan, nan, nan, nan], 3: [nan, nan, nan, nan, 4.5, nan, nan, nan, nan, nan, nan], 4: [nan, nan, nan, nan, nan, 4.5, nan, nan, nan, nan, nan], 5: [nan, nan, 4.3, nan, nan, nan, nan, nan, nan, nan, nan], 6: [nan, nan, nan, nan, nan, nan, nan, nan, nan, nan, 4.2], 7: [nan, nan, nan, nan, nan, nan, 4.3, nan, nan, nan, nan], 8: [nan, nan, nan, 3.9, nan, nan, nan, nan, nan, nan, nan], 9: [nan, 3.2, nan, nan, nan, nan, nan, nan, nan, nan, nan], 10: [nan, nan, nan, 3.9, nan, nan, nan, nan, nan, nan, nan], 11: [nan, nan, nan, 3.9, nan, nan, nan, nan, nan, nan, nan], 12: [nan, nan, nan, nan, nan, nan, nan, 4.6, nan, nan, nan], 13: [nan, nan, nan, nan, nan, nan, nan, nan, 3.5, nan, nan], 14: [nan, nan, nan, nan, nan, nan, nan, nan, nan, 4.1, nan], 15: [nan, nan, 4.3, nan, nan, nan, nan, nan, nan, nan, nan], 16: [nan, nan, nan, nan, 4.5, nan, nan, nan, nan, nan, nan]}\n",
            "\n",
            "Predictions (Discounted Mean-centered Cosine Similarity):\n",
            "{0: [nan, nan, nan, nan, nan, nan, nan, nan, 3.5, nan, nan], 1: [nan, nan, nan, nan, nan, nan, nan, nan, nan, 4.1, nan], 2: [4.3, nan, nan, nan, nan, nan, nan, nan, nan, nan, nan], 3: [nan, nan, nan, nan, 4.5, nan, nan, nan, nan, nan, nan], 4: [nan, nan, nan, nan, nan, 4.5, nan, nan, nan, nan, nan], 5: [nan, nan, 4.3, nan, nan, nan, nan, nan, nan, nan, nan], 6: [nan, nan, nan, nan, nan, nan, nan, nan, nan, nan, 4.2], 7: [nan, nan, nan, nan, nan, nan, 4.3, nan, nan, nan, nan], 8: [nan, nan, nan, 3.9, nan, nan, nan, nan, nan, nan, nan], 9: [nan, 3.2, nan, nan, nan, nan, nan, nan, nan, nan, nan], 10: [nan, nan, nan, 3.9, nan, nan, nan, nan, nan, nan, nan], 11: [nan, nan, nan, 3.9, nan, nan, nan, nan, nan, nan, nan], 12: [nan, nan, nan, nan, nan, nan, nan, 4.6, nan, nan, nan], 13: [nan, nan, nan, nan, nan, nan, nan, nan, 3.5, nan, nan], 14: [nan, nan, nan, nan, nan, nan, nan, nan, nan, 4.1, nan], 15: [nan, nan, 4.3, nan, nan, nan, nan, nan, nan, nan, nan], 16: [nan, nan, nan, nan, 4.5, nan, nan, nan, nan, nan, nan]}\n"
          ]
        }
      ]
    },
    {
      "cell_type": "code",
      "source": [
        "# 2.3\n",
        "pearson_sim = compute_pearson_similarity(ratings_matrix)\n",
        "\n",
        "top_items_pearson = get_top_k(pearson_sim, 0.2)\n",
        "\n",
        "predictions_pearson = predict_ratings(pearson_sim, ratings_matrix, top_items_pearson)\n",
        "\n",
        "discounted_pearson_sim = compute_discounted_similarity(pearson_sim, threshold=8)\n",
        "\n",
        "top_items_discounted_pearson = get_top_k(discounted_pearson_sim, 0.2)\n",
        "\n",
        "predictions_discounted_pearson = predict_ratings(discounted_pearson_sim, ratings_matrix, top_items_discounted_pearson)\n",
        "\n",
        "print(\"Top items (Pearson Correlation):\")\n",
        "print(top_items_pearson)\n",
        "print(\"\\nTop items (Discounted Pearson Correlation):\")\n",
        "print(top_items_discounted_pearson)\n",
        "\n",
        "print(\"\\nPredictions (Pearson Correlation):\")\n",
        "print(predictions_pearson)\n",
        "print(\"\\nPredictions (Discounted Pearson Correlation):\")\n",
        "print(predictions_discounted_pearson)"
      ],
      "metadata": {
        "colab": {
          "base_uri": "https://localhost:8080/"
        },
        "id": "TgghJFDkBw8c",
        "outputId": "12b3b299-cd3f-4efb-fff5-db2410a957c5"
      },
      "execution_count": 40,
      "outputs": [
        {
          "output_type": "stream",
          "name": "stdout",
          "text": [
            "Top items (Pearson Correlation):\n",
            "{0: array([ 0, 14, 13]), 1: array([ 0, 14, 13]), 2: array([ 0, 14, 13]), 3: array([ 0, 14, 13]), 4: array([ 0, 14, 13]), 5: array([ 0, 14, 13]), 6: array([ 0, 14, 13]), 7: array([ 0, 14, 13]), 8: array([ 0, 14, 13]), 9: array([ 0, 14, 13]), 10: array([ 0, 14, 13]), 11: array([ 0, 14, 13]), 12: array([ 0, 14, 13]), 13: array([ 0, 14, 13]), 14: array([ 0, 14, 13]), 15: array([ 0, 14, 13]), 16: array([ 0, 14, 13])}\n",
            "\n",
            "Top items (Discounted Pearson Correlation):\n",
            "{0: array([ 0, 14, 13]), 1: array([ 0, 14, 13]), 2: array([ 0, 14, 13]), 3: array([ 0, 14, 13]), 4: array([ 0, 14, 13]), 5: array([ 0, 14, 13]), 6: array([ 0, 14, 13]), 7: array([ 0, 14, 13]), 8: array([ 0, 14, 13]), 9: array([ 0, 14, 13]), 10: array([ 0, 14, 13]), 11: array([ 0, 14, 13]), 12: array([ 0, 14, 13]), 13: array([ 0, 14, 13]), 14: array([ 0, 14, 13]), 15: array([ 0, 14, 13]), 16: array([ 0, 14, 13])}\n",
            "\n",
            "Predictions (Pearson Correlation):\n",
            "{0: [nan, nan, nan, nan, nan, nan, nan, nan, 3.5, nan, nan], 1: [nan, nan, nan, nan, nan, nan, nan, nan, nan, 4.1, nan], 2: [4.3, nan, nan, nan, nan, nan, nan, nan, nan, nan, nan], 3: [nan, nan, nan, nan, 4.5, nan, nan, nan, nan, nan, nan], 4: [nan, nan, nan, nan, nan, 4.5, nan, nan, nan, nan, nan], 5: [nan, nan, 4.3, nan, nan, nan, nan, nan, nan, nan, nan], 6: [nan, nan, nan, nan, nan, nan, nan, nan, nan, nan, 4.2], 7: [nan, nan, nan, nan, nan, nan, 4.3, nan, nan, nan, nan], 8: [nan, nan, nan, 3.9, nan, nan, nan, nan, nan, nan, nan], 9: [nan, 3.2, nan, nan, nan, nan, nan, nan, nan, nan, nan], 10: [nan, nan, nan, 3.9, nan, nan, nan, nan, nan, nan, nan], 11: [nan, nan, nan, 3.9, nan, nan, nan, nan, nan, nan, nan], 12: [nan, nan, nan, nan, nan, nan, nan, 4.6, nan, nan, nan], 13: [nan, nan, nan, nan, nan, nan, nan, nan, 3.5, nan, nan], 14: [nan, nan, nan, nan, nan, nan, nan, nan, nan, 4.1, nan], 15: [nan, nan, 4.3, nan, nan, nan, nan, nan, nan, nan, nan], 16: [nan, nan, nan, nan, 4.5, nan, nan, nan, nan, nan, nan]}\n",
            "\n",
            "Predictions (Discounted Pearson Correlation):\n",
            "{0: [nan, nan, nan, nan, nan, nan, nan, nan, 3.5, nan, nan], 1: [nan, nan, nan, nan, nan, nan, nan, nan, nan, 4.1, nan], 2: [4.3, nan, nan, nan, nan, nan, nan, nan, nan, nan, nan], 3: [nan, nan, nan, nan, 4.5, nan, nan, nan, nan, nan, nan], 4: [nan, nan, nan, nan, nan, 4.5, nan, nan, nan, nan, nan], 5: [nan, nan, 4.3, nan, nan, nan, nan, nan, nan, nan, nan], 6: [nan, nan, nan, nan, nan, nan, nan, nan, nan, nan, 4.2], 7: [nan, nan, nan, nan, nan, nan, 4.3, nan, nan, nan, nan], 8: [nan, nan, nan, 3.9, nan, nan, nan, nan, nan, nan, nan], 9: [nan, 3.2, nan, nan, nan, nan, nan, nan, nan, nan, nan], 10: [nan, nan, nan, 3.9, nan, nan, nan, nan, nan, nan, nan], 11: [nan, nan, nan, 3.9, nan, nan, nan, nan, nan, nan, nan], 12: [nan, nan, nan, nan, nan, nan, nan, 4.6, nan, nan, nan], 13: [nan, nan, nan, nan, nan, nan, nan, nan, 3.5, nan, nan], 14: [nan, nan, nan, nan, nan, nan, nan, nan, nan, 4.1, nan], 15: [nan, nan, 4.3, nan, nan, nan, nan, nan, nan, nan, nan], 16: [nan, nan, nan, nan, 4.5, nan, nan, nan, nan, nan, nan]}\n"
          ]
        }
      ]
    }
  ]
}
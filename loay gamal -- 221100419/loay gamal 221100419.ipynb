{
  "nbformat": 4,
  "nbformat_minor": 0,
  "metadata": {
    "colab": {
      "provenance": [],
      "toc_visible": true
    },
    "kernelspec": {
      "name": "python3",
      "display_name": "Python 3"
    },
    "language_info": {
      "name": "python"
    }
  },
  "cells": [
    {
      "cell_type": "code",
      "execution_count": 1,
      "metadata": {
        "colab": {
          "base_uri": "https://localhost:8080/",
          "height": 391
        },
        "id": "HFUMB5aLSjlX",
        "outputId": "bef43c6b-e19b-4578-a983-7caaf78495dd"
      },
      "outputs": [
        {
          "output_type": "error",
          "ename": "FileNotFoundError",
          "evalue": "[Errno 2] No such file or directory: '/content/random_user_movie_ratings.csv'",
          "traceback": [
            "\u001b[0;31m---------------------------------------------------------------------------\u001b[0m",
            "\u001b[0;31mFileNotFoundError\u001b[0m                         Traceback (most recent call last)",
            "\u001b[0;32m<ipython-input-1-367479cf1bb4>\u001b[0m in \u001b[0;36m<cell line: 5>\u001b[0;34m()\u001b[0m\n\u001b[1;32m      3\u001b[0m \u001b[0;32mimport\u001b[0m \u001b[0mnumpy\u001b[0m \u001b[0;32mas\u001b[0m \u001b[0mnp\u001b[0m\u001b[0;34m\u001b[0m\u001b[0;34m\u001b[0m\u001b[0m\n\u001b[1;32m      4\u001b[0m \u001b[0;34m\u001b[0m\u001b[0m\n\u001b[0;32m----> 5\u001b[0;31m \u001b[0mdata\u001b[0m \u001b[0;34m=\u001b[0m \u001b[0mpd\u001b[0m\u001b[0;34m.\u001b[0m\u001b[0mread_csv\u001b[0m\u001b[0;34m(\u001b[0m\u001b[0;34m'/content/random_user_movie_ratings.csv'\u001b[0m\u001b[0;34m)\u001b[0m\u001b[0;34m\u001b[0m\u001b[0;34m\u001b[0m\u001b[0m\n\u001b[0m\u001b[1;32m      6\u001b[0m \u001b[0;34m\u001b[0m\u001b[0m\n\u001b[1;32m      7\u001b[0m \u001b[0;34m\u001b[0m\u001b[0m\n",
            "\u001b[0;32m/usr/local/lib/python3.10/dist-packages/pandas/io/parsers/readers.py\u001b[0m in \u001b[0;36mread_csv\u001b[0;34m(filepath_or_buffer, sep, delimiter, header, names, index_col, usecols, dtype, engine, converters, true_values, false_values, skipinitialspace, skiprows, skipfooter, nrows, na_values, keep_default_na, na_filter, verbose, skip_blank_lines, parse_dates, infer_datetime_format, keep_date_col, date_parser, date_format, dayfirst, cache_dates, iterator, chunksize, compression, thousands, decimal, lineterminator, quotechar, quoting, doublequote, escapechar, comment, encoding, encoding_errors, dialect, on_bad_lines, delim_whitespace, low_memory, memory_map, float_precision, storage_options, dtype_backend)\u001b[0m\n\u001b[1;32m   1024\u001b[0m     \u001b[0mkwds\u001b[0m\u001b[0;34m.\u001b[0m\u001b[0mupdate\u001b[0m\u001b[0;34m(\u001b[0m\u001b[0mkwds_defaults\u001b[0m\u001b[0;34m)\u001b[0m\u001b[0;34m\u001b[0m\u001b[0;34m\u001b[0m\u001b[0m\n\u001b[1;32m   1025\u001b[0m \u001b[0;34m\u001b[0m\u001b[0m\n\u001b[0;32m-> 1026\u001b[0;31m     \u001b[0;32mreturn\u001b[0m \u001b[0m_read\u001b[0m\u001b[0;34m(\u001b[0m\u001b[0mfilepath_or_buffer\u001b[0m\u001b[0;34m,\u001b[0m \u001b[0mkwds\u001b[0m\u001b[0;34m)\u001b[0m\u001b[0;34m\u001b[0m\u001b[0;34m\u001b[0m\u001b[0m\n\u001b[0m\u001b[1;32m   1027\u001b[0m \u001b[0;34m\u001b[0m\u001b[0m\n\u001b[1;32m   1028\u001b[0m \u001b[0;34m\u001b[0m\u001b[0m\n",
            "\u001b[0;32m/usr/local/lib/python3.10/dist-packages/pandas/io/parsers/readers.py\u001b[0m in \u001b[0;36m_read\u001b[0;34m(filepath_or_buffer, kwds)\u001b[0m\n\u001b[1;32m    618\u001b[0m \u001b[0;34m\u001b[0m\u001b[0m\n\u001b[1;32m    619\u001b[0m     \u001b[0;31m# Create the parser.\u001b[0m\u001b[0;34m\u001b[0m\u001b[0;34m\u001b[0m\u001b[0m\n\u001b[0;32m--> 620\u001b[0;31m     \u001b[0mparser\u001b[0m \u001b[0;34m=\u001b[0m \u001b[0mTextFileReader\u001b[0m\u001b[0;34m(\u001b[0m\u001b[0mfilepath_or_buffer\u001b[0m\u001b[0;34m,\u001b[0m \u001b[0;34m**\u001b[0m\u001b[0mkwds\u001b[0m\u001b[0;34m)\u001b[0m\u001b[0;34m\u001b[0m\u001b[0;34m\u001b[0m\u001b[0m\n\u001b[0m\u001b[1;32m    621\u001b[0m \u001b[0;34m\u001b[0m\u001b[0m\n\u001b[1;32m    622\u001b[0m     \u001b[0;32mif\u001b[0m \u001b[0mchunksize\u001b[0m \u001b[0;32mor\u001b[0m \u001b[0miterator\u001b[0m\u001b[0;34m:\u001b[0m\u001b[0;34m\u001b[0m\u001b[0;34m\u001b[0m\u001b[0m\n",
            "\u001b[0;32m/usr/local/lib/python3.10/dist-packages/pandas/io/parsers/readers.py\u001b[0m in \u001b[0;36m__init__\u001b[0;34m(self, f, engine, **kwds)\u001b[0m\n\u001b[1;32m   1618\u001b[0m \u001b[0;34m\u001b[0m\u001b[0m\n\u001b[1;32m   1619\u001b[0m         \u001b[0mself\u001b[0m\u001b[0;34m.\u001b[0m\u001b[0mhandles\u001b[0m\u001b[0;34m:\u001b[0m \u001b[0mIOHandles\u001b[0m \u001b[0;34m|\u001b[0m \u001b[0;32mNone\u001b[0m \u001b[0;34m=\u001b[0m \u001b[0;32mNone\u001b[0m\u001b[0;34m\u001b[0m\u001b[0;34m\u001b[0m\u001b[0m\n\u001b[0;32m-> 1620\u001b[0;31m         \u001b[0mself\u001b[0m\u001b[0;34m.\u001b[0m\u001b[0m_engine\u001b[0m \u001b[0;34m=\u001b[0m \u001b[0mself\u001b[0m\u001b[0;34m.\u001b[0m\u001b[0m_make_engine\u001b[0m\u001b[0;34m(\u001b[0m\u001b[0mf\u001b[0m\u001b[0;34m,\u001b[0m \u001b[0mself\u001b[0m\u001b[0;34m.\u001b[0m\u001b[0mengine\u001b[0m\u001b[0;34m)\u001b[0m\u001b[0;34m\u001b[0m\u001b[0;34m\u001b[0m\u001b[0m\n\u001b[0m\u001b[1;32m   1621\u001b[0m \u001b[0;34m\u001b[0m\u001b[0m\n\u001b[1;32m   1622\u001b[0m     \u001b[0;32mdef\u001b[0m \u001b[0mclose\u001b[0m\u001b[0;34m(\u001b[0m\u001b[0mself\u001b[0m\u001b[0;34m)\u001b[0m \u001b[0;34m->\u001b[0m \u001b[0;32mNone\u001b[0m\u001b[0;34m:\u001b[0m\u001b[0;34m\u001b[0m\u001b[0;34m\u001b[0m\u001b[0m\n",
            "\u001b[0;32m/usr/local/lib/python3.10/dist-packages/pandas/io/parsers/readers.py\u001b[0m in \u001b[0;36m_make_engine\u001b[0;34m(self, f, engine)\u001b[0m\n\u001b[1;32m   1878\u001b[0m                 \u001b[0;32mif\u001b[0m \u001b[0;34m\"b\"\u001b[0m \u001b[0;32mnot\u001b[0m \u001b[0;32min\u001b[0m \u001b[0mmode\u001b[0m\u001b[0;34m:\u001b[0m\u001b[0;34m\u001b[0m\u001b[0;34m\u001b[0m\u001b[0m\n\u001b[1;32m   1879\u001b[0m                     \u001b[0mmode\u001b[0m \u001b[0;34m+=\u001b[0m \u001b[0;34m\"b\"\u001b[0m\u001b[0;34m\u001b[0m\u001b[0;34m\u001b[0m\u001b[0m\n\u001b[0;32m-> 1880\u001b[0;31m             self.handles = get_handle(\n\u001b[0m\u001b[1;32m   1881\u001b[0m                 \u001b[0mf\u001b[0m\u001b[0;34m,\u001b[0m\u001b[0;34m\u001b[0m\u001b[0;34m\u001b[0m\u001b[0m\n\u001b[1;32m   1882\u001b[0m                 \u001b[0mmode\u001b[0m\u001b[0;34m,\u001b[0m\u001b[0;34m\u001b[0m\u001b[0;34m\u001b[0m\u001b[0m\n",
            "\u001b[0;32m/usr/local/lib/python3.10/dist-packages/pandas/io/common.py\u001b[0m in \u001b[0;36mget_handle\u001b[0;34m(path_or_buf, mode, encoding, compression, memory_map, is_text, errors, storage_options)\u001b[0m\n\u001b[1;32m    871\u001b[0m         \u001b[0;32mif\u001b[0m \u001b[0mioargs\u001b[0m\u001b[0;34m.\u001b[0m\u001b[0mencoding\u001b[0m \u001b[0;32mand\u001b[0m \u001b[0;34m\"b\"\u001b[0m \u001b[0;32mnot\u001b[0m \u001b[0;32min\u001b[0m \u001b[0mioargs\u001b[0m\u001b[0;34m.\u001b[0m\u001b[0mmode\u001b[0m\u001b[0;34m:\u001b[0m\u001b[0;34m\u001b[0m\u001b[0;34m\u001b[0m\u001b[0m\n\u001b[1;32m    872\u001b[0m             \u001b[0;31m# Encoding\u001b[0m\u001b[0;34m\u001b[0m\u001b[0;34m\u001b[0m\u001b[0m\n\u001b[0;32m--> 873\u001b[0;31m             handle = open(\n\u001b[0m\u001b[1;32m    874\u001b[0m                 \u001b[0mhandle\u001b[0m\u001b[0;34m,\u001b[0m\u001b[0;34m\u001b[0m\u001b[0;34m\u001b[0m\u001b[0m\n\u001b[1;32m    875\u001b[0m                 \u001b[0mioargs\u001b[0m\u001b[0;34m.\u001b[0m\u001b[0mmode\u001b[0m\u001b[0;34m,\u001b[0m\u001b[0;34m\u001b[0m\u001b[0;34m\u001b[0m\u001b[0m\n",
            "\u001b[0;31mFileNotFoundError\u001b[0m: [Errno 2] No such file or directory: '/content/random_user_movie_ratings.csv'"
          ]
        }
      ],
      "source": [
        "import pandas as pd\n",
        "from sklearn.metrics.pairwise import cosine_similarity\n",
        "import numpy as np\n",
        "\n",
        "# Read the data file\n",
        "data = pd.read_csv('/content/random_user_movie_ratings.csv')\n",
        "\n",
        "# Extract the ratings matrix (user ratings only)\n",
        "ratings_matrix = data.iloc[:, 1:]\n",
        "\n",
        "# Compute cosine similarity between users\n",
        "cosine_sim = cosine_similarity(ratings_matrix.fillna(0))  # Handle NaN with zeros for similarity computation\n",
        "cosine_sim_df = pd.DataFrame(cosine_sim, index=data.iloc[:, 0], columns=data.iloc[:, 0])\n",
        "\n",
        "# Define the top percentage of users to consider for each user\n",
        "top_percent = 0.2\n",
        "num_closest_users = int(len(cosine_sim_df) * top_percent)\n",
        "\n",
        "# Find the closest users for each user\n",
        "top_users_dict = {}\n",
        "for user in cosine_sim_df.index:\n",
        "    similar_users = cosine_sim_df[user].sort_values(ascending=False)\n",
        "    top_users = similar_users.iloc[1:num_closest_users+1].index.tolist()  # Exclude the user itself\n",
        "    top_users_dict[user] = top_users\n",
        "\n",
        "\n",
        "# Function to calculate predictions based on top user ratings\n",
        "def calculate_prediction(user, top_users, ratings_matrix):\n",
        "    closest_ratings = ratings_matrix.loc[top_users].mean(axis=0)  # Take the mean rating of top similar users\n",
        "    return closest_ratings\n",
        "\n",
        "\n",
        "# Generate predictions using regular cosine similarity\n",
        "predictions = {}\n",
        "for user, top_users in top_users_dict.items():\n",
        "    predictions[user] = calculate_prediction(user, top_users, ratings_matrix)\n",
        "\n",
        "\n",
        "# Discounted similarity adjustment based on co-rated items\n",
        "def calculate_discounted_similarity(user, top_users, cosine_sim_df, ratings_matrix, threshold=0.3):\n",
        "    \"\"\"\n",
        "    Apply a discounted factor to user similarity scores based on co-rated items threshold.\n",
        "    \"\"\"\n",
        "    co_rated_items = ratings_matrix.loc[top_users].notnull().sum(axis=1)\n",
        "    total_items = len(ratings_matrix.columns)\n",
        "    co_rated_percentage = co_rated_items / total_items\n",
        "\n",
        "    # Apply a discount: 1 for co-rated >= threshold, 0.5 otherwise\n",
        "    conditions = [co_rated_percentage >= threshold, co_rated_percentage < threshold]\n",
        "    discount_factors = [1, 0.5]\n",
        "    discounts = np.select(conditions, discount_factors)\n",
        "\n",
        "    discounted_similarity = cosine_sim_df.loc[user, top_users] * discounts\n",
        "    return discounted_similarity\n",
        "\n",
        "\n",
        "# Generate predictions using discounted similarity\n",
        "discounted_predictions = {}\n",
        "for user, top_users in top_users_dict.items():\n",
        "    valid_top_users = [u for u in top_users if u in cosine_sim_df.index]  # Ensure users exist in similarity matrix\n",
        "    discounted_predictions[user] = calculate_prediction(user, valid_top_users, ratings_matrix)\n",
        "\n",
        "\n",
        "# Create dataframes for predictions\n",
        "predictions_df = pd.DataFrame(predictions)\n",
        "discounted_predictions_df = pd.DataFrame(discounted_predictions)\n",
        "\n",
        "# Display sample predictions\n",
        "print(\"Predictions using Cosine Similarity:\")\n",
        "print(predictions_df.head())\n",
        "print(\"\\nPredictions using Discounted Similarity:\")\n",
        "print(discounted_predictions_df.head())\n",
        "\n",
        "# Save predictions to CSV files\n",
        "predictions_df.to_csv('/content/predictions_cosine.csv', index=False)\n",
        "discounted_predictions_df.to_csv('/content/predictions_discounted.csv', index=False)\n"
      ]
    },
    {
      "cell_type": "code",
      "source": [
        "import pandas as pd\n",
        "import numpy as np\n",
        "\n",
        "# Set random seed for reproducibility\n",
        "np.random.seed(42)\n",
        "\n",
        "# Define the parameters of the dataset\n",
        "num_users = 1000        # Number of unique users\n",
        "num_items = 100         # Number of unique items\n",
        "num_ratings = 100000    # Total number of ratings\n",
        "\n",
        "# Generate user and item IDs\n",
        "user_ids = np.arange(1, num_users + 1)  # User IDs from 1 to 1000\n",
        "item_ids = np.arange(1, num_items + 1)  # Item IDs from 1 to 100\n",
        "\n",
        "# Generate random ratings data\n",
        "ratings_data = {\n",
        "    \"user_id\": np.random.choice(user_ids, size=num_ratings),        # Random user IDs\n",
        "    \"item_id\": np.random.choice(item_ids, size=num_ratings),        # Random item IDs\n",
        "    \"rating\": np.random.randint(1, 6, size=num_ratings)             # Random ratings between 1 and 5\n",
        "}\n",
        "\n",
        "# Create the DataFrame\n",
        "ratings_df = pd.DataFrame(ratings_data)\n",
        "\n",
        "# Remove duplicate ratings for the same user-item pair\n",
        "ratings_df.drop_duplicates(subset=[\"user_id\", \"item_id\"], inplace=True)\n",
        "\n",
        "# Reset the index after removing duplicates\n",
        "ratings_df.reset_index(drop=True, inplace=True)\n",
        "\n",
        "# Display sample of the generated dataset\n",
        "print(\"Sample of the generated dataset:\")\n",
        "print(ratings_df.head())\n",
        "\n",
        "# Save the dataset to a CSV file\n",
        "ratings_df.to_csv(\"generated_ratings_dataset.csv\", index=False)\n",
        "\n",
        "print(\"\\nDataset generated successfully and saved as 'generated_ratings_dataset.csv'.\")\n"
      ],
      "metadata": {
        "id": "OxNqlr9JSlaL"
      },
      "execution_count": null,
      "outputs": []
    },
    {
      "cell_type": "code",
      "source": [
        "f"
      ],
      "metadata": {
        "id": "X6boLJZaSnma"
      },
      "execution_count": null,
      "outputs": []
    }
  ]
}
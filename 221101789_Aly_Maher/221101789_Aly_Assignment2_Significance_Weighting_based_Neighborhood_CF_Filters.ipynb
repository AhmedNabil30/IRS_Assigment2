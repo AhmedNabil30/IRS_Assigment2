{
  "nbformat": 4,
  "nbformat_minor": 0,
  "metadata": {
    "colab": {
      "provenance": []
    },
    "kernelspec": {
      "name": "python3",
      "display_name": "Python 3"
    },
    "language_info": {
      "name": "python"
    }
  },
  "cells": [
    {
      "cell_type": "code",
      "execution_count": 1,
      "metadata": {
        "colab": {
          "base_uri": "https://localhost:8080/"
        },
        "id": "_K88EucDlH7L",
        "outputId": "80f9a816-7e85-4ce1-9446-97c960bb9c25"
      },
      "outputs": [
        {
          "output_type": "stream",
          "name": "stdout",
          "text": [
            "Rating Range: 1 to 5\n"
          ]
        }
      ],
      "source": [
        "import pandas as pd\n",
        "import numpy as np\n",
        "import matplotlib.pyplot as plt\n",
        "\n",
        "df = pd.read_csv('/content/drive/MyDrive/electronics_ratings.csv')\n",
        "\n",
        "print(\"Rating Range:\", df['rating'].min(), \"to\", df['rating'].max())"
      ]
    },
    {
      "cell_type": "code",
      "source": [
        "total_users = df['userId'].nunique()\n",
        "total_items = df['productId'].nunique()\n",
        "print(f\"Total Users: {total_users}, Total Items: {total_items}\")\n",
        "\n",
        "ratings_per_product = df['productId'].value_counts()\n",
        "print(\"Ratings per Product:\\n\", ratings_per_product.head())"
      ],
      "metadata": {
        "colab": {
          "base_uri": "https://localhost:8080/"
        },
        "id": "F6Pdkd4altb2",
        "outputId": "7374fd88-3a45-4129-8fd6-8952a78795ab"
      },
      "execution_count": 2,
      "outputs": [
        {
          "output_type": "stream",
          "name": "stdout",
          "text": [
            "Total Users: 100, Total Items: 50\n",
            "Ratings per Product:\n",
            " productId\n",
            "P040    27\n",
            "P029    27\n",
            "P037    25\n",
            "P034    25\n",
            "P025    23\n",
            "Name: count, dtype: int64\n"
          ]
        }
      ]
    },
    {
      "cell_type": "code",
      "source": [
        "active_users = df['userId'].unique()[:3]\n",
        "U1, U2, U3 = active_users\n",
        "print(f\"Active Users: {U1}, {U2}, {U3}\")"
      ],
      "metadata": {
        "colab": {
          "base_uri": "https://localhost:8080/"
        },
        "id": "1dYMmnTLl339",
        "outputId": "47977bb2-8396-4602-fe31-af4d52e22b07"
      },
      "execution_count": 3,
      "outputs": [
        {
          "output_type": "stream",
          "name": "stdout",
          "text": [
            "Active Users: U003, U074, U016\n"
          ]
        }
      ]
    },
    {
      "cell_type": "code",
      "source": [
        "target_items = df['productId'].unique()[:2]\n",
        "I1, I2 = target_items\n",
        "print(f\"Target Items: {I1}, {I2}\")"
      ],
      "metadata": {
        "colab": {
          "base_uri": "https://localhost:8080/"
        },
        "id": "HM5au5PZmFf2",
        "outputId": "e7262eda-a749-4090-de98-80b02b0ad0f8"
      },
      "execution_count": 4,
      "outputs": [
        {
          "output_type": "stream",
          "name": "stdout",
          "text": [
            "Target Items: P034, P006\n"
          ]
        }
      ]
    },
    {
      "cell_type": "code",
      "source": [
        "def co_ratings(user, df):\n",
        "    user_items = set(df[df['userId'] == user]['productId'])\n",
        "    return df[df['productId'].isin(user_items)]['userId'].nunique(), len(user_items)\n",
        "\n",
        "print(\"Co-ratings:\")\n",
        "print(f\"U1: {co_ratings(U1, df)}, U2: {co_ratings(U2, df)}, U3: {co_ratings(U3, df)}\")"
      ],
      "metadata": {
        "colab": {
          "base_uri": "https://localhost:8080/"
        },
        "id": "4OXS5DFRmPsl",
        "outputId": "3c47c58e-ffff-4d79-b414-b57ff36ba056"
      },
      "execution_count": 5,
      "outputs": [
        {
          "output_type": "stream",
          "name": "stdout",
          "text": [
            "Co-ratings:\n",
            "U1: (88, 10), U2: (80, 9), U3: (85, 11)\n"
          ]
        }
      ]
    },
    {
      "cell_type": "code",
      "source": [
        "common_users_list = []\n",
        "for user in [U1, U2, U3]:\n",
        "    user_items = set(df[df['userId'] == user]['productId'])\n",
        "    for other_user in df['userId'].unique():\n",
        "        if user != other_user:\n",
        "            common_count = len(user_items & set(df[df['userId'] == other_user]['productId']))\n",
        "            common_users_list.append([common_count, other_user])\n",
        "\n",
        "common_users_list = sorted(common_users_list, key=lambda x: x[0], reverse=True)\n",
        "print(\"Top Common Users:\", common_users_list[:5])"
      ],
      "metadata": {
        "colab": {
          "base_uri": "https://localhost:8080/"
        },
        "id": "1tIILj0NmeDG",
        "outputId": "9ba902ce-5cd6-42df-aaa6-f8db976a0ffb"
      },
      "execution_count": 6,
      "outputs": [
        {
          "output_type": "stream",
          "name": "stdout",
          "text": [
            "Top Common Users: [[6, 'U052'], [6, 'U019'], [5, 'U001'], [5, 'U023'], [5, 'U017']]\n"
          ]
        }
      ]
    },
    {
      "cell_type": "code",
      "source": [
        "plt.figure(figsize=(10, 6))\n",
        "plt.plot(ratings_per_product.values, marker='o')\n",
        "plt.title(\"Number of Ratings per Item\")\n",
        "plt.xlabel(\"Items\")\n",
        "plt.ylabel(\"Ratings Count\")\n",
        "plt.grid(True)\n",
        "plt.show()"
      ],
      "metadata": {
        "colab": {
          "base_uri": "https://localhost:8080/",
          "height": 564
        },
        "id": "ERDtI-AdmvBg",
        "outputId": "faf70621-1959-4685-90cf-41f7c06e2a15"
      },
      "execution_count": 7,
      "outputs": [
        {
          "output_type": "display_data",
          "data": {
            "text/plain": [
              "<Figure size 1000x600 with 1 Axes>"
            ],
            "image/png": "[encoded data removed]"
          },
          "metadata": {}
        }
      ]
    },
    {
      "cell_type": "code",
      "source": [
        "def calculate_threshold(user, df, percentage):\n",
        "    user_items = set(df[df['userId'] == user]['productId'])\n",
        "    return sum(1 for other_user in df['userId'].unique()\n",
        "               if user != other_user and\n",
        "               len(user_items & set(df[df['userId'] == other_user]['productId'])) / len(user_items) >= percentage)\n",
        "\n",
        "print(\"Threshold β:\")\n",
        "print(f\"U1: {calculate_threshold(U1, df, 0.3)}, U2: {calculate_threshold(U2, df, 0.3)}, U3: {calculate_threshold(U3, df, 0.3)}\")"
      ],
      "metadata": {
        "colab": {
          "base_uri": "https://localhost:8080/"
        },
        "id": "Iuv1Fio0m03e",
        "outputId": "cd7c702e-b301-46df-d783-b44054d3d247"
      },
      "execution_count": 8,
      "outputs": [
        {
          "output_type": "stream",
          "name": "stdout",
          "text": [
            "Threshold β:\n",
            "U1: 31, U2: 14, U3: 13\n"
          ]
        }
      ]
    },
    {
      "cell_type": "code",
      "source": [
        "from sklearn.metrics.pairwise import cosine_similarity\n",
        "\n",
        "user_item_matrix = df.pivot_table(index='userId', columns='productId', values='rating', fill_value=0)\n",
        "\n",
        "cosine_sim = cosine_similarity(user_item_matrix)\n",
        "cosine_sim_df = pd.DataFrame(cosine_sim, index=user_item_matrix.index, columns=user_item_matrix.index)"
      ],
      "metadata": {
        "id": "2u_UscyNpY4w"
      },
      "execution_count": 9,
      "outputs": []
    },
    {
      "cell_type": "code",
      "source": [
        "def get_top_closest_users(active_user, similarity_matrix, top_percent=0.2):\n",
        "    user_similarities = similarity_matrix[active_user].drop(active_user)\n",
        "    return user_similarities.nlargest(int(len(user_similarities) * top_percent))\n",
        "\n",
        "top_users_U1 = get_top_closest_users(U1, cosine_sim_df)\n",
        "top_users_U2 = get_top_closest_users(U2, cosine_sim_df)\n",
        "top_users_U3 = get_top_closest_users(U3, cosine_sim_df)\n",
        "\n",
        "print(f\"Top Closest Users for U1:\\n{top_users_U1}\")\n",
        "print(f\"Top Closest Users for U2:\\n{top_users_U2}\")\n",
        "print(f\"Top Closest Users for U3:\\n{top_users_U3}\")"
      ],
      "metadata": {
        "colab": {
          "base_uri": "https://localhost:8080/"
        },
        "id": "zONqCu_ppkHV",
        "outputId": "0c41692a-a911-4708-e124-204a4810b683"
      },
      "execution_count": 10,
      "outputs": [
        {
          "output_type": "stream",
          "name": "stdout",
          "text": [
            "Top Closest Users for U1:\n",
            "userId\n",
            "U052    0.576865\n",
            "U016    0.498782\n",
            "U001    0.463790\n",
            "U031    0.441497\n",
            "U039    0.363186\n",
            "U023    0.357599\n",
            "U099    0.353396\n",
            "U065    0.352804\n",
            "U017    0.350016\n",
            "U054    0.348452\n",
            "U011    0.339865\n",
            "U015    0.329795\n",
            "U051    0.324675\n",
            "U086    0.320940\n",
            "U069    0.316492\n",
            "U004    0.310661\n",
            "U071    0.303703\n",
            "U081    0.302058\n",
            "U038    0.293387\n",
            "Name: U003, dtype: float64\n",
            "Top Closest Users for U2:\n",
            "userId\n",
            "U002    0.547695\n",
            "U019    0.391397\n",
            "U064    0.349548\n",
            "U007    0.343100\n",
            "U057    0.330645\n",
            "U059    0.327957\n",
            "U094    0.326732\n",
            "U088    0.319642\n",
            "U025    0.303822\n",
            "U087    0.276139\n",
            "U003    0.270640\n",
            "U098    0.266880\n",
            "U033    0.266149\n",
            "U090    0.261740\n",
            "U022    0.251832\n",
            "U062    0.251753\n",
            "U023    0.248797\n",
            "U047    0.235945\n",
            "U042    0.228387\n",
            "Name: U074, dtype: float64\n",
            "Top Closest Users for U3:\n",
            "userId\n",
            "U031    0.554605\n",
            "U037    0.528932\n",
            "U003    0.498782\n",
            "U051    0.448640\n",
            "U091    0.447774\n",
            "U036    0.428117\n",
            "U067    0.421991\n",
            "U049    0.402920\n",
            "U039    0.397573\n",
            "U061    0.394495\n",
            "U015    0.390199\n",
            "U034    0.376205\n",
            "U090    0.349403\n",
            "U007    0.345670\n",
            "U030    0.334670\n",
            "U089    0.319422\n",
            "U096    0.316202\n",
            "U099    0.311970\n",
            "U001    0.307118\n",
            "Name: U016, dtype: float64\n"
          ]
        }
      ]
    }
  ]
}
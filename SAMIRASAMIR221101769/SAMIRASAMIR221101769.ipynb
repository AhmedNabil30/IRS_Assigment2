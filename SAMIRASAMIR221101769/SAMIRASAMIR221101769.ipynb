{
  "cells": [
    {
      "cell_type": "code",
      "execution_count": 13,
      "metadata": {
        "colab": {
          "base_uri": "https://localhost:8080/",
          "height": 224
        },
        "collapsed": true,
        "id": "xKLFC3EHL6QX",
        "outputId": "be893444-6928-406a-9ab8-4a6bd0719bc1"
      },
      "outputs": [
        {
          "name": "stdout",
          "output_type": "stream",
          "text": [
            "Dataset Preview:\n"
          ]
        },
        {
          "data": {
            "application/vnd.google.colaboratory.intrinsic+json": {
              "summary": "{\n  \"name\": \"df\",\n  \"rows\": 129,\n  \"fields\": [\n    {\n      \"column\": \"review\",\n      \"properties\": {\n        \"dtype\": \"string\",\n        \"num_unique_values\": 107,\n        \"samples\": [\n          \"I was really looking forward to this. I enjoyed the first one and the trails for this sequel looked fun... What happened? It is all over the place. It starts off promisingly enough with an enjoyable set piece with \\\"Eddie\\\" (Tom Hardy) and Michelle Williams (\\\"Anne\\\") - aided by some pithy one-liners from an unseen \\\"Venom\\\" but after we are introduced to \\\"Cletus\\\" (Woody Harrelson) the thing really hits the skids. The entertaining elements from the first film, the humour and - dare I say it, the symbiotic relationship/tolerance of man and amoeba are thrown under the bus for this angry CGI fest. Add to this pretty dry mix the rather pointless character of Harrelson's childhood sweetheart \\\"Frances\\\" (Naomie Harris) alias \\\"the Scream\\\" (remember the symbiotes don't like fire of sound), with her own agenda against copper \\\"Mulligan\\\" (Stephen Graham) and the whole thing just boils down to a very good looking film - but one with a plot that was almost non-existent, and that robbed the formidably sarcastic \\\"Venom\\\" of much of the charm that made the original work. Come to think on it - Hardy hardly features at all. I didn't hate it - it has a pace that passes 90 minutes effortlessly enough, but sorry, I was really disappointed.\",\n          \"The Substance delivers an intense, visually mesmerizing commentary on the entertainment industry's obsession with youth and outward beauty. Demi Moore and Margaret Qualley offer remarkable, maybe even career-best performances, with Dennis Quaid excelling in his role as well. Coralie Fargeat explores how aging stars, particularly women, are discarded when they no longer meet the industry's strict beauty standards. Moore's character, haunted by the memory of her former fame and beauty, goes down a dark path in pursuit of a \\\"better\\\" version of herself. The story is also a sharp critique of power dynamics, with white men controlling who's in front of the spotlight, while women are pitted against one another for validation.\\r\\n\\r\\nThe film's production is equally impressive, especially the makeup and prosthetic work that elevates its body horror elements. While the first half of the movie is more subdued, the gore ramps up significantly as the plot unfolds, culminating in a chaotic \\\"fourth act\\\" that will leave audiences bewildered. The fast-paced editing, paired with an impactful score, heightens the tension and surrealism of the narrative. Though there's a part of me who prefers a version of the film that ends before the wild final act, the overall experience is an unforgettable, audacious exploration of vanity, control, and desperation in the entertainment world.\\r\\n\\r\\nRating: B+\",\n          \"Perhaps this was just one sequel too many as the story here is really rather thin, but there's still enough chemistry between \\\"Eddie\\\" (Tom Hardy) and his eponymous symbion to raise a smile or two. This time it's not just the pursuing human population that's a problem for them, but there are creatures from the homeworld of \\\"Venom\\\" homing in on their unique \\\"codex\\\" so that they can help free their leader from incarceration to wreak havoc on the universe. Along the way, they encounter the hippie \\\"Martin\\\" (Rhys Ifans) and his family and cadge a lift in their VW camper-van whilst offering a fairly tuneless rendition of some David Bowie. It all builds up to a fairly predictable denouement with humanity facing some tough choices, the seemingly indestructible aliens on the verge of success and our intrepid partnership having to consider the ultimate sacrifice. Yep, we've seen it all before and though the visual effects are pretty impressive, that's not really enough to sustain it as it rather procedurally rolls along. There is occasionally some wit in the script and Hardy looks like he's having fun, but Chiwetel Ejiofor is largely under-used and it relies far too heavily on repetitive combat scenes to really make it stand out amidst the surfeit of 2024 comic-book derivatives. It's all watchable enough, but it's not a patch on the first one from 2018.\"\n        ],\n        \"semantic_type\": \"\",\n        \"description\": \"\"\n      }\n    },\n    {\n      \"column\": \"rating\",\n      \"properties\": {\n        \"dtype\": \"number\",\n        \"std\": 0.9618456787481814,\n        \"min\": 4.0,\n        \"max\": 10.0,\n        \"num_unique_values\": 7,\n        \"samples\": [\n          5.0,\n          6.0,\n          8.0\n        ],\n        \"semantic_type\": \"\",\n        \"description\": \"\"\n      }\n    },\n    {\n      \"column\": \"timestamp\",\n      \"properties\": {\n        \"dtype\": \"object\",\n        \"num_unique_values\": 108,\n        \"samples\": [\n          \"2022-03-27T12:33:00.825Z\",\n          \"2024-09-20T12:07:43.615Z\",\n          \"2024-10-31T11:02:06.190Z\"\n        ],\n        \"semantic_type\": \"\",\n        \"description\": \"\"\n      }\n    },\n    {\n      \"column\": \"author\",\n      \"properties\": {\n        \"dtype\": \"category\",\n        \"num_unique_values\": 56,\n        \"samples\": [\n          \"CinemaSerf\",\n          \"Manuel S\\u00e3o Bento\",\n          \"JPV852\"\n        ],\n        \"semantic_type\": \"\",\n        \"description\": \"\"\n      }\n    },\n    {\n      \"column\": \"language\",\n      \"properties\": {\n        \"dtype\": \"category\",\n        \"num_unique_values\": 1,\n        \"samples\": [\n          \"unknown\"\n        ],\n        \"semantic_type\": \"\",\n        \"description\": \"\"\n      }\n    },\n    {\n      \"column\": \"movie_id\",\n      \"properties\": {\n        \"dtype\": \"number\",\n        \"std\": 334726,\n        \"min\": 4682,\n        \"max\": 1196470,\n        \"num_unique_values\": 40,\n        \"samples\": [\n          179387\n        ],\n        \"semantic_type\": \"\",\n        \"description\": \"\"\n      }\n    },\n    {\n      \"column\": \"title\",\n      \"properties\": {\n        \"dtype\": \"category\",\n        \"num_unique_values\": 40,\n        \"samples\": [\n          \"Heavenly Touch\"\n        ],\n        \"semantic_type\": \"\",\n        \"description\": \"\"\n      }\n    },\n    {\n      \"column\": \"media_type\",\n      \"properties\": {\n        \"dtype\": \"category\",\n        \"num_unique_values\": 2,\n        \"samples\": [\n          \"tv\"\n        ],\n        \"semantic_type\": \"\",\n        \"description\": \"\"\n      }\n    }\n  ]\n}",
              "type": "dataframe",
              "variable_name": "df"
            },
            "text/html": [
              "\n",
              "  <div id=\"df-0d14a647-41ba-4284-bd82-eae043b9cc9c\" class=\"colab-df-container\">\n",
              "    <div>\n",
              "<style scoped>\n",
              "    .dataframe tbody tr th:only-of-type {\n",
              "        vertical-align: middle;\n",
              "    }\n",
              "\n",
              "    .dataframe tbody tr th {\n",
              "        vertical-align: top;\n",
              "    }\n",
              "\n",
              "    .dataframe thead th {\n",
              "        text-align: right;\n",
              "    }\n",
              "</style>\n",
              "<table border=\"1\" class=\"dataframe\">\n",
              "  <thead>\n",
              "    <tr style=\"text-align: right;\">\n",
              "      <th></th>\n",
              "      <th>review</th>\n",
              "      <th>rating</th>\n",
              "      <th>timestamp</th>\n",
              "      <th>author</th>\n",
              "      <th>language</th>\n",
              "      <th>movie_id</th>\n",
              "      <th>title</th>\n",
              "      <th>media_type</th>\n",
              "    </tr>\n",
              "  </thead>\n",
              "  <tbody>\n",
              "    <tr>\n",
              "      <th>0</th>\n",
              "      <td>This maybe hit the cinemas a month too early a...</td>\n",
              "      <td>5.0</td>\n",
              "      <td>2024-10-14T05:01:31.886Z</td>\n",
              "      <td>CinemaSerf</td>\n",
              "      <td>unknown</td>\n",
              "      <td>1034541</td>\n",
              "      <td>Terrifier 3</td>\n",
              "      <td>movie</td>\n",
              "    </tr>\n",
              "    <tr>\n",
              "      <th>1</th>\n",
              "      <td>Just as violent, just not as entertaining.\\r\\n...</td>\n",
              "      <td>6.0</td>\n",
              "      <td>2024-10-25T09:27:10.151Z</td>\n",
              "      <td>r96sk</td>\n",
              "      <td>unknown</td>\n",
              "      <td>1034541</td>\n",
              "      <td>Terrifier 3</td>\n",
              "      <td>movie</td>\n",
              "    </tr>\n",
              "    <tr>\n",
              "      <th>2</th>\n",
              "      <td>A solid enough send off for this &lt;em&gt;'Venom'&lt;/...</td>\n",
              "      <td>6.0</td>\n",
              "      <td>2024-10-25T18:25:18.286Z</td>\n",
              "      <td>r96sk</td>\n",
              "      <td>unknown</td>\n",
              "      <td>912649</td>\n",
              "      <td>Venom: The Last Dance</td>\n",
              "      <td>movie</td>\n",
              "    </tr>\n",
              "    <tr>\n",
              "      <th>3</th>\n",
              "      <td>The other two at the very least were enjoyable...</td>\n",
              "      <td>4.0</td>\n",
              "      <td>2024-10-27T14:01:38.601Z</td>\n",
              "      <td>Mangoturtle</td>\n",
              "      <td>unknown</td>\n",
              "      <td>912649</td>\n",
              "      <td>Venom: The Last Dance</td>\n",
              "      <td>movie</td>\n",
              "    </tr>\n",
              "    <tr>\n",
              "      <th>4</th>\n",
              "      <td>Perhaps this was just one sequel too many as t...</td>\n",
              "      <td>6.0</td>\n",
              "      <td>2024-10-31T11:02:06.190Z</td>\n",
              "      <td>CinemaSerf</td>\n",
              "      <td>unknown</td>\n",
              "      <td>912649</td>\n",
              "      <td>Venom: The Last Dance</td>\n",
              "      <td>movie</td>\n",
              "    </tr>\n",
              "  </tbody>\n",
              "</table>\n",
              "</div>\n",
              "    <div class=\"colab-df-buttons\">\n",
              "\n",
              "  <div class=\"colab-df-container\">\n",
              "    <button class=\"colab-df-convert\" onclick=\"convertToInteractive('df-0d14a647-41ba-4284-bd82-eae043b9cc9c')\"\n",
              "            title=\"Convert this dataframe to an interactive table.\"\n",
              "            style=\"display:none;\">\n",
              "\n",
              "  <svg xmlns=\"http://www.w3.org/2000/svg\" height=\"24px\" viewBox=\"0 -960 960 960\">\n",
              "    <path d=\"M120-120v-720h720v720H120Zm60-500h600v-160H180v160Zm220 220h160v-160H400v160Zm0 220h160v-160H400v160ZM180-400h160v-160H180v160Zm440 0h160v-160H620v160ZM180-180h160v-160H180v160Zm440 0h160v-160H620v160Z\"/>\n",
              "  </svg>\n",
              "    </button>\n",
              "\n",
              "  <style>\n",
              "    .colab-df-container {\n",
              "      display:flex;\n",
              "      gap: 12px;\n",
              "    }\n",
              "\n",
              "    .colab-df-convert {\n",
              "      background-color: #E8F0FE;\n",
              "      border: none;\n",
              "      border-radius: 50%;\n",
              "      cursor: pointer;\n",
              "      display: none;\n",
              "      fill: #1967D2;\n",
              "      height: 32px;\n",
              "      padding: 0 0 0 0;\n",
              "      width: 32px;\n",
              "    }\n",
              "\n",
              "    .colab-df-convert:hover {\n",
              "      background-color: #E2EBFA;\n",
              "      box-shadow: 0px 1px 2px rgba(60, 64, 67, 0.3), 0px 1px 3px 1px rgba(60, 64, 67, 0.15);\n",
              "      fill: #174EA6;\n",
              "    }\n",
              "\n",
              "    .colab-df-buttons div {\n",
              "      margin-bottom: 4px;\n",
              "    }\n",
              "\n",
              "    [theme=dark] .colab-df-convert {\n",
              "      background-color: #3B4455;\n",
              "      fill: #D2E3FC;\n",
              "    }\n",
              "\n",
              "    [theme=dark] .colab-df-convert:hover {\n",
              "      background-color: #434B5C;\n",
              "      box-shadow: 0px 1px 3px 1px rgba(0, 0, 0, 0.15);\n",
              "      filter: drop-shadow(0px 1px 2px rgba(0, 0, 0, 0.3));\n",
              "      fill: #FFFFFF;\n",
              "    }\n",
              "  </style>\n",
              "\n",
              "    <script>\n",
              "      const buttonEl =\n",
              "        document.querySelector('#df-0d14a647-41ba-4284-bd82-eae043b9cc9c button.colab-df-convert');\n",
              "      buttonEl.style.display =\n",
              "        google.colab.kernel.accessAllowed ? 'block' : 'none';\n",
              "\n",
              "      async function convertToInteractive(key) {\n",
              "        const element = document.querySelector('#df-0d14a647-41ba-4284-bd82-eae043b9cc9c');\n",
              "        const dataTable =\n",
              "          await google.colab.kernel.invokeFunction('convertToInteractive',\n",
              "                                                    [key], {});\n",
              "        if (!dataTable) return;\n",
              "\n",
              "        const docLinkHtml = 'Like what you see? Visit the ' +\n",
              "          '<a target=\"_blank\" href=https://colab.research.google.com/notebooks/data_table.ipynb>data table notebook</a>'\n",
              "          + ' to learn more about interactive tables.';\n",
              "        element.innerHTML = '';\n",
              "        dataTable['output_type'] = 'display_data';\n",
              "        await google.colab.output.renderOutput(dataTable, element);\n",
              "        const docLink = document.createElement('div');\n",
              "        docLink.innerHTML = docLinkHtml;\n",
              "        element.appendChild(docLink);\n",
              "      }\n",
              "    </script>\n",
              "  </div>\n",
              "\n",
              "\n",
              "<div id=\"df-863cc885-4ab6-4418-be6f-ff52cb6c4730\">\n",
              "  <button class=\"colab-df-quickchart\" onclick=\"quickchart('df-863cc885-4ab6-4418-be6f-ff52cb6c4730')\"\n",
              "            title=\"Suggest charts\"\n",
              "            style=\"display:none;\">\n",
              "\n",
              "<svg xmlns=\"http://www.w3.org/2000/svg\" height=\"24px\"viewBox=\"0 0 24 24\"\n",
              "     width=\"24px\">\n",
              "    <g>\n",
              "        <path d=\"M19 3H5c-1.1 0-2 .9-2 2v14c0 1.1.9 2 2 2h14c1.1 0 2-.9 2-2V5c0-1.1-.9-2-2-2zM9 17H7v-7h2v7zm4 0h-2V7h2v10zm4 0h-2v-4h2v4z\"/>\n",
              "    </g>\n",
              "</svg>\n",
              "  </button>\n",
              "\n",
              "<style>\n",
              "  .colab-df-quickchart {\n",
              "      --bg-color: #E8F0FE;\n",
              "      --fill-color: #1967D2;\n",
              "      --hover-bg-color: #E2EBFA;\n",
              "      --hover-fill-color: #174EA6;\n",
              "      --disabled-fill-color: #AAA;\n",
              "      --disabled-bg-color: #DDD;\n",
              "  }\n",
              "\n",
              "  [theme=dark] .colab-df-quickchart {\n",
              "      --bg-color: #3B4455;\n",
              "      --fill-color: #D2E3FC;\n",
              "      --hover-bg-color: #434B5C;\n",
              "      --hover-fill-color: #FFFFFF;\n",
              "      --disabled-bg-color: #3B4455;\n",
              "      --disabled-fill-color: #666;\n",
              "  }\n",
              "\n",
              "  .colab-df-quickchart {\n",
              "    background-color: var(--bg-color);\n",
              "    border: none;\n",
              "    border-radius: 50%;\n",
              "    cursor: pointer;\n",
              "    display: none;\n",
              "    fill: var(--fill-color);\n",
              "    height: 32px;\n",
              "    padding: 0;\n",
              "    width: 32px;\n",
              "  }\n",
              "\n",
              "  .colab-df-quickchart:hover {\n",
              "    background-color: var(--hover-bg-color);\n",
              "    box-shadow: 0 1px 2px rgba(60, 64, 67, 0.3), 0 1px 3px 1px rgba(60, 64, 67, 0.15);\n",
              "    fill: var(--button-hover-fill-color);\n",
              "  }\n",
              "\n",
              "  .colab-df-quickchart-complete:disabled,\n",
              "  .colab-df-quickchart-complete:disabled:hover {\n",
              "    background-color: var(--disabled-bg-color);\n",
              "    fill: var(--disabled-fill-color);\n",
              "    box-shadow: none;\n",
              "  }\n",
              "\n",
              "  .colab-df-spinner {\n",
              "    border: 2px solid var(--fill-color);\n",
              "    border-color: transparent;\n",
              "    border-bottom-color: var(--fill-color);\n",
              "    animation:\n",
              "      spin 1s steps(1) infinite;\n",
              "  }\n",
              "\n",
              "  @keyframes spin {\n",
              "    0% {\n",
              "      border-color: transparent;\n",
              "      border-bottom-color: var(--fill-color);\n",
              "      border-left-color: var(--fill-color);\n",
              "    }\n",
              "    20% {\n",
              "      border-color: transparent;\n",
              "      border-left-color: var(--fill-color);\n",
              "      border-top-color: var(--fill-color);\n",
              "    }\n",
              "    30% {\n",
              "      border-color: transparent;\n",
              "      border-left-color: var(--fill-color);\n",
              "      border-top-color: var(--fill-color);\n",
              "      border-right-color: var(--fill-color);\n",
              "    }\n",
              "    40% {\n",
              "      border-color: transparent;\n",
              "      border-right-color: var(--fill-color);\n",
              "      border-top-color: var(--fill-color);\n",
              "    }\n",
              "    60% {\n",
              "      border-color: transparent;\n",
              "      border-right-color: var(--fill-color);\n",
              "    }\n",
              "    80% {\n",
              "      border-color: transparent;\n",
              "      border-right-color: var(--fill-color);\n",
              "      border-bottom-color: var(--fill-color);\n",
              "    }\n",
              "    90% {\n",
              "      border-color: transparent;\n",
              "      border-bottom-color: var(--fill-color);\n",
              "    }\n",
              "  }\n",
              "</style>\n",
              "\n",
              "  <script>\n",
              "    async function quickchart(key) {\n",
              "      const quickchartButtonEl =\n",
              "        document.querySelector('#' + key + ' button');\n",
              "      quickchartButtonEl.disabled = true;  // To prevent multiple clicks.\n",
              "      quickchartButtonEl.classList.add('colab-df-spinner');\n",
              "      try {\n",
              "        const charts = await google.colab.kernel.invokeFunction(\n",
              "            'suggestCharts', [key], {});\n",
              "      } catch (error) {\n",
              "        console.error('Error during call to suggestCharts:', error);\n",
              "      }\n",
              "      quickchartButtonEl.classList.remove('colab-df-spinner');\n",
              "      quickchartButtonEl.classList.add('colab-df-quickchart-complete');\n",
              "    }\n",
              "    (() => {\n",
              "      let quickchartButtonEl =\n",
              "        document.querySelector('#df-863cc885-4ab6-4418-be6f-ff52cb6c4730 button');\n",
              "      quickchartButtonEl.style.display =\n",
              "        google.colab.kernel.accessAllowed ? 'block' : 'none';\n",
              "    })();\n",
              "  </script>\n",
              "</div>\n",
              "\n",
              "    </div>\n",
              "  </div>\n"
            ],
            "text/plain": [
              "                                              review  rating  \\\n",
              "0  This maybe hit the cinemas a month too early a...     5.0   \n",
              "1  Just as violent, just not as entertaining.\\r\\n...     6.0   \n",
              "2  A solid enough send off for this <em>'Venom'</...     6.0   \n",
              "3  The other two at the very least were enjoyable...     4.0   \n",
              "4  Perhaps this was just one sequel too many as t...     6.0   \n",
              "\n",
              "                  timestamp       author language  movie_id  \\\n",
              "0  2024-10-14T05:01:31.886Z   CinemaSerf  unknown   1034541   \n",
              "1  2024-10-25T09:27:10.151Z        r96sk  unknown   1034541   \n",
              "2  2024-10-25T18:25:18.286Z        r96sk  unknown    912649   \n",
              "3  2024-10-27T14:01:38.601Z  Mangoturtle  unknown    912649   \n",
              "4  2024-10-31T11:02:06.190Z   CinemaSerf  unknown    912649   \n",
              "\n",
              "                   title media_type  \n",
              "0            Terrifier 3      movie  \n",
              "1            Terrifier 3      movie  \n",
              "2  Venom: The Last Dance      movie  \n",
              "3  Venom: The Last Dance      movie  \n",
              "4  Venom: The Last Dance      movie  "
            ]
          },
          "execution_count": 13,
          "metadata": {},
          "output_type": "execute_result"
        }
      ],
      "source": [
        "\n",
        "import pandas as pd\n",
        "\n",
        "\n",
        "file_path = \"/content/221101769_samira.csv\"\n",
        "df = pd.read_csv(file_path)\n",
        "\n",
        "\n",
        "print(\"Dataset Preview:\")\n",
        "df.head()\n"
      ]
    },
    {
      "cell_type": "code",
      "execution_count": 14,
      "metadata": {
        "colab": {
          "base_uri": "https://localhost:8080/"
        },
        "id": "3k4xwQlLMLa3",
        "outputId": "f96e48ed-e247-4cbe-e915-8141d7598078"
      },
      "outputs": [
        {
          "name": "stdout",
          "output_type": "stream",
          "text": [
            "Column Names in the Dataset:\n",
            "Index(['review', 'rating', 'timestamp', 'author', 'language', 'movie_id',\n",
            "       'title', 'media_type'],\n",
            "      dtype='object')\n"
          ]
        }
      ],
      "source": [
        "\n",
        "print(\"Column Names in the Dataset:\")\n",
        "print(df.columns)\n"
      ]
    },
    {
      "cell_type": "code",
      "execution_count": 15,
      "metadata": {
        "colab": {
          "base_uri": "https://localhost:8080/"
        },
        "id": "3nLYKwR1L9Pi",
        "outputId": "510a59d4-c1de-47ff-f4be-dbf65e5fc0ed"
      },
      "outputs": [
        {
          "name": "stdout",
          "output_type": "stream",
          "text": [
            "Original Ratings and Final Adjusted Ratings:\n",
            "   rating  adjusted_rating\n",
            "0     5.0                3\n",
            "1     6.0                3\n",
            "2     6.0                3\n",
            "3     4.0                2\n",
            "4     6.0                3\n"
          ]
        },
        {
          "name": "stderr",
          "output_type": "stream",
          "text": [
            "<ipython-input-15-26b464869275>:3: SettingWithCopyWarning: \n",
            "A value is trying to be set on a copy of a slice from a DataFrame.\n",
            "Try using .loc[row_indexer,col_indexer] = value instead\n",
            "\n",
            "See the caveats in the documentation: https://pandas.pydata.org/pandas-docs/stable/user_guide/indexing.html#returning-a-view-versus-a-copy\n",
            "  df['rating'] = df['rating'].astype(float)\n",
            "<ipython-input-15-26b464869275>:13: SettingWithCopyWarning: \n",
            "A value is trying to be set on a copy of a slice from a DataFrame.\n",
            "Try using .loc[row_indexer,col_indexer] = value instead\n",
            "\n",
            "See the caveats in the documentation: https://pandas.pydata.org/pandas-docs/stable/user_guide/indexing.html#returning-a-view-versus-a-copy\n",
            "  df['adjusted_rating'] = pd.cut(\n"
          ]
        }
      ],
      "source": [
        "\n",
        "df = df.dropna(subset=['rating'])\n",
        "df['rating'] = df['rating'].astype(float)\n",
        "\n",
        "fixed_min_rating = 0  \n",
        "fixed_max_rating = 10  \n",
        "\n",
        "normalized_ratings = ((df['rating'] - fixed_min_rating) / (fixed_max_rating - fixed_min_rating)).clip(0, 1)\n",
        "\n",
        "\n",
        "df['adjusted_rating'] = pd.cut(\n",
        "    normalized_ratings,\n",
        "    bins=[0, 0.2, 0.4, 0.6, 0.8, 1.0],  \n",
        "    labels=[1, 2, 3, 4, 5],             \n",
        "    include_lowest=True               \n",
        ").astype(int)\n",
        "\n",
        "\n",
        "print(\"Original Ratings and Final Adjusted Ratings:\")\n",
        "print(df[['rating', 'adjusted_rating']].head())\n",
        "\n",
        "\n",
        "df.to_csv(\"adjusted_dataset_fixed_range.csv\", index=False)\n"
      ]
    },
    {
      "cell_type": "code",
      "execution_count": 16,
      "metadata": {
        "colab": {
          "base_uri": "https://localhost:8080/"
        },
        "id": "CikIEUiUMgRA",
        "outputId": "ad0a01c1-af12-4cfc-f95f-bf518023c820"
      },
      "outputs": [
        {
          "name": "stdout",
          "output_type": "stream",
          "text": [
            "Total Number of Users (tnu): 56\n",
            "Total Number of Items (tni): 19\n",
            "Ratings per Item (Top 5):\n",
            "movie_id\n",
            "124364     4\n",
            "153312     1\n",
            "335983    11\n",
            "354912     5\n",
            "420634     5\n",
            "Name: adjusted_rating, dtype: int64\n"
          ]
        }
      ],
      "source": [
        "\n",
        "tnu = df['author'].nunique()  \n",
        "tni = df['movie_id'].nunique()  \n",
        "ratings_per_item = df.groupby('movie_id')['adjusted_rating'].count()\n",
        "\n",
        "print(f\"Total Number of Users (tnu): {tnu}\")\n",
        "print(f\"Total Number of Items (tni): {tni}\")\n",
        "print(\"Ratings per Item (Top 5):\")\n",
        "print(ratings_per_item.head())\n"
      ]
    },
    {
      "cell_type": "code",
      "execution_count": 17,
      "metadata": {
        "colab": {
          "base_uri": "https://localhost:8080/"
        },
        "id": "xtE9M2CDRvlY",
        "outputId": "56167968-f9e3-4ebd-d382-624e234f0c84"
      },
      "outputs": [
        {
          "name": "stdout",
          "output_type": "stream",
          "text": [
            "Selected Active Users:\n",
            "{'2_missing': 'Ahmad', '3_missing': 'Alex', '5_missing': 'BiankaMalburg'}\n"
          ]
        }
      ],
      "source": [
        "\n",
        "user_ratings_count = df.groupby('author')['movie_id'].count()\n",
        "\n",
        "\n",
        "active_users = {}\n",
        "remaining_users = user_ratings_count.copy()\n",
        "\n",
        "\n",
        "active_users[\"2_missing\"] = remaining_users[remaining_users < tni - 2].index[0]\n",
        "remaining_users = remaining_users.drop(active_users[\"2_missing\"])\n",
        "\n",
        "active_users[\"3_missing\"] = remaining_users[remaining_users < tni - 3].index[0]\n",
        "remaining_users = remaining_users.drop(active_users[\"3_missing\"])\n",
        "\n",
        "\n",
        "active_users[\"5_missing\"] = remaining_users[remaining_users < tni - 5].index[0]\n",
        "\n",
        "print(\"Selected Active Users:\")\n",
        "print(active_users)\n"
      ]
    },
    {
      "cell_type": "code",
      "execution_count": 18,
      "metadata": {
        "colab": {
          "base_uri": "https://localhost:8080/"
        },
        "id": "eDJhFfwNfkqV",
        "outputId": "3ff6b9b0-c13a-4129-bf7b-38082ed1f0be"
      },
      "outputs": [
        {
          "name": "stdout",
          "output_type": "stream",
          "text": [
            "Selected Target Items:\n",
            "Index([124364, 354912], dtype='int64', name='movie_id')\n"
          ]
        }
      ],
      "source": [
        "\n",
        "item_ratings_count = df.groupby('movie_id')['author'].count()\n",
        "\n",
        "\n",
        "threshold_4 = 0.04 * tnu  \n",
        "threshold_10 = 0.10 * tnu  \n",
        "\n",
        "\n",
        "target_items = item_ratings_count[\n",
        "    (item_ratings_count < threshold_10) & (item_ratings_count > threshold_4)\n",
        "].head(2).index\n",
        "\n",
        "print(\"Selected Target Items:\")\n",
        "print(target_items)\n"
      ]
    },
    {
      "cell_type": "code",
      "execution_count": 19,
      "metadata": {
        "colab": {
          "base_uri": "https://localhost:8080/"
        },
        "id": "6W2m5M_A5CLU",
        "outputId": "6d3a1301-8b40-4fc5-ea7e-12ea38e11e30"
      },
      "outputs": [
        {
          "name": "stdout",
          "output_type": "stream",
          "text": [
            "Active Users with Sufficient Ratings:\n",
            "Index(['CinemaSerf', 'Manuel São Bento', 'r96sk'], dtype='object', name='author')\n"
          ]
        }
      ],
      "source": [
        "\n",
        "min_ratings_threshold = 5\n",
        "\n",
        "user_ratings_count = df.groupby('author')['movie_id'].count()\n",
        "active_users = user_ratings_count[user_ratings_count >= min_ratings_threshold].head(3).index\n",
        "\n",
        "print(\"Active Users with Sufficient Ratings:\")\n",
        "print(active_users)\n"
      ]
    },
    {
      "cell_type": "code",
      "execution_count": 20,
      "metadata": {
        "colab": {
          "base_uri": "https://localhost:8080/"
        },
        "id": "bJrf_2Xc5FSM",
        "outputId": "452dd639-96a0-4328-dbbc-4047c53372af"
      },
      "outputs": [
        {
          "name": "stdout",
          "output_type": "stream",
          "text": [
            "User CinemaSerf has rated 15 items.\n",
            "User Manuel São Bento has rated 6 items.\n",
            "User r96sk has rated 11 items.\n"
          ]
        }
      ],
      "source": [
        "for user in active_users:\n",
        "    user_ratings_count = df[df['author'] == user]['movie_id'].count()\n",
        "    print(f\"User {user} has rated {user_ratings_count} items.\")\n"
      ]
    },
    {
      "cell_type": "code",
      "execution_count": 21,
      "metadata": {
        "colab": {
          "base_uri": "https://localhost:8080/"
        },
        "id": "2BK9zpD0fqfY",
        "outputId": "e3e5aefd-837d-4392-dd79-52523d630e40"
      },
      "outputs": [
        {
          "name": "stdout",
          "output_type": "stream",
          "text": [
            "Updated Co-Rated Statistics:\n",
            "        Active_User  Target_Item  No_common_users  No_coRated_items\n",
            "1        CinemaSerf       354912                5                15\n",
            "5             r96sk       354912                5                11\n",
            "3  Manuel São Bento       354912                5                 6\n",
            "0        CinemaSerf       124364                4                15\n",
            "4             r96sk       124364                4                11\n",
            "2  Manuel São Bento       124364                4                 6\n"
          ]
        }
      ],
      "source": [
        "co_rated_data = []\n",
        "\n",
        "for user in active_users:\n",
        "    user_ratings = df[df['author'] == user]\n",
        "\n",
        "    for item in target_items:\n",
        "        co_rated_users = df[df['movie_id'] == item]['author']\n",
        "        no_common_users = len(set(co_rated_users))\n",
        "        no_coRated_items = len(user_ratings)\n",
        "\n",
        "        co_rated_data.append([user, item, no_common_users, no_coRated_items])\n",
        "\n",
        "co_rated_df = pd.DataFrame(\n",
        "    co_rated_data,\n",
        "    columns=[\"Active_User\", \"Target_Item\", \"No_common_users\", \"No_coRated_items\"]\n",
        ")\n",
        "\n",
        "sorted_co_rated_df = co_rated_df.sort_values(\n",
        "    by=[\"No_common_users\", \"No_coRated_items\"],\n",
        "    ascending=False\n",
        ")\n",
        "\n",
        "print(\"Updated Co-Rated Statistics:\")\n",
        "print(sorted_co_rated_df)\n"
      ]
    },
    {
      "cell_type": "code",
      "execution_count": 24,
      "metadata": {
        "id": "EM9qE4h7zBO5"
      },
      "outputs": [],
      "source": [
        "\n",
        "user_item_matrix = df.pivot_table(index='author', columns='movie_id', values='adjusted_rating').fillna(0)\n"
      ]
    },
    {
      "cell_type": "code",
      "execution_count": 26,
      "metadata": {
        "colab": {
          "base_uri": "https://localhost:8080/"
        },
        "id": "3RSFJlkX6j4m",
        "outputId": "e32ccb88-5c2f-45a6-84de-c29033c393f9"
      },
      "outputs": [
        {
          "name": "stdout",
          "output_type": "stream",
          "text": [
            "User-Item Matrix successfully converted to DataFrame.\n"
          ]
        }
      ],
      "source": [
        "import pandas as pd\n",
        "import numpy as np  \n",
        "\n",
        "\n",
        "user_item_matrix = df.pivot_table(index='author', columns='movie_id', values='adjusted_rating').fillna(0)\n",
        "\n",
        "if isinstance(user_item_matrix, np.ndarray):\n",
        "    user_item_matrix = pd.DataFrame(user_item_matrix)\n",
        "\n",
        "print(\"User-Item Matrix successfully converted to DataFrame.\")\n"
      ]
    },
    {
      "cell_type": "code",
      "execution_count": 27,
      "metadata": {
        "colab": {
          "base_uri": "https://localhost:8080/"
        },
        "id": "TtPH2f4-3PcE",
        "outputId": "2d297989-e8af-44a0-e52f-421145565a97"
      },
      "outputs": [
        {
          "name": "stdout",
          "output_type": "stream",
          "text": [
            "Maximum Users Co-Rating at Least 30% of Items:\n",
            "        Active_User  Max_CoRated_Users\n",
            "0        CinemaSerf                  3\n",
            "1  Manuel São Bento                  3\n",
            "2             r96sk                  3\n"
          ]
        }
      ],
      "source": [
        "import numpy as np\n",
        "import pandas as pd\n",
        "\n",
        "threshold_30_percent = 0.3 * tni\n",
        "co_rated_users_count = []\n",
        "\n",
        "\n",
        "valid_active_users = [user for user in active_users if user in user_item_matrix.index]\n",
        "\n",
        "\n",
        "\n",
        "for user in valid_active_users:\n",
        "    \n",
        "    co_rated_count = (user_item_matrix > 0).sum(axis=1) \n",
        "    max_users = np.sum(co_rated_count >= threshold_30_percent)  \n",
        "    co_rated_users_count.append([user, max_users])\n",
        "\n",
        "co_rated_users_df = pd.DataFrame(co_rated_users_count, columns=[\"Active_User\", \"Max_CoRated_Users\"])\n",
        "\n",
        "print(\"Maximum Users Co-Rating at Least 30% of Items:\")\n",
        "print(co_rated_users_df)\n"
      ]
    },
    {
      "cell_type": "code",
      "execution_count": 28,
      "metadata": {
        "colab": {
          "base_uri": "https://localhost:8080/",
          "height": 472
        },
        "id": "xsvvhGzdm1_b",
        "outputId": "eb955ca2-7692-458d-93c3-6f52bbf2ed67"
      },
      "outputs": [
        {
          "data": {
            "image/png": "[encoded data removed]",
            "text/plain": [
              "<Figure size 640x480 with 1 Axes>"
            ]
          },
          "metadata": {},
          "output_type": "display_data"
        }
      ],
      "source": [
        "import matplotlib.pyplot as plt\n",
        "\n",
        "\n",
        "ratings_per_item_sorted = ratings_per_item.sort_values(ascending=False)\n",
        "plt.plot(ratings_per_item_sorted.values)\n",
        "plt.title(\"Number of Ratings per Item\")\n",
        "plt.xlabel(\"Items\")\n",
        "plt.ylabel(\"Number of Ratings\")\n",
        "plt.show()\n"
      ]
    },
    {
      "cell_type": "markdown",
      "metadata": {
        "id": "71MNNw6BCsEr"
      },
      "source": [
        "# Case Study 1.1: Cosine Similarity Without Mean-Centering"
      ]
    },
    {
      "cell_type": "markdown",
      "metadata": {
        "id": "cfHAtV28KSvj"
      },
      "source": [
        "# 1.1.1: Compute Cosine Similarity"
      ]
    },
    {
      "cell_type": "code",
      "execution_count": 31,
      "metadata": {
        "colab": {
          "base_uri": "https://localhost:8080/"
        },
        "id": "mRJrPRLtCyCn",
        "outputId": "94d3f2d2-d23d-48aa-ca66-f2147187719e"
      },
      "outputs": [
        {
          "name": "stdout",
          "output_type": "stream",
          "text": [
            "Cosine Similarity Matrix (No Mean-Centering):\n",
            "author          Ahmad  Alex  BiankaMalburg  Brent Marchant  Cal  \\\n",
            "author                                                            \n",
            "Ahmad             0.0   1.0            0.0             0.0  0.0   \n",
            "Alex              1.0   0.0            0.0             0.0  0.0   \n",
            "BiankaMalburg     0.0   0.0            0.0             0.5  0.0   \n",
            "Brent Marchant    0.0   0.0            0.5             0.0  0.0   \n",
            "Cal               0.0   0.0            0.0             0.0  0.0   \n",
            "\n",
            "author          Carlos G Diaz  Chandler Danier  Chris Sawin  CinemaSerf  \\\n",
            "author                                                                    \n",
            "Ahmad                     0.0              0.0     0.000000    0.000000   \n",
            "Alex                      0.0              0.0     0.000000    0.000000   \n",
            "BiankaMalburg             0.0              0.0     0.000000    0.258199   \n",
            "Brent Marchant            0.0              0.0     0.282843    0.516398   \n",
            "Cal                       0.0              0.0     0.424264    0.258199   \n",
            "\n",
            "author          DallasBob  ...  immortal101  javajohnny  lancethedealer  \\\n",
            "author                     ...                                            \n",
            "Ahmad                 0.0  ...          0.0         0.0             0.0   \n",
            "Alex                  0.0  ...          0.0         0.0             0.0   \n",
            "BiankaMalburg         0.0  ...          0.0         0.0             0.0   \n",
            "Brent Marchant        0.0  ...          0.5         0.0             0.0   \n",
            "Cal                   1.0  ...          0.0         0.0             0.0   \n",
            "\n",
            "author          minion196  moviepoptime  priya_     r96sk  rvsxwgn64  \\\n",
            "author                                                                 \n",
            "Ahmad                 0.0           0.0     0.0  0.000000        0.0   \n",
            "Alex                  0.0           0.0     0.0  0.000000        0.0   \n",
            "BiankaMalburg         0.0           0.0     0.0  0.000000        0.0   \n",
            "Brent Marchant        0.0           0.0     0.0  0.490290        0.5   \n",
            "Cal                   0.0           0.0     0.0  0.294174        0.0   \n",
            "\n",
            "author          shammahrashad  tmdb51616167  \n",
            "author                                       \n",
            "Ahmad                     0.0           0.0  \n",
            "Alex                      0.0           0.0  \n",
            "BiankaMalburg             0.0           0.0  \n",
            "Brent Marchant            0.5           0.5  \n",
            "Cal                       0.0           0.0  \n",
            "\n",
            "[5 rows x 56 columns]\n"
          ]
        }
      ],
      "source": [
        "\n",
        "from sklearn.metrics.pairwise import cosine_similarity\n",
        "import pandas as pd\n",
        "import numpy as np\n",
        "\n",
        "\n",
        "cosine_sim_matrix = cosine_similarity(user_item_matrix)\n",
        "np.fill_diagonal(cosine_sim_matrix, 0)  \n",
        "\n",
        "\n",
        "cosine_sim_df = pd.DataFrame(cosine_sim_matrix, index=user_item_matrix.index, columns=user_item_matrix.index)\n",
        "\n",
        "\n",
        "print(\"Cosine Similarity Matrix (No Mean-Centering):\")\n",
        "print(cosine_sim_df.head())\n"
      ]
    },
    {
      "cell_type": "markdown",
      "metadata": {
        "id": "GuHZHIhEKU6U"
      },
      "source": [
        "# 1.1.2: Top 20% Closest Users"
      ]
    },
    {
      "cell_type": "code",
      "execution_count": 32,
      "metadata": {
        "colab": {
          "base_uri": "https://localhost:8080/"
        },
        "id": "62DCgmQ2Drjp",
        "outputId": "64d23aec-8dea-46f5-a433-07e68c98d47f"
      },
      "outputs": [
        {
          "name": "stdout",
          "output_type": "stream",
          "text": [
            "Top 20% Closest Users Without Mean-Centering:\n",
            "User Ahmad: Closest Neighbors ['Alex', 'SenkaM', 'StudiedAsleep', 'Ahmad', 'BiankaMalburg', 'Brent Marchant', 'Cal', 'Carlos G Diaz', 'Chandler Danier', 'Chris Sawin', 'CinemaSerf']\n",
            "User Alex: Closest Neighbors ['Ahmad', 'SenkaM', 'StudiedAsleep', 'Alex', 'BiankaMalburg', 'Brent Marchant', 'Cal', 'Carlos G Diaz', 'Chandler Danier', 'Chris Sawin', 'CinemaSerf']\n",
            "User BiankaMalburg: Closest Neighbors ['good.film', 'Brent Marchant', 'Manuel São Bento', 'CinemaSerf', 'Ahmad', 'Alex', 'BiankaMalburg', 'Cal', 'Carlos G Diaz', 'Chandler Danier', 'Chris Sawin']\n",
            "User Brent Marchant: Closest Neighbors ['aGoryLouie', 'good.film', 'Manuel São Bento', 'CinemaSerf', 'BiankaMalburg', 'DonGable', 'Pringo', 'Sean', 'YearOneFun', 'albuainain', 'biancarockr']\n",
            "User Cal: Closest Neighbors ['DallasBob', 'Henry', \"RADIO1'S MR. MOVIE!-MAD AMI 🌠\", 'garethmb', 'JPV852', 'Martha', 'Chris Sawin', 'r96sk', 'CinemaSerf', 'Ahmad', 'Alex']\n"
          ]
        }
      ],
      "source": [
        "top_k = int(0.2 * len(user_item_matrix)) \n",
        "top_users = {\n",
        "    user: cosine_sim_df.loc[user].nlargest(top_k).index.tolist()\n",
        "    for user in user_item_matrix.index\n",
        "}\n",
        "\n",
        "print(\"Top 20% Closest Users Without Mean-Centering:\")\n",
        "\n",
        "for user, neighbors in list(top_users.items())[:5]:\n",
        "    print(f\"User {user}: Closest Neighbors {neighbors}\")\n",
        "\n"
      ]
    },
    {
      "cell_type": "markdown",
      "metadata": {
        "id": "i1bydll0KaNV"
      },
      "source": [
        "# 1.1.3: Predict Ratings"
      ]
    },
    {
      "cell_type": "code",
      "execution_count": 33,
      "metadata": {
        "colab": {
          "base_uri": "https://localhost:8080/"
        },
        "collapsed": true,
        "id": "iT0wmba1ESju",
        "outputId": "2d2c1163-a2dd-4e90-e74e-599d25b6a37b"
      },
      "outputs": [
        {
          "name": "stdout",
          "output_type": "stream",
          "text": [
            "User Ahmad Predictions: {153312: 0.0, 335983: 0.0, 354912: 0.0, 420634: 0.0, 519182: 0.0, 533535: 0.0, 580489: 0.0, 698687: 0.0, 889737: 0.0, 912649: 0.0, 933260: 0.0, 945961: 0.0, 1022789: 0.0, 1029235: 0.0, 1034541: 0.0, 1051896: 0.0, 1084736: 0.0, 1184918: 0.0}\n",
            "User Alex Predictions: {153312: 0.0, 335983: 0.0, 354912: 0.0, 420634: 0.0, 519182: 0.0, 533535: 0.0, 580489: 0.0, 698687: 0.0, 889737: 0.0, 912649: 0.0, 933260: 0.0, 945961: 0.0, 1022789: 0.0, 1029235: 0.0, 1034541: 0.0, 1051896: 0.0, 1084736: 0.0, 1184918: 0.0}\n",
            "User BiankaMalburg Predictions: {124364: 0.0, 153312: 0.0, 335983: 0.6537014127300579, 354912: 0.4134370747793544, 420634: 0.4134370747793544, 519182: 0.4134370747793544, 533535: 1.2140545274419292, 580489: 0.4134370747793544, 698687: 0.4134370747793544, 889737: 1.8677559401719872, 912649: 0.4134370747793544, 933260: 3.0, 945961: 1.0671384875094123, 1022789: 0.4134370747793544, 1029235: 0.6537014127300579, 1034541: 0.4134370747793544, 1051896: 0.4134370747793544, 1084736: 0.4134370747793544}\n",
            "User Brent Marchant Predictions: {124364: 0.0, 153312: 0.0, 335983: 0.30400831355999225, 354912: 0.2563623195936607, 420634: 0.2563623195936607, 519182: 0.2563623195936607, 580489: 0.2563623195936607, 698687: 0.2563623195936607, 912649: 0.2563623195936607, 945961: 0.5603706331536529, 1022789: 0.2563623195936607, 1029235: 0.30400831355999225, 1034541: 0.2563623195936607, 1051896: 0.2563623195936607, 1084736: 0.2563623195936607}\n",
            "User Cal Predictions: {124364: 0.0, 153312: 0.0, 335983: 0.5578969173850801, 354912: 0.3316414682876672, 420634: 0.2816436768151791, 519182: 0.4200816637001341, 533535: 0.9779785810852141, 698687: 0.13165030239771477, 889737: 0.3316414682876672, 912649: 0.2816436768151791, 933260: 0.2816436768151791, 945961: 0.2816436768151791, 1022789: 0.7085130250025534, 1029235: 0.0, 1034541: 0.2816436768151791, 1051896: 0.13165030239771477, 1084736: 0.13165030239771477, 1184918: 0.13165030239771477}\n",
            "User Carlos G Diaz Predictions: {124364: 0.0, 153312: 0.0, 335983: 0.4413525122157425, 354912: 0.9758484049855263, 519182: 0.3873783886978696, 533535: 0.8287309009136121, 580489: 0.8287309009136121, 698687: 0.3873783886978696, 889737: 0.9758484049855263, 912649: 0.8287309009136121, 933260: 1.723342968885446, 945961: 0.8287309009136121, 1022789: 0.3873783886978696, 1029235: 0.0, 1034541: 0.8287309009136121, 1051896: 0.3873783886978696, 1084736: 0.3873783886978696, 1184918: 0.3873783886978696}\n",
            "User Chandler Danier Predictions: {124364: 0.0, 153312: 1.296882855998906, 335983: 0.0, 354912: 0.5799836449735251, 420634: 0.5799836449735251, 519182: 1.7031171440010937, 533535: 1.7031171440010937, 580489: 0.5799836449735251, 698687: 0.5799836449735251, 889737: 0.5799836449735251, 912649: 0.5799836449735251, 933260: 0.5799836449735251, 945961: 1.876866500972431, 1022789: 1.7031171440010937, 1029235: 0.0, 1034541: 0.5799836449735251, 1084736: 0.5799836449735251, 1184918: 0.5799836449735251}\n",
            "User Chris Sawin Predictions: {124364: 0.0, 153312: 0.0, 335983: 0.0, 354912: 0.0, 420634: 0.0, 698687: 0.0, 889737: 0.0, 912649: 0.0, 933260: 0.0, 945961: 0.0, 1029235: 0.0, 1034541: 0.0, 1051896: 0.3456030031546122, 1084736: 0.0, 1184918: 0.0}\n",
            "User CinemaSerf Predictions: {124364: 0.0, 153312: 0.0, 335983: 0.7100790871748598, 1029235: 0.25902120307060844}\n",
            "User DallasBob Predictions: {124364: 0.0, 153312: 0.0, 335983: 0.5578969173850801, 354912: 0.3316414682876672, 420634: 0.2816436768151791, 519182: 0.4200816637001341, 533535: 0.9779785810852141, 698687: 0.13165030239771477, 889737: 0.3316414682876672, 912649: 0.2816436768151791, 933260: 0.2816436768151791, 945961: 0.2816436768151791, 1022789: 0.7085130250025534, 1029235: 0.0, 1034541: 0.2816436768151791, 1051896: 0.13165030239771477, 1084736: 0.13165030239771477, 1184918: 0.13165030239771477}\n",
            "User Dean Predictions: {124364: 0.0, 153312: 0.5021597798726155, 335983: 0.7884836721799962, 354912: 0.5657230724048208, 420634: 0.4804354744716905, 519182: 0.839590295690415, 533535: 0.4804354744716905, 580489: 0.4804354744716905, 698687: 0.2245726806722998, 889737: 1.0983439507854265, 912649: 0.4804354744716905, 933260: 1.013056352852296, 1022789: 0.2245726806722998, 1034541: 0.4804354744716905, 1051896: 0.7267324605449152, 1084736: 0.2245726806722998, 1184918: 0.7571935590529054}\n",
            "User DonGable Predictions: {124364: 0.0, 153312: 0.0, 335983: 0.2076831789942319, 354912: 0.0, 420634: 0.0, 519182: 0.0, 580489: 0.23496669472832146, 698687: 0.0, 889737: 0.2076831789942319, 912649: 0.0, 933260: 0.0, 945961: 0.0, 1022789: 0.0, 1029235: 0.0, 1034541: 0.0, 1051896: 0.0, 1084736: 0.0, 1184918: 0.0}\n",
            "User GenerationofSwine Predictions: {124364: 0.0, 153312: 0.0, 354912: 0.0, 420634: 0.0, 519182: 0.0, 580489: 0.0, 698687: 0.0, 889737: 0.0, 912649: 0.0, 933260: 0.0, 945961: 0.0, 1022789: 0.0, 1029235: 0.0, 1034541: 0.0, 1051896: 0.0, 1084736: 0.0, 1184918: 0.0}\n",
            "User Gimly Predictions: {124364: 0.0, 153312: 0.0, 420634: 0.21446267014428488, 519182: 0.0, 533535: 0.4353929998237533, 580489: 0.4644168050020955, 698687: 0.0, 889737: 0.4135044121716403, 912649: 0.21446267014428488, 933260: 0.34201685545687877, 945961: 0.34201685545687877, 1022789: 0.0, 1029235: 0.12755418531259383, 1034541: 0.21446267014428488, 1051896: 0.0, 1084736: 0.0, 1184918: 0.12755418531259383}\n",
            "User Henry Predictions: {124364: 0.0, 153312: 0.0, 335983: 0.5578969173850801, 354912: 0.3316414682876672, 420634: 0.2816436768151791, 519182: 0.4200816637001341, 533535: 0.9779785810852141, 698687: 0.13165030239771477, 889737: 0.3316414682876672, 912649: 0.2816436768151791, 933260: 0.2816436768151791, 945961: 0.2816436768151791, 1022789: 0.7085130250025534, 1029235: 0.0, 1034541: 0.2816436768151791, 1051896: 0.13165030239771477, 1084736: 0.13165030239771477, 1184918: 0.13165030239771477}\n",
            "User Hotplix Predictions: {124364: 0.0, 153312: 0.0, 335983: 0.0, 354912: 0.16045420816582773, 420634: 0.16045420816582773, 533535: 0.8896695379031805, 580489: 0.6626507182175618, 698687: 0.16045420816582773, 889737: 0.16045420816582773, 912649: 0.16045420816582773, 933260: 0.16045420816582773, 945961: 0.4115524631916948, 1029235: 0.0, 1034541: 0.16045420816582773, 1051896: 0.4711724461934021, 1084736: 0.16045420816582773, 1184918: 0.16045420816582773}\n",
            "User JPV852 Predictions: {124364: 0.0, 153312: 0.0, 335983: 0.0, 354912: 0.0, 420634: 0.0, 519182: 0.33247815003348163, 698687: 0.0, 889737: 0.0, 912649: 0.0, 933260: 0.0, 945961: 0.0, 1022789: 0.24935861252511124, 1029235: 0.0, 1034541: 0.0, 1051896: 0.0, 1084736: 0.0, 1184918: 0.0}\n",
            "User Josh Predictions: {124364: 0.0, 153312: 0.0, 335983: 0.0, 354912: 0.2021922395157534, 420634: 0.2021922395157534, 533535: 1.1843771638922833, 580489: 0.6451732416568157, 698687: 0.2021922395157534, 889737: 0.2021922395157534, 912649: 0.2021922395157534, 933260: 0.2021922395157534, 945961: 0.7559184921920813, 1022789: 1.6631865709467781, 1029235: 0.0, 1034541: 0.2021922395157534, 1051896: 0.5937358277042004, 1084736: 0.2021922395157534, 1184918: 0.2021922395157534}\n",
            "User Louisa Moore - Screen Zealots Predictions: {124364: 0.0, 153312: 0.22921994469992685, 335983: 0.27887619289875343, 354912: 0.3607448387500846, 420634: 0.32181376687734137, 533535: 0.8197757438462346, 580489: 0.5464025282308607, 698687: 0.2050205512591117, 889737: 0.5228278160306083, 912649: 0.32181376687734137, 933260: 0.48389674415786516, 1022789: 0.9457360800395532, 1029235: 0.3988203181982308, 1034541: 0.32181376687734137, 1051896: 0.6327507911232394, 1084736: 0.2050205512591117, 1184918: 0.36710352853963546}\n",
            "User Mangoturtle Predictions: {124364: 0.0, 153312: 0.0, 335983: 1.5976929726978393, 354912: 3.532564324232613, 420634: 3.0, 519182: 1.4023070273021607, 533535: 3.0, 580489: 3.0, 698687: 1.4023070273021607, 889737: 3.532564324232613, 933260: 3.0, 945961: 3.0, 1022789: 1.4023070273021607, 1029235: 0.0, 1034541: 3.0, 1051896: 1.4023070273021607, 1084736: 1.4023070273021607, 1184918: 1.4023070273021607}\n",
            "User MannyD Predictions: {124364: 0.0, 153312: 0.0, 335983: 0.0, 354912: 0.14110334798141852, 420634: 0.14110334798141852, 519182: 1.1606834863711015, 533535: 0.7234907529101864, 580489: 0.7593872410128104, 698687: 0.14110334798141852, 889737: 0.14110334798141852, 912649: 0.14110334798141852, 933260: 0.14110334798141852, 945961: 0.14110334798141852, 1029235: 0.0, 1034541: 0.14110334798141852, 1051896: 0.41434880639449045, 1084736: 0.14110334798141852, 1184918: 0.14110334798141852}\n",
            "User Manuel São Bento Predictions: {124364: 0.0, 153312: 0.0, 354912: 0.6524828523812236, 420634: 0.5510171350788284, 519182: 0.246619983171643, 533535: 0.909200292953476, 580489: 0.5510171350788284, 698687: 0.246619983171643, 912649: 0.5510171350788284, 1022789: 0.246619983171643, 1034541: 0.5510171350788284, 1051896: 0.246619983171643, 1084736: 0.246619983171643}\n",
            "User Martha Predictions: {124364: 0.0, 153312: 0.0, 354912: 0.22533165723350232, 420634: 0.0, 519182: 0.0, 533535: 0.22533165723350232, 698687: 0.0, 889737: 0.0, 912649: 0.0, 933260: 0.0, 945961: 0.0, 1022789: 0.0, 1029235: 0.0, 1034541: 0.0, 1051896: 0.0, 1084736: 0.0, 1184918: 0.0}\n",
            "User Mister BLAQK Predictions: {124364: 0.0, 153312: 0.5516953988442558, 335983: 0.6712099711517574, 354912: 0.6215289009106792, 420634: 0.5278280964174902, 519182: 0.9224117932427625, 533535: 0.5278280964174902, 580489: 0.5278280964174902, 698687: 0.24672568293792296, 889737: 1.0116364585828694, 912649: 0.5278280964174902, 933260: 0.9179356540896804, 1022789: 0.24672568293792296, 1029235: 0.9598961155130066, 1034541: 0.5278280964174902, 1051896: 0.7984210817821787, 1084736: 0.24672568293792296, 1184918: 0.6368332406101131}\n",
            "User MovieGuys Predictions: {124364: 0.0, 335983: 0.39607653598488274, 354912: 0.512351250285579, 420634: 0.4570590292850837, 519182: 0.9718363560181535, 533535: 0.7389951431164942, 580489: 0.4570590292850837, 698687: 0.2911823662835977, 889737: 0.7425511232689758, 912649: 0.4570590292850837, 933260: 0.6872589022684804, 1022789: 0.5731184801150081, 1029235: 0.5664283080976114, 1034541: 0.4570590292850837, 1084736: 0.2911823662835977, 1184918: 0.5213822392669945}\n",
            "User Nathan Predictions: {124364: 0.0, 153312: 0.0, 335983: 0.4413525122157425, 354912: 0.9758484049855263, 519182: 0.3873783886978696, 533535: 0.8287309009136121, 580489: 0.8287309009136121, 698687: 0.3873783886978696, 889737: 0.9758484049855263, 912649: 0.8287309009136121, 933260: 1.723342968885446, 945961: 0.8287309009136121, 1022789: 0.3873783886978696, 1029235: 0.0, 1034541: 0.8287309009136121, 1051896: 0.3873783886978696, 1084736: 0.3873783886978696, 1184918: 0.3873783886978696}\n",
            "User Nelson Predictions: {124364: 0.0, 153312: 0.0, 354912: 0.4768238675425352, 420634: 0.12759419478409828, 519182: 0.0, 533535: 0.43429246928116916, 580489: 0.47458368226424547, 698687: 0.0, 889737: 0.34719792438634195, 912649: 0.12759419478409828, 933260: 0.30466652612497586, 945961: 0.30466652612497586, 1022789: 0.0, 1029235: 0.17707233134087755, 1034541: 0.12759419478409828, 1051896: 0.0, 1084736: 0.0, 1184918: 0.17707233134087755}\n",
            "User Per Gunnar Jonsson Predictions: {124364: 0.0, 153312: 0.0, 354912: 0.4768238675425352, 420634: 0.12759419478409828, 519182: 0.0, 533535: 0.43429246928116916, 580489: 0.47458368226424547, 698687: 0.0, 889737: 0.34719792438634195, 912649: 0.12759419478409828, 933260: 0.30466652612497586, 945961: 0.30466652612497586, 1022789: 0.0, 1029235: 0.17707233134087755, 1034541: 0.12759419478409828, 1051896: 0.0, 1084736: 0.0, 1184918: 0.17707233134087755}\n",
            "User Pringo Predictions: {124364: 0.0, 153312: 0.0, 335983: 0.2076831789942319, 354912: 0.0, 420634: 0.0, 519182: 0.0, 580489: 0.23496669472832146, 698687: 0.0, 889737: 0.2076831789942319, 912649: 0.0, 933260: 0.0, 945961: 0.0, 1022789: 0.0, 1029235: 0.0, 1034541: 0.0, 1051896: 0.0, 1084736: 0.0, 1184918: 0.0}\n",
            "User RADIO1'S MR. MOVIE!-MAD AMI 🌠 Predictions: {124364: 0.0, 153312: 0.0, 335983: 0.5578969173850801, 354912: 0.3316414682876672, 420634: 0.2816436768151791, 519182: 0.4200816637001341, 533535: 0.9779785810852141, 698687: 0.13165030239771477, 889737: 0.3316414682876672, 912649: 0.2816436768151791, 933260: 0.2816436768151791, 945961: 0.2816436768151791, 1022789: 0.7085130250025534, 1029235: 0.0, 1034541: 0.2816436768151791, 1051896: 0.13165030239771477, 1084736: 0.13165030239771477, 1184918: 0.13165030239771477}\n",
            "User Sean Predictions: {124364: 0.0, 153312: 0.0, 335983: 0.2076831789942319, 354912: 0.0, 420634: 0.0, 519182: 0.0, 580489: 0.23496669472832146, 698687: 0.0, 889737: 0.2076831789942319, 912649: 0.0, 933260: 0.0, 945961: 0.0, 1022789: 0.0, 1029235: 0.0, 1034541: 0.0, 1051896: 0.0, 1084736: 0.0, 1184918: 0.0}\n",
            "User SenkaM Predictions: {153312: 0.0, 335983: 0.0, 354912: 0.0, 420634: 0.0, 519182: 0.0, 533535: 0.0, 580489: 0.0, 698687: 0.0, 889737: 0.0, 912649: 0.0, 933260: 0.0, 945961: 0.0, 1022789: 0.0, 1029235: 0.0, 1034541: 0.0, 1051896: 0.0, 1084736: 0.0, 1184918: 0.0}\n",
            "User StudiedAsleep Predictions: {153312: 0.0, 335983: 0.0, 354912: 0.0, 420634: 0.0, 519182: 0.0, 533535: 0.0, 580489: 0.0, 698687: 0.0, 889737: 0.0, 912649: 0.0, 933260: 0.0, 945961: 0.0, 1022789: 0.0, 1029235: 0.0, 1034541: 0.0, 1051896: 0.0, 1084736: 0.0, 1184918: 0.0}\n",
            "User TheSceneSnobs Predictions: {124364: 0.0, 153312: 0.0, 335983: 0.0, 354912: 0.25844806647170504, 420634: 0.25844806647170504, 580489: 0.6477321153346105, 698687: 0.25844806647170504, 889737: 0.25844806647170504, 912649: 0.25844806647170504, 933260: 0.25844806647170504, 945961: 0.25844806647170504, 1029235: 0.0, 1034541: 0.25844806647170504, 1084736: 0.25844806647170504, 1184918: 0.25844806647170504}\n",
            "User UWotMatez Predictions: {124364: 0.0, 153312: 0.0, 335983: 0.0, 354912: 0.2021922395157534, 420634: 0.2021922395157534, 533535: 1.1843771638922833, 580489: 0.6451732416568157, 698687: 0.2021922395157534, 889737: 0.2021922395157534, 912649: 0.2021922395157534, 933260: 0.2021922395157534, 945961: 0.7559184921920813, 1022789: 1.6631865709467781, 1029235: 0.0, 1034541: 0.2021922395157534, 1051896: 0.5937358277042004, 1084736: 0.2021922395157534, 1184918: 0.2021922395157534}\n",
            "User YearOneFun Predictions: {124364: 0.0, 153312: 0.0, 335983: 0.7353333965737829, 354912: 0.7175992499502142, 420634: 0.5974957764061659, 519182: 0.2371853557740212, 533535: 1.7063620911812964, 580489: 0.5974957764061659, 698687: 0.2371853557740212, 912649: 0.5974957764061659, 933260: 1.4318262187863366, 945961: 0.9725187523478042, 1022789: 0.2371853557740212, 1029235: 0.37502297594163814, 1034541: 0.5974957764061659, 1051896: 0.2371853557740212, 1084736: 0.2371853557740212, 1184918: 1.0715157981541918}\n",
            "User aGoryLouie Predictions: {124364: 0.0, 153312: 0.0, 335983: 0.0, 354912: 0.0, 420634: 0.0, 519182: 0.0, 580489: 0.0, 698687: 0.0, 912649: 0.0, 933260: 0.2727272727272727, 945961: 0.0, 1022789: 0.0, 1029235: 0.0, 1034541: 0.0, 1051896: 0.0, 1084736: 0.0, 1184918: 0.2727272727272727}\n",
            "User albuainain Predictions: {124364: 0.0, 153312: 0.0, 335983: 0.2076831789942319, 354912: 0.0, 420634: 0.0, 519182: 0.0, 580489: 0.23496669472832146, 698687: 0.0, 889737: 0.2076831789942319, 912649: 0.0, 933260: 0.0, 945961: 0.0, 1022789: 0.0, 1029235: 0.0, 1034541: 0.0, 1051896: 0.0, 1084736: 0.0, 1184918: 0.0}\n",
            "User biancarockr Predictions: {124364: 0.0, 153312: 0.0, 335983: 0.7353333965737829, 354912: 0.7175992499502142, 420634: 0.5974957764061659, 519182: 0.2371853557740212, 533535: 1.7063620911812964, 580489: 0.5974957764061659, 698687: 0.2371853557740212, 912649: 0.5974957764061659, 933260: 1.4318262187863366, 945961: 0.9725187523478042, 1022789: 0.2371853557740212, 1029235: 0.37502297594163814, 1034541: 0.5974957764061659, 1051896: 0.2371853557740212, 1084736: 0.2371853557740212, 1184918: 1.0715157981541918}\n",
            "User davidrobitaille Predictions: {124364: 0.0, 153312: 0.0, 335983: 0.2076831789942319, 354912: 0.0, 420634: 0.0, 519182: 0.0, 580489: 0.23496669472832146, 698687: 0.0, 889737: 0.2076831789942319, 912649: 0.0, 933260: 0.0, 945961: 0.0, 1022789: 0.0, 1029235: 0.0, 1034541: 0.0, 1051896: 0.0, 1084736: 0.0, 1184918: 0.0}\n",
            "User furious_iz Predictions: {124364: 0.0, 153312: 0.0, 335983: 1.398924317076289, 420634: 0.8276827473109629, 519182: 0.3285616980755349, 533535: 0.8276827473109629, 580489: 0.8276827473109629, 698687: 0.3285616980755349, 889737: 0.9940564303894389, 912649: 0.8276827473109629, 933260: 0.8276827473109629, 945961: 0.8276827473109629, 1022789: 0.3285616980755349, 1029235: 0.0, 1034541: 0.8276827473109629, 1051896: 0.3285616980755349, 1084736: 0.3285616980755349, 1184918: 0.3285616980755349}\n",
            "User garethmb Predictions: {124364: 0.0, 153312: 0.0, 335983: 0.0, 354912: 0.0, 420634: 0.0, 519182: 0.5766130591918575, 533535: 0.5766130591918575, 698687: 0.0, 889737: 0.0, 912649: 0.0, 933260: 0.0, 945961: 0.0, 1029235: 0.0, 1034541: 0.0, 1051896: 0.0, 1084736: 0.0, 1184918: 0.0}\n",
            "User good.film Predictions: {124364: 0.0, 153312: 0.0, 335983: 0.7369270109038711, 354912: 0.6028735395411267, 420634: 0.9334456025420803, 519182: 0.3426285067431881, 533535: 1.2013095316177835, 580489: 0.537812281341642, 698687: 0.3426285067431881, 889737: 1.8081140261226853, 912649: 0.537812281341642, 945961: 1.0795555176470593, 1022789: 0.3426285067431881, 1029235: 0.5417432363054173, 1034541: 0.537812281341642, 1051896: 0.3426285067431881, 1084736: 0.3426285067431881}\n",
            "User griggs79 Predictions: {124364: 0.0, 153312: 0.0, 335983: 0.7400092621134043, 354912: 0.8498875455088325, 519182: 0.33737624232575547, 533535: 1.1573105756909594, 580489: 0.7217597197130632, 698687: 0.33737624232575547, 889737: 1.641064186212825, 912649: 0.7217597197130632, 945961: 1.0773855044391598, 1022789: 0.33737624232575547, 1029235: 0.3556257847260967, 1034541: 0.7217597197130632, 1051896: 0.33737624232575547, 1084736: 0.33737624232575547, 1184918: 1.7445148106568995}\n",
            "User gurteksingh Predictions: {124364: 0.0, 153312: 0.0, 354912: 0.4768238675425352, 420634: 0.12759419478409828, 519182: 0.0, 533535: 0.43429246928116916, 580489: 0.47458368226424547, 698687: 0.0, 889737: 0.34719792438634195, 912649: 0.12759419478409828, 933260: 0.30466652612497586, 945961: 0.30466652612497586, 1022789: 0.0, 1029235: 0.17707233134087755, 1034541: 0.12759419478409828, 1051896: 0.0, 1084736: 0.0, 1184918: 0.17707233134087755}\n",
            "User heyitsmestoney Predictions: {124364: 0.0, 153312: 0.0, 335983: 0.0, 354912: 0.14110334798141852, 420634: 0.14110334798141852, 519182: 1.1606834863711015, 533535: 0.7234907529101864, 580489: 0.7593872410128104, 698687: 0.14110334798141852, 889737: 0.14110334798141852, 912649: 0.14110334798141852, 933260: 0.14110334798141852, 945961: 0.14110334798141852, 1029235: 0.0, 1034541: 0.14110334798141852, 1051896: 0.41434880639449045, 1084736: 0.14110334798141852, 1184918: 0.14110334798141852}\n",
            "User immortal101 Predictions: {124364: 0.0, 153312: 0.0, 335983: 0.2076831789942319, 354912: 0.0, 420634: 0.0, 519182: 0.0, 580489: 0.23496669472832146, 698687: 0.0, 889737: 0.2076831789942319, 912649: 0.0, 933260: 0.0, 945961: 0.0, 1022789: 0.0, 1029235: 0.0, 1034541: 0.0, 1051896: 0.0, 1084736: 0.0, 1184918: 0.0}\n",
            "User javajohnny Predictions: {124364: 0.0, 153312: 0.0, 354912: 0.4768238675425352, 420634: 0.12759419478409828, 519182: 0.0, 533535: 0.43429246928116916, 580489: 0.47458368226424547, 698687: 0.0, 889737: 0.34719792438634195, 912649: 0.12759419478409828, 933260: 0.30466652612497586, 945961: 0.30466652612497586, 1022789: 0.0, 1029235: 0.17707233134087755, 1034541: 0.12759419478409828, 1051896: 0.0, 1084736: 0.0, 1184918: 0.17707233134087755}\n",
            "User lancethedealer Predictions: {124364: 0.0, 153312: 0.0, 354912: 0.4768238675425352, 420634: 0.12759419478409828, 519182: 0.0, 533535: 0.43429246928116916, 580489: 0.47458368226424547, 698687: 0.0, 889737: 0.34719792438634195, 912649: 0.12759419478409828, 933260: 0.30466652612497586, 945961: 0.30466652612497586, 1022789: 0.0, 1029235: 0.17707233134087755, 1034541: 0.12759419478409828, 1051896: 0.0, 1084736: 0.0, 1184918: 0.17707233134087755}\n",
            "User minion196 Predictions: {124364: 0.0, 153312: 0.0, 335983: 0.0, 354912: 0.14110334798141852, 420634: 0.14110334798141852, 519182: 1.1606834863711015, 533535: 0.7234907529101864, 580489: 0.7593872410128104, 698687: 0.14110334798141852, 889737: 0.14110334798141852, 912649: 0.14110334798141852, 933260: 0.14110334798141852, 945961: 0.14110334798141852, 1029235: 0.0, 1034541: 0.14110334798141852, 1051896: 0.41434880639449045, 1084736: 0.14110334798141852, 1184918: 0.14110334798141852}\n",
            "User moviepoptime Predictions: {124364: 0.0, 153312: 0.0, 335983: 0.0, 354912: 0.14110334798141852, 420634: 0.14110334798141852, 519182: 1.1606834863711015, 533535: 0.7234907529101864, 580489: 0.7593872410128104, 698687: 0.14110334798141852, 889737: 0.14110334798141852, 912649: 0.14110334798141852, 933260: 0.14110334798141852, 945961: 0.14110334798141852, 1029235: 0.0, 1034541: 0.14110334798141852, 1051896: 0.41434880639449045, 1084736: 0.14110334798141852, 1184918: 0.14110334798141852}\n",
            "User priya_ Predictions: {124364: 0.0, 153312: 0.0, 335983: 1.398924317076289, 420634: 0.8276827473109629, 519182: 0.3285616980755349, 533535: 0.8276827473109629, 580489: 0.8276827473109629, 698687: 0.3285616980755349, 889737: 0.9940564303894389, 912649: 0.8276827473109629, 933260: 0.8276827473109629, 945961: 0.8276827473109629, 1022789: 0.3285616980755349, 1029235: 0.0, 1034541: 0.8276827473109629, 1051896: 0.3285616980755349, 1084736: 0.3285616980755349, 1184918: 0.3285616980755349}\n",
            "User r96sk Predictions: {124364: 0.0, 153312: 0.0, 519182: 0.428999664450435, 698687: 0.428999664450435, 1022789: 0.428999664450435, 1029235: 0.3040691158008179, 1051896: 0.428999664450435, 1084736: 0.428999664450435, 1184918: 1.0195357726555814}\n",
            "User rvsxwgn64 Predictions: {124364: 0.0, 153312: 0.0, 335983: 0.2076831789942319, 354912: 0.0, 420634: 0.0, 519182: 0.0, 580489: 0.23496669472832146, 698687: 0.0, 889737: 0.2076831789942319, 912649: 0.0, 933260: 0.0, 945961: 0.0, 1022789: 0.0, 1029235: 0.0, 1034541: 0.0, 1051896: 0.0, 1084736: 0.0, 1184918: 0.0}\n",
            "User shammahrashad Predictions: {124364: 0.0, 153312: 0.0, 335983: 0.2076831789942319, 354912: 0.0, 420634: 0.0, 519182: 0.0, 580489: 0.23496669472832146, 698687: 0.0, 889737: 0.2076831789942319, 912649: 0.0, 933260: 0.0, 945961: 0.0, 1022789: 0.0, 1029235: 0.0, 1034541: 0.0, 1051896: 0.0, 1084736: 0.0, 1184918: 0.0}\n",
            "User tmdb51616167 Predictions: {124364: 0.0, 153312: 0.0, 335983: 0.2076831789942319, 354912: 0.0, 420634: 0.0, 519182: 0.0, 580489: 0.23496669472832146, 698687: 0.0, 889737: 0.2076831789942319, 912649: 0.0, 933260: 0.0, 945961: 0.0, 1022789: 0.0, 1029235: 0.0, 1034541: 0.0, 1051896: 0.0, 1084736: 0.0, 1184918: 0.0}\n"
          ]
        }
      ],
      "source": [
        "def predict_ratings(user, similarity_df, matrix, top_users):\n",
        "    predictions = {}\n",
        "    neighbors = top_users[user]\n",
        "\n",
        "    for item in matrix.columns:\n",
        "        if matrix.loc[user, item] == 0:  \n",
        "            neighbor_ratings = matrix.loc[neighbors, item]\n",
        "            weights = similarity_df.loc[user, neighbors]\n",
        "            predictions[item] = np.dot(weights, neighbor_ratings) / weights.sum()\n",
        "    return predictions\n",
        "\n",
        "\n",
        "for user in top_users.keys():\n",
        "    predictions = predict_ratings(user, cosine_sim_df, user_item_matrix, top_users)\n",
        "    print(f\"User {user} Predictions: {predictions}\")\n"
      ]
    },
    {
      "cell_type": "markdown",
      "metadata": {
        "id": "hG7tjVA6Kgrr"
      },
      "source": [
        "# 1.1.4 and 1.1.5: Apply Discount Factor"
      ]
    },
    {
      "cell_type": "code",
      "execution_count": 34,
      "metadata": {
        "colab": {
          "base_uri": "https://localhost:8080/"
        },
        "id": "lPYHOwZZEzR6",
        "outputId": "7758ca98-df27-4c79-9c9c-c81546e549c6"
      },
      "outputs": [
        {
          "name": "stdout",
          "output_type": "stream",
          "text": [
            "Discounted Cosine Similarity Matrix:\n",
            "author          Ahmad  Alex  BiankaMalburg  Brent Marchant  Cal  \\\n",
            "author                                                            \n",
            "Ahmad            0.00  0.85          0.000           0.000  0.0   \n",
            "Alex             0.85  0.00          0.000           0.000  0.0   \n",
            "BiankaMalburg    0.00  0.00          0.000           0.425  0.0   \n",
            "Brent Marchant   0.00  0.00          0.425           0.000  0.0   \n",
            "Cal              0.00  0.00          0.000           0.000  0.0   \n",
            "\n",
            "author          Carlos G Diaz  Chandler Danier  Chris Sawin  CinemaSerf  \\\n",
            "author                                                                    \n",
            "Ahmad                     0.0              0.0     0.000000    0.000000   \n",
            "Alex                      0.0              0.0     0.000000    0.000000   \n",
            "BiankaMalburg             0.0              0.0     0.000000    0.219469   \n",
            "Brent Marchant            0.0              0.0     0.240416    0.438938   \n",
            "Cal                       0.0              0.0     0.360624    0.219469   \n",
            "\n",
            "author          DallasBob  ...  immortal101  javajohnny  lancethedealer  \\\n",
            "author                     ...                                            \n",
            "Ahmad                0.00  ...        0.000         0.0             0.0   \n",
            "Alex                 0.00  ...        0.000         0.0             0.0   \n",
            "BiankaMalburg        0.00  ...        0.000         0.0             0.0   \n",
            "Brent Marchant       0.00  ...        0.425         0.0             0.0   \n",
            "Cal                  0.85  ...        0.000         0.0             0.0   \n",
            "\n",
            "author          minion196  moviepoptime  priya_     r96sk  rvsxwgn64  \\\n",
            "author                                                                 \n",
            "Ahmad                 0.0           0.0     0.0  0.000000      0.000   \n",
            "Alex                  0.0           0.0     0.0  0.000000      0.000   \n",
            "BiankaMalburg         0.0           0.0     0.0  0.000000      0.000   \n",
            "Brent Marchant        0.0           0.0     0.0  0.416747      0.425   \n",
            "Cal                   0.0           0.0     0.0  0.250048      0.000   \n",
            "\n",
            "author          shammahrashad  tmdb51616167  \n",
            "author                                       \n",
            "Ahmad                   0.000         0.000  \n",
            "Alex                    0.000         0.000  \n",
            "BiankaMalburg           0.000         0.000  \n",
            "Brent Marchant          0.425         0.425  \n",
            "Cal                     0.000         0.000  \n",
            "\n",
            "[5 rows x 56 columns]\n"
          ]
        }
      ],
      "source": [
        "def apply_discount(similarity_df, beta):\n",
        "    return similarity_df * beta\n",
        "\n",
        "discounted_similarity_df = apply_discount(cosine_sim_df, 0.85)\n",
        "print(\"Discounted Cosine Similarity Matrix:\")\n",
        "print(discounted_similarity_df.head())\n"
      ]
    },
    {
      "cell_type": "markdown",
      "metadata": {
        "id": "SCu82JanKkh5"
      },
      "source": [
        "# 1.1.6: Predict Ratings Using Discounted Similarity"
      ]
    },
    {
      "cell_type": "code",
      "execution_count": 35,
      "metadata": {
        "colab": {
          "base_uri": "https://localhost:8080/"
        },
        "collapsed": true,
        "id": "X6g4kd8UE7LR",
        "outputId": "714c32f2-fa2d-41d1-8cc0-bb65bb4138c5"
      },
      "outputs": [
        {
          "name": "stdout",
          "output_type": "stream",
          "text": [
            "User Ahmad Predictions (Discounted): {153312: 0.0, 335983: 0.0, 354912: 0.0, 420634: 0.0, 519182: 0.0, 533535: 0.0, 580489: 0.0, 698687: 0.0, 889737: 0.0, 912649: 0.0, 933260: 0.0, 945961: 0.0, 1022789: 0.0, 1029235: 0.0, 1034541: 0.0, 1051896: 0.0, 1084736: 0.0, 1184918: 0.0}\n",
            "User Alex Predictions (Discounted): {153312: 0.0, 335983: 0.0, 354912: 0.0, 420634: 0.0, 519182: 0.0, 533535: 0.0, 580489: 0.0, 698687: 0.0, 889737: 0.0, 912649: 0.0, 933260: 0.0, 945961: 0.0, 1022789: 0.0, 1029235: 0.0, 1034541: 0.0, 1051896: 0.0, 1084736: 0.0, 1184918: 0.0}\n",
            "User BiankaMalburg Predictions (Discounted): {124364: 0.0, 153312: 0.0, 335983: 0.653701412730058, 354912: 0.4134370747793544, 420634: 0.4134370747793544, 519182: 0.4134370747793544, 533535: 1.214054527441929, 580489: 0.4134370747793544, 698687: 0.4134370747793544, 889737: 1.867755940171987, 912649: 0.4134370747793544, 933260: 3.0, 945961: 1.0671384875094123, 1022789: 0.4134370747793544, 1029235: 0.653701412730058, 1034541: 0.4134370747793544, 1051896: 0.4134370747793544, 1084736: 0.4134370747793544}\n",
            "User Brent Marchant Predictions (Discounted): {124364: 0.0, 153312: 0.0, 335983: 0.30400831355999225, 354912: 0.2563623195936607, 420634: 0.2563623195936607, 519182: 0.2563623195936607, 580489: 0.2563623195936607, 698687: 0.2563623195936607, 912649: 0.2563623195936607, 945961: 0.560370633153653, 1022789: 0.2563623195936607, 1029235: 0.30400831355999225, 1034541: 0.2563623195936607, 1051896: 0.2563623195936607, 1084736: 0.2563623195936607}\n",
            "User Cal Predictions (Discounted): {124364: 0.0, 153312: 0.0, 335983: 0.5578969173850801, 354912: 0.3316414682876672, 420634: 0.2816436768151791, 519182: 0.4200816637001341, 533535: 0.9779785810852143, 698687: 0.13165030239771477, 889737: 0.3316414682876672, 912649: 0.2816436768151791, 933260: 0.2816436768151791, 945961: 0.2816436768151791, 1022789: 0.7085130250025534, 1029235: 0.0, 1034541: 0.2816436768151791, 1051896: 0.13165030239771477, 1084736: 0.13165030239771477, 1184918: 0.13165030239771477}\n",
            "User Carlos G Diaz Predictions (Discounted): {124364: 0.0, 153312: 0.0, 335983: 0.44135251221574245, 354912: 0.9758484049855263, 519182: 0.38737838869786967, 533535: 0.8287309009136121, 580489: 0.8287309009136121, 698687: 0.38737838869786967, 889737: 0.9758484049855263, 912649: 0.8287309009136121, 933260: 1.723342968885446, 945961: 0.8287309009136121, 1022789: 0.38737838869786967, 1029235: 0.0, 1034541: 0.8287309009136121, 1051896: 0.38737838869786967, 1084736: 0.38737838869786967, 1184918: 0.38737838869786967}\n",
            "User Chandler Danier Predictions (Discounted): {124364: 0.0, 153312: 1.296882855998906, 335983: 0.0, 354912: 0.5799836449735251, 420634: 0.5799836449735251, 519182: 1.7031171440010937, 533535: 1.7031171440010937, 580489: 0.5799836449735251, 698687: 0.5799836449735251, 889737: 0.5799836449735251, 912649: 0.5799836449735251, 933260: 0.5799836449735251, 945961: 1.8768665009724312, 1022789: 1.7031171440010937, 1029235: 0.0, 1034541: 0.5799836449735251, 1084736: 0.5799836449735251, 1184918: 0.5799836449735251}\n",
            "User Chris Sawin Predictions (Discounted): {124364: 0.0, 153312: 0.0, 335983: 0.0, 354912: 0.0, 420634: 0.0, 698687: 0.0, 889737: 0.0, 912649: 0.0, 933260: 0.0, 945961: 0.0, 1029235: 0.0, 1034541: 0.0, 1051896: 0.3456030031546121, 1084736: 0.0, 1184918: 0.0}\n",
            "User CinemaSerf Predictions (Discounted): {124364: 0.0, 153312: 0.0, 335983: 0.71007908717486, 1029235: 0.25902120307060844}\n",
            "User DallasBob Predictions (Discounted): {124364: 0.0, 153312: 0.0, 335983: 0.5578969173850801, 354912: 0.3316414682876672, 420634: 0.2816436768151791, 519182: 0.4200816637001341, 533535: 0.9779785810852143, 698687: 0.13165030239771477, 889737: 0.3316414682876672, 912649: 0.2816436768151791, 933260: 0.2816436768151791, 945961: 0.2816436768151791, 1022789: 0.7085130250025534, 1029235: 0.0, 1034541: 0.2816436768151791, 1051896: 0.13165030239771477, 1084736: 0.13165030239771477, 1184918: 0.13165030239771477}\n",
            "User Dean Predictions (Discounted): {124364: 0.0, 153312: 0.5021597798726155, 335983: 0.7884836721799964, 354912: 0.5657230724048208, 420634: 0.4804354744716905, 519182: 0.8395902956904151, 533535: 0.4804354744716905, 580489: 0.4804354744716905, 698687: 0.22457268067229982, 889737: 1.0983439507854265, 912649: 0.4804354744716905, 933260: 1.0130563528522962, 1022789: 0.22457268067229982, 1034541: 0.4804354744716905, 1051896: 0.7267324605449152, 1084736: 0.22457268067229982, 1184918: 0.7571935590529054}\n",
            "User DonGable Predictions (Discounted): {124364: 0.0, 153312: 0.0, 335983: 0.20768317899423192, 354912: 0.0, 420634: 0.0, 519182: 0.0, 580489: 0.2349666947283215, 698687: 0.0, 889737: 0.20768317899423192, 912649: 0.0, 933260: 0.0, 945961: 0.0, 1022789: 0.0, 1029235: 0.0, 1034541: 0.0, 1051896: 0.0, 1084736: 0.0, 1184918: 0.0}\n",
            "User GenerationofSwine Predictions (Discounted): {124364: 0.0, 153312: 0.0, 354912: 0.0, 420634: 0.0, 519182: 0.0, 580489: 0.0, 698687: 0.0, 889737: 0.0, 912649: 0.0, 933260: 0.0, 945961: 0.0, 1022789: 0.0, 1029235: 0.0, 1034541: 0.0, 1051896: 0.0, 1084736: 0.0, 1184918: 0.0}\n",
            "User Gimly Predictions (Discounted): {124364: 0.0, 153312: 0.0, 420634: 0.21446267014428486, 519182: 0.0, 533535: 0.4353929998237532, 580489: 0.4644168050020954, 698687: 0.0, 889737: 0.41350441217164025, 912649: 0.21446267014428486, 933260: 0.34201685545687865, 945961: 0.34201685545687865, 1022789: 0.0, 1029235: 0.1275541853125938, 1034541: 0.21446267014428486, 1051896: 0.0, 1084736: 0.0, 1184918: 0.1275541853125938}\n",
            "User Henry Predictions (Discounted): {124364: 0.0, 153312: 0.0, 335983: 0.5578969173850801, 354912: 0.3316414682876672, 420634: 0.2816436768151791, 519182: 0.4200816637001341, 533535: 0.9779785810852143, 698687: 0.13165030239771477, 889737: 0.3316414682876672, 912649: 0.2816436768151791, 933260: 0.2816436768151791, 945961: 0.2816436768151791, 1022789: 0.7085130250025534, 1029235: 0.0, 1034541: 0.2816436768151791, 1051896: 0.13165030239771477, 1084736: 0.13165030239771477, 1184918: 0.13165030239771477}\n",
            "User Hotplix Predictions (Discounted): {124364: 0.0, 153312: 0.0, 335983: 0.0, 354912: 0.16045420816582773, 420634: 0.16045420816582773, 533535: 0.8896695379031806, 580489: 0.6626507182175618, 698687: 0.16045420816582773, 889737: 0.16045420816582773, 912649: 0.16045420816582773, 933260: 0.16045420816582773, 945961: 0.4115524631916948, 1029235: 0.0, 1034541: 0.16045420816582773, 1051896: 0.47117244619340215, 1084736: 0.16045420816582773, 1184918: 0.16045420816582773}\n",
            "User JPV852 Predictions (Discounted): {124364: 0.0, 153312: 0.0, 335983: 0.0, 354912: 0.0, 420634: 0.0, 519182: 0.3324781500334817, 698687: 0.0, 889737: 0.0, 912649: 0.0, 933260: 0.0, 945961: 0.0, 1022789: 0.24935861252511124, 1029235: 0.0, 1034541: 0.0, 1051896: 0.0, 1084736: 0.0, 1184918: 0.0}\n",
            "User Josh Predictions (Discounted): {124364: 0.0, 153312: 0.0, 335983: 0.0, 354912: 0.20219223951575344, 420634: 0.20219223951575344, 533535: 1.1843771638922833, 580489: 0.6451732416568157, 698687: 0.20219223951575344, 889737: 0.20219223951575344, 912649: 0.20219223951575344, 933260: 0.20219223951575344, 945961: 0.7559184921920812, 1022789: 1.663186570946778, 1029235: 0.0, 1034541: 0.20219223951575344, 1051896: 0.5937358277042004, 1084736: 0.20219223951575344, 1184918: 0.20219223951575344}\n",
            "User Louisa Moore - Screen Zealots Predictions (Discounted): {124364: 0.0, 153312: 0.2292199446999269, 335983: 0.2788761928987534, 354912: 0.3607448387500846, 420634: 0.32181376687734137, 533535: 0.8197757438462346, 580489: 0.5464025282308607, 698687: 0.2050205512591117, 889737: 0.5228278160306083, 912649: 0.32181376687734137, 933260: 0.48389674415786516, 1022789: 0.9457360800395535, 1029235: 0.39882031819823094, 1034541: 0.32181376687734137, 1051896: 0.6327507911232395, 1084736: 0.2050205512591117, 1184918: 0.36710352853963546}\n",
            "User Mangoturtle Predictions (Discounted): {124364: 0.0, 153312: 0.0, 335983: 1.5976929726978393, 354912: 3.532564324232613, 420634: 3.0, 519182: 1.402307027302161, 533535: 3.0, 580489: 3.0, 698687: 1.402307027302161, 889737: 3.532564324232613, 933260: 3.0, 945961: 3.0, 1022789: 1.402307027302161, 1029235: 0.0, 1034541: 3.0, 1051896: 1.402307027302161, 1084736: 1.402307027302161, 1184918: 1.402307027302161}\n",
            "User MannyD Predictions (Discounted): {124364: 0.0, 153312: 0.0, 335983: 0.0, 354912: 0.14110334798141852, 420634: 0.14110334798141852, 519182: 1.1606834863711013, 533535: 0.7234907529101863, 580489: 0.7593872410128102, 698687: 0.14110334798141852, 889737: 0.14110334798141852, 912649: 0.14110334798141852, 933260: 0.14110334798141852, 945961: 0.14110334798141852, 1029235: 0.0, 1034541: 0.14110334798141852, 1051896: 0.4143488063944904, 1084736: 0.14110334798141852, 1184918: 0.14110334798141852}\n",
            "User Manuel São Bento Predictions (Discounted): {124364: 0.0, 153312: 0.0, 354912: 0.6524828523812236, 420634: 0.5510171350788284, 519182: 0.246619983171643, 533535: 0.909200292953476, 580489: 0.5510171350788284, 698687: 0.246619983171643, 912649: 0.5510171350788284, 1022789: 0.246619983171643, 1034541: 0.5510171350788284, 1051896: 0.246619983171643, 1084736: 0.246619983171643}\n",
            "User Martha Predictions (Discounted): {124364: 0.0, 153312: 0.0, 354912: 0.2253316572335023, 420634: 0.0, 519182: 0.0, 533535: 0.2253316572335023, 698687: 0.0, 889737: 0.0, 912649: 0.0, 933260: 0.0, 945961: 0.0, 1022789: 0.0, 1029235: 0.0, 1034541: 0.0, 1051896: 0.0, 1084736: 0.0, 1184918: 0.0}\n",
            "User Mister BLAQK Predictions (Discounted): {124364: 0.0, 153312: 0.5516953988442557, 335983: 0.6712099711517574, 354912: 0.6215289009106792, 420634: 0.5278280964174902, 519182: 0.9224117932427623, 533535: 0.5278280964174902, 580489: 0.5278280964174902, 698687: 0.246725682937923, 889737: 1.0116364585828694, 912649: 0.5278280964174902, 933260: 0.9179356540896804, 1022789: 0.246725682937923, 1029235: 0.9598961155130067, 1034541: 0.5278280964174902, 1051896: 0.7984210817821787, 1084736: 0.246725682937923, 1184918: 0.6368332406101133}\n",
            "User MovieGuys Predictions (Discounted): {124364: 0.0, 335983: 0.39607653598488274, 354912: 0.512351250285579, 420634: 0.45705902928508374, 519182: 0.9718363560181537, 533535: 0.7389951431164942, 580489: 0.45705902928508374, 698687: 0.2911823662835977, 889737: 0.7425511232689758, 912649: 0.45705902928508374, 933260: 0.6872589022684804, 1022789: 0.5731184801150082, 1029235: 0.5664283080976114, 1034541: 0.45705902928508374, 1084736: 0.2911823662835977, 1184918: 0.5213822392669945}\n",
            "User Nathan Predictions (Discounted): {124364: 0.0, 153312: 0.0, 335983: 0.44135251221574245, 354912: 0.9758484049855263, 519182: 0.38737838869786967, 533535: 0.8287309009136121, 580489: 0.8287309009136121, 698687: 0.38737838869786967, 889737: 0.9758484049855263, 912649: 0.8287309009136121, 933260: 1.723342968885446, 945961: 0.8287309009136121, 1022789: 0.38737838869786967, 1029235: 0.0, 1034541: 0.8287309009136121, 1051896: 0.38737838869786967, 1084736: 0.38737838869786967, 1184918: 0.38737838869786967}\n",
            "User Nelson Predictions (Discounted): {124364: 0.0, 153312: 0.0, 354912: 0.47682386754253514, 420634: 0.12759419478409825, 519182: 0.0, 533535: 0.43429246928116905, 580489: 0.4745836822642453, 698687: 0.0, 889737: 0.3471979243863419, 912649: 0.12759419478409825, 933260: 0.3046665261249758, 945961: 0.3046665261249758, 1022789: 0.0, 1029235: 0.17707233134087758, 1034541: 0.12759419478409825, 1051896: 0.0, 1084736: 0.0, 1184918: 0.17707233134087758}\n",
            "User Per Gunnar Jonsson Predictions (Discounted): {124364: 0.0, 153312: 0.0, 354912: 0.47682386754253514, 420634: 0.12759419478409825, 519182: 0.0, 533535: 0.43429246928116905, 580489: 0.4745836822642453, 698687: 0.0, 889737: 0.3471979243863419, 912649: 0.12759419478409825, 933260: 0.3046665261249758, 945961: 0.3046665261249758, 1022789: 0.0, 1029235: 0.17707233134087758, 1034541: 0.12759419478409825, 1051896: 0.0, 1084736: 0.0, 1184918: 0.17707233134087758}\n",
            "User Pringo Predictions (Discounted): {124364: 0.0, 153312: 0.0, 335983: 0.20768317899423192, 354912: 0.0, 420634: 0.0, 519182: 0.0, 580489: 0.2349666947283215, 698687: 0.0, 889737: 0.20768317899423192, 912649: 0.0, 933260: 0.0, 945961: 0.0, 1022789: 0.0, 1029235: 0.0, 1034541: 0.0, 1051896: 0.0, 1084736: 0.0, 1184918: 0.0}\n",
            "User RADIO1'S MR. MOVIE!-MAD AMI 🌠 Predictions (Discounted): {124364: 0.0, 153312: 0.0, 335983: 0.5578969173850801, 354912: 0.3316414682876672, 420634: 0.2816436768151791, 519182: 0.4200816637001341, 533535: 0.9779785810852143, 698687: 0.13165030239771477, 889737: 0.3316414682876672, 912649: 0.2816436768151791, 933260: 0.2816436768151791, 945961: 0.2816436768151791, 1022789: 0.7085130250025534, 1029235: 0.0, 1034541: 0.2816436768151791, 1051896: 0.13165030239771477, 1084736: 0.13165030239771477, 1184918: 0.13165030239771477}\n",
            "User Sean Predictions (Discounted): {124364: 0.0, 153312: 0.0, 335983: 0.20768317899423192, 354912: 0.0, 420634: 0.0, 519182: 0.0, 580489: 0.2349666947283215, 698687: 0.0, 889737: 0.20768317899423192, 912649: 0.0, 933260: 0.0, 945961: 0.0, 1022789: 0.0, 1029235: 0.0, 1034541: 0.0, 1051896: 0.0, 1084736: 0.0, 1184918: 0.0}\n",
            "User SenkaM Predictions (Discounted): {153312: 0.0, 335983: 0.0, 354912: 0.0, 420634: 0.0, 519182: 0.0, 533535: 0.0, 580489: 0.0, 698687: 0.0, 889737: 0.0, 912649: 0.0, 933260: 0.0, 945961: 0.0, 1022789: 0.0, 1029235: 0.0, 1034541: 0.0, 1051896: 0.0, 1084736: 0.0, 1184918: 0.0}\n",
            "User StudiedAsleep Predictions (Discounted): {153312: 0.0, 335983: 0.0, 354912: 0.0, 420634: 0.0, 519182: 0.0, 533535: 0.0, 580489: 0.0, 698687: 0.0, 889737: 0.0, 912649: 0.0, 933260: 0.0, 945961: 0.0, 1022789: 0.0, 1029235: 0.0, 1034541: 0.0, 1051896: 0.0, 1084736: 0.0, 1184918: 0.0}\n",
            "User TheSceneSnobs Predictions (Discounted): {124364: 0.0, 153312: 0.0, 335983: 0.0, 354912: 0.2584480664717051, 420634: 0.2584480664717051, 580489: 0.6477321153346106, 698687: 0.2584480664717051, 889737: 0.2584480664717051, 912649: 0.2584480664717051, 933260: 0.2584480664717051, 945961: 0.2584480664717051, 1029235: 0.0, 1034541: 0.2584480664717051, 1084736: 0.2584480664717051, 1184918: 0.2584480664717051}\n",
            "User UWotMatez Predictions (Discounted): {124364: 0.0, 153312: 0.0, 335983: 0.0, 354912: 0.20219223951575344, 420634: 0.20219223951575344, 533535: 1.1843771638922833, 580489: 0.6451732416568157, 698687: 0.20219223951575344, 889737: 0.20219223951575344, 912649: 0.20219223951575344, 933260: 0.20219223951575344, 945961: 0.7559184921920812, 1022789: 1.663186570946778, 1029235: 0.0, 1034541: 0.20219223951575344, 1051896: 0.5937358277042004, 1084736: 0.20219223951575344, 1184918: 0.20219223951575344}\n",
            "User YearOneFun Predictions (Discounted): {124364: 0.0, 153312: 0.0, 335983: 0.7353333965737829, 354912: 0.7175992499502143, 420634: 0.5974957764061659, 519182: 0.23718535577402122, 533535: 1.7063620911812967, 580489: 0.5974957764061659, 698687: 0.23718535577402122, 912649: 0.5974957764061659, 933260: 1.4318262187863366, 945961: 0.9725187523478042, 1022789: 0.23718535577402122, 1029235: 0.3750229759416382, 1034541: 0.5974957764061659, 1051896: 0.23718535577402122, 1084736: 0.23718535577402122, 1184918: 1.0715157981541918}\n",
            "User aGoryLouie Predictions (Discounted): {124364: 0.0, 153312: 0.0, 335983: 0.0, 354912: 0.0, 420634: 0.0, 519182: 0.0, 580489: 0.0, 698687: 0.0, 912649: 0.0, 933260: 0.27272727272727276, 945961: 0.0, 1022789: 0.0, 1029235: 0.0, 1034541: 0.0, 1051896: 0.0, 1084736: 0.0, 1184918: 0.27272727272727276}\n",
            "User albuainain Predictions (Discounted): {124364: 0.0, 153312: 0.0, 335983: 0.20768317899423192, 354912: 0.0, 420634: 0.0, 519182: 0.0, 580489: 0.2349666947283215, 698687: 0.0, 889737: 0.20768317899423192, 912649: 0.0, 933260: 0.0, 945961: 0.0, 1022789: 0.0, 1029235: 0.0, 1034541: 0.0, 1051896: 0.0, 1084736: 0.0, 1184918: 0.0}\n",
            "User biancarockr Predictions (Discounted): {124364: 0.0, 153312: 0.0, 335983: 0.7353333965737829, 354912: 0.7175992499502143, 420634: 0.5974957764061659, 519182: 0.23718535577402122, 533535: 1.7063620911812967, 580489: 0.5974957764061659, 698687: 0.23718535577402122, 912649: 0.5974957764061659, 933260: 1.4318262187863366, 945961: 0.9725187523478042, 1022789: 0.23718535577402122, 1029235: 0.3750229759416382, 1034541: 0.5974957764061659, 1051896: 0.23718535577402122, 1084736: 0.23718535577402122, 1184918: 1.0715157981541918}\n",
            "User davidrobitaille Predictions (Discounted): {124364: 0.0, 153312: 0.0, 335983: 0.20768317899423192, 354912: 0.0, 420634: 0.0, 519182: 0.0, 580489: 0.2349666947283215, 698687: 0.0, 889737: 0.20768317899423192, 912649: 0.0, 933260: 0.0, 945961: 0.0, 1022789: 0.0, 1029235: 0.0, 1034541: 0.0, 1051896: 0.0, 1084736: 0.0, 1184918: 0.0}\n",
            "User furious_iz Predictions (Discounted): {124364: 0.0, 153312: 0.0, 335983: 1.3989243170762888, 420634: 0.8276827473109628, 519182: 0.3285616980755349, 533535: 0.8276827473109628, 580489: 0.8276827473109628, 698687: 0.3285616980755349, 889737: 0.9940564303894389, 912649: 0.8276827473109628, 933260: 0.8276827473109628, 945961: 0.8276827473109628, 1022789: 0.3285616980755349, 1029235: 0.0, 1034541: 0.8276827473109628, 1051896: 0.3285616980755349, 1084736: 0.3285616980755349, 1184918: 0.3285616980755349}\n",
            "User garethmb Predictions (Discounted): {124364: 0.0, 153312: 0.0, 335983: 0.0, 354912: 0.0, 420634: 0.0, 519182: 0.5766130591918575, 533535: 0.5766130591918575, 698687: 0.0, 889737: 0.0, 912649: 0.0, 933260: 0.0, 945961: 0.0, 1029235: 0.0, 1034541: 0.0, 1051896: 0.0, 1084736: 0.0, 1184918: 0.0}\n",
            "User good.film Predictions (Discounted): {124364: 0.0, 153312: 0.0, 335983: 0.7369270109038714, 354912: 0.6028735395411267, 420634: 0.9334456025420803, 519182: 0.3426285067431881, 533535: 1.2013095316177835, 580489: 0.537812281341642, 698687: 0.3426285067431881, 889737: 1.8081140261226856, 912649: 0.537812281341642, 945961: 1.0795555176470593, 1022789: 0.3426285067431881, 1029235: 0.5417432363054173, 1034541: 0.537812281341642, 1051896: 0.3426285067431881, 1084736: 0.3426285067431881}\n",
            "User griggs79 Predictions (Discounted): {124364: 0.0, 153312: 0.0, 335983: 0.7400092621134043, 354912: 0.8498875455088324, 519182: 0.33737624232575547, 533535: 1.1573105756909594, 580489: 0.7217597197130631, 698687: 0.33737624232575547, 889737: 1.641064186212825, 912649: 0.7217597197130631, 945961: 1.0773855044391598, 1022789: 0.33737624232575547, 1029235: 0.3556257847260966, 1034541: 0.7217597197130631, 1051896: 0.33737624232575547, 1084736: 0.33737624232575547, 1184918: 1.7445148106568997}\n",
            "User gurteksingh Predictions (Discounted): {124364: 0.0, 153312: 0.0, 354912: 0.47682386754253514, 420634: 0.12759419478409825, 519182: 0.0, 533535: 0.43429246928116905, 580489: 0.4745836822642453, 698687: 0.0, 889737: 0.3471979243863419, 912649: 0.12759419478409825, 933260: 0.3046665261249758, 945961: 0.3046665261249758, 1022789: 0.0, 1029235: 0.17707233134087758, 1034541: 0.12759419478409825, 1051896: 0.0, 1084736: 0.0, 1184918: 0.17707233134087758}\n",
            "User heyitsmestoney Predictions (Discounted): {124364: 0.0, 153312: 0.0, 335983: 0.0, 354912: 0.14110334798141852, 420634: 0.14110334798141852, 519182: 1.1606834863711013, 533535: 0.7234907529101863, 580489: 0.7593872410128102, 698687: 0.14110334798141852, 889737: 0.14110334798141852, 912649: 0.14110334798141852, 933260: 0.14110334798141852, 945961: 0.14110334798141852, 1029235: 0.0, 1034541: 0.14110334798141852, 1051896: 0.4143488063944904, 1084736: 0.14110334798141852, 1184918: 0.14110334798141852}\n",
            "User immortal101 Predictions (Discounted): {124364: 0.0, 153312: 0.0, 335983: 0.20768317899423192, 354912: 0.0, 420634: 0.0, 519182: 0.0, 580489: 0.2349666947283215, 698687: 0.0, 889737: 0.20768317899423192, 912649: 0.0, 933260: 0.0, 945961: 0.0, 1022789: 0.0, 1029235: 0.0, 1034541: 0.0, 1051896: 0.0, 1084736: 0.0, 1184918: 0.0}\n",
            "User javajohnny Predictions (Discounted): {124364: 0.0, 153312: 0.0, 354912: 0.47682386754253514, 420634: 0.12759419478409825, 519182: 0.0, 533535: 0.43429246928116905, 580489: 0.4745836822642453, 698687: 0.0, 889737: 0.3471979243863419, 912649: 0.12759419478409825, 933260: 0.3046665261249758, 945961: 0.3046665261249758, 1022789: 0.0, 1029235: 0.17707233134087758, 1034541: 0.12759419478409825, 1051896: 0.0, 1084736: 0.0, 1184918: 0.17707233134087758}\n",
            "User lancethedealer Predictions (Discounted): {124364: 0.0, 153312: 0.0, 354912: 0.47682386754253514, 420634: 0.12759419478409825, 519182: 0.0, 533535: 0.43429246928116905, 580489: 0.4745836822642453, 698687: 0.0, 889737: 0.3471979243863419, 912649: 0.12759419478409825, 933260: 0.3046665261249758, 945961: 0.3046665261249758, 1022789: 0.0, 1029235: 0.17707233134087758, 1034541: 0.12759419478409825, 1051896: 0.0, 1084736: 0.0, 1184918: 0.17707233134087758}\n",
            "User minion196 Predictions (Discounted): {124364: 0.0, 153312: 0.0, 335983: 0.0, 354912: 0.14110334798141852, 420634: 0.14110334798141852, 519182: 1.1606834863711013, 533535: 0.7234907529101863, 580489: 0.7593872410128102, 698687: 0.14110334798141852, 889737: 0.14110334798141852, 912649: 0.14110334798141852, 933260: 0.14110334798141852, 945961: 0.14110334798141852, 1029235: 0.0, 1034541: 0.14110334798141852, 1051896: 0.4143488063944904, 1084736: 0.14110334798141852, 1184918: 0.14110334798141852}\n",
            "User moviepoptime Predictions (Discounted): {124364: 0.0, 153312: 0.0, 335983: 0.0, 354912: 0.14110334798141852, 420634: 0.14110334798141852, 519182: 1.1606834863711013, 533535: 0.7234907529101863, 580489: 0.7593872410128102, 698687: 0.14110334798141852, 889737: 0.14110334798141852, 912649: 0.14110334798141852, 933260: 0.14110334798141852, 945961: 0.14110334798141852, 1029235: 0.0, 1034541: 0.14110334798141852, 1051896: 0.4143488063944904, 1084736: 0.14110334798141852, 1184918: 0.14110334798141852}\n",
            "User priya_ Predictions (Discounted): {124364: 0.0, 153312: 0.0, 335983: 1.3989243170762888, 420634: 0.8276827473109628, 519182: 0.3285616980755349, 533535: 0.8276827473109628, 580489: 0.8276827473109628, 698687: 0.3285616980755349, 889737: 0.9940564303894389, 912649: 0.8276827473109628, 933260: 0.8276827473109628, 945961: 0.8276827473109628, 1022789: 0.3285616980755349, 1029235: 0.0, 1034541: 0.8276827473109628, 1051896: 0.3285616980755349, 1084736: 0.3285616980755349, 1184918: 0.3285616980755349}\n",
            "User r96sk Predictions (Discounted): {124364: 0.0, 153312: 0.0, 519182: 0.4289996644504351, 698687: 0.4289996644504351, 1022789: 0.4289996644504351, 1029235: 0.30406911580081786, 1051896: 0.4289996644504351, 1084736: 0.4289996644504351, 1184918: 1.0195357726555814}\n",
            "User rvsxwgn64 Predictions (Discounted): {124364: 0.0, 153312: 0.0, 335983: 0.20768317899423192, 354912: 0.0, 420634: 0.0, 519182: 0.0, 580489: 0.2349666947283215, 698687: 0.0, 889737: 0.20768317899423192, 912649: 0.0, 933260: 0.0, 945961: 0.0, 1022789: 0.0, 1029235: 0.0, 1034541: 0.0, 1051896: 0.0, 1084736: 0.0, 1184918: 0.0}\n",
            "User shammahrashad Predictions (Discounted): {124364: 0.0, 153312: 0.0, 335983: 0.20768317899423192, 354912: 0.0, 420634: 0.0, 519182: 0.0, 580489: 0.2349666947283215, 698687: 0.0, 889737: 0.20768317899423192, 912649: 0.0, 933260: 0.0, 945961: 0.0, 1022789: 0.0, 1029235: 0.0, 1034541: 0.0, 1051896: 0.0, 1084736: 0.0, 1184918: 0.0}\n",
            "User tmdb51616167 Predictions (Discounted): {124364: 0.0, 153312: 0.0, 335983: 0.20768317899423192, 354912: 0.0, 420634: 0.0, 519182: 0.0, 580489: 0.2349666947283215, 698687: 0.0, 889737: 0.20768317899423192, 912649: 0.0, 933260: 0.0, 945961: 0.0, 1022789: 0.0, 1029235: 0.0, 1034541: 0.0, 1051896: 0.0, 1084736: 0.0, 1184918: 0.0}\n"
          ]
        }
      ],
      "source": [
        "\n",
        "for user in top_users.keys():\n",
        "    predictions_discounted = predict_ratings(user, discounted_similarity_df, user_item_matrix, top_users)\n",
        "    print(f\"User {user} Predictions (Discounted): {predictions_discounted}\")\n"
      ]
    },
    {
      "cell_type": "markdown",
      "metadata": {
        "id": "VWedG21tKsxM"
      },
      "source": [
        "# Case Study 1.2: Cosine Similarity With Mean-Centering\n"
      ]
    },
    {
      "cell_type": "code",
      "execution_count": 36,
      "metadata": {
        "colab": {
          "base_uri": "https://localhost:8080/"
        },
        "id": "h1sEFi0yE9GD",
        "outputId": "f138340a-3ea3-4223-803e-3821a343dce5"
      },
      "outputs": [
        {
          "name": "stdout",
          "output_type": "stream",
          "text": [
            "Cosine Similarity Matrix (With Mean-Centering):\n",
            "author             Ahmad      Alex  BiankaMalburg  Brent Marchant       Cal  \\\n",
            "author                                                                        \n",
            "Ahmad           0.000000  1.000000      -0.055556       -0.121716 -0.055556   \n",
            "Alex            1.000000  0.000000      -0.055556       -0.121716 -0.055556   \n",
            "BiankaMalburg  -0.055556 -0.055556       0.000000        0.456435 -0.055556   \n",
            "Brent Marchant -0.121716 -0.121716       0.456435        0.000000 -0.121716   \n",
            "Cal            -0.055556 -0.055556      -0.055556       -0.121716  0.000000   \n",
            "\n",
            "author          Carlos G Diaz  Chandler Danier  Chris Sawin  CinemaSerf  \\\n",
            "author                                                                    \n",
            "Ahmad               -0.055556        -0.055556    -0.120173   -0.456435   \n",
            "Alex                -0.055556        -0.055556    -0.120173   -0.456435   \n",
            "BiankaMalburg       -0.055556        -0.055556    -0.120173    0.121716   \n",
            "Brent Marchant      -0.121716        -0.121716     0.094030    0.266667   \n",
            "Cal                 -0.055556        -0.055556     0.369102    0.121716   \n",
            "\n",
            "author          DallasBob  ...  immortal101  javajohnny  lancethedealer  \\\n",
            "author                     ...                                            \n",
            "Ahmad           -0.055556  ...    -0.055556   -0.055556       -0.055556   \n",
            "Alex            -0.055556  ...    -0.055556   -0.055556       -0.055556   \n",
            "BiankaMalburg   -0.055556  ...    -0.055556   -0.055556       -0.055556   \n",
            "Brent Marchant  -0.121716  ...     0.456435   -0.121716       -0.121716   \n",
            "Cal              1.000000  ...    -0.055556   -0.055556       -0.055556   \n",
            "\n",
            "author          minion196  moviepoptime    priya_     r96sk  rvsxwgn64  \\\n",
            "author                                                                   \n",
            "Ahmad           -0.055556     -0.055556 -0.055556 -0.244453  -0.055556   \n",
            "Alex            -0.055556     -0.055556 -0.055556 -0.244453  -0.055556   \n",
            "BiankaMalburg   -0.055556     -0.055556 -0.055556 -0.244453  -0.055556   \n",
            "Brent Marchant  -0.121716     -0.121716 -0.121716  0.259416   0.456435   \n",
            "Cal             -0.055556     -0.055556 -0.055556  0.190979  -0.055556   \n",
            "\n",
            "author          shammahrashad  tmdb51616167  \n",
            "author                                       \n",
            "Ahmad               -0.055556     -0.055556  \n",
            "Alex                -0.055556     -0.055556  \n",
            "BiankaMalburg       -0.055556     -0.055556  \n",
            "Brent Marchant       0.456435      0.456435  \n",
            "Cal                 -0.055556     -0.055556  \n",
            "\n",
            "[5 rows x 56 columns]\n"
          ]
        }
      ],
      "source": [
        "\n",
        "mean_centered_matrix = user_item_matrix.subtract(user_item_matrix.mean(axis=1), axis=0)\n",
        "\n",
        "cosine_sim_centered = cosine_similarity(mean_centered_matrix.fillna(0))\n",
        "np.fill_diagonal(cosine_sim_centered, 0)\n",
        "\n",
        "cosine_sim_centered_df = pd.DataFrame(cosine_sim_centered, index=user_item_matrix.index, columns=user_item_matrix.index)\n",
        "print(\"Cosine Similarity Matrix (With Mean-Centering):\")\n",
        "print(cosine_sim_centered_df.head())\n"
      ]
    },
    {
      "cell_type": "code",
      "execution_count": 37,
      "metadata": {
        "id": "TrY7h2OzLAHy"
      },
      "outputs": [],
      "source": [
        "\n",
        "mean_centered_matrix = user_item_matrix.subtract(user_item_matrix.mean(axis=1), axis=0)\n"
      ]
    },
    {
      "cell_type": "code",
      "execution_count": 38,
      "metadata": {
        "colab": {
          "base_uri": "https://localhost:8080/"
        },
        "id": "8R9AEVVrLGVL",
        "outputId": "6f678d70-c015-40bb-8875-01e12c8c1929"
      },
      "outputs": [
        {
          "name": "stdout",
          "output_type": "stream",
          "text": [
            "Cosine Similarity Matrix (With Mean-Centering):\n",
            "author             Ahmad      Alex  BiankaMalburg  Brent Marchant       Cal  \\\n",
            "author                                                                        \n",
            "Ahmad           0.000000  1.000000      -0.055556       -0.121716 -0.055556   \n",
            "Alex            1.000000  0.000000      -0.055556       -0.121716 -0.055556   \n",
            "BiankaMalburg  -0.055556 -0.055556       0.000000        0.456435 -0.055556   \n",
            "Brent Marchant -0.121716 -0.121716       0.456435        0.000000 -0.121716   \n",
            "Cal            -0.055556 -0.055556      -0.055556       -0.121716  0.000000   \n",
            "\n",
            "author          Carlos G Diaz  Chandler Danier  Chris Sawin  CinemaSerf  \\\n",
            "author                                                                    \n",
            "Ahmad               -0.055556        -0.055556    -0.120173   -0.456435   \n",
            "Alex                -0.055556        -0.055556    -0.120173   -0.456435   \n",
            "BiankaMalburg       -0.055556        -0.055556    -0.120173    0.121716   \n",
            "Brent Marchant      -0.121716        -0.121716     0.094030    0.266667   \n",
            "Cal                 -0.055556        -0.055556     0.369102    0.121716   \n",
            "\n",
            "author          DallasBob  ...  immortal101  javajohnny  lancethedealer  \\\n",
            "author                     ...                                            \n",
            "Ahmad           -0.055556  ...    -0.055556   -0.055556       -0.055556   \n",
            "Alex            -0.055556  ...    -0.055556   -0.055556       -0.055556   \n",
            "BiankaMalburg   -0.055556  ...    -0.055556   -0.055556       -0.055556   \n",
            "Brent Marchant  -0.121716  ...     0.456435   -0.121716       -0.121716   \n",
            "Cal              1.000000  ...    -0.055556   -0.055556       -0.055556   \n",
            "\n",
            "author          minion196  moviepoptime    priya_     r96sk  rvsxwgn64  \\\n",
            "author                                                                   \n",
            "Ahmad           -0.055556     -0.055556 -0.055556 -0.244453  -0.055556   \n",
            "Alex            -0.055556     -0.055556 -0.055556 -0.244453  -0.055556   \n",
            "BiankaMalburg   -0.055556     -0.055556 -0.055556 -0.244453  -0.055556   \n",
            "Brent Marchant  -0.121716     -0.121716 -0.121716  0.259416   0.456435   \n",
            "Cal             -0.055556     -0.055556 -0.055556  0.190979  -0.055556   \n",
            "\n",
            "author          shammahrashad  tmdb51616167  \n",
            "author                                       \n",
            "Ahmad               -0.055556     -0.055556  \n",
            "Alex                -0.055556     -0.055556  \n",
            "BiankaMalburg       -0.055556     -0.055556  \n",
            "Brent Marchant       0.456435      0.456435  \n",
            "Cal                 -0.055556     -0.055556  \n",
            "\n",
            "[5 rows x 56 columns]\n"
          ]
        }
      ],
      "source": [
        "\n",
        "cosine_sim_centered = cosine_similarity(mean_centered_matrix.fillna(0))\n",
        "np.fill_diagonal(cosine_sim_centered, 0)  \n",
        "\n",
        "cosine_sim_centered_df = pd.DataFrame(cosine_sim_centered,\n",
        "                                      index=user_item_matrix.index,\n",
        "                                      columns=user_item_matrix.index)\n",
        "\n",
        "print(\"Cosine Similarity Matrix (With Mean-Centering):\")\n",
        "print(cosine_sim_centered_df.head())\n"
      ]
    },
    {
      "cell_type": "code",
      "execution_count": 39,
      "metadata": {
        "colab": {
          "base_uri": "https://localhost:8080/"
        },
        "id": "gpLVnKZBLQaq",
        "outputId": "5991ce5d-50bb-44de-bbce-800547b61483"
      },
      "outputs": [
        {
          "name": "stdout",
          "output_type": "stream",
          "text": [
            "User Ahmad: Top 20% Closest Neighbors (Mean-Centered): ['SenkaM', 'StudiedAsleep', 'Alex', 'Ahmad', 'Carlos G Diaz', 'DonGable', 'Josh', 'Nathan', 'Per Gunnar Jonsson', 'Pringo', 'UWotMatez']\n",
            "User Alex: Top 20% Closest Neighbors (Mean-Centered): ['SenkaM', 'StudiedAsleep', 'Ahmad', 'Alex', 'Carlos G Diaz', 'DonGable', 'Josh', 'Nathan', 'Per Gunnar Jonsson', 'Pringo', 'UWotMatez']\n",
            "User BiankaMalburg: Top 20% Closest Neighbors (Mean-Centered): ['good.film', 'Brent Marchant', 'Manuel São Bento', 'CinemaSerf', 'BiankaMalburg', 'Ahmad', 'Alex', 'Per Gunnar Jonsson', 'furious_iz', 'gurteksingh', 'javajohnny']\n"
          ]
        }
      ],
      "source": [
        "\n",
        "top_k = int(0.2 * len(user_item_matrix)) \n",
        "\n",
        "def get_top_neighbors(similarity_df, top_k):\n",
        "    return {\n",
        "        user: similarity_df.loc[user].nlargest(top_k).index.tolist()\n",
        "        for user in similarity_df.index\n",
        "    }\n",
        "\n",
        "top_neighbors_centered = get_top_neighbors(cosine_sim_centered_df, top_k)\n",
        "\n",
        "\n",
        "for user in list(user_item_matrix.index)[:3]:\n",
        "    print(f\"User {user}: Top 20% Closest Neighbors (Mean-Centered): {top_neighbors_centered[user]}\")\n"
      ]
    },
    {
      "cell_type": "code",
      "execution_count": 40,
      "metadata": {
        "colab": {
          "base_uri": "https://localhost:8080/"
        },
        "id": "ARCKEES2Lg1Q",
        "outputId": "99c164db-26bd-47b0-f14d-bc25600b46dc"
      },
      "outputs": [
        {
          "name": "stdout",
          "output_type": "stream",
          "text": [
            "Predicted Ratings for User Ahmad (Mean-Centered): {153312: 0.0, 335983: -0.06382978723404248, 354912: 0.0, 420634: -0.12765957446808496, 519182: -0.12765957446808496, 533535: -0.12765957446808496, 580489: 0.0, 698687: 0.0, 889737: 0.0, 912649: 0.0, 933260: 0.0, 945961: 0.0, 1022789: 0.0, 1029235: 0.0, 1034541: 0.0, 1051896: 0.0, 1084736: 0.0, 1184918: 0.0}\n"
          ]
        }
      ],
      "source": [
        "\n",
        "def predict_ratings(user, similarity_df, matrix, top_k):\n",
        "    predictions = {}\n",
        "    neighbors = similarity_df.loc[user].nlargest(top_k).index\n",
        "    for item in matrix.columns:\n",
        "        if matrix.loc[user, item] == 0:  \n",
        "            weights = similarity_df.loc[user, neighbors]\n",
        "            ratings = matrix.loc[neighbors, item]\n",
        "            predictions[item] = np.dot(weights, ratings) / weights.sum() if weights.sum() > 0 else 0\n",
        "    return predictions\n",
        "\n",
        "\n",
        "user_example = user_item_matrix.index[0]\n",
        "predictions_centered = predict_ratings(user_example, cosine_sim_centered_df, user_item_matrix, top_k)\n",
        "\n",
        "print(f\"Predicted Ratings for User {user_example} (Mean-Centered): {predictions_centered}\")\n"
      ]
    },
    {
      "cell_type": "code",
      "execution_count": 41,
      "metadata": {
        "colab": {
          "base_uri": "https://localhost:8080/"
        },
        "id": "ddjohkp8LlG2",
        "outputId": "882df3aa-91ab-4ce6-b4c1-084b8a7ef7e1"
      },
      "outputs": [
        {
          "name": "stdout",
          "output_type": "stream",
          "text": [
            "Discounted Cosine Similarity Matrix (Mean-Centered):\n",
            "author             Ahmad      Alex  BiankaMalburg  Brent Marchant       Cal  \\\n",
            "author                                                                        \n",
            "Ahmad           0.000000  0.850000      -0.047222       -0.103459 -0.047222   \n",
            "Alex            0.850000  0.000000      -0.047222       -0.103459 -0.047222   \n",
            "BiankaMalburg  -0.047222 -0.047222       0.000000        0.387970 -0.047222   \n",
            "Brent Marchant -0.103459 -0.103459       0.387970        0.000000 -0.103459   \n",
            "Cal            -0.047222 -0.047222      -0.047222       -0.103459  0.000000   \n",
            "\n",
            "author          Carlos G Diaz  Chandler Danier  Chris Sawin  CinemaSerf  \\\n",
            "author                                                                    \n",
            "Ahmad               -0.047222        -0.047222    -0.102147   -0.387970   \n",
            "Alex                -0.047222        -0.047222    -0.102147   -0.387970   \n",
            "BiankaMalburg       -0.047222        -0.047222    -0.102147    0.103459   \n",
            "Brent Marchant      -0.103459        -0.103459     0.079926    0.226667   \n",
            "Cal                 -0.047222        -0.047222     0.313737    0.103459   \n",
            "\n",
            "author          DallasBob  ...  immortal101  javajohnny  lancethedealer  \\\n",
            "author                     ...                                            \n",
            "Ahmad           -0.047222  ...    -0.047222   -0.047222       -0.047222   \n",
            "Alex            -0.047222  ...    -0.047222   -0.047222       -0.047222   \n",
            "BiankaMalburg   -0.047222  ...    -0.047222   -0.047222       -0.047222   \n",
            "Brent Marchant  -0.103459  ...     0.387970   -0.103459       -0.103459   \n",
            "Cal              0.850000  ...    -0.047222   -0.047222       -0.047222   \n",
            "\n",
            "author          minion196  moviepoptime    priya_     r96sk  rvsxwgn64  \\\n",
            "author                                                                   \n",
            "Ahmad           -0.047222     -0.047222 -0.047222 -0.207785  -0.047222   \n",
            "Alex            -0.047222     -0.047222 -0.047222 -0.207785  -0.047222   \n",
            "BiankaMalburg   -0.047222     -0.047222 -0.047222 -0.207785  -0.047222   \n",
            "Brent Marchant  -0.103459     -0.103459 -0.103459  0.220504   0.387970   \n",
            "Cal             -0.047222     -0.047222 -0.047222  0.162332  -0.047222   \n",
            "\n",
            "author          shammahrashad  tmdb51616167  \n",
            "author                                       \n",
            "Ahmad               -0.047222     -0.047222  \n",
            "Alex                -0.047222     -0.047222  \n",
            "BiankaMalburg       -0.047222     -0.047222  \n",
            "Brent Marchant       0.387970      0.387970  \n",
            "Cal                 -0.047222     -0.047222  \n",
            "\n",
            "[5 rows x 56 columns]\n"
          ]
        }
      ],
      "source": [
        "\n",
        "def apply_discount(similarity_df, beta=0.85):\n",
        "    return similarity_df * beta\n",
        "\n",
        "\n",
        "discounted_cosine_sim_centered = apply_discount(cosine_sim_centered_df, beta=0.85)\n",
        "\n",
        "print(\"Discounted Cosine Similarity Matrix (Mean-Centered):\")\n",
        "print(discounted_cosine_sim_centered.head())\n"
      ]
    },
    {
      "cell_type": "code",
      "execution_count": 42,
      "metadata": {
        "colab": {
          "base_uri": "https://localhost:8080/"
        },
        "id": "OYZCRBiHLnQP",
        "outputId": "0e982548-275b-427c-9e1c-a2e3ea5d3bec"
      },
      "outputs": [
        {
          "name": "stdout",
          "output_type": "stream",
          "text": [
            "User Ahmad: Top 20% Closest Neighbors (Discounted, Mean-Centered): ['SenkaM', 'StudiedAsleep', 'Alex', 'Ahmad', 'Carlos G Diaz', 'DonGable', 'Josh', 'Nathan', 'Per Gunnar Jonsson', 'Pringo', 'UWotMatez']\n",
            "User Alex: Top 20% Closest Neighbors (Discounted, Mean-Centered): ['SenkaM', 'StudiedAsleep', 'Ahmad', 'Alex', 'Carlos G Diaz', 'DonGable', 'Josh', 'Nathan', 'Per Gunnar Jonsson', 'Pringo', 'UWotMatez']\n",
            "User BiankaMalburg: Top 20% Closest Neighbors (Discounted, Mean-Centered): ['good.film', 'Brent Marchant', 'Manuel São Bento', 'CinemaSerf', 'BiankaMalburg', 'Ahmad', 'Alex', 'Per Gunnar Jonsson', 'furious_iz', 'gurteksingh', 'javajohnny']\n"
          ]
        }
      ],
      "source": [
        "\n",
        "top_neighbors_discounted_centered = get_top_neighbors(discounted_cosine_sim_centered, top_k)\n",
        "\n",
        "for user in list(user_item_matrix.index)[:3]:\n",
        "    print(f\"User {user}: Top 20% Closest Neighbors (Discounted, Mean-Centered): {top_neighbors_discounted_centered[user]}\")\n"
      ]
    }
  ],
  "metadata": {
    "colab": {
      "provenance": []
    },
    "kernelspec": {
      "display_name": "Python 3",
      "name": "python3"
    },
    "language_info": {
      "name": "python"
    }
  },
  "nbformat": 4,
  "nbformat_minor": 0
}

{
  "nbformat": 4,
  "nbformat_minor": 0,
  "metadata": {
    "colab": {
      "provenance": []
    },
    "kernelspec": {
      "name": "python3",
      "display_name": "Python 3"
    },
    "language_info": {
      "name": "python"
    }
  },
  "cells": [
    {
      "cell_type": "code",
      "source": [
        "import random"
      ],
      "metadata": {
        "id": "koj4hZbV5I7Y"
      },
      "execution_count": 1,
      "outputs": []
    },
    {
      "cell_type": "code",
      "source": [
        "from google.colab import files\n",
        "uploaded = files.upload()\n"
      ],
      "metadata": {
        "colab": {
          "base_uri": "https://localhost:8080/",
          "height": 73
        },
        "id": "Ar2o9AygBW-W",
        "outputId": "eb921223-ca39-4fab-a591-069fe3cd0123"
      },
      "execution_count": 2,
      "outputs": [
        {
          "output_type": "display_data",
          "data": {
            "text/plain": [
              "<IPython.core.display.HTML object>"
            ],
            "text/html": [
              "\n",
              "     <input type=\"file\" id=\"files-03a0c6fb-6c01-4c85-9ae9-f1d79d01746a\" name=\"files[]\" multiple disabled\n",
              "        style=\"border:none\" />\n",
              "     <output id=\"result-03a0c6fb-6c01-4c85-9ae9-f1d79d01746a\">\n",
              "      Upload widget is only available when the cell has been executed in the\n",
              "      current browser session. Please rerun this cell to enable.\n",
              "      </output>\n",
              "      <script>// Copyright 2017 Google LLC\n",
              "//\n",
              "// Licensed under the Apache License, Version 2.0 (the \"License\");\n",
              "// you may not use this file except in compliance with the License.\n",
              "// You may obtain a copy of the License at\n",
              "//\n",
              "//      http://www.apache.org/licenses/LICENSE-2.0\n",
              "//\n",
              "// Unless required by applicable law or agreed to in writing, software\n",
              "// distributed under the License is distributed on an \"AS IS\" BASIS,\n",
              "// WITHOUT WARRANTIES OR CONDITIONS OF ANY KIND, either express or implied.\n",
              "// See the License for the specific language governing permissions and\n",
              "// limitations under the License.\n",
              "\n",
              "/**\n",
              " * @fileoverview Helpers for google.colab Python module.\n",
              " */\n",
              "(function(scope) {\n",
              "function span(text, styleAttributes = {}) {\n",
              "  const element = document.createElement('span');\n",
              "  element.textContent = text;\n",
              "  for (const key of Object.keys(styleAttributes)) {\n",
              "    element.style[key] = styleAttributes[key];\n",
              "  }\n",
              "  return element;\n",
              "}\n",
              "\n",
              "// Max number of bytes which will be uploaded at a time.\n",
              "const MAX_PAYLOAD_SIZE = 100 * 1024;\n",
              "\n",
              "function _uploadFiles(inputId, outputId) {\n",
              "  const steps = uploadFilesStep(inputId, outputId);\n",
              "  const outputElement = document.getElementById(outputId);\n",
              "  // Cache steps on the outputElement to make it available for the next call\n",
              "  // to uploadFilesContinue from Python.\n",
              "  outputElement.steps = steps;\n",
              "\n",
              "  return _uploadFilesContinue(outputId);\n",
              "}\n",
              "\n",
              "// This is roughly an async generator (not supported in the browser yet),\n",
              "// where there are multiple asynchronous steps and the Python side is going\n",
              "// to poll for completion of each step.\n",
              "// This uses a Promise to block the python side on completion of each step,\n",
              "// then passes the result of the previous step as the input to the next step.\n",
              "function _uploadFilesContinue(outputId) {\n",
              "  const outputElement = document.getElementById(outputId);\n",
              "  const steps = outputElement.steps;\n",
              "\n",
              "  const next = steps.next(outputElement.lastPromiseValue);\n",
              "  return Promise.resolve(next.value.promise).then((value) => {\n",
              "    // Cache the last promise value to make it available to the next\n",
              "    // step of the generator.\n",
              "    outputElement.lastPromiseValue = value;\n",
              "    return next.value.response;\n",
              "  });\n",
              "}\n",
              "\n",
              "/**\n",
              " * Generator function which is called between each async step of the upload\n",
              " * process.\n",
              " * @param {string} inputId Element ID of the input file picker element.\n",
              " * @param {string} outputId Element ID of the output display.\n",
              " * @return {!Iterable<!Object>} Iterable of next steps.\n",
              " */\n",
              "function* uploadFilesStep(inputId, outputId) {\n",
              "  const inputElement = document.getElementById(inputId);\n",
              "  inputElement.disabled = false;\n",
              "\n",
              "  const outputElement = document.getElementById(outputId);\n",
              "  outputElement.innerHTML = '';\n",
              "\n",
              "  const pickedPromise = new Promise((resolve) => {\n",
              "    inputElement.addEventListener('change', (e) => {\n",
              "      resolve(e.target.files);\n",
              "    });\n",
              "  });\n",
              "\n",
              "  const cancel = document.createElement('button');\n",
              "  inputElement.parentElement.appendChild(cancel);\n",
              "  cancel.textContent = 'Cancel upload';\n",
              "  const cancelPromise = new Promise((resolve) => {\n",
              "    cancel.onclick = () => {\n",
              "      resolve(null);\n",
              "    };\n",
              "  });\n",
              "\n",
              "  // Wait for the user to pick the files.\n",
              "  const files = yield {\n",
              "    promise: Promise.race([pickedPromise, cancelPromise]),\n",
              "    response: {\n",
              "      action: 'starting',\n",
              "    }\n",
              "  };\n",
              "\n",
              "  cancel.remove();\n",
              "\n",
              "  // Disable the input element since further picks are not allowed.\n",
              "  inputElement.disabled = true;\n",
              "\n",
              "  if (!files) {\n",
              "    return {\n",
              "      response: {\n",
              "        action: 'complete',\n",
              "      }\n",
              "    };\n",
              "  }\n",
              "\n",
              "  for (const file of files) {\n",
              "    const li = document.createElement('li');\n",
              "    li.append(span(file.name, {fontWeight: 'bold'}));\n",
              "    li.append(span(\n",
              "        `(${file.type || 'n/a'}) - ${file.size} bytes, ` +\n",
              "        `last modified: ${\n",
              "            file.lastModifiedDate ? file.lastModifiedDate.toLocaleDateString() :\n",
              "                                    'n/a'} - `));\n",
              "    const percent = span('0% done');\n",
              "    li.appendChild(percent);\n",
              "\n",
              "    outputElement.appendChild(li);\n",
              "\n",
              "    const fileDataPromise = new Promise((resolve) => {\n",
              "      const reader = new FileReader();\n",
              "      reader.onload = (e) => {\n",
              "        resolve(e.target.result);\n",
              "      };\n",
              "      reader.readAsArrayBuffer(file);\n",
              "    });\n",
              "    // Wait for the data to be ready.\n",
              "    let fileData = yield {\n",
              "      promise: fileDataPromise,\n",
              "      response: {\n",
              "        action: 'continue',\n",
              "      }\n",
              "    };\n",
              "\n",
              "    // Use a chunked sending to avoid message size limits. See b/62115660.\n",
              "    let position = 0;\n",
              "    do {\n",
              "      const length = Math.min(fileData.byteLength - position, MAX_PAYLOAD_SIZE);\n",
              "      const chunk = new Uint8Array(fileData, position, length);\n",
              "      position += length;\n",
              "\n",
              "      const base64 = btoa(String.fromCharCode.apply(null, chunk));\n",
              "      yield {\n",
              "        response: {\n",
              "          action: 'append',\n",
              "          file: file.name,\n",
              "          data: base64,\n",
              "        },\n",
              "      };\n",
              "\n",
              "      let percentDone = fileData.byteLength === 0 ?\n",
              "          100 :\n",
              "          Math.round((position / fileData.byteLength) * 100);\n",
              "      percent.textContent = `${percentDone}% done`;\n",
              "\n",
              "    } while (position < fileData.byteLength);\n",
              "  }\n",
              "\n",
              "  // All done.\n",
              "  yield {\n",
              "    response: {\n",
              "      action: 'complete',\n",
              "    }\n",
              "  };\n",
              "}\n",
              "\n",
              "scope.google = scope.google || {};\n",
              "scope.google.colab = scope.google.colab || {};\n",
              "scope.google.colab._files = {\n",
              "  _uploadFiles,\n",
              "  _uploadFilesContinue,\n",
              "};\n",
              "})(self);\n",
              "</script> "
            ]
          },
          "metadata": {}
        },
        {
          "output_type": "stream",
          "name": "stdout",
          "text": [
            "Saving amazon-Airpods-Review.csv to amazon-Airpods-Review.csv\n"
          ]
        }
      ]
    },
    {
      "cell_type": "code",
      "source": [
        "import pandas as pd\n",
        "\n",
        "\n",
        "df_large_random_ids = pd.read_csv('/content/amazon-Airpods-Review.csv')\n",
        "print(df_large_random_ids.head())\n"
      ],
      "metadata": {
        "colab": {
          "base_uri": "https://localhost:8080/"
        },
        "id": "v3xbiOdVBeHt",
        "outputId": "fc14b59e-d701-470a-b0af-71b94a7a44da"
      },
      "execution_count": 3,
      "outputs": [
        {
          "output_type": "stream",
          "name": "stdout",
          "text": [
            "  Product ID / User ID  AirPods_Model_1  AirPods_Model_2  AirPods_Model_3  \\\n",
            "0             OCLU3N55                3                0                5   \n",
            "1             PGBMY6C8                0                3                1   \n",
            "2             4Q472AVO                0                5                2   \n",
            "3             ALGWAQY1                1                3                3   \n",
            "4             XU4QPT02                5                0                3   \n",
            "\n",
            "   AirPods_Model_4  AirPods_Model_5  AirPods_Model_6  AirPods_Model_7  \\\n",
            "0                4                2                0                1   \n",
            "1                4                0                0                4   \n",
            "2                3                4                0                0   \n",
            "3                1                2                5                1   \n",
            "4                1                1                5                5   \n",
            "\n",
            "   AirPods_Model_8  AirPods_Model_9  ...  AirPods_Model_11  AirPods_Model_12  \\\n",
            "0                1                2  ...                 5                 5   \n",
            "1                5                0  ...                 0                 5   \n",
            "2                0                3  ...                 2                 2   \n",
            "3                3                2  ...                 1                 3   \n",
            "4                3                2  ...                 1                 3   \n",
            "\n",
            "   AirPods_Model_13  AirPods_Model_14  AirPods_Model_15  AirPods_Model_16  \\\n",
            "0                 0                 1                 4                 4   \n",
            "1                 5                 4                 0                 0   \n",
            "2                 3                 2                 0                 1   \n",
            "3                 5                 1                 2                 0   \n",
            "4                 4                 2                 5                 0   \n",
            "\n",
            "   AirPods_Model_17  AirPods_Model_18  AirPods_Model_19  AirPods_Model_20  \n",
            "0                 4                 3                 2                 1  \n",
            "1                 2                 5                 5                 0  \n",
            "2                 4                 4                 5                 4  \n",
            "3                 0                 4                 1                 0  \n",
            "4                 1                 5                 2                 1  \n",
            "\n",
            "[5 rows x 21 columns]\n"
          ]
        }
      ]
    },
    {
      "cell_type": "code",
      "source": [
        "\n",
        "tnu = df_large_random_ids[\"Product ID / User ID\"].nunique()\n",
        "print(\"Total number of users:\", tnu)\n"
      ],
      "metadata": {
        "colab": {
          "base_uri": "https://localhost:8080/"
        },
        "id": "piHI-Zu1Bj81",
        "outputId": "11a93314-83c9-4652-dfe1-75445f0bc0bb"
      },
      "execution_count": 4,
      "outputs": [
        {
          "output_type": "stream",
          "name": "stdout",
          "text": [
            "Total number of users: 100\n"
          ]
        }
      ]
    },
    {
      "cell_type": "code",
      "source": [
        "\n",
        "tni = len(df_large_random_ids.columns) - 1\n",
        "print(\"Total number of items:\", tni)"
      ],
      "metadata": {
        "colab": {
          "base_uri": "https://localhost:8080/"
        },
        "id": "sjmdH2BtBncl",
        "outputId": "402d2fe1-0ef1-49de-ee8c-73838c9cdb04"
      },
      "execution_count": 5,
      "outputs": [
        {
          "output_type": "stream",
          "name": "stdout",
          "text": [
            "Total number of items: 20\n"
          ]
        }
      ]
    },
    {
      "cell_type": "code",
      "source": [
        "\n",
        "product_rating_counts = df_large_random_ids.iloc[:, 1:].apply(lambda col: (col > 0).sum())\n",
        "print(product_rating_counts)\n"
      ],
      "metadata": {
        "colab": {
          "base_uri": "https://localhost:8080/"
        },
        "id": "jzFW8vsFBqdN",
        "outputId": "202f36ab-ae3f-41b7-f773-419179eca126"
      },
      "execution_count": 6,
      "outputs": [
        {
          "output_type": "stream",
          "name": "stdout",
          "text": [
            "AirPods_Model_1     82\n",
            "AirPods_Model_2     86\n",
            "AirPods_Model_3     85\n",
            "AirPods_Model_4     85\n",
            "AirPods_Model_5     82\n",
            "AirPods_Model_6     78\n",
            "AirPods_Model_7     77\n",
            "AirPods_Model_8     90\n",
            "AirPods_Model_9     87\n",
            "AirPods_Model_10    86\n",
            "AirPods_Model_11    85\n",
            "AirPods_Model_12    76\n",
            "AirPods_Model_13    82\n",
            "AirPods_Model_14    84\n",
            "AirPods_Model_15    80\n",
            "AirPods_Model_16    71\n",
            "AirPods_Model_17    78\n",
            "AirPods_Model_18    79\n",
            "AirPods_Model_19    83\n",
            "AirPods_Model_20    83\n",
            "dtype: int64\n"
          ]
        }
      ]
    },
    {
      "cell_type": "code",
      "source": [
        "\n",
        "product_rating_counts = df_large_random_ids.iloc[:, 1:].apply(lambda col: (col > 0).sum())\n",
        "print(product_rating_counts)\n"
      ],
      "metadata": {
        "colab": {
          "base_uri": "https://localhost:8080/"
        },
        "id": "azyiDDKLBteN",
        "outputId": "3e0f9a3f-6afd-4836-e8bf-f407038a7177"
      },
      "execution_count": 7,
      "outputs": [
        {
          "output_type": "stream",
          "name": "stdout",
          "text": [
            "AirPods_Model_1     82\n",
            "AirPods_Model_2     86\n",
            "AirPods_Model_3     85\n",
            "AirPods_Model_4     85\n",
            "AirPods_Model_5     82\n",
            "AirPods_Model_6     78\n",
            "AirPods_Model_7     77\n",
            "AirPods_Model_8     90\n",
            "AirPods_Model_9     87\n",
            "AirPods_Model_10    86\n",
            "AirPods_Model_11    85\n",
            "AirPods_Model_12    76\n",
            "AirPods_Model_13    82\n",
            "AirPods_Model_14    84\n",
            "AirPods_Model_15    80\n",
            "AirPods_Model_16    71\n",
            "AirPods_Model_17    78\n",
            "AirPods_Model_18    79\n",
            "AirPods_Model_19    83\n",
            "AirPods_Model_20    83\n",
            "dtype: int64\n"
          ]
        }
      ]
    },
    {
      "cell_type": "code",
      "source": [
        "\n",
        "user_ids = df_large_random_ids[\"Product ID / User ID\"].tolist()\n"
      ],
      "metadata": {
        "id": "LStMAq7BBwu1"
      },
      "execution_count": 8,
      "outputs": []
    },
    {
      "cell_type": "code",
      "source": [
        "import pandas as pd\n",
        "import random\n",
        "\n",
        "file_path = '/content/amazon-Airpods-Review.csv'\n",
        "df_new = pd.read_csv(file_path)\n",
        "\n",
        "\n",
        "missing_ratings = [2, 3, 5]\n",
        "\n",
        "\n",
        "selected_users = random.sample(list(df_new[\"Product ID / User ID\"]), 3)\n",
        "print(\"Selected users:\", selected_users)\n",
        "\n",
        "\n",
        "active_users_data = df_new[df_new[\"Product ID / User ID\"].isin(selected_users)].copy()\n",
        "\n",
        "\n",
        "for i, user in enumerate(selected_users):\n",
        "\n",
        "    user_row = active_users_data[active_users_data[\"Product ID / User ID\"] == user]\n",
        "    if user_row.empty:\n",
        "        print(f\"User {user} not found in the dataset. Skipping.\")\n",
        "        continue\n",
        "\n",
        "    user_index = user_row.index[0]\n",
        "\n",
        "    ratings = active_users_data.loc[user_index, \"AirPods_Model_1\":]\n",
        "\n",
        "\n",
        "    non_zero_indices = ratings[ratings > 0].index.tolist()\n",
        "    if len(non_zero_indices) >= missing_ratings[i]:\n",
        "\n",
        "        drop_indices = random.sample(non_zero_indices, missing_ratings[i])\n",
        "\n",
        "        active_users_data.loc[user_index, drop_indices] = 0\n",
        "        print(f\"Removed {missing_ratings[i]} ratings for user {user} at indices {drop_indices}\")\n",
        "    else:\n",
        "        print(f\"User {user} does not have enough ratings to remove {missing_ratings[i]} entries. Skipping.\")\n",
        "\n",
        "\n",
        "print(\"Active users' modified dataset:\")\n",
        "print(active_users_data)\n"
      ],
      "metadata": {
        "colab": {
          "base_uri": "https://localhost:8080/"
        },
        "id": "Dz9-ClzYBzql",
        "outputId": "4df8ac78-d6c5-40af-9b38-7c96ea11054a"
      },
      "execution_count": 9,
      "outputs": [
        {
          "output_type": "stream",
          "name": "stdout",
          "text": [
            "Selected users: ['DW9N1GH2', 'T9WXORRZ', 'HAFFFCPE']\n",
            "Removed 2 ratings for user DW9N1GH2 at indices ['AirPods_Model_2', 'AirPods_Model_10']\n",
            "Removed 3 ratings for user T9WXORRZ at indices ['AirPods_Model_16', 'AirPods_Model_11', 'AirPods_Model_17']\n",
            "Removed 5 ratings for user HAFFFCPE at indices ['AirPods_Model_8', 'AirPods_Model_17', 'AirPods_Model_20', 'AirPods_Model_7', 'AirPods_Model_16']\n",
            "Active users' modified dataset:\n",
            "   Product ID / User ID  AirPods_Model_1  AirPods_Model_2  AirPods_Model_3  \\\n",
            "6              HAFFFCPE                0                4                0   \n",
            "18             DW9N1GH2                5                0                4   \n",
            "68             T9WXORRZ                3                4                5   \n",
            "\n",
            "    AirPods_Model_4  AirPods_Model_5  AirPods_Model_6  AirPods_Model_7  \\\n",
            "6                 0                2                4                0   \n",
            "18                1                4                3                5   \n",
            "68                3                0                2                2   \n",
            "\n",
            "    AirPods_Model_8  AirPods_Model_9  ...  AirPods_Model_11  AirPods_Model_12  \\\n",
            "6                 0                3  ...                 1                 0   \n",
            "18                4                3  ...                 5                 1   \n",
            "68                4                2  ...                 0                 1   \n",
            "\n",
            "    AirPods_Model_13  AirPods_Model_14  AirPods_Model_15  AirPods_Model_16  \\\n",
            "6                  3                 5                 3                 0   \n",
            "18                 1                 4                 0                 0   \n",
            "68                 2                 1                 0                 0   \n",
            "\n",
            "    AirPods_Model_17  AirPods_Model_18  AirPods_Model_19  AirPods_Model_20  \n",
            "6                  0                 0                 5                 0  \n",
            "18                 3                 5                 0                 2  \n",
            "68                 0                 3                 1                 3  \n",
            "\n",
            "[3 rows x 21 columns]\n"
          ]
        }
      ]
    },
    {
      "cell_type": "code",
      "source": [
        "import pandas as pd\n",
        "import random\n",
        "\n",
        "\n",
        "file_path = '/content/amazon-Airpods-Review.csv'\n",
        "df = pd.read_csv(file_path)\n",
        "\n",
        "\n",
        "product_ids = df.columns[1:]\n",
        "\n",
        "selected_items = random.sample(list(product_ids), 2)\n",
        "missing_percentages = [0.04, 0.10]\n",
        "\n",
        "\n",
        "items_data = df.copy()\n",
        "\n",
        "for i, item in enumerate(selected_items):\n",
        "\n",
        "    non_zero_indices = items_data[items_data[item] > 0].index\n",
        "    num_to_remove = int(len(non_zero_indices) * missing_percentages[i])\n",
        "    drop_indices = random.sample(list(non_zero_indices), num_to_remove)\n",
        "    items_data.loc[drop_indices, item] = 0\n",
        "\n",
        "\n",
        "print(\"Selected items:\", selected_items)\n",
        "print(\"Modified dataset:\")\n",
        "print(items_data.head())\n"
      ],
      "metadata": {
        "colab": {
          "base_uri": "https://localhost:8080/"
        },
        "id": "HuPq8rCpCFJc",
        "outputId": "0823bc1c-11c0-41dd-e3cc-e1b96ad68d20"
      },
      "execution_count": 10,
      "outputs": [
        {
          "output_type": "stream",
          "name": "stdout",
          "text": [
            "Selected items: ['AirPods_Model_16', 'AirPods_Model_3']\n",
            "Modified dataset:\n",
            "  Product ID / User ID  AirPods_Model_1  AirPods_Model_2  AirPods_Model_3  \\\n",
            "0             OCLU3N55                3                0                5   \n",
            "1             PGBMY6C8                0                3                1   \n",
            "2             4Q472AVO                0                5                2   \n",
            "3             ALGWAQY1                1                3                3   \n",
            "4             XU4QPT02                5                0                0   \n",
            "\n",
            "   AirPods_Model_4  AirPods_Model_5  AirPods_Model_6  AirPods_Model_7  \\\n",
            "0                4                2                0                1   \n",
            "1                4                0                0                4   \n",
            "2                3                4                0                0   \n",
            "3                1                2                5                1   \n",
            "4                1                1                5                5   \n",
            "\n",
            "   AirPods_Model_8  AirPods_Model_9  ...  AirPods_Model_11  AirPods_Model_12  \\\n",
            "0                1                2  ...                 5                 5   \n",
            "1                5                0  ...                 0                 5   \n",
            "2                0                3  ...                 2                 2   \n",
            "3                3                2  ...                 1                 3   \n",
            "4                3                2  ...                 1                 3   \n",
            "\n",
            "   AirPods_Model_13  AirPods_Model_14  AirPods_Model_15  AirPods_Model_16  \\\n",
            "0                 0                 1                 4                 4   \n",
            "1                 5                 4                 0                 0   \n",
            "2                 3                 2                 0                 1   \n",
            "3                 5                 1                 2                 0   \n",
            "4                 4                 2                 5                 0   \n",
            "\n",
            "   AirPods_Model_17  AirPods_Model_18  AirPods_Model_19  AirPods_Model_20  \n",
            "0                 4                 3                 2                 1  \n",
            "1                 2                 5                 5                 0  \n",
            "2                 4                 4                 5                 4  \n",
            "3                 0                 4                 1                 0  \n",
            "4                 1                 5                 2                 1  \n",
            "\n",
            "[5 rows x 21 columns]\n"
          ]
        }
      ]
    },
    {
      "cell_type": "code",
      "source": [
        "\n",
        "active_user = active_users_data.iloc[0, 0]\n",
        "active_user_ratings = active_users_data.iloc[0, 1:]\n",
        "\n",
        "co_rated_users = df_large_random_ids.iloc[:, 1:].apply(\n",
        "    lambda row: (row > 0) & (active_user_ratings > 0).values, axis=1\n",
        ").sum(axis=1) > 0\n",
        "no_common_users = co_rated_users.sum()\n",
        "no_co_rated_items = (df_large_random_ids.iloc[:, 1:] > 0).sum(axis=0)[active_user_ratings > 0].sum()\n",
        "\n",
        "print(\"No_common_users:\", no_common_users)\n",
        "print(\"No_coRated_items:\", no_co_rated_items)\n"
      ],
      "metadata": {
        "colab": {
          "base_uri": "https://localhost:8080/"
        },
        "id": "9dln0R34CQKO",
        "outputId": "bb0913ae-172e-4193-d18a-994757bdb92e"
      },
      "execution_count": 11,
      "outputs": [
        {
          "output_type": "stream",
          "name": "stdout",
          "text": [
            "No_common_users: 100\n",
            "No_coRated_items: 833\n"
          ]
        }
      ]
    }
  ]
}
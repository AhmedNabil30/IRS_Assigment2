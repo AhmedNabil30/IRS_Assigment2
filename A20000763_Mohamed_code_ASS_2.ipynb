{
  "nbformat": 4,
  "nbformat_minor": 0,
  "metadata": {
    "colab": {
      "provenance": []
    },
    "kernelspec": {
      "name": "python3",
      "display_name": "Python 3"
    },
    "language_info": {
      "name": "python"
    }
  },
  "cells": [
    {
      "cell_type": "code",
      "source": [
        "#Mohamed Ayman Mohamed Abdelwahab\n",
        "#A20000763\n",
        "\n",
        "import pandas as pd\n",
        "import numpy as np\n",
        "import matplotlib.pyplot as plt\n",
        "\n",
        "file_path = \"ratings_dataset.csv\"\n",
        "data = pd.read_csv(file_path)\n",
        "\n",
        "tnu = len(data)\n",
        "print(f\"Total number of users (tnu): {tnu}\")\n",
        "tni = len(data.columns) - 1\n",
        "print(f\"Total number of items (tni): {tni}\")\n",
        "\n",
        "ratings_per_item = data.iloc[:, 1:].notnull().sum()\n",
        "print(\"Number of ratings per item:\")\n",
        "print(ratings_per_item)\n",
        "\n",
        "def co_rating_stats(active_user_index, data):\n",
        "    active_user_ratings = data.iloc[active_user_index, 1:]\n",
        "    co_rated_users = data.iloc[:, 1:].apply(\n",
        "        lambda row: (row.notnull() & active_user_ratings.notnull()).sum(), axis=1\n",
        "    )\n",
        "    co_rated_items = active_user_ratings.notnull().sum()\n",
        "    return co_rated_users, co_rated_items\n",
        "\n",
        "active_user_index = 0\n",
        "No_common_users, No_coRated_items = co_rating_stats(active_user_index, data)\n",
        "print(f\"No_common_users: {No_common_users.tolist()}\")\n",
        "print(f\"No_coRated_items: {No_coRated_items}\")\n",
        "\n",
        "No_common_users_array = No_common_users.to_numpy()\n",
        "\n",
        "No_coRated_items_array = np.full_like(No_common_users_array, No_coRated_items)\n",
        "\n",
        "co_rating_array = np.column_stack((No_common_users_array, No_coRated_items_array))\n",
        "\n",
        "co_rating_array_sorted = co_rating_array[co_rating_array[:, 0].argsort()[::-1]]\n",
        "print(\"2-D array with No_common_users and No_coRated_items (sorted):\")\n",
        "print(co_rating_array_sorted)\n",
        "\n",
        "plt.figure(figsize=(10, 6))\n",
        "plt.plot(ratings_per_item.index, ratings_per_item.values, marker='o')\n",
        "plt.title(\"Number of Ratings per Item\")\n",
        "plt.xlabel(\"Items\")\n",
        "plt.ylabel(\"Number of Ratings\")\n",
        "plt.xticks(rotation=90)\n",
        "plt.grid()\n",
        "plt.show()\n",
        "\n",
        "def find_threshold_beta(active_user_index, data):\n",
        "    active_user_ratings = data.iloc[active_user_index, 1:]\n",
        "    threshold = int(0.3 * len(active_user_ratings))\n",
        "    co_ratings = data.iloc[:, 1:].apply(\n",
        "        lambda row: (row.notnull() & active_user_ratings.notnull()).sum(), axis=1\n",
        "    )\n",
        "    max_users = (co_ratings >= threshold).sum()\n",
        "    return max_users\n",
        "\n",
        "thresholds = [find_threshold_beta(i, data) for i in range(tnu)]\n",
        "print(\"Threshold β for each active user:\")\n",
        "print(thresholds)"
      ],
      "metadata": {
        "colab": {
          "base_uri": "https://localhost:8080/",
          "height": 1000
        },
        "id": "OngO8ipCkxIW",
        "outputId": "91cad7c5-4c94-42f0-dae1-f64a61c20547"
      },
      "execution_count": null,
      "outputs": [
        {
          "output_type": "stream",
          "name": "stdout",
          "text": [
            "Total number of users (tnu): 50\n",
            "Total number of items (tni): 30\n",
            "Number of ratings per item:\n",
            "Item_1     48\n",
            "Item_2     45\n",
            "Item_3     50\n",
            "Item_4     49\n",
            "Item_5     50\n",
            "Item_6     50\n",
            "Item_7     50\n",
            "Item_8     50\n",
            "Item_9     49\n",
            "Item_10    48\n",
            "Item_11    50\n",
            "Item_12    50\n",
            "Item_13    49\n",
            "Item_14    50\n",
            "Item_15    50\n",
            "Item_16    49\n",
            "Item_17    50\n",
            "Item_18    49\n",
            "Item_19    49\n",
            "Item_20    50\n",
            "Item_21    50\n",
            "Item_22    50\n",
            "Item_23    49\n",
            "Item_24    49\n",
            "Item_25    50\n",
            "Item_26    50\n",
            "Item_27    50\n",
            "Item_28    50\n",
            "Item_29    50\n",
            "Item_30    50\n",
            "dtype: int64\n",
            "No_common_users: [27, 24, 22, 27, 26, 27, 27, 27, 27, 27, 27, 27, 27, 27, 27, 27, 27, 27, 27, 27, 27, 27, 27, 27, 27, 27, 27, 27, 27, 27, 27, 27, 27, 27, 27, 27, 27, 27, 27, 27, 27, 27, 27, 27, 27, 27, 27, 27, 26, 27]\n",
            "No_coRated_items: 27\n",
            "2-D array with No_common_users and No_coRated_items (sorted):\n",
            "[[27 27]\n",
            " [27 27]\n",
            " [27 27]\n",
            " [27 27]\n",
            " [27 27]\n",
            " [27 27]\n",
            " [27 27]\n",
            " [27 27]\n",
            " [27 27]\n",
            " [27 27]\n",
            " [27 27]\n",
            " [27 27]\n",
            " [27 27]\n",
            " [27 27]\n",
            " [27 27]\n",
            " [27 27]\n",
            " [27 27]\n",
            " [27 27]\n",
            " [27 27]\n",
            " [27 27]\n",
            " [27 27]\n",
            " [27 27]\n",
            " [27 27]\n",
            " [27 27]\n",
            " [27 27]\n",
            " [27 27]\n",
            " [27 27]\n",
            " [27 27]\n",
            " [27 27]\n",
            " [27 27]\n",
            " [27 27]\n",
            " [27 27]\n",
            " [27 27]\n",
            " [27 27]\n",
            " [27 27]\n",
            " [27 27]\n",
            " [27 27]\n",
            " [27 27]\n",
            " [27 27]\n",
            " [27 27]\n",
            " [27 27]\n",
            " [27 27]\n",
            " [27 27]\n",
            " [27 27]\n",
            " [27 27]\n",
            " [27 27]\n",
            " [26 27]\n",
            " [26 27]\n",
            " [24 27]\n",
            " [22 27]]\n"
          ]
        },
        {
          "output_type": "display_data",
          "data": {
            "text/plain": [
              "<Figure size 1000x600 with 1 Axes>"
            ],
            "image/png": "[encoded data removed]"
          },
          "metadata": {}
        },
        {
          "output_type": "stream",
          "name": "stdout",
          "text": [
            "Threshold β for each active user:\n",
            "[50, 50, 50, 50, 50, 50, 50, 50, 50, 50, 50, 50, 50, 50, 50, 50, 50, 50, 50, 50, 50, 50, 50, 50, 50, 50, 50, 50, 50, 50, 50, 50, 50, 50, 50, 50, 50, 50, 50, 50, 50, 50, 50, 50, 50, 50, 50, 50, 50, 50]\n"
          ]
        }
      ]
    },
    {
      "cell_type": "markdown",
      "source": [
        "Case Study 1.1"
      ],
      "metadata": {
        "id": "EI9usDhEmW2r"
      }
    },
    {
      "cell_type": "code",
      "source": [
        "from sklearn.metrics.pairwise import cosine_similarity\n",
        "import numpy as np\n",
        "import pandas as pd\n",
        "\n",
        "\n",
        "file_path = \"ratings_dataset.csv\"\n",
        "data = pd.read_csv(file_path).fillna(0)\n",
        "\n",
        "\n",
        "user_ratings = data.iloc[:, 1:].to_numpy()\n",
        "\n",
        "\n",
        "cosine_sim_matrix = cosine_similarity(user_ratings)\n",
        "np.fill_diagonal(cosine_sim_matrix, 0)\n",
        "print(\"Cosine Similarity Matrix:\")\n",
        "print(cosine_sim_matrix)"
      ],
      "metadata": {
        "colab": {
          "base_uri": "https://localhost:8080/"
        },
        "id": "ziEv5RBBlSdh",
        "outputId": "bcee7cf4-07e4-4807-e7c9-42e624abd3ab"
      },
      "execution_count": null,
      "outputs": [
        {
          "output_type": "stream",
          "name": "stdout",
          "text": [
            "Cosine Similarity Matrix:\n",
            "[[0.         0.78858076 0.63765166 ... 0.80403513 0.79732587 0.80286787]\n",
            " [0.78858076 0.         0.69799933 ... 0.76910673 0.80180118 0.77337958]\n",
            " [0.63765166 0.69799933 0.         ... 0.67250695 0.66722566 0.71871251]\n",
            " ...\n",
            " [0.80403513 0.76910673 0.67250695 ... 0.         0.82424316 0.85319869]\n",
            " [0.79732587 0.80180118 0.66722566 ... 0.82424316 0.         0.80860714]\n",
            " [0.80286787 0.77337958 0.71871251 ... 0.85319869 0.80860714 0.        ]]\n"
          ]
        }
      ]
    },
    {
      "cell_type": "code",
      "source": [
        "def get_top_k_users(similarity_matrix, k_percent):\n",
        "    num_users = similarity_matrix.shape[0]\n",
        "    k = int(num_users * k_percent)\n",
        "    top_k_users = np.argsort(-similarity_matrix, axis=1)[:, :k]\n",
        "    return top_k_users\n",
        "\n",
        "top_20_percent_users = get_top_k_users(cosine_sim_matrix, 0.2)\n",
        "print(\"Top 20% Closest Users for Each User:\")\n",
        "print(top_20_percent_users)"
      ],
      "metadata": {
        "colab": {
          "base_uri": "https://localhost:8080/"
        },
        "id": "NYlL2LsJlwO4",
        "outputId": "0199fd3d-617a-4ac7-ffd2-09bc5c069e37"
      },
      "execution_count": null,
      "outputs": [
        {
          "output_type": "stream",
          "name": "stdout",
          "text": [
            "Top 20% Closest Users for Each User:\n",
            "[[32 15 26 46  8 45 30 28  5  4]\n",
            " [ 7 43 40 20 46 32 15  6 34 30]\n",
            " [13 39 37 23  7 15 29 12 44 36]\n",
            " [30 18 48 24 20  4 40 37 47 22]\n",
            " [32 48 12 40 43 30 18 11 47 15]\n",
            " [48 37 15 17  0  9 32 26 18  4]\n",
            " [41 28 40 19 49  4  9 43 32 33]\n",
            " [37 13 38 20 15 40  1 18 17 30]\n",
            " [27 42 45 25 37  9 20 32 15 40]\n",
            " [41 49 18 48 32 27  6 28 12  4]\n",
            " [11 38 32 49 12 17 35 28 25 29]\n",
            " [17 32 10 49 38 26 12  4  9 44]\n",
            " [ 4 43 10 11 15 32 29 24 48  9]\n",
            " [40 37  7 18 19 28 33 30  4  9]\n",
            " [17 47 43 32 45 37 40 27 33 48]\n",
            " [47 20  0  7 12 48 30 24  4 40]\n",
            " [32 39 34 49 37 31 19 26 44  4]\n",
            " [11 37 32 14 36 43 47 26 44 30]\n",
            " [37 48  3  9 13  4 28 34  7 19]\n",
            " [28 40 33 49 32  6 13 30 17 36]\n",
            " [22 30 47 15  7  3 39  8 37 41]\n",
            " [32 45  4 14 42 26 37 39 12 24]\n",
            " [20 24 23 30 48 32 25  3 43 47]\n",
            " [40 27 12 22 32  3 15 28 35 29]\n",
            " [29 44 30  3 48 15  4 12 49 22]\n",
            " [37  8 32 45 31  9 39 27 22  3]\n",
            " [30 32 17 31 11  0 36 37 24 28]\n",
            " [ 8 45  9 23 14 32 35 41 29 49]\n",
            " [38 19  6 35 18 40 32 13 17  9]\n",
            " [24 12 47 27 32 40  4 17 11 49]\n",
            " [26  3 20 24 17  4 33 40 15 44]\n",
            " [26 33 41 32 25 30 39 20  9 16]\n",
            " [43 11 17 33  4 26 14 21 10 49]\n",
            " [32 19 43 39 30 31 45 28 40  6]\n",
            " [32 49 18 16 44 43  4 19 37 45]\n",
            " [28 38 10 27 32 25 48 23 37 14]\n",
            " [17 44 26 19 49 32 30 37 11 25]\n",
            " [17 25  7 18 14 13 47  5 40 32]\n",
            " [28 11 10  7 17 35 19 15 12 49]\n",
            " [33 16 45 20 25  8 31 32 21 37]\n",
            " [13 19 43  4  6 14 45 47 23 30]\n",
            " [ 9  6 49 31 24 20 27 28 47 32]\n",
            " [ 8 45 21 40 18 37 28 27 48  7]\n",
            " [32 14 17 33 40 12  4 45  6  1]\n",
            " [24 17 30 36 49  4 34 11 32 37]\n",
            " [14 32 21 40  8 43 27 33 25 39]\n",
            " [32  0 45  8 33  4 20 40 47 34]\n",
            " [14 15 17 20 37 32 40  4 30 24]\n",
            " [18  4  3  9  5 24 15 40 12 14]\n",
            " [11 32  9 10 19  6 34  4 41 44]]\n"
          ]
        }
      ]
    },
    {
      "cell_type": "code",
      "source": [
        "def predict_ratings(user_ratings, similarity_matrix, top_k_users):\n",
        "    num_users, num_items = user_ratings.shape\n",
        "    predictions = np.zeros_like(user_ratings)\n",
        "\n",
        "    for user in range(num_users):\n",
        "        similar_users = top_k_users[user]\n",
        "        sim_scores = similarity_matrix[user, similar_users]\n",
        "        for item in range(num_items):\n",
        "            if user_ratings[user, item] == 0:\n",
        "                weighted_sum = np.dot(sim_scores, user_ratings[similar_users, item])\n",
        "                sim_sum = np.sum(sim_scores)\n",
        "                predictions[user, item] = weighted_sum / (sim_sum + 1e-8)\n",
        "    return predictions\n",
        "\n",
        "predictions = predict_ratings(user_ratings, cosine_sim_matrix, top_20_percent_users)\n",
        "print(\"Predicted Ratings for Unseen Items:\")\n",
        "print(predictions)"
      ],
      "metadata": {
        "colab": {
          "base_uri": "https://localhost:8080/"
        },
        "id": "dXta04fRl1qR",
        "outputId": "91d08504-0d5e-4a24-e5bd-1f847e7333c6"
      },
      "execution_count": null,
      "outputs": [
        {
          "output_type": "stream",
          "name": "stdout",
          "text": [
            "Predicted Ratings for Unseen Items:\n",
            "[[0.         1.70978301 0.         ... 0.         0.         0.        ]\n",
            " [0.         0.         0.         ... 0.         0.         0.        ]\n",
            " [0.         0.         0.         ... 0.         0.         0.        ]\n",
            " ...\n",
            " [0.         0.         0.         ... 0.         0.         0.        ]\n",
            " [2.19202255 0.         0.         ... 0.         0.         0.        ]\n",
            " [0.         0.         0.         ... 0.         0.         0.        ]]\n"
          ]
        }
      ]
    },
    {
      "cell_type": "code",
      "source": [
        "\n",
        "def compute_discount_factor(similarity_matrix, threshold_beta):\n",
        "    num_users = similarity_matrix.shape[0]\n",
        "    df_matrix = np.zeros_like(similarity_matrix)\n",
        "    for i in range(num_users):\n",
        "        threshold = threshold_beta[i]\n",
        "        df_matrix[i] = np.where(similarity_matrix[i] >= threshold, 1, similarity_matrix[i] / threshold)\n",
        "    return df_matrix\n",
        "\n",
        "\n",
        "threshold_beta = [0.3] * user_ratings.shape[0]\n",
        "df_matrix = compute_discount_factor(cosine_sim_matrix, threshold_beta)\n",
        "\n",
        "\n",
        "discounted_similarity_matrix = cosine_sim_matrix * df_matrix\n",
        "print(\"Discounted Similarity Matrix:\")\n",
        "print(discounted_similarity_matrix)"
      ],
      "metadata": {
        "colab": {
          "base_uri": "https://localhost:8080/"
        },
        "id": "kSQuZVoCl4sv",
        "outputId": "24f0531f-7f61-439c-c534-114a321efda4"
      },
      "execution_count": null,
      "outputs": [
        {
          "output_type": "stream",
          "name": "stdout",
          "text": [
            "Discounted Similarity Matrix:\n",
            "[[0.         0.78858076 0.63765166 ... 0.80403513 0.79732587 0.80286787]\n",
            " [0.78858076 0.         0.69799933 ... 0.76910673 0.80180118 0.77337958]\n",
            " [0.63765166 0.69799933 0.         ... 0.67250695 0.66722566 0.71871251]\n",
            " ...\n",
            " [0.80403513 0.76910673 0.67250695 ... 0.         0.82424316 0.85319869]\n",
            " [0.79732587 0.80180118 0.66722566 ... 0.82424316 0.         0.80860714]\n",
            " [0.80286787 0.77337958 0.71871251 ... 0.85319869 0.80860714 0.        ]]\n"
          ]
        }
      ]
    },
    {
      "cell_type": "code",
      "source": [
        "top_20_percent_users_ds = get_top_k_users(discounted_similarity_matrix, 0.2)\n",
        "print(\"Top 20% Closest Users Using Discounted Similarity:\")\n",
        "print(top_20_percent_users_ds)"
      ],
      "metadata": {
        "colab": {
          "base_uri": "https://localhost:8080/"
        },
        "id": "c_sZDvo7l8Fm",
        "outputId": "31b6b32d-f2f3-4efc-b581-61188ae325f0"
      },
      "execution_count": null,
      "outputs": [
        {
          "output_type": "stream",
          "name": "stdout",
          "text": [
            "Top 20% Closest Users Using Discounted Similarity:\n",
            "[[32 15 26 46  8 45 30 28  5  4]\n",
            " [ 7 43 40 20 46 32 15  6 34 30]\n",
            " [13 39 37 23  7 15 29 12 44 36]\n",
            " [30 18 48 24 20  4 40 37 47 22]\n",
            " [32 48 12 40 43 30 18 11 47 15]\n",
            " [48 37 15 17  0  9 32 26 18  4]\n",
            " [41 28 40 19 49  4  9 43 32 33]\n",
            " [37 13 38 20 15 40  1 18 17 30]\n",
            " [27 42 45 25 37  9 20 32 15 40]\n",
            " [41 49 18 48 32 27  6 28 12  4]\n",
            " [11 38 32 49 12 17 35 28 25 29]\n",
            " [17 32 10 49 38 26 12  4  9 44]\n",
            " [ 4 43 10 11 15 32 29 24 48  9]\n",
            " [40 37  7 18 19 28 33 30  4  9]\n",
            " [17 47 43 32 45 37 40 27 33 48]\n",
            " [47 20  0  7 12 48 30 24  4 40]\n",
            " [32 39 34 49 37 31 19 26 44  4]\n",
            " [11 37 32 14 36 43 47 26 44 30]\n",
            " [37 48  3  9 13  4 28 34  7 19]\n",
            " [28 40 33 49 32  6 13 30 17 36]\n",
            " [22 30 47 15  7  3 39  8 37 41]\n",
            " [32 45  4 14 42 26 37 39 12 24]\n",
            " [20 24 23 30 48 32 25  3 43 47]\n",
            " [40 27 12 22 32  3 15 28 35 29]\n",
            " [29 44 30  3 48 15  4 12 49 22]\n",
            " [37  8 32 45 31  9 39 27 22  3]\n",
            " [30 32 17 31 11  0 36 37 24 28]\n",
            " [ 8 45  9 23 14 32 35 41 29 49]\n",
            " [38 19  6 35 18 40 32 13 17  9]\n",
            " [24 12 47 27 32 40  4 17 11 49]\n",
            " [26  3 20 24 17  4 33 40 15 44]\n",
            " [26 33 41 32 25 30 39 20  9 16]\n",
            " [43 11 17 33  4 26 14 21 10 49]\n",
            " [32 19 43 39 30 31 45 28 40  6]\n",
            " [32 49 18 16 44 43  4 19 37 45]\n",
            " [28 38 10 27 32 25 48 23 37 14]\n",
            " [17 44 26 19 49 32 30 37 11 25]\n",
            " [17 25  7 18 14 13 47  5 40 32]\n",
            " [28 11 10  7 17 35 19 15 12 49]\n",
            " [33 16 45 20 25  8 31 32 21 37]\n",
            " [13 19 43  4  6 14 45 47 23 30]\n",
            " [ 9  6 49 31 24 20 27 28 47 32]\n",
            " [ 8 45 21 40 18 37 28 27 48  7]\n",
            " [32 14 17 33 40 12  4 45  6  1]\n",
            " [24 17 30 36 49  4 34 11 32 37]\n",
            " [14 32 21 40  8 43 27 33 25 39]\n",
            " [32  0 45  8 33  4 20 40 47 34]\n",
            " [14 15 17 20 37 32 40  4 30 24]\n",
            " [18  4  3  9  5 24 15 40 12 14]\n",
            " [11 32  9 10 19  6 34  4 41 44]]\n"
          ]
        }
      ]
    },
    {
      "cell_type": "code",
      "source": [
        "predictions_ds = predict_ratings(user_ratings, discounted_similarity_matrix, top_20_percent_users_ds)\n",
        "print(\"Predicted Ratings for Unseen Items Using Discounted Similarity:\")\n",
        "print(predictions_ds)"
      ],
      "metadata": {
        "colab": {
          "base_uri": "https://localhost:8080/"
        },
        "id": "30m_ZSZ7l-eh",
        "outputId": "c385d5fb-bcfa-49c2-f31b-d798aef4c25b"
      },
      "execution_count": null,
      "outputs": [
        {
          "output_type": "stream",
          "name": "stdout",
          "text": [
            "Predicted Ratings for Unseen Items Using Discounted Similarity:\n",
            "[[0.         1.70978301 0.         ... 0.         0.         0.        ]\n",
            " [0.         0.         0.         ... 0.         0.         0.        ]\n",
            " [0.         0.         0.         ... 0.         0.         0.        ]\n",
            " ...\n",
            " [0.         0.         0.         ... 0.         0.         0.        ]\n",
            " [2.19202255 0.         0.         ... 0.         0.         0.        ]\n",
            " [0.         0.         0.         ... 0.         0.         0.        ]]\n"
          ]
        }
      ]
    },
    {
      "cell_type": "markdown",
      "source": [
        "Case Study 1.2"
      ],
      "metadata": {
        "id": "oh0LulcnmCU6"
      }
    },
    {
      "cell_type": "code",
      "source": [
        "\n",
        "def mean_center_user_ratings(ratings):\n",
        "    user_means = np.mean(ratings, axis=1, where=(ratings != 0))\n",
        "    mean_centered_ratings = ratings - user_means[:, None]\n",
        "    mean_centered_ratings[ratings == 0] = 0\n",
        "    return mean_centered_ratings, user_means\n",
        "\n",
        "mean_centered_ratings, user_means = mean_center_user_ratings(user_ratings)\n",
        "\n",
        "cosine_sim_matrix_mean_centered = cosine_similarity(mean_centered_ratings)\n",
        "np.fill_diagonal(cosine_sim_matrix_mean_centered, 0)\n",
        "print(\"Cosine Similarity Matrix (Mean-Centered):\")\n",
        "print(cosine_sim_matrix_mean_centered)"
      ],
      "metadata": {
        "colab": {
          "base_uri": "https://localhost:8080/"
        },
        "id": "tB2dn9GymA3n",
        "outputId": "9572852c-dd53-4014-db77-a0520cc1b2c7"
      },
      "execution_count": null,
      "outputs": [
        {
          "output_type": "stream",
          "name": "stdout",
          "text": [
            "Cosine Similarity Matrix (Mean-Centered):\n",
            "[[ 0.          0.03548131 -0.07121681 ... -0.05434561  0.03970026\n",
            "  -0.16198262]\n",
            " [ 0.03548131  0.          0.07044434 ... -0.10924063  0.30645485\n",
            "  -0.11293431]\n",
            " [-0.07121681  0.07044434  0.         ... -0.05201892 -0.42625794\n",
            "   0.02246415]\n",
            " ...\n",
            " [-0.05434561 -0.10924063 -0.05201892 ...  0.          0.02542957\n",
            "   0.11917944]\n",
            " [ 0.03970026  0.30645485 -0.42625794 ...  0.02542957  0.\n",
            "  -0.15284538]\n",
            " [-0.16198262 -0.11293431  0.02246415 ...  0.11917944 -0.15284538\n",
            "   0.        ]]\n"
          ]
        }
      ]
    },
    {
      "cell_type": "code",
      "source": [
        "top_20_percent_users_mc = get_top_k_users(cosine_sim_matrix_mean_centered, 0.2)\n",
        "print(\"Top 20% Closest Users (Mean-Centered):\")\n",
        "print(top_20_percent_users_mc)"
      ],
      "metadata": {
        "colab": {
          "base_uri": "https://localhost:8080/"
        },
        "id": "t2VoR-G7mkQG",
        "outputId": "6e3447fe-d529-4c4f-c6b8-c1ab0c79e7c4"
      },
      "execution_count": null,
      "outputs": [
        {
          "output_type": "stream",
          "name": "stdout",
          "text": [
            "Top 20% Closest Users (Mean-Centered):\n",
            "[[46 15  8 32 10 29 28  5 21  3]\n",
            " [ 5  7 35 48 42 46 40 20 38 15]\n",
            " [39 13 16 44 21 37 20 29  7 31]\n",
            " [30 48 18 24 22 20 44 29 47 25]\n",
            " [12 43 29 21 24 48 11 44 15 40]\n",
            " [48 37  1 15 35 17 26  9 21 18]\n",
            " [41 28 19 49 40 22  9  8 33 43]\n",
            " [20 38 13  1 37 15 18 42  5 40]\n",
            " [27 42 46 25  0 45 39  9  6 22]\n",
            " [41 18 48 27 49  5  8  6 11 22]\n",
            " [11 38 49 12 32 35 16  0 28 29]\n",
            " [10 38 17 49 32 26 12 44  4 29]\n",
            " [ 4 10 11 29 43 48 15 24 23 38]\n",
            " [ 2  7 40 18 37 19 33  3 28 44]\n",
            " [47 43 17 45 37 21 27 32 40 35]\n",
            " [20 47  0  5  7 48  4 24 38 12]\n",
            " [39 34 32  2 31 44 37 49 10 19]\n",
            " [11 36 14 44 37 26 38 43 47  5]\n",
            " [ 3  9 48 37 34 42 13 28  7  5]\n",
            " [33 28 40 49  6 38 36 13 16 18]\n",
            " [22  7 15 47 30  1  3  2 41 39]\n",
            " [42 45 32  4 14  2  5 26 39 44]\n",
            " [20 48 24 23  3 25 30  6 41 47]\n",
            " [22 27 48 35  4  3 40 29 12 20]\n",
            " [29 44  3 22 48 30  4 41 26 15]\n",
            " [37 39 31  8 22 35 27 45  3 10]\n",
            " [30 31 11 17 32 36  5 21 24 33]\n",
            " [ 8 35  9 45 23 29 41 14 42 25]\n",
            " [38 19 35  6 18 10 48 42  0 41]\n",
            " [24  4 27 12 47  0 41 11 44  3]\n",
            " [26  3 24 44 20 22 33 31 19 15]\n",
            " [26 41 33 25 16 39 30 32 20 24]\n",
            " [11 43 16 33 10 21 46  0 26 14]\n",
            " [39 19 31 32 43 46 30 45  6 26]\n",
            " [16 18 44 49 46 32 19 43 36 45]\n",
            " [38 10  1 28 27 48  5 42 25 23]\n",
            " [17 44 26 19 39 49 11 34 41 31]\n",
            " [ 5 25  7 18 17 16 14  2 13 47]\n",
            " [28 10 11  7 35 17 19 42  1 48]\n",
            " [16 33  2 25 31 44 21  8 20 45]\n",
            " [13 19  6  1 42  4 14 43 23  7]\n",
            " [ 9  6 31 27 49 24 29 20 47 22]\n",
            " [ 8 21 48 18 45  1 27 38 35 40]\n",
            " [14 32 33  4 17 12 40 45 22  6]\n",
            " [24 17 36 34 16 49 30 11  4  2]\n",
            " [21 14 27 42  8 46 33 43 25 39]\n",
            " [ 0  8 32 33 45  1 34 47 41 35]\n",
            " [14 15 20 17 29  4 41 22  3 46]\n",
            " [ 3  5 22 18 42  9  1 24 35 12]\n",
            " [11 10 19  9 34 16 44 41  6 27]]\n"
          ]
        }
      ]
    },
    {
      "cell_type": "code",
      "source": [
        "def predict_ratings_mean_centered(ratings, similarity_matrix, top_k_users, user_means):\n",
        "    num_users, num_items = ratings.shape\n",
        "    predictions = np.zeros_like(ratings)\n",
        "\n",
        "    for user in range(num_users):\n",
        "        similar_users = top_k_users[user]\n",
        "        sim_scores = similarity_matrix[user, similar_users]\n",
        "        for item in range(num_items):\n",
        "            if ratings[user, item] == 0:\n",
        "                weighted_sum = np.dot(sim_scores, ratings[similar_users, item])\n",
        "                sim_sum = np.sum(sim_scores)\n",
        "                predictions[user, item] = user_means[user] + (weighted_sum / (sim_sum + 1e-8))\n",
        "    return predictions\n",
        "\n",
        "predictions_mc = predict_ratings_mean_centered(user_ratings, cosine_sim_matrix_mean_centered, top_20_percent_users_mc, user_means)\n",
        "print(\"Predicted Ratings (Mean-Centered):\")\n",
        "print(predictions_mc)"
      ],
      "metadata": {
        "colab": {
          "base_uri": "https://localhost:8080/"
        },
        "id": "HjEARh1pmmLt",
        "outputId": "d89c6699-856f-4fdc-ac4a-05a111ceff73"
      },
      "execution_count": null,
      "outputs": [
        {
          "output_type": "stream",
          "name": "stdout",
          "text": [
            "Predicted Ratings (Mean-Centered):\n",
            "[[0.         5.9182956  0.         ... 0.         0.         0.        ]\n",
            " [0.         0.         0.         ... 0.         0.         0.        ]\n",
            " [0.         0.         0.         ... 0.         0.         0.        ]\n",
            " ...\n",
            " [0.         0.         0.         ... 0.         0.         0.        ]\n",
            " [6.25249511 0.         0.         ... 0.         0.         0.        ]\n",
            " [0.         0.         0.         ... 0.         0.         0.        ]]\n"
          ]
        }
      ]
    },
    {
      "cell_type": "code",
      "source": [
        "df_matrix_mc = compute_discount_factor(cosine_sim_matrix_mean_centered, threshold_beta)\n",
        "discounted_similarity_matrix_mc = cosine_sim_matrix_mean_centered * df_matrix_mc\n",
        "print(\"Discounted Similarity Matrix (Mean-Centered):\")\n",
        "print(discounted_similarity_matrix_mc)"
      ],
      "metadata": {
        "colab": {
          "base_uri": "https://localhost:8080/"
        },
        "id": "yzOsSjePmoRZ",
        "outputId": "67e2e343-a6da-4ac4-bffb-959140112a5d"
      },
      "execution_count": null,
      "outputs": [
        {
          "output_type": "stream",
          "name": "stdout",
          "text": [
            "Discounted Similarity Matrix (Mean-Centered):\n",
            "[[0.         0.00419641 0.01690611 ... 0.00984482 0.0052537  0.08746123]\n",
            " [0.00419641 0.         0.01654135 ... 0.03977838 0.30645485 0.04251386]\n",
            " [0.01690611 0.01654135 0.         ... 0.00901989 0.60565278 0.00168213]\n",
            " ...\n",
            " [0.00984482 0.03977838 0.00901989 ... 0.         0.00215554 0.04734579]\n",
            " [0.0052537  0.30645485 0.60565278 ... 0.00215554 0.         0.07787237]\n",
            " [0.08746123 0.04251386 0.00168213 ... 0.04734579 0.07787237 0.        ]]\n"
          ]
        }
      ]
    },
    {
      "cell_type": "code",
      "source": [
        "top_20_percent_users_ds_mc = get_top_k_users(discounted_similarity_matrix_mc, 0.2)\n",
        "print(\"Top 20% Closest Users Using Discounted Similarity (Mean-Centered):\")\n",
        "print(top_20_percent_users_ds_mc)"
      ],
      "metadata": {
        "colab": {
          "base_uri": "https://localhost:8080/"
        },
        "id": "di3_pnONmqFu",
        "outputId": "e55a3194-8d13-4f89-ced8-fe4bb538be53"
      },
      "execution_count": null,
      "outputs": [
        {
          "output_type": "stream",
          "name": "stdout",
          "text": [
            "Top 20% Closest Users Using Discounted Similarity (Mean-Centered):\n",
            "[[41 46 36 15  8 32 10  9 29 44]\n",
            " [11  9  5  7 35 48 27 36 17 42]\n",
            " [48 43 39 13 22 32 16  3 19 14]\n",
            " [30 48 18 16  2 24 10 43 11 22]\n",
            " [31 36 12 25 35 43 29 21 24 48]\n",
            " [48 37  1 27 29 33 15 10 23 35]\n",
            " [21 41 28 19 49 23 40 29 22  9]\n",
            " [27 32 45 14 20 38 13  1 37 34]\n",
            " [36 17 44 27 42 46 25  0 45 30]\n",
            " [ 1 33 41 18 48 27 49 39  0 30]\n",
            " [11 38 30 49 12 32 35  3 13 40]\n",
            " [10  1 38 17 23 49 32 26 40  3]\n",
            " [ 4 31 37 10 36 11 29 43 48 19]\n",
            " [32 35 21  2 22  7 40 10 11 18]\n",
            " [ 7 20 47 43 17 45 37 21 27  2]\n",
            " [25 45 20 33 47 32  0 34 36  5]\n",
            " [48 40 22 39 34 32  3  2 23 31]\n",
            " [ 8 11 36 14 44 23 37 42 26 38]\n",
            " [ 3  9 48 37 34 42 10 43 13 28]\n",
            " [22 24 33 29 23 28 40 49  2  6]\n",
            " [14 22 21  7 45 15 47 28 29 32]\n",
            " [ 6 13 20 41 46 42 45 32  7  4]\n",
            " [19 16 20 48  2 44 13 24 49 23]\n",
            " [49 37 11 44 19 33 38 17 16 22]\n",
            " [29 19 44 35  3 22 48 30 37 46]\n",
            " [15  4 37 39 31  8 19 47 43 30]\n",
            " [27 30 31 11 17 32 34 36 23  5]\n",
            " [44  7 30 26  8  5  1 35  9 45]\n",
            " [38 20 47 19 35  6 34 43  2 18]\n",
            " [24 19 39 33  5  4 20 35 27 12]\n",
            " [27 26 10  3 35 24 49 25 44  9]\n",
            " [ 4 26 12 41 33 25 16 48 43 39]\n",
            " [13  7 11  2 43 16 15 33 10 21]\n",
            " [ 9 39 15 19 31 23 32 48 29 43]\n",
            " [38 16 35 15 18 44  7 22 49 23]\n",
            " [44 13 38  4 10  1 24 34 28 30]\n",
            " [42  8  4 48 17  0 12 44  1 46]\n",
            " [23 12  5 41 25  7 18 17 16 14]\n",
            " [28 34 10 11  7 35 23 17 19 42]\n",
            " [40 48 16 33  2 29 25  9 31 17]\n",
            " [39 16 13 11 19 10 44 31  2 21]\n",
            " [ 0  9  6 21 31 37 27 49 42 24]\n",
            " [36 44  8 21 48 17 18 45 24  1]\n",
            " [ 2 14 32 33  4  3 25 17 31 18]\n",
            " [35 27  8 42 24 23 22 17 36 34]\n",
            " [ 7 15 20 21 14 27 42  8 46  9]\n",
            " [ 0 21 36  8 32 24 33 45  1 34]\n",
            " [14 15 20 28 25 17 13  9 29 36]\n",
            " [ 2 16 36 39  3  5 22 33 18 42]\n",
            " [23 11 10 22 19  9 34 16 30 44]]\n"
          ]
        }
      ]
    },
    {
      "cell_type": "code",
      "source": [
        "predictions_ds_mc = predict_ratings_mean_centered(user_ratings, discounted_similarity_matrix_mc, top_20_percent_users_ds_mc, user_means)\n",
        "print(\"Predicted Ratings Using Discounted Similarity (Mean-Centered):\")\n",
        "print(predictions_ds_mc)"
      ],
      "metadata": {
        "colab": {
          "base_uri": "https://localhost:8080/"
        },
        "id": "VTaRLHzKmr0z",
        "outputId": "83b7b7c3-03d6-4708-d5c8-bb2116fa73aa"
      },
      "execution_count": null,
      "outputs": [
        {
          "output_type": "stream",
          "name": "stdout",
          "text": [
            "Predicted Ratings Using Discounted Similarity (Mean-Centered):\n",
            "[[0.         5.77950325 0.         ... 0.         0.         0.        ]\n",
            " [0.         0.         0.         ... 0.         0.         0.        ]\n",
            " [0.         0.         0.         ... 0.         0.         0.        ]\n",
            " ...\n",
            " [0.         0.         0.         ... 0.         0.         0.        ]\n",
            " [5.36502973 0.         0.         ... 0.         0.         0.        ]\n",
            " [0.         0.         0.         ... 0.         0.         0.        ]]\n"
          ]
        }
      ]
    },
    {
      "cell_type": "code",
      "source": [
        "comparison_users = top_20_percent_users_mc == top_20_percent_users_ds_mc\n",
        "print(\"Comparison of Top 20% Closest Users (Cosine vs Discounted Similarity):\")\n",
        "print(comparison_users)\n",
        "\n",
        "similarity_difference = np.sum(comparison_users) / top_20_percent_users_mc.size * 100\n",
        "print(f\"Percentage of Similarity Between the Two Methods: {similarity_difference:.2f}%\")"
      ],
      "metadata": {
        "colab": {
          "base_uri": "https://localhost:8080/"
        },
        "id": "wp7vr4xdmt7c",
        "outputId": "37871197-8bce-4bd5-d1de-c0b0bc878af1"
      },
      "execution_count": null,
      "outputs": [
        {
          "output_type": "stream",
          "name": "stdout",
          "text": [
            "Comparison of Top 20% Closest Users (Cosine vs Discounted Similarity):\n",
            "[[False False False False False False False False False False]\n",
            " [False False False False False False False False False False]\n",
            " [False False False False False False False False False False]\n",
            " [ True  True  True False False False False False False False]\n",
            " [False False False False False False False False False False]\n",
            " [ True  True  True False False False False False False False]\n",
            " [False False False False False False False False False False]\n",
            " [False False False False False False False False False False]\n",
            " [False False False False False False False False False False]\n",
            " [False False False False False False False False False False]\n",
            " [ True  True False False False False False False False False]\n",
            " [ True False False False False False False False False False]\n",
            " [ True False False False False False False False False False]\n",
            " [False False False False False False False False False False]\n",
            " [False False False False False False False False False False]\n",
            " [False False False False False False False False False False]\n",
            " [False False False False False False False False False False]\n",
            " [False False False False False False False False False False]\n",
            " [ True  True  True  True  True  True False False False False]\n",
            " [False False False False False False False False False False]\n",
            " [False False False False False False False False False False]\n",
            " [False False False False False False False False False False]\n",
            " [False False False False False False False False False False]\n",
            " [False False False False False False False False False False]\n",
            " [ True False False False False False False False False False]\n",
            " [False False False False False False False False False False]\n",
            " [False False False False False False False False False False]\n",
            " [False False False False False False False False False False]\n",
            " [ True False False False False False False False False False]\n",
            " [ True False False False False False False False False False]\n",
            " [False False False False False False False False False False]\n",
            " [False False False False False False False False False False]\n",
            " [False False False False False False False False False False]\n",
            " [False False False False False False False False False False]\n",
            " [False False False False False False False False False False]\n",
            " [False False False False False False False False False False]\n",
            " [False False False False False False False False False False]\n",
            " [False False False False False False False False False False]\n",
            " [ True False False False False False False False False False]\n",
            " [False False False False False False False False False False]\n",
            " [False False False False False False False False False False]\n",
            " [False False False False False False False False False False]\n",
            " [False False False False False False False False False False]\n",
            " [False False False False False False False False False False]\n",
            " [False False False False False False False False False False]\n",
            " [False False False False False False False False False False]\n",
            " [ True False False False False False False False False False]\n",
            " [ True  True  True False False False False False False False]\n",
            " [False False False False False False False False False False]\n",
            " [False False False False False False False False False False]]\n",
            "Percentage of Similarity Between the Two Methods: 4.80%\n"
          ]
        }
      ]
    },
    {
      "cell_type": "code",
      "source": [
        "rating_diff = np.abs(predictions_mc - predictions_ds_mc)\n",
        "print(\"Difference in Predicted Ratings (Cosine vs Discounted Similarity):\")\n",
        "print(rating_diff)\n",
        "\n",
        "avg_diff = np.mean(rating_diff)\n",
        "print(f\"Average Difference in Predicted Ratings: {avg_diff:.2f}\")"
      ],
      "metadata": {
        "colab": {
          "base_uri": "https://localhost:8080/"
        },
        "id": "XdEGj-ppmwPr",
        "outputId": "74bb09c9-0e14-4781-b365-31b9c13c5a5c"
      },
      "execution_count": null,
      "outputs": [
        {
          "output_type": "stream",
          "name": "stdout",
          "text": [
            "Difference in Predicted Ratings (Cosine vs Discounted Similarity):\n",
            "[[0.         0.13879235 0.         ... 0.         0.         0.        ]\n",
            " [0.         0.         0.         ... 0.         0.         0.        ]\n",
            " [0.         0.         0.         ... 0.         0.         0.        ]\n",
            " ...\n",
            " [0.         0.         0.         ... 0.         0.         0.        ]\n",
            " [0.88746538 0.         0.         ... 0.         0.         0.        ]\n",
            " [0.         0.         0.         ... 0.         0.         0.        ]]\n",
            "Average Difference in Predicted Ratings: 0.00\n"
          ]
        }
      ]
    },
    {
      "cell_type": "markdown",
      "source": [
        "Case Study 1.3"
      ],
      "metadata": {
        "id": "51tbSMWXm1Bk"
      }
    },
    {
      "cell_type": "code",
      "source": [
        "from scipy.stats import pearsonr\n",
        "\n",
        "def compute_pcc(ratings):\n",
        "    num_users = ratings.shape[0]\n",
        "    pcc_matrix = np.zeros((num_users, num_users))\n",
        "\n",
        "    for i in range(num_users):\n",
        "        for j in range(i + 1, num_users):\n",
        "\n",
        "            common_items = (ratings[i] != 0) & (ratings[j] != 0)\n",
        "            if np.any(common_items):\n",
        "                pcc, _ = pearsonr(ratings[i, common_items], ratings[j, common_items])\n",
        "                pcc_matrix[i, j] = pcc\n",
        "                pcc_matrix[j, i] = pcc\n",
        "\n",
        "\n",
        "    np.fill_diagonal(pcc_matrix, 0)\n",
        "    return pcc_matrix\n",
        "\n",
        "pcc_matrix = compute_pcc(user_ratings)\n",
        "print(\"Pearson Correlation Coefficient (PCC) Matrix:\")\n",
        "print(pcc_matrix)"
      ],
      "metadata": {
        "colab": {
          "base_uri": "https://localhost:8080/"
        },
        "id": "SofKrJ4emz8f",
        "outputId": "73b0804c-ffcf-4051-9378-fee7e050baac"
      },
      "execution_count": null,
      "outputs": [
        {
          "output_type": "stream",
          "name": "stdout",
          "text": [
            "Pearson Correlation Coefficient (PCC) Matrix:\n",
            "[[ 0.          0.04882407 -0.09459328 ... -0.05528403  0.04335078\n",
            "  -0.17708823]\n",
            " [ 0.04882407  0.          0.08360701 ... -0.11367868  0.32036164\n",
            "  -0.11571218]\n",
            " [-0.09459328  0.08360701  0.         ... -0.05861644 -0.45040088\n",
            "   0.0253049 ]\n",
            " ...\n",
            " [-0.05528403 -0.11367868 -0.05861644 ...  0.          0.02543545\n",
            "   0.11917944]\n",
            " [ 0.04335078  0.32036164 -0.45040088 ...  0.02543545  0.\n",
            "  -0.15472964]\n",
            " [-0.17708823 -0.11571218  0.0253049  ...  0.11917944 -0.15472964\n",
            "   0.        ]]\n"
          ]
        }
      ]
    },
    {
      "cell_type": "code",
      "source": [
        "top_20_percent_users_pcc = get_top_k_users(pcc_matrix, 0.2)\n",
        "print(\"Top 20% Closest Users Using PCC:\")\n",
        "print(top_20_percent_users_pcc)"
      ],
      "metadata": {
        "colab": {
          "base_uri": "https://localhost:8080/"
        },
        "id": "GFGHLIQtnDWv",
        "outputId": "c7cd8fd4-5006-45ce-9808-f41fa103bd0d"
      },
      "execution_count": null,
      "outputs": [
        {
          "output_type": "stream",
          "name": "stdout",
          "text": [
            "Top 20% Closest Users Using PCC:\n",
            "[[46 15  8 32 10 29 28  5 21  3]\n",
            " [ 5  7 35 48 42 46 20 40 38 15]\n",
            " [13 39 16 44 21 37 20 29  7 31]\n",
            " [30 48 18 24 22 20 44 29 47 25]\n",
            " [12 43 29 21 11 24 48 44 15 40]\n",
            " [48  1 37 15 35 17 26  9 21 18]\n",
            " [41 28 19 49 40 22  9  8 33 43]\n",
            " [20 38  1 13 37 15 18 42  5 40]\n",
            " [27 42 46  0 25 45 39  9  6 22]\n",
            " [41 18 48 27 49  5  8  6 11 22]\n",
            " [11 38 49 12 32 35 16  0 28 29]\n",
            " [10 38 17 49 32 26 12 44  4 29]\n",
            " [ 4 10 11 29 48 43 15 24 23 38]\n",
            " [ 2  7 40 18 37 19 33  3 28 44]\n",
            " [47 43 17 45 37 21 27 32 40 35]\n",
            " [20 47  0  5  7 48  4 24 38 12]\n",
            " [39 34  2 32 31 10 37 44 49 19]\n",
            " [11 36 14 44 37 26 38 43 47  5]\n",
            " [ 3 48  9 37 34 42 13 28  7  5]\n",
            " [33 28 40 49  6 38 36 13 16 18]\n",
            " [22  7 15 47 30  2  1  3 41 39]\n",
            " [42 45 32  4  2 14  5 26 39 44]\n",
            " [20 48 24 23  3 25 30  6 41 47]\n",
            " [22 27 48  4 35  3 40 29 12 20]\n",
            " [29 44  3 22 48 30  4 41 26 15]\n",
            " [37 39 31  8 22 35 27 45  3 10]\n",
            " [30 31 11 17 32 36  5 21 24 16]\n",
            " [ 8 35  9 45 23 29 41 14 42 25]\n",
            " [38 19 35  6 18 10 48  0 42 41]\n",
            " [24  4 27 12  0 47 41 11 44  3]\n",
            " [26  3 24 44 20 22 33 31 19 15]\n",
            " [26 41 33 25 16 39 30 32 20 24]\n",
            " [11 16 43 33 10 21 46  0 26 14]\n",
            " [39 19 31 32 43 46 30 45  6 26]\n",
            " [16 18 44 49 46 32 19 43 36 45]\n",
            " [38  1 10 28 27 48  5 42 25 23]\n",
            " [17 44 26 19 39 49 11 34 41 31]\n",
            " [ 5 25  7 18 17 16 14  2 13 47]\n",
            " [28 10 11  7 35 17 19 42  1 48]\n",
            " [ 2 16 33 25 31 44  8 21 45 20]\n",
            " [13 19  1  6 42  4 14 43 23  7]\n",
            " [ 9  6 31 27 49 24 29 20 47 22]\n",
            " [ 8 21 48 18 45  1 27 38 35 40]\n",
            " [14 32 33  4 17 12 40 45 22  1]\n",
            " [24 17 36 34 16 49 30 11  2  4]\n",
            " [21 14 27 42  8 46 33 43 25 39]\n",
            " [ 0  8 32 33 45  1 34 47 41 35]\n",
            " [14 15 20 17 29  4 41 22  3 46]\n",
            " [ 3  5 22 18 42  1  9 24 35 12]\n",
            " [11 10 19  9 16 34 44 41  6 27]]\n"
          ]
        }
      ]
    },
    {
      "cell_type": "code",
      "source": [
        "predictions_pcc = predict_ratings_mean_centered(user_ratings, pcc_matrix, top_20_percent_users_pcc, user_means)\n",
        "print(\"Predicted Ratings Using PCC:\")\n",
        "print(predictions_pcc)"
      ],
      "metadata": {
        "colab": {
          "base_uri": "https://localhost:8080/"
        },
        "id": "v5ie8y5vnGmQ",
        "outputId": "033a99ee-35cd-4d26-f0de-abb77c36484a"
      },
      "execution_count": null,
      "outputs": [
        {
          "output_type": "stream",
          "name": "stdout",
          "text": [
            "Predicted Ratings Using PCC:\n",
            "[[0.         5.94705543 0.         ... 0.         0.         0.        ]\n",
            " [0.         0.         0.         ... 0.         0.         0.        ]\n",
            " [0.         0.         0.         ... 0.         0.         0.        ]\n",
            " ...\n",
            " [0.         0.         0.         ... 0.         0.         0.        ]\n",
            " [6.25398983 0.         0.         ... 0.         0.         0.        ]\n",
            " [0.         0.         0.         ... 0.         0.         0.        ]]\n"
          ]
        }
      ]
    },
    {
      "cell_type": "code",
      "source": [
        "df_matrix_pcc = compute_discount_factor(pcc_matrix, threshold_beta)\n",
        "discounted_similarity_matrix_pcc = pcc_matrix * df_matrix_pcc\n",
        "print(\"Discounted Similarity Matrix (PCC):\")\n",
        "print(discounted_similarity_matrix_pcc)"
      ],
      "metadata": {
        "colab": {
          "base_uri": "https://localhost:8080/"
        },
        "id": "88dH2Cx5nJKg",
        "outputId": "1d01f441-5698-44fc-a181-84fb8fee5bba"
      },
      "execution_count": null,
      "outputs": [
        {
          "output_type": "stream",
          "name": "stdout",
          "text": [
            "Discounted Similarity Matrix (PCC):\n",
            "[[0.         0.00794597 0.0298263  ... 0.01018775 0.0062643  0.10453414]\n",
            " [0.00794597 0.         0.02330044 ... 0.04307614 0.32036164 0.04463103]\n",
            " [0.0298263  0.02330044 0.         ... 0.01145296 0.67620316 0.00213446]\n",
            " ...\n",
            " [0.01018775 0.04307614 0.01145296 ... 0.         0.00215654 0.04734579]\n",
            " [0.0062643  0.32036164 0.67620316 ... 0.00215654 0.         0.0798042 ]\n",
            " [0.10453414 0.04463103 0.00213446 ... 0.04734579 0.0798042  0.        ]]\n"
          ]
        }
      ]
    },
    {
      "cell_type": "code",
      "source": [
        "top_20_percent_users_ds_pcc = get_top_k_users(discounted_similarity_matrix_pcc, 0.2)\n",
        "print(\"Top 20% Closest Users Using Discounted Similarity (PCC):\")\n",
        "print(top_20_percent_users_ds_pcc)"
      ],
      "metadata": {
        "colab": {
          "base_uri": "https://localhost:8080/"
        },
        "id": "p8jUfARhnLBG",
        "outputId": "36322abf-087d-428f-aed3-c3348d6fcd8d"
      },
      "execution_count": null,
      "outputs": [
        {
          "output_type": "stream",
          "name": "stdout",
          "text": [
            "Top 20% Closest Users Using Discounted Similarity (PCC):\n",
            "[[41 46 36 15  8 32 10  9 29 44]\n",
            " [11  9  5  7 35 27 36 48 17 42]\n",
            " [48 13 32 22 39 43  3 16 19 40]\n",
            " [ 2 30 48 18 16 24 10 43 11 22]\n",
            " [31 36 12 35 25 43 29 21 11 24]\n",
            " [48  1 37 27 29 33 15 10 23 35]\n",
            " [21 41 28 19 49 23 40 29 22  9]\n",
            " [27 32 45 14 20 38  1 13 37 34]\n",
            " [36 17 44 27 42 46  0 25 45 30]\n",
            " [ 1 33 41 18 48 27 49 39  0 30]\n",
            " [11 38 30 49 12 32 35  3 13 16]\n",
            " [ 1 10 38 17 23 49 32 26 40  3]\n",
            " [ 4 31 37 10 36 11 29 48 43 19]\n",
            " [32 35  2 21 22  7 40 10 11 18]\n",
            " [ 7 20 47 43 17 45 37  2 21 27]\n",
            " [25 45 20 33 47 32  0 34 36  5]\n",
            " [48 40 22 39 34  2  3 32 23 31]\n",
            " [ 8 11 36 14 44 23 37 42 26 38]\n",
            " [ 3 48  9 37 34 42 10 43 13 28]\n",
            " [22 24 33 29 23 28 40  2 49  6]\n",
            " [14 22 21 45  7 15 28 47 32 29]\n",
            " [ 6 20 13 41 46 42 45 32  4  7]\n",
            " [19 16 20  2 48 44 13 24 49 23]\n",
            " [49 37 11 44 19 33 16 38 17 22]\n",
            " [29 19 44 35  3 22 48 30 37 46]\n",
            " [15  4 37 39 31  8 19 47 43 30]\n",
            " [27 30 31 11 17 32 34 36 23  5]\n",
            " [44  7 30 26  8  1  5 35  9 45]\n",
            " [38 20 47 19 35  6  2 34 43 18]\n",
            " [24 19 39 33  5  4 20 35 27 12]\n",
            " [27 26 10  3 35 24 49 25 44  9]\n",
            " [ 4 26 12 41 33 25 16 48 43 39]\n",
            " [13  7  2 11 16 43 15 33 10 21]\n",
            " [ 9 39 15 19 31 23 48 32 29 43]\n",
            " [38 16 35 15 18 44  7 22 49 23]\n",
            " [44 13  4 38  1 10 24 34 28 30]\n",
            " [42  8  4 48 17  0 12  1 44 46]\n",
            " [23 12  5 41 25  7 18 17 16 14]\n",
            " [28 34 10 11  7 35 23 17 19 42]\n",
            " [40 48  2 16 33 29 25  9 31 17]\n",
            " [39 16 13 11 19 10 44  2 31 21]\n",
            " [ 0  9  6 21 31 37 27 49 42 24]\n",
            " [36 44  8 21 48 17 18 45  1 24]\n",
            " [ 2 14 32 33  4  3 25 17 31 18]\n",
            " [35 27  8 42 24 23 22 17 36 34]\n",
            " [ 7 20 15 21 14 27 42  8 46  9]\n",
            " [ 0 21 36  8 32 24 33 45  1 34]\n",
            " [14 15 20 28 25 17 13  9 29 36]\n",
            " [ 2 16 36 39  3  5 22 33 18 42]\n",
            " [23 11 10 22 19  9 16 34 30 44]]\n"
          ]
        }
      ]
    },
    {
      "cell_type": "code",
      "source": [
        "predictions_ds_pcc = predict_ratings_mean_centered(user_ratings, discounted_similarity_matrix_pcc, top_20_percent_users_ds_pcc, user_means)\n",
        "print(\"Predicted Ratings Using Discounted Similarity (PCC):\")\n",
        "print(predictions_ds_pcc)"
      ],
      "metadata": {
        "colab": {
          "base_uri": "https://localhost:8080/"
        },
        "id": "f1Gh8E-mnNKX",
        "outputId": "e0976663-f59f-4b07-eba3-1e79d3be4b72"
      },
      "execution_count": null,
      "outputs": [
        {
          "output_type": "stream",
          "name": "stdout",
          "text": [
            "Predicted Ratings Using Discounted Similarity (PCC):\n",
            "[[0.         5.80546356 0.         ... 0.         0.         0.        ]\n",
            " [0.         0.         0.         ... 0.         0.         0.        ]\n",
            " [0.         0.         0.         ... 0.         0.         0.        ]\n",
            " ...\n",
            " [0.         0.         0.         ... 0.         0.         0.        ]\n",
            " [5.3542477  0.         0.         ... 0.         0.         0.        ]\n",
            " [0.         0.         0.         ... 0.         0.         0.        ]]\n"
          ]
        }
      ]
    },
    {
      "cell_type": "code",
      "source": [
        "comparison_users_pcc = top_20_percent_users_pcc == top_20_percent_users_ds_pcc\n",
        "print(\"Comparison of Top 20% Closest Users (PCC vs Discounted PCC):\")\n",
        "print(comparison_users_pcc)\n",
        "\n",
        "similarity_difference_pcc = np.sum(comparison_users_pcc) / top_20_percent_users_pcc.size * 100\n",
        "print(f\"Percentage of Similarity Between the Two Methods (PCC): {similarity_difference_pcc:.2f}%\")"
      ],
      "metadata": {
        "colab": {
          "base_uri": "https://localhost:8080/"
        },
        "id": "7d26MkT_nP2c",
        "outputId": "58cceb0a-f24d-45d5-bdfa-fe71665fd417"
      },
      "execution_count": null,
      "outputs": [
        {
          "output_type": "stream",
          "name": "stdout",
          "text": [
            "Comparison of Top 20% Closest Users (PCC vs Discounted PCC):\n",
            "[[False False False False False False False False False False]\n",
            " [False False False False False False False False False False]\n",
            " [False False False False False False False False False False]\n",
            " [False False False False False False False False False False]\n",
            " [False False False False False False False False False False]\n",
            " [ True  True  True False False False False False False False]\n",
            " [False False False False False False False False False False]\n",
            " [False False False False False False False False False False]\n",
            " [False False False False False False False False False False]\n",
            " [False False False False False False False False False False]\n",
            " [ True  True False False False False False False False False]\n",
            " [False False False False False False False False False False]\n",
            " [ True False False False False False False False False False]\n",
            " [False False False False False False False False False False]\n",
            " [False False False False False False False False False False]\n",
            " [False False False False False False False False False False]\n",
            " [False False False False False False False False False False]\n",
            " [False False False False False False False False False False]\n",
            " [ True  True  True  True  True  True False False False False]\n",
            " [False False False False False False False False False False]\n",
            " [False False False False False False False False False False]\n",
            " [False False False False False False False False False False]\n",
            " [False False False False False False False False False False]\n",
            " [False False False False False False False False False False]\n",
            " [ True False False False False False False False False False]\n",
            " [False False False False False False False False False False]\n",
            " [False False False False False False False False False False]\n",
            " [False False False False False False False False False False]\n",
            " [ True False False False False False False False False False]\n",
            " [ True False False False False False False False False False]\n",
            " [False False False False False False False False False False]\n",
            " [False False False False False False False False False False]\n",
            " [False False False False False False False False False False]\n",
            " [False False False False False False False False False False]\n",
            " [False False False False False False False False False False]\n",
            " [False False False False False False False False False False]\n",
            " [False False False False False False False False False False]\n",
            " [False False False False False False False False False False]\n",
            " [ True False False False False False False False False False]\n",
            " [False False False False False False False False False False]\n",
            " [False False False False False False False False False False]\n",
            " [False False False False False False False False False False]\n",
            " [False False False False False False False False False False]\n",
            " [False False False False False False False False False False]\n",
            " [False False False False False False False False False False]\n",
            " [False False False False False False False False False False]\n",
            " [ True False False False False False False False False False]\n",
            " [ True  True  True False False False False False False False]\n",
            " [False False False False False False False False False False]\n",
            " [False False False False False False False False False False]]\n",
            "Percentage of Similarity Between the Two Methods (PCC): 4.00%\n"
          ]
        }
      ]
    },
    {
      "cell_type": "code",
      "source": [
        "rating_diff_pcc = np.abs(predictions_pcc - predictions_ds_pcc)\n",
        "print(\"Difference in Predicted Ratings (PCC vs Discounted PCC):\")\n",
        "print(rating_diff_pcc)\n",
        "\n",
        "avg_diff_pcc = np.mean(rating_diff_pcc)\n",
        "print(f\"Average Difference in Predicted Ratings (PCC): {avg_diff_pcc:.2f}\")"
      ],
      "metadata": {
        "colab": {
          "base_uri": "https://localhost:8080/"
        },
        "id": "-c8yXEL_nSdG",
        "outputId": "0a806a74-4dc0-4147-d36c-ec78340ec9b9"
      },
      "execution_count": null,
      "outputs": [
        {
          "output_type": "stream",
          "name": "stdout",
          "text": [
            "Difference in Predicted Ratings (PCC vs Discounted PCC):\n",
            "[[0.         0.14159188 0.         ... 0.         0.         0.        ]\n",
            " [0.         0.         0.         ... 0.         0.         0.        ]\n",
            " [0.         0.         0.         ... 0.         0.         0.        ]\n",
            " ...\n",
            " [0.         0.         0.         ... 0.         0.         0.        ]\n",
            " [0.89974213 0.         0.         ... 0.         0.         0.        ]\n",
            " [0.         0.         0.         ... 0.         0.         0.        ]]\n",
            "Average Difference in Predicted Ratings (PCC): 0.00\n"
          ]
        }
      ]
    },
    {
      "cell_type": "code",
      "source": [],
      "metadata": {
        "id": "eI-igm6XnXzd"
      },
      "execution_count": null,
      "outputs": []
    }
  ]
}
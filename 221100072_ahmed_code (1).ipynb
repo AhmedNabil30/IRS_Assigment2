{
  "cells": [
    {
      "cell_type": "markdown",
      "metadata": {
        "id": "7SMA-SU-5nAV"
      },
      "source": [
        "#3.1 General requirements"
      ]
    },
    {
      "cell_type": "code",
      "execution_count": null,
      "metadata": {
        "colab": {
          "base_uri": "https://localhost:8080/"
        },
        "id": "Y7ID38Rr4EBM",
        "outputId": "b8cebfee-d71a-49e1-d7d4-a2d1283b1b5b"
      },
      "outputs": [
        {
          "name": "stdout",
          "output_type": "stream",
          "text": [
            "Original Ratings Data:\n",
            "   userId  movieId  rating  timestamp\n",
            "0       1        1     4.0  964982703\n",
            "1       1        3     4.0  964981247\n",
            "2       1        6     4.0  964982224\n",
            "3       1       47     5.0  964983815\n",
            "4       1       50     5.0  964982931\n",
            "\n",
            "Adjusted Ratings Data (1-5 Scale):\n",
            "   userId  movieId  rating  timestamp\n",
            "0       1        1     4.1  964982703\n",
            "1       1        3     4.1  964981247\n",
            "2       1        6     4.1  964982224\n",
            "3       1       47     5.0  964983815\n",
            "4       1       50     5.0  964982931\n",
            "\n",
            "Adjusted dataset saved as 'Adjusted_Ahmed_Data.csv'\n"
          ]
        }
      ],
      "source": [
        "import pandas as pd\n",
        "import numpy as np\n",
        "\n",
        "# Step 1: Load the Dataset\n",
        "data_path = '221100072_Ahmed_Data.csv'\n",
        "ratings_df = pd.read_csv(data_path)\n",
        "\n",
        "# Step 2: Inspect the Data\n",
        "print(\"Original Ratings Data:\")\n",
        "print(ratings_df.head())\n",
        "\n",
        "# Step 3: Adjust Ratings to 1-5 Scale\n",
        "# Function to rescale ratings\n",
        "# Assumption: Ratings might range beyond 1-5 (e.g., 0-10 or others)\n",
        "def rescale_ratings(rating, old_min, old_max, new_min=1, new_max=5):\n",
        "    return ((rating - old_min) / (old_max - old_min)) * (new_max - new_min) + new_min\n",
        "\n",
        "# Find the current range of ratings\n",
        "current_min = ratings_df['rating'].min()\n",
        "current_max = ratings_df['rating'].max()\n",
        "\n",
        "# Apply the rescaling function\n",
        "ratings_df['rating'] = ratings_df['rating'].apply(lambda x: rescale_ratings(x, current_min, current_max))\n",
        "\n",
        "# Step 4: Round Ratings to 1 Decimal Place and Ensure Bounds\n",
        "ratings_df['rating'] = ratings_df['rating'].round(1)\n",
        "ratings_df['rating'] = ratings_df['rating'].clip(lower=1, upper=5)\n",
        "\n",
        "# Step 5: Save or Display the Adjusted Data\n",
        "print(\"\\nAdjusted Ratings Data (1-5 Scale):\")\n",
        "print(ratings_df.head())\n",
        "\n",
        "# Optional: Save the adjusted dataset\n",
        "ratings_df.to_csv('Adjusted_Ahmed_Data.csv', index=False)\n",
        "print(\"\\nAdjusted dataset saved as 'Adjusted_Ahmed_Data.csv'\")\n"
      ]
    },
    {
      "cell_type": "code",
      "execution_count": 11,
      "metadata": {
        "colab": {
          "base_uri": "https://localhost:8080/"
        },
        "id": "OENA_LYb5yJp",
        "outputId": "59d69ea8-d4cd-4462-90ff-11dc78fb9abf"
      },
      "outputs": [
        {
          "output_type": "stream",
          "name": "stdout",
          "text": [
            "Original Ratings Data:\n",
            "     296   318   356   593   2571\n",
            "131   NaN   4.0   3.0   4.0   3.0\n",
            "317   5.0   4.0   5.0   5.0   4.0\n",
            "318   4.5   4.0   4.5   NaN   3.5\n",
            "432   2.5   3.0   4.5   4.0   3.5\n",
            "610   NaN   3.0   NaN   4.5   5.0\n",
            "\n",
            "Total Number of Users (tnu): 5\n",
            "Total Number of Items (tni): 5\n",
            "\n",
            "Number of Ratings for Each Product:\n",
            "296     3\n",
            "318     5\n",
            "356     4\n",
            "593     4\n",
            "2571    5\n",
            "dtype: int64\n",
            "\n",
            "Selected Active Users:\n",
            "U1 (2 missing ratings): User ID 131\n",
            "U2 (3 missing ratings): User ID 317\n",
            "U3 (5 missing ratings): User ID 432\n",
            "\n",
            "Updated Ratings Data with Missing Ratings:\n",
            "     296   318   356   593   2571\n",
            "131   NaN   NaN   1.8   3.4   1.8\n",
            "317   NaN   NaN   NaN   5.0   3.4\n",
            "318   4.2   3.4   4.2   NaN   2.6\n",
            "432   NaN   NaN   NaN   NaN   NaN\n",
            "610   NaN   1.8   NaN   4.2   5.0\n",
            "\n",
            "Adjusted dataset saved as 'Adjusted_User_Item_Matrix.csv'\n"
          ]
        },
        {
          "output_type": "stream",
          "name": "stderr",
          "text": [
            "<ipython-input-11-5e8e63ae0c54>:30: FutureWarning: DataFrame.applymap has been deprecated. Use DataFrame.map instead.\n",
            "  ratings_df = ratings_df.applymap(lambda x: rescale_ratings(x, current_min, current_max) if pd.notnull(x) else x)\n"
          ]
        }
      ],
      "source": [
        "import pandas as pd\n",
        "import numpy as np\n",
        "\n",
        "# Step 1: Simulate the User-Item Matrix from Assignment 1\n",
        "# Replace this with your actual dataframe from Assignment 1\n",
        "# Example matrix for demonstration:\n",
        "data = {\n",
        "    296: [np.nan, 5.0, 4.5, 2.5, np.nan],\n",
        "    318: [4.0, 4.0, 4.0, 3.0, 3.0],\n",
        "    356: [3.0, 5.0, 4.5, 4.5, np.nan],\n",
        "    593: [4.0, 5.0, np.nan, 4.0, 4.5],\n",
        "    2571: [3.0, 4.0, 3.5, 3.5, 5.0]\n",
        "}\n",
        "ratings_df = pd.DataFrame(data, index=[131, 317, 318, 432, 610])\n",
        "\n",
        "# Step 2: Inspect the Data\n",
        "print(\"Original Ratings Data:\")\n",
        "print(ratings_df)\n",
        "\n",
        "# Step 3: Adjust Ratings to 1-5 Scale\n",
        "# Function to rescale ratings\n",
        "def rescale_ratings(rating, old_min, old_max, new_min=1, new_max=5):\n",
        "    return ((rating - old_min) / (old_max - old_min)) * (new_max - new_min) + new_min\n",
        "\n",
        "# Find the current range of ratings\n",
        "current_min = ratings_df.min().min()\n",
        "current_max = ratings_df.max().max()\n",
        "\n",
        "# Apply the rescaling function and ensure bounds\n",
        "ratings_df = ratings_df.applymap(lambda x: rescale_ratings(x, current_min, current_max) if pd.notnull(x) else x)\n",
        "ratings_df = ratings_df.round(1).clip(lower=1, upper=5)\n",
        "\n",
        "# Step 4: Count Total Users and Items\n",
        "tnu = ratings_df.shape[0]  # Total number of users (rows)\n",
        "tni = ratings_df.shape[1]  # Total number of items (columns)\n",
        "\n",
        "print(f\"\\nTotal Number of Users (tnu): {tnu}\")\n",
        "print(f\"Total Number of Items (tni): {tni}\")\n",
        "\n",
        "# Step 5: Count the Number of Ratings for Each Product (Item)\n",
        "ratings_count_per_item = ratings_df.count()\n",
        "print(\"\\nNumber of Ratings for Each Product:\")\n",
        "print(ratings_count_per_item)\n",
        "\n",
        "# Step 6: Select Three Users with Specific Missing Ratings\n",
        "# Force specific users to have exactly 2, 3, and 5 missing ratings\n",
        "\n",
        "# Create missing ratings for selected users (U1, U2, U3)\n",
        "ratings_df.loc[131, ratings_df.columns[:2]] = np.nan  # U1 with 2 missing ratings\n",
        "ratings_df.loc[317, ratings_df.columns[:3]] = np.nan  # U2 with 3 missing ratings\n",
        "ratings_df.loc[432, ratings_df.columns[:5]] = np.nan  # U3 with 5 missing ratings\n",
        "\n",
        "# Verify Missing Counts\n",
        "missing_counts = ratings_df.isna().sum(axis=1)\n",
        "\n",
        "u1 = 131  # User ID for U1\n",
        "u2 = 317  # User ID for U2\n",
        "u3 = 432  # User ID for U3\n",
        "\n",
        "print(\"\\nSelected Active Users:\")\n",
        "print(f\"U1 (2 missing ratings): User ID {u1}\")\n",
        "print(f\"U2 (3 missing ratings): User ID {u2}\")\n",
        "print(f\"U3 (5 missing ratings): User ID {u3}\")\n",
        "\n",
        "print(\"\\nUpdated Ratings Data with Missing Ratings:\")\n",
        "print(ratings_df)\n",
        "\n",
        "# Optional: Save the adjusted dataset\n",
        "ratings_df.to_csv('Adjusted_User_Item_Matrix.csv', index=True)\n",
        "print(\"\\nAdjusted dataset saved as 'Adjusted_User_Item_Matrix.csv'\")\n"
      ]
    },
    {
      "cell_type": "code",
      "source": [
        "# Step 2: Pick Two Target Items (I1 and I2)\n",
        "# Force specific items to have 4% and 10% missing ratings\n",
        "num_users = ratings_df.shape[0]\n",
        "missing_4_percent = int(np.ceil(0.04 * num_users))\n",
        "missing_10_percent = int(np.ceil(0.10 * num_users))\n",
        "\n",
        "# I1: Add 4% missing ratings\n",
        "item_i1 = ratings_df.columns[0]  # First item\n",
        "ratings_df.loc[ratings_df.sample(missing_4_percent).index, item_i1] = np.nan\n",
        "\n",
        "# I2: Add 10% missing ratings\n",
        "item_i2 = ratings_df.columns[1]  # Second item\n",
        "ratings_df.loc[ratings_df.sample(missing_10_percent).index, item_i2] = np.nan\n",
        "\n",
        "print(\"\\nUpdated Ratings Data with Target Items (I1 and I2) having Missing Ratings:\")\n",
        "print(ratings_df)\n",
        "\n",
        "# Step 3: Count Co-Rated Items and Users for Active Users\n",
        "active_user = 131  # Example active user ID\n",
        "\n",
        "# Function to calculate co-rated items and common users\n",
        "def calculate_co_rated(active_user, ratings_df):\n",
        "    # Users who have rated at least one common item with the active user\n",
        "    active_user_ratings = ratings_df.loc[active_user].notna()\n",
        "    co_rated_items = ratings_df.loc[:, active_user_ratings].notna().sum(axis=0)\n",
        "    common_users = ratings_df.loc[:, active_user_ratings].notna().sum(axis=1)\n",
        "    return common_users, co_rated_items\n",
        "\n",
        "# Calculate No_common_users and No_coRated_items\n",
        "common_users, co_rated_items = calculate_co_rated(active_user, ratings_df)\n",
        "\n",
        "print(\"\\nNumber of Common Users (No_common_users):\")\n",
        "print(common_users)\n",
        "print(\"\\nNumber of Co-Rated Items (No_coRated_items):\")\n",
        "print(co_rated_items)\n",
        "\n",
        "# Step 4: Create a 2-D Array for Common Users and Co-Rated Items\n",
        "# Ensure matching dimensions by aligning indices\n",
        "aligned_co_rated_items = co_rated_items.reindex(common_users.index, fill_value=0)\n",
        "result_array = np.column_stack((common_users.sort_values(ascending=False), aligned_co_rated_items))\n",
        "result_df = pd.DataFrame(result_array, columns=[\"No_common_users\", \"No_coRated_items\"])\n",
        "\n",
        "print(\"\\n2-D Array with Common Users and Co-Rated Items:\")\n",
        "print(result_df)\n",
        "\n",
        "# Optional: Save the updated result\n",
        "target_items_path = 'Target_Items_Analysis.csv'\n",
        "result_df.to_csv(target_items_path, index=False)\n",
        "print(f\"\\nResults saved to '{target_items_path}'\")\n"
      ],
      "metadata": {
        "colab": {
          "base_uri": "https://localhost:8080/"
        },
        "id": "ba2iLIByGPo_",
        "outputId": "1cd51deb-b995-4271-b895-8ccb5634b9a7"
      },
      "execution_count": 13,
      "outputs": [
        {
          "output_type": "stream",
          "name": "stdout",
          "text": [
            "\n",
            "Updated Ratings Data with Target Items (I1 and I2) having Missing Ratings:\n",
            "     296   318   356   593   2571\n",
            "131   NaN   NaN   1.8   3.4   1.8\n",
            "317   NaN   NaN   NaN   5.0   3.4\n",
            "318   4.2   3.4   4.2   NaN   2.6\n",
            "432   NaN   NaN   NaN   NaN   NaN\n",
            "610   NaN   1.8   NaN   4.2   5.0\n",
            "\n",
            "Number of Common Users (No_common_users):\n",
            "131    3\n",
            "317    2\n",
            "318    2\n",
            "432    0\n",
            "610    2\n",
            "dtype: int64\n",
            "\n",
            "Number of Co-Rated Items (No_coRated_items):\n",
            "356     2\n",
            "593     3\n",
            "2571    4\n",
            "dtype: int64\n",
            "\n",
            "2-D Array with Common Users and Co-Rated Items:\n",
            "   No_common_users  No_coRated_items\n",
            "0                3                 0\n",
            "1                2                 0\n",
            "2                2                 0\n",
            "3                2                 0\n",
            "4                0                 0\n",
            "\n",
            "Results saved to 'Target_Items_Analysis.csv'\n"
          ]
        }
      ]
    },
    {
      "cell_type": "code",
      "source": [
        "import pandas as pd\n",
        "import matplotlib.pyplot as plt\n",
        "\n",
        "# Step 10: Load the Original Dataset\n",
        "original_data_path = '221100072_Ahmed_Data.csv'\n",
        "original_ratings_df = pd.read_csv(original_data_path)\n",
        "\n",
        "# Calculate the Quantity of Ratings for Each Item\n",
        "ratings_per_item = original_ratings_df.groupby('movieId')['rating'].count()\n",
        "\n",
        "# Plot the Curve\n",
        "plt.figure(figsize=(10, 6))\n",
        "plt.plot(ratings_per_item.index, ratings_per_item.values, marker='o', linestyle='-', linewidth=2)\n",
        "plt.title(\"Quantity of Ratings for Each Item in the Original Dataset\")\n",
        "plt.xlabel(\"Item (movieId)\")\n",
        "plt.ylabel(\"Number of Ratings\")\n",
        "plt.grid(True)\n",
        "plt.show()\n"
      ],
      "metadata": {
        "colab": {
          "base_uri": "https://localhost:8080/",
          "height": 564
        },
        "id": "3wj10NPwHrgM",
        "outputId": "5dc5dca6-ba21-4439-a784-4ea699ace4d2"
      },
      "execution_count": 16,
      "outputs": [
        {
          "output_type": "display_data",
          "data": {
            "text/plain": [
              "<Figure size 1000x600 with 1 Axes>"
            ],
            "image/png": "[encoded data removed]"
          },
          "metadata": {}
        }
      ]
    },
    {
      "cell_type": "code",
      "source": [
        "# Step 11: Determine Threshold β for Each Active User\n",
        "active_users = [131, 317, 432]  # Active users with missing ratings\n",
        "thresholds = {}\n",
        "\n",
        "# Function to calculate users co-rating at least 30% of items with active user\n",
        "def calculate_threshold_beta(active_user, ratings_df, threshold_percentage=0.3):\n",
        "    user_co_ratings = {}\n",
        "    total_items = ratings_df.shape[1]  # Total number of items\n",
        "\n",
        "    for user in ratings_df.index:\n",
        "        if user != active_user:  # Exclude active user\n",
        "            co_rated_items = ratings_df.loc[[active_user, user]].notna().all(axis=0).sum()\n",
        "            if co_rated_items >= threshold_percentage * total_items:\n",
        "                user_co_ratings[user] = co_rated_items\n",
        "\n",
        "    return len(user_co_ratings)  # Number of users meeting the threshold\n",
        "\n",
        "# Calculate Threshold β for Each Active User\n",
        "for user in active_users:\n",
        "    thresholds[user] = calculate_threshold_beta(user, ratings_df)\n",
        "\n",
        "# Display Thresholds\n",
        "print(\"\\nThreshold β for Each Active User:\")\n",
        "for user, beta in thresholds.items():\n",
        "    print(f\"Active User {user}: Threshold β = {beta}\")\n"
      ],
      "metadata": {
        "colab": {
          "base_uri": "https://localhost:8080/"
        },
        "id": "l4wqOJ1VJwQg",
        "outputId": "a4cedf1f-5ebd-403e-d312-ff1a8a1df9dd"
      },
      "execution_count": 17,
      "outputs": [
        {
          "output_type": "stream",
          "name": "stdout",
          "text": [
            "\n",
            "Threshold β for Each Active User:\n",
            "Active User 131: Threshold β = 3\n",
            "Active User 317: Threshold β = 2\n",
            "Active User 432: Threshold β = 0\n"
          ]
        }
      ]
    },
    {
      "cell_type": "markdown",
      "source": [
        "# 3.2, part 1 requirements and questions\n"
      ],
      "metadata": {
        "id": "0hZH0jxcLPWL"
      }
    },
    {
      "cell_type": "markdown",
      "source": [
        "# Case study **1.1**"
      ],
      "metadata": {
        "id": "6_eURJGXLnWB"
      }
    },
    {
      "cell_type": "markdown",
      "source": [
        "**1.1.1**\n"
      ],
      "metadata": {
        "id": "NWRJy5u1cNQ7"
      }
    },
    {
      "cell_type": "code",
      "source": [
        "import pandas as pd\n",
        "import numpy as np\n",
        "from sklearn.metrics.pairwise import cosine_similarity\n",
        "\n",
        "# Step 1: Load the Dataset\n",
        "data_path = '221100072_Ahmed_Data.csv'\n",
        "ratings_df = pd.read_csv(data_path)\n",
        "\n",
        "# Step 2: Pivot the Data to Create the User-Item Matrix\n",
        "user_item_matrix = ratings_df.pivot(index='userId', columns='movieId', values='rating')\n",
        "\n",
        "# Step 3: Fill Missing Ratings with 0 (No Mean-Centering)\n",
        "user_item_matrix_filled = user_item_matrix.fillna(0)\n",
        "\n",
        "# Step 4: Compute Cosine Similarity Between Users\n",
        "cosine_sim = cosine_similarity(user_item_matrix_filled)\n",
        "\n",
        "# Convert to a DataFrame for Better Readability\n",
        "cosine_sim_df = pd.DataFrame(cosine_sim, index=user_item_matrix.index, columns=user_item_matrix.index)\n",
        "\n",
        "# Step 5: Display Cosine Similarity for Active Users\n",
        "active_users = [131, 317, 432]  # Active users\n",
        "print(\"User-Based Cosine Similarity (Without Mean-Centering):\\n\")\n",
        "for user in active_users:\n",
        "    print(f\"Similarity of Active User {user} with Other Users:\")\n",
        "    print(cosine_sim_df.loc[user])\n",
        "    print(\"-\" * 50)\n"
      ],
      "metadata": {
        "colab": {
          "base_uri": "https://localhost:8080/"
        },
        "id": "iAacguN8heVo",
        "outputId": "df71902b-dde9-465b-d904-5a96d69afe41"
      },
      "execution_count": 38,
      "outputs": [
        {
          "output_type": "stream",
          "name": "stdout",
          "text": [
            "User-Based Cosine Similarity (Without Mean-Centering):\n",
            "\n",
            "Similarity of Active User 131 with Other Users:\n",
            "userId\n",
            "1      0.151027\n",
            "2      0.116926\n",
            "3      0.004726\n",
            "4      0.109815\n",
            "5      0.096017\n",
            "         ...   \n",
            "606    0.156605\n",
            "607    0.120901\n",
            "608    0.199025\n",
            "609    0.087902\n",
            "610    0.190705\n",
            "Name: 131, Length: 610, dtype: float64\n",
            "--------------------------------------------------\n",
            "Similarity of Active User 317 with Other Users:\n",
            "userId\n",
            "1      0.160296\n",
            "2      0.221634\n",
            "3      0.001891\n",
            "4      0.124534\n",
            "5      0.094315\n",
            "         ...   \n",
            "606    0.196888\n",
            "607    0.137594\n",
            "608    0.258801\n",
            "609    0.114543\n",
            "610    0.295323\n",
            "Name: 317, Length: 610, dtype: float64\n",
            "--------------------------------------------------\n",
            "Similarity of Active User 432 with Other Users:\n",
            "userId\n",
            "1      0.138249\n",
            "2      0.102125\n",
            "3      0.006644\n",
            "4      0.062282\n",
            "5      0.153779\n",
            "         ...   \n",
            "606    0.222342\n",
            "607    0.181004\n",
            "608    0.309972\n",
            "609    0.109699\n",
            "610    0.229298\n",
            "Name: 432, Length: 610, dtype: float64\n",
            "--------------------------------------------------\n"
          ]
        }
      ]
    },
    {
      "cell_type": "markdown",
      "source": [
        "**1.1.2**"
      ],
      "metadata": {
        "id": "RIlmMbs0caQZ"
      }
    },
    {
      "cell_type": "code",
      "source": [
        "# Step 1: Define Function to Get Top 20% Closest Users\n",
        "def get_top_closest_users(user_id, cosine_sim_df, top_percentage=0.2):\n",
        "    # Exclude the user themselves\n",
        "    user_similarities = cosine_sim_df.loc[user_id].drop(user_id)\n",
        "    # Sort similarities in descending order\n",
        "    sorted_similarities = user_similarities.sort_values(ascending=False)\n",
        "    # Select the top 20% closest users\n",
        "    top_n = int(np.ceil(len(sorted_similarities) * top_percentage))\n",
        "    return sorted_similarities.head(top_n)\n",
        "\n",
        "# Step 2: Find Top 20% Closest Users for Each Active User\n",
        "active_users = [131, 317, 432]\n",
        "print(\"Top 20% Closest Users to Each Active User Based on Cosine Similarity:\\n\")\n",
        "for user in active_users:\n",
        "    top_users = get_top_closest_users(user, cosine_sim_df)\n",
        "    print(f\"Active User {user} - Top 20% Closest Users:\")\n",
        "    print(top_users)\n",
        "    print(\"-\" * 50)\n"
      ],
      "metadata": {
        "colab": {
          "base_uri": "https://localhost:8080/"
        },
        "id": "LISw2LNShzSC",
        "outputId": "710f9422-95e4-4d8e-f93e-41947836583e"
      },
      "execution_count": 39,
      "outputs": [
        {
          "output_type": "stream",
          "name": "stdout",
          "text": [
            "Top 20% Closest Users to Each Active User Based on Cosine Similarity:\n",
            "\n",
            "Active User 131 - Top 20% Closest Users:\n",
            "userId\n",
            "400    0.462290\n",
            "16     0.446127\n",
            "343    0.410152\n",
            "17     0.403409\n",
            "152    0.384440\n",
            "         ...   \n",
            "331    0.212048\n",
            "62     0.211790\n",
            "409    0.211702\n",
            "105    0.210814\n",
            "227    0.210768\n",
            "Name: 131, Length: 122, dtype: float64\n",
            "--------------------------------------------------\n",
            "Active User 317 - Top 20% Closest Users:\n",
            "userId\n",
            "434    0.399743\n",
            "233    0.391519\n",
            "362    0.385989\n",
            "152    0.385362\n",
            "41     0.379971\n",
            "         ...   \n",
            "182    0.228492\n",
            "61     0.227971\n",
            "124    0.227633\n",
            "581    0.226879\n",
            "168    0.226581\n",
            "Name: 317, Length: 122, dtype: float64\n",
            "--------------------------------------------------\n",
            "Active User 432 - Top 20% Closest Users:\n",
            "userId\n",
            "434    0.373935\n",
            "239    0.373774\n",
            "247    0.362336\n",
            "573    0.351544\n",
            "254    0.346119\n",
            "         ...   \n",
            "344    0.224316\n",
            "209    0.223705\n",
            "72     0.223122\n",
            "477    0.222806\n",
            "231    0.222712\n",
            "Name: 432, Length: 122, dtype: float64\n",
            "--------------------------------------------------\n"
          ]
        }
      ]
    },
    {
      "cell_type": "markdown",
      "source": [
        "1.1.3\n"
      ],
      "metadata": {
        "id": "JuXzaTAwcrs1"
      }
    },
    {
      "cell_type": "code",
      "source": [
        "# Step 1: Predict Ratings for Unseen Items Using Top 20% Closest Users\n",
        "def predict_unseen_ratings(active_user, top_users, user_item_matrix):\n",
        "    # Identify items the active user has not rated\n",
        "    unseen_items = user_item_matrix.loc[active_user][user_item_matrix.loc[active_user].isna()].index\n",
        "\n",
        "    # Extract ratings of top users for unseen items\n",
        "    top_users_ratings = user_item_matrix.loc[top_users.index, unseen_items]\n",
        "\n",
        "    # Calculate the average ratings for the unseen items\n",
        "    predicted_ratings = top_users_ratings.mean(axis=0)\n",
        "    return predicted_ratings\n",
        "\n",
        "# Step 2: Predict for Each Active User\n",
        "predictions = {}\n",
        "print(\"Predicted Ratings for Unseen Items Based on Top 20% Closest Users:\\n\")\n",
        "\n",
        "for active_user in active_users:\n",
        "    # Get top 20% closest users for the active user\n",
        "    top_users = get_top_closest_users(active_user, cosine_sim_df)\n",
        "\n",
        "    # Predict ratings for unseen items\n",
        "    predictions[active_user] = predict_unseen_ratings(active_user, top_users, user_item_matrix)\n",
        "\n",
        "    # Display predictions\n",
        "    print(f\"Predicted Ratings for Active User {active_user}:\")\n",
        "    print(predictions[active_user])\n",
        "    print(\"-\" * 50)\n"
      ],
      "metadata": {
        "colab": {
          "base_uri": "https://localhost:8080/"
        },
        "id": "PvEAR6Lth9z9",
        "outputId": "797bcb31-e4f2-41f5-cd53-97453ced2a3d"
      },
      "execution_count": 41,
      "outputs": [
        {
          "output_type": "stream",
          "name": "stdout",
          "text": [
            "Predicted Ratings for Unseen Items Based on Top 20% Closest Users:\n",
            "\n",
            "Predicted Ratings for Active User 131:\n",
            "movieId\n",
            "1         3.693878\n",
            "2         2.950000\n",
            "3         3.100000\n",
            "4              NaN\n",
            "5         3.000000\n",
            "            ...   \n",
            "193581         NaN\n",
            "193583         NaN\n",
            "193585         NaN\n",
            "193587         NaN\n",
            "193609    4.000000\n",
            "Length: 9655, dtype: float64\n",
            "--------------------------------------------------\n",
            "Predicted Ratings for Active User 317:\n",
            "movieId\n",
            "1         3.754386\n",
            "2         3.045455\n",
            "3         2.800000\n",
            "4              NaN\n",
            "5         2.375000\n",
            "            ...   \n",
            "193581         NaN\n",
            "193583         NaN\n",
            "193585         NaN\n",
            "193587         NaN\n",
            "193609    4.000000\n",
            "Length: 9535, dtype: float64\n",
            "--------------------------------------------------\n",
            "Predicted Ratings for Active User 432:\n",
            "movieId\n",
            "3         2.916667\n",
            "4              NaN\n",
            "5         2.454545\n",
            "6         4.194444\n",
            "7         2.750000\n",
            "            ...   \n",
            "193581         NaN\n",
            "193583         NaN\n",
            "193585         NaN\n",
            "193587         NaN\n",
            "193609    4.000000\n",
            "Length: 9464, dtype: float64\n",
            "--------------------------------------------------\n"
          ]
        }
      ]
    },
    {
      "cell_type": "markdown",
      "source": [
        "1.1.4"
      ],
      "metadata": {
        "id": "lmbDszmsdsdU"
      }
    },
    {
      "cell_type": "code",
      "source": [
        "# Step 1: Compute Discounted Similarity (DS) Based on Threshold β\n",
        "def compute_discounted_similarity(similarity_series, beta):\n",
        "    return similarity_series / (1 + beta)\n",
        "\n",
        "# Step 2: Apply Discount Factor (DF) and Compute DS for Each Active User\n",
        "discounted_similarity = {}\n",
        "print(\"Discounted Similarity (DS) for Each Active User Based on Threshold β:\\n\")\n",
        "\n",
        "for active_user in active_users:\n",
        "    # Get top 20% closest users for the active user\n",
        "    top_users = get_top_closest_users(active_user, cosine_sim_df)\n",
        "\n",
        "    # Get similarity values for top users\n",
        "    cosine_sim_active = cosine_sim_df.loc[active_user, top_users.index]\n",
        "\n",
        "    # Retrieve β threshold for the active user\n",
        "    beta = thresholds[active_user]\n",
        "\n",
        "    # Compute Discounted Similarity\n",
        "    discounted_similarity[active_user] = compute_discounted_similarity(cosine_sim_active, beta)\n",
        "\n",
        "    # Display results\n",
        "    print(f\"Discounted Similarity for Active User {active_user}:\")\n",
        "    print(discounted_similarity[active_user].sort_values(ascending=False))\n",
        "    print(\"-\" * 50)\n"
      ],
      "metadata": {
        "colab": {
          "base_uri": "https://localhost:8080/"
        },
        "id": "CxIYIxKBeskM",
        "outputId": "3e1f9408-d7c3-4b63-bda0-dbd9a8db1b02"
      },
      "execution_count": 44,
      "outputs": [
        {
          "output_type": "stream",
          "name": "stdout",
          "text": [
            "Discounted Similarity (DS) for Each Active User Based on Threshold β:\n",
            "\n",
            "Discounted Similarity for Active User 131:\n",
            "userId\n",
            "400    0.115573\n",
            "16     0.111532\n",
            "343    0.102538\n",
            "17     0.100852\n",
            "152    0.096110\n",
            "         ...   \n",
            "331    0.053012\n",
            "62     0.052947\n",
            "409    0.052926\n",
            "105    0.052703\n",
            "227    0.052692\n",
            "Name: 131, Length: 122, dtype: float64\n",
            "--------------------------------------------------\n",
            "Discounted Similarity for Active User 317:\n",
            "userId\n",
            "434    0.133248\n",
            "233    0.130506\n",
            "362    0.128663\n",
            "152    0.128454\n",
            "41     0.126657\n",
            "         ...   \n",
            "182    0.076164\n",
            "61     0.075990\n",
            "124    0.075878\n",
            "581    0.075626\n",
            "168    0.075527\n",
            "Name: 317, Length: 122, dtype: float64\n",
            "--------------------------------------------------\n",
            "Discounted Similarity for Active User 432:\n",
            "userId\n",
            "434    0.373935\n",
            "239    0.373774\n",
            "247    0.362336\n",
            "573    0.351544\n",
            "254    0.346119\n",
            "         ...   \n",
            "344    0.224316\n",
            "209    0.223705\n",
            "72     0.223122\n",
            "477    0.222806\n",
            "231    0.222712\n",
            "Name: 432, Length: 122, dtype: float64\n",
            "--------------------------------------------------\n"
          ]
        }
      ]
    },
    {
      "cell_type": "markdown",
      "source": [
        "1.1.5"
      ],
      "metadata": {
        "id": "Jg8trFQFfvll"
      }
    },
    {
      "cell_type": "code",
      "source": [
        "# Step 1: Function to Get Top 20% Closest Users Based on Discounted Similarity\n",
        "def get_top_20_percent_closest_users(discounted_similarity_series):\n",
        "    top_n = int(np.ceil(len(discounted_similarity_series) * 0.2))\n",
        "    return discounted_similarity_series.sort_values(ascending=False).head(top_n)\n",
        "\n",
        "# Step 2: Identify Top 20% Closest Users for Each Active User\n",
        "top_20_ds_users = {}\n",
        "print(\"Top 20% Closest Users Based on Discounted Similarity (DS):\\n\")\n",
        "\n",
        "for active_user in active_users:\n",
        "    # Get Discounted Similarity values for the active user\n",
        "    ds_values = discounted_similarity[active_user]\n",
        "\n",
        "    # Get the top 20% closest users\n",
        "    top_20_ds_users[active_user] = get_top_20_percent_closest_users(ds_values)\n",
        "\n",
        "    # Display results\n",
        "    print(f\"Top 20% Closest Users for Active User {active_user}:\")\n",
        "    print(top_20_ds_users[active_user])\n",
        "    print(\"-\" * 50)\n"
      ],
      "metadata": {
        "colab": {
          "base_uri": "https://localhost:8080/"
        },
        "id": "dX-Wl3myfSW3",
        "outputId": "cdff6363-1938-4179-cbf0-ac560da87e49"
      },
      "execution_count": 45,
      "outputs": [
        {
          "output_type": "stream",
          "name": "stdout",
          "text": [
            "Top 20% Closest Users Based on Discounted Similarity (DS):\n",
            "\n",
            "Top 20% Closest Users for Active User 131:\n",
            "userId\n",
            "400    0.115573\n",
            "16     0.111532\n",
            "343    0.102538\n",
            "17     0.100852\n",
            "152    0.096110\n",
            "433    0.094517\n",
            "348    0.094340\n",
            "362    0.093609\n",
            "415    0.091721\n",
            "76     0.090877\n",
            "247    0.089383\n",
            "417    0.088787\n",
            "522    0.087108\n",
            "434    0.085757\n",
            "443    0.085064\n",
            "254    0.084290\n",
            "317    0.084117\n",
            "261    0.083529\n",
            "445    0.083208\n",
            "464    0.082971\n",
            "63     0.082195\n",
            "233    0.082150\n",
            "378    0.081606\n",
            "472    0.079915\n",
            "549    0.079663\n",
            "Name: 131, dtype: float64\n",
            "--------------------------------------------------\n",
            "Top 20% Closest Users for Active User 317:\n",
            "userId\n",
            "434    0.133248\n",
            "233    0.130506\n",
            "362    0.128663\n",
            "152    0.128454\n",
            "41     0.126657\n",
            "305    0.126109\n",
            "18     0.124012\n",
            "339    0.121468\n",
            "282    0.119604\n",
            "585    0.118977\n",
            "254    0.116226\n",
            "17     0.115470\n",
            "247    0.115364\n",
            "326    0.114201\n",
            "330    0.113110\n",
            "131    0.112156\n",
            "433    0.111465\n",
            "279    0.110295\n",
            "553    0.110179\n",
            "239    0.109501\n",
            "424    0.109033\n",
            "528    0.108408\n",
            "497    0.107672\n",
            "166    0.107259\n",
            "573    0.105525\n",
            "Name: 317, dtype: float64\n",
            "--------------------------------------------------\n",
            "Top 20% Closest Users for Active User 432:\n",
            "userId\n",
            "434    0.373935\n",
            "239    0.373774\n",
            "247    0.362336\n",
            "573    0.351544\n",
            "254    0.346119\n",
            "464    0.344750\n",
            "166    0.342391\n",
            "233    0.341752\n",
            "425    0.334192\n",
            "570    0.324883\n",
            "68     0.324061\n",
            "232    0.321703\n",
            "580    0.319452\n",
            "15     0.318725\n",
            "18     0.313752\n",
            "480    0.310763\n",
            "608    0.309972\n",
            "351    0.308350\n",
            "590    0.307302\n",
            "28     0.307056\n",
            "219    0.306343\n",
            "220    0.306133\n",
            "483    0.304966\n",
            "354    0.301821\n",
            "330    0.301809\n",
            "Name: 432, dtype: float64\n",
            "--------------------------------------------------\n"
          ]
        }
      ]
    },
    {
      "cell_type": "markdown",
      "source": [
        "1.1.6"
      ],
      "metadata": {
        "id": "5_M_pfB0lKMF"
      }
    },
    {
      "cell_type": "code",
      "source": [
        "# Step 1: Predict Ratings for Unseen Items Using Discounted Similarity\n",
        "def predict_discounted_unseen_ratings(active_user, top_users_ds):\n",
        "    # Identify items that the active user has not rated\n",
        "    unseen_items = user_item_matrix.loc[active_user][user_item_matrix.loc[active_user].isna()].index\n",
        "\n",
        "    # Extract ratings from top discounted users for unseen items\n",
        "    top_users_ratings = user_item_matrix.loc[top_users_ds.index, unseen_items]\n",
        "\n",
        "    # Replace NaN values in the top users' ratings with 0 for weighted averaging\n",
        "    top_users_ratings = top_users_ratings.fillna(0)\n",
        "    weights = top_users_ds.values  # Discounted similarity values as weights\n",
        "\n",
        "    # Compute the weighted average of ratings (prevent division by zero)\n",
        "    weighted_ratings = top_users_ratings.T.dot(weights) / (weights.sum() + 1e-9)\n",
        "\n",
        "    # Filter out items with zero predicted values\n",
        "    predicted_ratings = weighted_ratings[weighted_ratings > 0]\n",
        "    return predicted_ratings\n",
        "\n",
        "# Step 2: Predict for Each Active User\n",
        "discounted_predictions = {}\n",
        "print(\"Discounted Predicted Ratings for Each Active User:\\n\")\n",
        "\n",
        "for active_user in active_users:\n",
        "    # Retrieve top 20% closest users with discounted similarity (DS)\n",
        "    top_users_ds = top_20_ds_users[active_user]\n",
        "\n",
        "    # Predict ratings for unseen items\n",
        "    discounted_predictions[active_user] = predict_discounted_unseen_ratings(active_user, top_users_ds)\n",
        "\n",
        "    # Display predictions\n",
        "    print(f\"Discounted Predicted Ratings for Active User {active_user}:\")\n",
        "    print(discounted_predictions[active_user])\n",
        "    print(\"-\" * 50)\n"
      ],
      "metadata": {
        "colab": {
          "base_uri": "https://localhost:8080/"
        },
        "id": "N8lkP7NQlLaO",
        "outputId": "62cb8609-0b5e-40ce-b69c-f8388969fe55"
      },
      "execution_count": 47,
      "outputs": [
        {
          "output_type": "stream",
          "name": "stdout",
          "text": [
            "Discounted Predicted Ratings for Each Active User:\n",
            "\n",
            "Discounted Predicted Ratings for Active User 131:\n",
            "movieId\n",
            "1         1.463417\n",
            "2         0.095226\n",
            "6         0.762149\n",
            "9         0.092132\n",
            "10        0.416949\n",
            "            ...   \n",
            "180031    0.127709\n",
            "183011    0.054733\n",
            "183897    0.127709\n",
            "187541    0.118308\n",
            "187593    0.091221\n",
            "Length: 905, dtype: float64\n",
            "--------------------------------------------------\n",
            "Discounted Predicted Ratings for Active User 317:\n",
            "movieId\n",
            "1         2.243279\n",
            "2         0.704704\n",
            "3         0.116068\n",
            "10        0.630227\n",
            "11        0.187273\n",
            "            ...   \n",
            "183011    0.066959\n",
            "183897    0.156238\n",
            "185135    0.190881\n",
            "185585    0.107838\n",
            "187593    0.327275\n",
            "Length: 1409, dtype: float64\n",
            "--------------------------------------------------\n",
            "Discounted Predicted Ratings for Active User 432:\n",
            "movieId\n",
            "3         0.474671\n",
            "5         0.248244\n",
            "6         2.065208\n",
            "7         0.079447\n",
            "9         0.105649\n",
            "            ...   \n",
            "180777    0.173070\n",
            "183011    0.062838\n",
            "183897    0.146623\n",
            "185135    0.173070\n",
            "187593    0.104731\n",
            "Length: 2749, dtype: float64\n",
            "--------------------------------------------------\n"
          ]
        }
      ]
    },
    {
      "cell_type": "markdown",
      "source": [
        "1.1.7"
      ],
      "metadata": {
        "id": "gFcQm0Y-ls-P"
      }
    },
    {
      "cell_type": "code",
      "source": [
        "# Step 1: Compare Top 20% Users from Cosine Similarity (1.1.2) and Discounted Similarity (1.1.5)\n",
        "def compare_top_users(cosine_top_users, discounted_top_users):\n",
        "    common_users = set(cosine_top_users.index).intersection(set(discounted_top_users.index))\n",
        "    only_cosine = set(cosine_top_users.index) - common_users\n",
        "    only_discounted = set(discounted_top_users.index) - common_users\n",
        "\n",
        "    return common_users, only_cosine, only_discounted\n",
        "\n",
        "# Step 2: Generate Comparison for Each Active User\n",
        "print(\"Comparison of Top 20% Closest Users (Cosine Similarity vs Discounted Similarity):\\n\")\n",
        "\n",
        "for active_user in active_users:\n",
        "    print(f\"Active User {active_user}:\")\n",
        "\n",
        "    # Retrieve top users from 1.1.2 (Cosine) and 1.1.5 (Discounted)\n",
        "    cosine_top_users = cosine_sim_df.loc[active_user].sort_values(ascending=False).head(int(0.2 * len(cosine_sim_df)))\n",
        "    discounted_top_users = top_20_ds_users[active_user]\n",
        "\n",
        "    # Compare results\n",
        "    common_users, only_cosine, only_discounted = compare_top_users(cosine_top_users, discounted_top_users)\n",
        "\n",
        "    # Display the comparison\n",
        "    print(f\"Common Users in Both: {sorted(common_users)}\")\n",
        "    print(f\"Users Only in Cosine Similarity: {sorted(only_cosine)}\")\n",
        "    print(f\"Users Only in Discounted Similarity: {sorted(only_discounted)}\")\n",
        "    print(\"-\" * 50)\n"
      ],
      "metadata": {
        "colab": {
          "base_uri": "https://localhost:8080/"
        },
        "id": "n_glejEAltVQ",
        "outputId": "1af60392-0a56-4d77-cb8c-cbe9b3806230"
      },
      "execution_count": 48,
      "outputs": [
        {
          "output_type": "stream",
          "name": "stdout",
          "text": [
            "Comparison of Top 20% Closest Users (Cosine Similarity vs Discounted Similarity):\n",
            "\n",
            "Active User 131:\n",
            "Common Users in Both: [16, 17, 63, 76, 152, 233, 247, 254, 261, 317, 343, 348, 362, 378, 400, 415, 417, 433, 434, 443, 445, 464, 472, 522, 549]\n",
            "Users Only in Cosine Similarity: [15, 18, 23, 25, 28, 30, 39, 61, 62, 64, 65, 67, 72, 77, 86, 103, 105, 110, 112, 118, 123, 124, 131, 137, 166, 168, 171, 178, 187, 189, 193, 197, 198, 199, 204, 209, 211, 215, 219, 221, 223, 228, 231, 239, 251, 279, 282, 286, 295, 298, 305, 307, 322, 326, 327, 328, 330, 331, 332, 336, 338, 339, 351, 352, 366, 370, 372, 391, 393, 405, 407, 409, 418, 419, 424, 425, 432, 435, 469, 480, 494, 497, 503, 515, 528, 532, 553, 560, 561, 570, 572, 573, 580, 585, 590, 593, 601]\n",
            "Users Only in Discounted Similarity: []\n",
            "--------------------------------------------------\n",
            "Active User 317:\n",
            "Common Users in Both: [17, 18, 41, 131, 152, 166, 233, 239, 247, 254, 279, 282, 305, 326, 330, 339, 362, 424, 433, 434, 497, 528, 553, 573, 585]\n",
            "Users Only in Cosine Similarity: [15, 16, 24, 28, 29, 61, 62, 63, 64, 68, 72, 76, 80, 88, 103, 105, 110, 112, 122, 123, 124, 132, 177, 182, 187, 195, 198, 199, 204, 211, 212, 215, 219, 220, 222, 227, 232, 249, 251, 261, 274, 286, 295, 296, 298, 300, 301, 307, 317, 318, 322, 328, 331, 332, 336, 348, 351, 352, 354, 357, 366, 370, 378, 391, 393, 400, 405, 413, 414, 415, 417, 419, 425, 432, 443, 445, 448, 449, 464, 480, 483, 490, 495, 522, 532, 551, 560, 561, 562, 570, 580, 581, 590, 599, 601, 608, 610]\n",
            "Users Only in Discounted Similarity: []\n",
            "--------------------------------------------------\n",
            "Active User 432:\n",
            "Common Users in Both: [15, 18, 28, 68, 166, 219, 220, 232, 233, 239, 247, 254, 330, 351, 354, 425, 434, 464, 480, 483, 570, 573, 580, 590, 608]\n",
            "Users Only in Cosine Similarity: [7, 17, 21, 41, 45, 62, 63, 64, 72, 76, 80, 83, 86, 91, 103, 105, 112, 119, 129, 131, 132, 139, 140, 141, 144, 177, 189, 198, 199, 200, 209, 211, 222, 223, 227, 230, 246, 249, 263, 274, 279, 282, 286, 288, 292, 298, 301, 305, 307, 317, 326, 328, 331, 332, 334, 336, 339, 344, 352, 357, 359, 362, 370, 376, 378, 380, 381, 393, 399, 400, 414, 417, 428, 432, 438, 445, 453, 460, 466, 477, 489, 490, 522, 525, 528, 534, 542, 551, 560, 561, 562, 581, 593, 596, 599, 601, 610]\n",
            "Users Only in Discounted Similarity: []\n",
            "--------------------------------------------------\n"
          ]
        }
      ]
    },
    {
      "cell_type": "markdown",
      "source": [
        "1.1.8"
      ],
      "metadata": {
        "id": "mwTXYmSSoIki"
      }
    },
    {
      "cell_type": "code",
      "source": [
        "# Step 1: Compare 1.1.3 Predictions with 1.1.6 Predictions\n",
        "def compare_predictions(predictions_1_1_3, predictions_1_1_6):\n",
        "    # Combine the two sets of predictions into a DataFrame\n",
        "    comparison_df = pd.DataFrame({\n",
        "        '1.1.3_Prediction': predictions_1_1_3,\n",
        "        '1.1.6_Prediction': predictions_1_1_6\n",
        "    }).dropna()  # Drop NaN values for clean comparison\n",
        "\n",
        "    return comparison_df\n",
        "\n",
        "# Step 2: Compare Results for Each Active User\n",
        "print(\"Comparison of Predictions Between 1.1.3 and 1.1.6:\\n\")\n",
        "\n",
        "for active_user in active_users:\n",
        "    print(f\"Active User {active_user}:\\n\")\n",
        "\n",
        "    # Retrieve predictions for the active user from 1.1.3 and 1.1.6\n",
        "    predictions_1_1_3 = predictions[active_user]  # From 1.1.3\n",
        "    predictions_1_1_6 = discounted_predictions[active_user]  # From 1.1.6\n",
        "\n",
        "    # Compare the predictions\n",
        "    comparison = compare_predictions(predictions_1_1_3, predictions_1_1_6)\n",
        "\n",
        "    # Display a sample of the comparison\n",
        "    print(comparison.head(10))  # Display the first 10 comparisons\n",
        "    print(f\"Total Items Compared: {len(comparison)}\")\n",
        "    print(\"-\" * 50)\n"
      ],
      "metadata": {
        "colab": {
          "base_uri": "https://localhost:8080/"
        },
        "id": "Ajp0tjoFoHyy",
        "outputId": "c6ddb203-9867-411e-8312-23bbebb54e9b"
      },
      "execution_count": 49,
      "outputs": [
        {
          "output_type": "stream",
          "name": "stdout",
          "text": [
            "Comparison of Predictions Between 1.1.3 and 1.1.6:\n",
            "\n",
            "Active User 131:\n",
            "\n",
            "         1.1.3_Prediction  1.1.6_Prediction\n",
            "movieId                                    \n",
            "1                3.693878          1.463417\n",
            "2                2.950000          0.095226\n",
            "6                4.161290          0.762149\n",
            "9                2.500000          0.092132\n",
            "10               3.525000          0.416949\n",
            "16               4.269231          0.667362\n",
            "17               3.285714          0.129354\n",
            "20               3.250000          0.147412\n",
            "23               2.666667          0.110559\n",
            "25               3.916667          0.147412\n",
            "Total Items Compared: 905\n",
            "--------------------------------------------------\n",
            "Active User 317:\n",
            "\n",
            "         1.1.3_Prediction  1.1.6_Prediction\n",
            "movieId                                    \n",
            "1                3.754386          2.243279\n",
            "2                3.045455          0.704704\n",
            "3                2.800000          0.116068\n",
            "10               3.616667          0.630227\n",
            "11               3.800000          0.187273\n",
            "17               3.461538          0.146751\n",
            "19               2.977273          0.147317\n",
            "20               3.062500          0.267810\n",
            "21               3.192308          0.149818\n",
            "23               2.625000          0.131091\n",
            "Total Items Compared: 1409\n",
            "--------------------------------------------------\n",
            "Active User 432:\n",
            "\n",
            "         1.1.3_Prediction  1.1.6_Prediction\n",
            "movieId                                    \n",
            "3                2.916667          0.474671\n",
            "5                2.454545          0.248244\n",
            "6                4.194444          2.065208\n",
            "7                2.750000          0.079447\n",
            "9                2.000000          0.105649\n",
            "10               3.644737          2.199160\n",
            "11               3.607143          0.660238\n",
            "12               3.200000          0.188989\n",
            "16               4.032258          1.581139\n",
            "17               3.705882          0.438758\n",
            "Total Items Compared: 2749\n",
            "--------------------------------------------------\n"
          ]
        }
      ]
    },
    {
      "cell_type": "markdown",
      "source": [
        "# **case study 1.2**"
      ],
      "metadata": {
        "id": "nmXfojuFpKSH"
      }
    },
    {
      "cell_type": "markdown",
      "source": [
        "1.2.1"
      ],
      "metadata": {
        "id": "sA95wKBupKpU"
      }
    },
    {
      "cell_type": "code",
      "source": [
        "import pandas as pd\n",
        "import numpy as np\n",
        "from sklearn.metrics.pairwise import cosine_similarity\n",
        "\n",
        "# Step 1: Load the Dataset\n",
        "data_path = '221100072_Ahmed_Data.csv'\n",
        "ratings_df = pd.read_csv(data_path)\n",
        "\n",
        "# Step 2: Pivot the Data to Create the User-Item Matrix\n",
        "user_item_matrix = ratings_df.pivot(index='userId', columns='movieId', values='rating')\n",
        "\n",
        "# Step 3: Mean-Centering the Ratings (Bias Adjustment)\n",
        "mean_centered_matrix = user_item_matrix.sub(user_item_matrix.mean(axis=1), axis=0).fillna(0)\n",
        "\n",
        "# Step 4: Compute Cosine Similarity Between Users\n",
        "cosine_sim = cosine_similarity(mean_centered_matrix)\n",
        "\n",
        "# Convert to a DataFrame for Better Readability\n",
        "cosine_sim_df = pd.DataFrame(cosine_sim, index=user_item_matrix.index, columns=user_item_matrix.index)\n",
        "\n",
        "# Step 5: Display Cosine Similarity for Each Active User\n",
        "active_users = [131, 317, 432]  # List of active users\n",
        "print(\"User-Based Cosine Similarity (With Mean-Centering):\\n\")\n",
        "\n",
        "for user in active_users:\n",
        "    print(f\"Similarity of Active User {user} with Other Users:\")\n",
        "    print(cosine_sim_df.loc[user].sort_values(ascending=False).drop(user).head(20))  # Top 20 most similar users\n",
        "    print(\"-\" * 50)\n"
      ],
      "metadata": {
        "colab": {
          "base_uri": "https://localhost:8080/"
        },
        "id": "NLkpohqWzJIh",
        "outputId": "48648b89-f2b3-4d63-d47b-af0bd5d54513"
      },
      "execution_count": 51,
      "outputs": [
        {
          "output_type": "stream",
          "name": "stdout",
          "text": [
            "User-Based Cosine Similarity (With Mean-Centering):\n",
            "\n",
            "Similarity of Active User 131 with Other Users:\n",
            "userId\n",
            "585    0.177643\n",
            "363    0.155490\n",
            "549    0.125403\n",
            "415    0.124697\n",
            "171    0.122703\n",
            "221    0.114521\n",
            "152    0.110660\n",
            "348    0.107735\n",
            "297    0.107555\n",
            "182    0.103275\n",
            "433    0.101983\n",
            "338    0.101739\n",
            "409    0.100193\n",
            "295    0.099482\n",
            "372    0.098170\n",
            "242    0.096481\n",
            "16     0.096404\n",
            "59     0.095754\n",
            "76     0.095087\n",
            "331    0.092442\n",
            "Name: 131, dtype: float64\n",
            "--------------------------------------------------\n",
            "Similarity of Active User 317 with Other Users:\n",
            "userId\n",
            "400    0.135582\n",
            "239    0.129872\n",
            "152    0.129299\n",
            "588    0.127606\n",
            "386    0.122210\n",
            "97     0.121182\n",
            "444    0.115269\n",
            "415    0.111472\n",
            "445    0.109849\n",
            "419    0.107792\n",
            "233    0.107055\n",
            "403    0.106750\n",
            "72     0.106720\n",
            "266    0.106553\n",
            "352    0.105463\n",
            "373    0.105319\n",
            "338    0.105063\n",
            "211    0.103706\n",
            "580    0.103581\n",
            "254    0.101089\n",
            "Name: 317, dtype: float64\n",
            "--------------------------------------------------\n",
            "Similarity of Active User 432 with Other Users:\n",
            "userId\n",
            "379    0.167179\n",
            "376    0.153613\n",
            "593    0.147907\n",
            "14     0.133080\n",
            "494    0.116104\n",
            "144    0.113734\n",
            "584    0.109999\n",
            "117    0.107709\n",
            "176    0.099554\n",
            "107    0.094993\n",
            "551    0.091948\n",
            "280    0.087012\n",
            "143    0.084229\n",
            "604    0.083691\n",
            "65     0.083576\n",
            "470    0.083426\n",
            "134    0.081140\n",
            "463    0.078832\n",
            "140    0.078168\n",
            "359    0.078045\n",
            "Name: 432, dtype: float64\n",
            "--------------------------------------------------\n"
          ]
        }
      ]
    },
    {
      "cell_type": "markdown",
      "source": [
        "1.2.2"
      ],
      "metadata": {
        "id": "MgXiqy8JzOQZ"
      }
    },
    {
      "cell_type": "code",
      "source": [
        "# Step 1: Function to Get Top 20% Closest Users\n",
        "def get_top_20_percent_closest_users(user_id, cosine_sim_df, top_percentage=0.2):\n",
        "    # Exclude the user themselves\n",
        "    user_similarities = cosine_sim_df.loc[user_id].drop(user_id)\n",
        "    # Sort similarities in descending order\n",
        "    sorted_similarities = user_similarities.sort_values(ascending=False)\n",
        "    # Select the top 20% closest users\n",
        "    top_n = int(np.ceil(len(sorted_similarities) * top_percentage))\n",
        "    return sorted_similarities.head(top_n)\n",
        "\n",
        "# Step 2: Identify Top 20% Closest Users for Each Active User\n",
        "top_20_users = {}\n",
        "print(\"Top 20% Closest Users to Each Active User Based on Mean-Centered Cosine Similarity:\\n\")\n",
        "\n",
        "for active_user in active_users:\n",
        "    # Get top 20% closest users\n",
        "    top_20_users[active_user] = get_top_20_percent_closest_users(active_user, cosine_sim_df)\n",
        "\n",
        "    # Display results\n",
        "    print(f\"Top 20% Closest Users for Active User {active_user}:\")\n",
        "    print(top_20_users[active_user])\n",
        "    print(\"-\" * 50)\n"
      ],
      "metadata": {
        "colab": {
          "base_uri": "https://localhost:8080/"
        },
        "id": "NYqVlw9LzOpK",
        "outputId": "5e3fbfbb-eac5-4493-9781-c2f948eaf1ed"
      },
      "execution_count": 52,
      "outputs": [
        {
          "output_type": "stream",
          "name": "stdout",
          "text": [
            "Top 20% Closest Users to Each Active User Based on Mean-Centered Cosine Similarity:\n",
            "\n",
            "Top 20% Closest Users for Active User 131:\n",
            "userId\n",
            "585    0.177643\n",
            "363    0.155490\n",
            "549    0.125403\n",
            "415    0.124697\n",
            "171    0.122703\n",
            "         ...   \n",
            "512    0.045992\n",
            "505    0.045010\n",
            "307    0.044931\n",
            "213    0.044213\n",
            "581    0.043578\n",
            "Name: 131, Length: 122, dtype: float64\n",
            "--------------------------------------------------\n",
            "Top 20% Closest Users for Active User 317:\n",
            "userId\n",
            "400    0.135582\n",
            "239    0.129872\n",
            "152    0.129299\n",
            "588    0.127606\n",
            "386    0.122210\n",
            "         ...   \n",
            "601    0.060333\n",
            "263    0.060244\n",
            "560    0.060120\n",
            "593    0.059505\n",
            "196    0.059343\n",
            "Name: 317, Length: 122, dtype: float64\n",
            "--------------------------------------------------\n",
            "Top 20% Closest Users for Active User 432:\n",
            "userId\n",
            "379    0.167179\n",
            "376    0.153613\n",
            "593    0.147907\n",
            "14     0.133080\n",
            "494    0.116104\n",
            "         ...   \n",
            "357    0.036746\n",
            "30     0.036562\n",
            "42     0.036324\n",
            "536    0.035920\n",
            "152    0.035652\n",
            "Name: 432, Length: 122, dtype: float64\n",
            "--------------------------------------------------\n"
          ]
        }
      ]
    },
    {
      "cell_type": "markdown",
      "source": [
        "1.2.3"
      ],
      "metadata": {
        "id": "ZVrtnTsqz9a-"
      }
    },
    {
      "cell_type": "code",
      "source": [
        "# Step 1: Calculate User Means (Original Ratings)\n",
        "user_means = user_item_matrix.mean(axis=1)\n",
        "\n",
        "# Step 2: Function to Predict Ratings for Unseen Items with Mean-Centering\n",
        "def predict_unseen_ratings_centered(active_user, top_users):\n",
        "    # Get the unseen items for the active user\n",
        "    unseen_items = user_item_matrix.loc[active_user][user_item_matrix.loc[active_user].isna()].index\n",
        "\n",
        "    # Ratings from top users for unseen items (mean-centered)\n",
        "    top_users_ratings = mean_centered_matrix.loc[top_users.index, unseen_items].fillna(0)\n",
        "    weights = top_users.values  # Cosine similarity weights\n",
        "\n",
        "    # Weighted average prediction\n",
        "    weighted_ratings = top_users_ratings.T.dot(weights) / (weights.sum() + 1e-9)\n",
        "\n",
        "    # Add back the user's mean to re-center the predictions\n",
        "    predictions = weighted_ratings + user_means[active_user]\n",
        "    return predictions[predictions > 0]  # Filter out invalid predictions\n",
        "\n",
        "# Step 3: Predict Ratings for Each Active User\n",
        "predictions_centered = {}\n",
        "print(\"Predicted Ratings for Unseen Items (Bias-Adjusted):\\n\")\n",
        "\n",
        "for active_user in active_users:\n",
        "    # Get top 20% closest users\n",
        "    top_users = top_20_users[active_user]\n",
        "\n",
        "    # Predict ratings for unseen items\n",
        "    predictions_centered[active_user] = predict_unseen_ratings_centered(active_user, top_users)\n",
        "\n",
        "    # Display predictions\n",
        "    print(f\"Predicted Ratings for Active User {active_user} (Bias-Adjusted):\")\n",
        "    print(predictions_centered[active_user].head(10))  # Display the first 10 predictions\n",
        "    print(\"-\" * 50)\n"
      ],
      "metadata": {
        "colab": {
          "base_uri": "https://localhost:8080/"
        },
        "id": "5VXFEOZHz_BI",
        "outputId": "48f08bb6-6e05-443e-d0ea-1f2b2aa74307"
      },
      "execution_count": 54,
      "outputs": [
        {
          "output_type": "stream",
          "name": "stdout",
          "text": [
            "Predicted Ratings for Unseen Items (Bias-Adjusted):\n",
            "\n",
            "Predicted Ratings for Active User 131 (Bias-Adjusted):\n",
            "movieId\n",
            "1     3.512514\n",
            "2     3.396052\n",
            "3     3.441795\n",
            "4     3.442029\n",
            "5     3.394363\n",
            "6     3.569749\n",
            "7     3.425093\n",
            "8     3.424123\n",
            "9     3.437596\n",
            "10    3.399363\n",
            "dtype: float64\n",
            "--------------------------------------------------\n",
            "Predicted Ratings for Active User 317 (Bias-Adjusted):\n",
            "movieId\n",
            "1     3.781680\n",
            "2     3.673574\n",
            "3     3.719692\n",
            "4     3.730159\n",
            "5     3.718796\n",
            "7     3.726965\n",
            "8     3.717102\n",
            "9     3.706737\n",
            "10    3.714605\n",
            "11    3.759771\n",
            "dtype: float64\n",
            "--------------------------------------------------\n",
            "Predicted Ratings for Active User 432 (Bias-Adjusted):\n",
            "movieId\n",
            "3     3.628472\n",
            "4     3.624127\n",
            "5     3.622987\n",
            "6     3.696134\n",
            "7     3.640147\n",
            "8     3.625663\n",
            "9     3.631129\n",
            "10    3.600486\n",
            "11    3.724096\n",
            "12    3.655297\n",
            "dtype: float64\n",
            "--------------------------------------------------\n"
          ]
        }
      ]
    },
    {
      "cell_type": "markdown",
      "source": [
        "1.2.4\n"
      ],
      "metadata": {
        "id": "qfq7tKr20xHq"
      }
    },
    {
      "cell_type": "code",
      "source": [
        "# Step 1: Function to Compute Discounted Similarity (DS)\n",
        "def compute_discounted_similarity(similarity_series, beta):\n",
        "    return similarity_series / (1 + beta)\n",
        "\n",
        "# Step 2: Apply DF and Compute DS for Each Active User\n",
        "discounted_similarity_centered = {}\n",
        "\n",
        "print(\"Discounted Similarity (DS) for Each Active User (Bias-Adjusted):\\n\")\n",
        "\n",
        "for active_user in active_users:\n",
        "    # Retrieve threshold β for the active user\n",
        "    beta = thresholds[active_user]  # Threshold β calculated earlier\n",
        "\n",
        "    # Get cosine similarity for the active user (centered matrix)\n",
        "    cosine_sim_active = cosine_sim_df.loc[active_user].drop(active_user)\n",
        "\n",
        "    # Compute Discounted Similarity\n",
        "    discounted_similarity_centered[active_user] = compute_discounted_similarity(cosine_sim_active, beta)\n",
        "\n",
        "    # Display results\n",
        "    print(f\"Discounted Similarity for Active User {active_user} (Bias-Adjusted):\")\n",
        "    print(discounted_similarity_centered[active_user].sort_values(ascending=False).head(10))\n",
        "    print(\"-\" * 50)\n"
      ],
      "metadata": {
        "colab": {
          "base_uri": "https://localhost:8080/"
        },
        "id": "1bRgmwVd0zVC",
        "outputId": "8af2c4f9-ec46-4162-8ea5-27c45eef94d4"
      },
      "execution_count": 57,
      "outputs": [
        {
          "output_type": "stream",
          "name": "stdout",
          "text": [
            "Discounted Similarity (DS) for Each Active User (Bias-Adjusted):\n",
            "\n",
            "Discounted Similarity for Active User 131 (Bias-Adjusted):\n",
            "userId\n",
            "585    0.044411\n",
            "363    0.038872\n",
            "549    0.031351\n",
            "415    0.031174\n",
            "171    0.030676\n",
            "221    0.028630\n",
            "152    0.027665\n",
            "348    0.026934\n",
            "297    0.026889\n",
            "182    0.025819\n",
            "Name: 131, dtype: float64\n",
            "--------------------------------------------------\n",
            "Discounted Similarity for Active User 317 (Bias-Adjusted):\n",
            "userId\n",
            "400    0.045194\n",
            "239    0.043291\n",
            "152    0.043100\n",
            "588    0.042535\n",
            "386    0.040737\n",
            "97     0.040394\n",
            "444    0.038423\n",
            "415    0.037157\n",
            "445    0.036616\n",
            "419    0.035931\n",
            "Name: 317, dtype: float64\n",
            "--------------------------------------------------\n",
            "Discounted Similarity for Active User 432 (Bias-Adjusted):\n",
            "userId\n",
            "379    0.167179\n",
            "376    0.153613\n",
            "593    0.147907\n",
            "14     0.133080\n",
            "494    0.116104\n",
            "144    0.113734\n",
            "584    0.109999\n",
            "117    0.107709\n",
            "176    0.099554\n",
            "107    0.094993\n",
            "Name: 432, dtype: float64\n",
            "--------------------------------------------------\n"
          ]
        }
      ]
    },
    {
      "cell_type": "markdown",
      "source": [
        "1.2.5"
      ],
      "metadata": {
        "id": "ufxYYwT400F2"
      }
    },
    {
      "cell_type": "code",
      "source": [
        "# Step 3: Use DS to Determine Top 20% Closest Users\n",
        "top_20_users_discounted = {}\n",
        "\n",
        "print(\"Top 20% Closest Users Based on Discounted Similarity:\\n\")\n",
        "\n",
        "for active_user in active_users:\n",
        "    # Retrieve discounted similarity values\n",
        "    ds_values = discounted_similarity[active_user]\n",
        "\n",
        "    # Get top 20% closest users\n",
        "    top_n = int(np.ceil(len(ds_values) * 0.2))\n",
        "    top_20_users_discounted[active_user] = ds_values.sort_values(ascending=False).head(top_n)\n",
        "\n",
        "    # Display results\n",
        "    print(f\"Top 20% Closest Users for Active User {active_user}:\")\n",
        "    print(top_20_users_discounted[active_user])\n",
        "    print(\"-\" * 50)\n"
      ],
      "metadata": {
        "colab": {
          "base_uri": "https://localhost:8080/"
        },
        "id": "S0q8u4or01OH",
        "outputId": "14e9c82a-ab64-46cf-b2ac-4b4c5a419203"
      },
      "execution_count": 56,
      "outputs": [
        {
          "output_type": "stream",
          "name": "stdout",
          "text": [
            "Top 20% Closest Users Based on Discounted Similarity:\n",
            "\n",
            "Top 20% Closest Users for Active User 131:\n",
            "userId\n",
            "400    0.115573\n",
            "16     0.111532\n",
            "343    0.102538\n",
            "17     0.100852\n",
            "152    0.096110\n",
            "433    0.094517\n",
            "348    0.094340\n",
            "362    0.093609\n",
            "415    0.091721\n",
            "76     0.090877\n",
            "247    0.089383\n",
            "417    0.088787\n",
            "522    0.087108\n",
            "434    0.085757\n",
            "443    0.085064\n",
            "254    0.084290\n",
            "317    0.084117\n",
            "261    0.083529\n",
            "445    0.083208\n",
            "464    0.082971\n",
            "63     0.082195\n",
            "233    0.082150\n",
            "378    0.081606\n",
            "472    0.079915\n",
            "549    0.079663\n",
            "Name: 131, dtype: float64\n",
            "--------------------------------------------------\n",
            "Top 20% Closest Users for Active User 317:\n",
            "userId\n",
            "434    0.133248\n",
            "233    0.130506\n",
            "362    0.128663\n",
            "152    0.128454\n",
            "41     0.126657\n",
            "305    0.126109\n",
            "18     0.124012\n",
            "339    0.121468\n",
            "282    0.119604\n",
            "585    0.118977\n",
            "254    0.116226\n",
            "17     0.115470\n",
            "247    0.115364\n",
            "326    0.114201\n",
            "330    0.113110\n",
            "131    0.112156\n",
            "433    0.111465\n",
            "279    0.110295\n",
            "553    0.110179\n",
            "239    0.109501\n",
            "424    0.109033\n",
            "528    0.108408\n",
            "497    0.107672\n",
            "166    0.107259\n",
            "573    0.105525\n",
            "Name: 317, dtype: float64\n",
            "--------------------------------------------------\n",
            "Top 20% Closest Users for Active User 432:\n",
            "userId\n",
            "434    0.373935\n",
            "239    0.373774\n",
            "247    0.362336\n",
            "573    0.351544\n",
            "254    0.346119\n",
            "464    0.344750\n",
            "166    0.342391\n",
            "233    0.341752\n",
            "425    0.334192\n",
            "570    0.324883\n",
            "68     0.324061\n",
            "232    0.321703\n",
            "580    0.319452\n",
            "15     0.318725\n",
            "18     0.313752\n",
            "480    0.310763\n",
            "608    0.309972\n",
            "351    0.308350\n",
            "590    0.307302\n",
            "28     0.307056\n",
            "219    0.306343\n",
            "220    0.306133\n",
            "483    0.304966\n",
            "354    0.301821\n",
            "330    0.301809\n",
            "Name: 432, dtype: float64\n",
            "--------------------------------------------------\n"
          ]
        }
      ]
    },
    {
      "cell_type": "markdown",
      "source": [
        "1.2.6"
      ],
      "metadata": {
        "id": "9nR9N1xp1sDA"
      }
    },
    {
      "cell_type": "code",
      "source": [
        "# Step 1: Predict Ratings for Unseen Items Using Discounted Similarity\n",
        "def predict_discounted_unseen_ratings_centered(active_user, top_users_ds):\n",
        "    # Get unseen items for the active user\n",
        "    unseen_items = user_item_matrix.loc[active_user][user_item_matrix.loc[active_user].isna()].index\n",
        "\n",
        "    # Ratings from top discounted users for unseen items\n",
        "    top_users_ratings = mean_centered_matrix.loc[top_users_ds.index, unseen_items].fillna(0)\n",
        "    weights = top_users_ds.values  # Discounted similarity weights\n",
        "\n",
        "    # Weighted average prediction\n",
        "    weighted_ratings = top_users_ratings.T.dot(weights) / (weights.sum() + 1e-9)\n",
        "\n",
        "    # Add back user mean to re-center predictions\n",
        "    predictions = weighted_ratings + user_means[active_user]\n",
        "    return predictions[predictions > 0]  # Filter out invalid predictions\n",
        "\n",
        "# Step 2: Predict for Each Active User\n",
        "discounted_predictions_centered = {}\n",
        "print(\"Discounted Predicted Ratings for Unseen Items (Bias-Adjusted):\\n\")\n",
        "\n",
        "for active_user in active_users:\n",
        "    # Retrieve the top users with discounted similarity for the active user\n",
        "    top_users_ds = top_20_users_discounted[active_user]\n",
        "\n",
        "    # Predict ratings for unseen items\n",
        "    discounted_predictions_centered[active_user] = predict_discounted_unseen_ratings_centered(active_user, top_users_ds)\n",
        "\n",
        "    # Display predictions\n",
        "    print(f\"Discounted Predicted Ratings for Active User {active_user} (Bias-Adjusted):\")\n",
        "    print(discounted_predictions_centered[active_user].head(10))  # Display first 10 predictions\n",
        "    print(\"-\" * 50)\n"
      ],
      "metadata": {
        "colab": {
          "base_uri": "https://localhost:8080/"
        },
        "id": "tTxu3s_61sm3",
        "outputId": "9e77ed58-35cb-4a9d-fa29-f85d8635a945"
      },
      "execution_count": 59,
      "outputs": [
        {
          "output_type": "stream",
          "name": "stdout",
          "text": [
            "Discounted Predicted Ratings for Unseen Items (Bias-Adjusted):\n",
            "\n",
            "Discounted Predicted Ratings for Active User 131 (Bias-Adjusted):\n",
            "movieId\n",
            "1     3.448739\n",
            "2     3.393231\n",
            "3     3.442029\n",
            "4     3.442029\n",
            "5     3.442029\n",
            "6     3.512771\n",
            "7     3.442029\n",
            "8     3.442029\n",
            "9     3.395829\n",
            "10    3.434207\n",
            "dtype: float64\n",
            "--------------------------------------------------\n",
            "Discounted Predicted Ratings for Active User 317 (Bias-Adjusted):\n",
            "movieId\n",
            "1     3.827539\n",
            "2     3.508683\n",
            "3     3.703452\n",
            "4     3.730159\n",
            "5     3.730159\n",
            "7     3.730159\n",
            "8     3.730159\n",
            "9     3.730159\n",
            "10    3.721533\n",
            "11    3.766606\n",
            "dtype: float64\n",
            "--------------------------------------------------\n",
            "Discounted Predicted Ratings for Active User 432 (Bias-Adjusted):\n",
            "movieId\n",
            "3     3.485584\n",
            "4     3.646154\n",
            "5     3.504250\n",
            "6     3.813645\n",
            "7     3.597146\n",
            "8     3.646154\n",
            "9     3.593176\n",
            "10    3.732538\n",
            "11    3.730975\n",
            "12    3.696551\n",
            "dtype: float64\n",
            "--------------------------------------------------\n"
          ]
        }
      ]
    },
    {
      "cell_type": "markdown",
      "source": [
        "1.2.7"
      ],
      "metadata": {
        "id": "2skpPRxN2sUW"
      }
    },
    {
      "cell_type": "code",
      "source": [
        "# Step 1: Compare Top Users from 1.2.2 and 1.2.5\n",
        "def compare_top_users(top_users_1_2_2, top_users_1_2_5):\n",
        "    common_users = set(top_users_1_2_2.index).intersection(set(top_users_1_2_5.index))\n",
        "    only_1_2_2 = set(top_users_1_2_2.index) - common_users\n",
        "    only_1_2_5 = set(top_users_1_2_5.index) - common_users\n",
        "    return common_users, only_1_2_2, only_1_2_5\n",
        "\n",
        "# Step 2: Perform the Comparison for Each Active User\n",
        "print(\"Comparison of Top 20% Closest Users (Mean-Centered Cosine vs Discounted Similarity):\\n\")\n",
        "\n",
        "for active_user in active_users:\n",
        "    # Retrieve top users from 1.2.2 and 1.2.5\n",
        "    top_users_1_2_2 = cosine_sim_df.loc[active_user].sort_values(ascending=False).head(int(0.2 * len(cosine_sim_df)))\n",
        "    top_users_1_2_5 = top_20_users_discounted[active_user]\n",
        "\n",
        "    # Compare results\n",
        "    common_users, only_1_2_2, only_1_2_5 = compare_top_users(top_users_1_2_2, top_users_1_2_5)\n",
        "\n",
        "    # Display the comparison\n",
        "    print(f\"Active User {active_user}:\")\n",
        "    print(f\"Common Users in Both: {sorted(common_users)}\")\n",
        "    print(f\"Users Only in 1.2.2 (Mean-Centered Cosine): {sorted(only_1_2_2)}\")\n",
        "    print(f\"Users Only in 1.2.5 (Discounted Similarity): {sorted(only_1_2_5)}\")\n",
        "    print(\"-\" * 50)\n"
      ],
      "metadata": {
        "colab": {
          "base_uri": "https://localhost:8080/"
        },
        "id": "3NvUxflD2ssI",
        "outputId": "f844d0f3-f571-48be-a2e2-642c316dac6f"
      },
      "execution_count": 60,
      "outputs": [
        {
          "output_type": "stream",
          "name": "stdout",
          "text": [
            "Comparison of Top 20% Closest Users (Mean-Centered Cosine vs Discounted Similarity):\n",
            "\n",
            "Active User 131:\n",
            "Common Users in Both: [16, 76, 152, 343, 348, 362, 378, 400, 415, 433, 472, 549]\n",
            "Users Only in 1.2.2 (Mean-Centered Cosine): [8, 18, 22, 26, 32, 36, 47, 54, 59, 60, 61, 62, 64, 74, 77, 80, 83, 102, 103, 110, 118, 131, 137, 142, 145, 149, 156, 168, 171, 177, 182, 190, 191, 195, 196, 199, 213, 221, 227, 241, 242, 249, 260, 278, 285, 293, 295, 297, 298, 301, 307, 313, 319, 324, 325, 328, 331, 336, 338, 345, 352, 353, 363, 368, 370, 372, 373, 376, 386, 387, 391, 396, 405, 409, 414, 416, 422, 425, 435, 444, 446, 448, 449, 461, 462, 465, 466, 469, 480, 489, 490, 496, 497, 503, 505, 511, 512, 518, 523, 557, 565, 568, 585, 588, 589, 590, 603, 604, 609, 610]\n",
            "Users Only in 1.2.5 (Discounted Similarity): [17, 63, 233, 247, 254, 261, 317, 417, 434, 443, 445, 464, 522]\n",
            "--------------------------------------------------\n",
            "Active User 317:\n",
            "Common Users in Both: [18, 152, 233, 239, 247, 254, 339, 424, 434, 553, 585]\n",
            "Users Only in 1.2.2 (Mean-Centered Cosine): [11, 22, 24, 26, 45, 46, 50, 54, 56, 63, 72, 76, 80, 96, 97, 102, 103, 105, 109, 110, 117, 120, 121, 124, 128, 132, 133, 134, 144, 145, 178, 198, 204, 211, 219, 221, 241, 242, 260, 261, 263, 266, 274, 283, 285, 286, 289, 295, 296, 297, 298, 304, 313, 317, 322, 328, 336, 338, 348, 352, 353, 354, 363, 368, 372, 373, 374, 382, 385, 386, 387, 394, 400, 403, 409, 415, 417, 419, 421, 425, 427, 444, 445, 449, 453, 455, 463, 464, 465, 472, 480, 486, 503, 512, 540, 549, 555, 560, 561, 565, 568, 580, 582, 588, 589, 593, 599, 601, 602, 608, 610]\n",
            "Users Only in 1.2.5 (Discounted Similarity): [17, 41, 131, 166, 279, 282, 305, 326, 330, 362, 433, 497, 528, 573]\n",
            "--------------------------------------------------\n",
            "Active User 432:\n",
            "Common Users in Both: [15, 18, 232, 233, 239, 254, 330, 351, 425, 464, 608]\n",
            "Users Only in 1.2.2 (Mean-Centered Cosine): [6, 8, 9, 10, 14, 20, 30, 42, 46, 48, 51, 52, 58, 60, 65, 72, 76, 80, 81, 90, 93, 100, 107, 116, 117, 119, 126, 128, 134, 136, 140, 141, 143, 144, 146, 169, 170, 173, 174, 176, 177, 178, 181, 182, 185, 186, 189, 192, 196, 204, 208, 221, 223, 235, 244, 249, 263, 280, 282, 301, 312, 314, 319, 321, 339, 356, 357, 359, 373, 376, 377, 379, 381, 404, 407, 411, 412, 423, 428, 432, 436, 455, 458, 460, 461, 463, 465, 467, 468, 470, 476, 488, 489, 494, 498, 512, 519, 520, 530, 535, 536, 541, 551, 554, 560, 565, 577, 584, 593, 597, 604]\n",
            "Users Only in 1.2.5 (Discounted Similarity): [28, 68, 166, 219, 220, 247, 354, 434, 480, 483, 570, 573, 580, 590]\n",
            "--------------------------------------------------\n"
          ]
        }
      ]
    },
    {
      "cell_type": "markdown",
      "source": [
        "# **case study 1.3**"
      ],
      "metadata": {
        "id": "-Vq8MMTc5mGC"
      }
    },
    {
      "cell_type": "markdown",
      "source": [
        "1.3.1"
      ],
      "metadata": {
        "id": "cEglXMFP-Isb"
      }
    },
    {
      "cell_type": "code",
      "source": [
        "import pandas as pd\n",
        "import numpy as np\n",
        "\n",
        "# Step 1: Load the Dataset\n",
        "data_path = '221100072_Ahmed_Data.csv'  # Path to the dataset\n",
        "ratings_df = pd.read_csv(data_path)\n",
        "\n",
        "# Step 2: Pivot the Data to Create the User-Item Matrix\n",
        "user_item_matrix = ratings_df.pivot(index='userId', columns='movieId', values='rating')\n",
        "\n",
        "# Step 3: Compute the Pearson Correlation Coefficient (PCC)\n",
        "pcc_matrix = user_item_matrix.T.corr(method='pearson').fillna(0)\n",
        "\n",
        "# Step 4: Convert PCC Matrix to a Readable Format\n",
        "pcc_df = pd.DataFrame(pcc_matrix, index=user_item_matrix.index, columns=user_item_matrix.index)\n",
        "\n",
        "# Step 5: Display PCC for Each Active User\n",
        "active_users = [131, 317, 432]  # Example active users\n",
        "print(\"User-Based Similarity Using Pearson Correlation Coefficient (PCC):\\n\")\n",
        "\n",
        "for active_user in active_users:\n",
        "    print(f\"Similarity of Active User {active_user} with Other Users:\")\n",
        "    print(pcc_df.loc[active_user].sort_values(ascending=False).drop(active_user).head(10))\n",
        "    print(\"-\" * 50)\n"
      ],
      "metadata": {
        "colab": {
          "base_uri": "https://localhost:8080/"
        },
        "id": "CNou9vnD5lum",
        "outputId": "d357e9c5-fe6f-47f4-a59b-16b900393d62"
      },
      "execution_count": 62,
      "outputs": [
        {
          "output_type": "stream",
          "name": "stdout",
          "text": [
            "User-Based Similarity Using Pearson Correlation Coefficient (PCC):\n",
            "\n",
            "Similarity of Active User 131 with Other Users:\n",
            "userId\n",
            "353    1.0\n",
            "535    1.0\n",
            "397    1.0\n",
            "26     1.0\n",
            "505    1.0\n",
            "518    1.0\n",
            "575    1.0\n",
            "392    1.0\n",
            "291    1.0\n",
            "310    1.0\n",
            "Name: 131, dtype: float64\n",
            "--------------------------------------------------\n",
            "Similarity of Active User 317 with Other Users:\n",
            "userId\n",
            "291    1.0\n",
            "440    1.0\n",
            "250    1.0\n",
            "146    1.0\n",
            "481    1.0\n",
            "575    1.0\n",
            "206    1.0\n",
            "257    1.0\n",
            "106    1.0\n",
            "516    1.0\n",
            "Name: 317, dtype: float64\n",
            "--------------------------------------------------\n",
            "Similarity of Active User 432 with Other Users:\n",
            "userId\n",
            "360    1.000000\n",
            "388    1.000000\n",
            "535    0.975962\n",
            "333    0.973329\n",
            "188    0.944911\n",
            "530    0.880705\n",
            "60     0.800000\n",
            "90     0.765092\n",
            "293    0.756644\n",
            "146    0.713930\n",
            "Name: 432, dtype: float64\n",
            "--------------------------------------------------\n"
          ]
        }
      ]
    },
    {
      "cell_type": "markdown",
      "source": [
        "1.3.2"
      ],
      "metadata": {
        "id": "PXJDPTME-HK9"
      }
    },
    {
      "cell_type": "code",
      "source": [
        "# Step 1: Function to Retrieve Top 20% Closest Users Based on PCC\n",
        "def get_top_20_percent_users(active_user, pcc_df):\n",
        "    # Drop self-similarity and sort users by PCC values\n",
        "    sorted_pcc = pcc_df.loc[active_user].drop(active_user).sort_values(ascending=False)\n",
        "\n",
        "    # Calculate the number of top users (20%)\n",
        "    top_n = int(np.ceil(0.2 * len(sorted_pcc)))\n",
        "\n",
        "    # Return the top 20% closest users\n",
        "    return sorted_pcc.head(top_n)\n",
        "\n",
        "# Step 2: Retrieve Top 20% Users for Each Active User\n",
        "top_20_users_pcc = {}\n",
        "print(\"Top 20% Closest Users Based on PCC:\\n\")\n",
        "\n",
        "for active_user in active_users:\n",
        "    top_20_users_pcc[active_user] = get_top_20_percent_users(active_user, pcc_df)\n",
        "    print(f\"Top 20% Closest Users for Active User {active_user}:\")\n",
        "    print(top_20_users_pcc[active_user])\n",
        "    print(\"-\" * 50)\n"
      ],
      "metadata": {
        "colab": {
          "base_uri": "https://localhost:8080/"
        },
        "id": "pUwqCzzd-MUk",
        "outputId": "b23d29e2-27f7-4151-8df0-f9bb13836614"
      },
      "execution_count": 63,
      "outputs": [
        {
          "output_type": "stream",
          "name": "stdout",
          "text": [
            "Top 20% Closest Users Based on PCC:\n",
            "\n",
            "Top 20% Closest Users for Active User 131:\n",
            "userId\n",
            "353    1.000000\n",
            "505    1.000000\n",
            "397    1.000000\n",
            "575    1.000000\n",
            "535    1.000000\n",
            "         ...   \n",
            "249    0.373073\n",
            "503    0.370712\n",
            "438    0.359478\n",
            "366    0.358057\n",
            "437    0.357548\n",
            "Name: 131, Length: 122, dtype: float64\n",
            "--------------------------------------------------\n",
            "Top 20% Closest Users for Active User 317:\n",
            "userId\n",
            "291    1.000000\n",
            "146    1.000000\n",
            "481    1.000000\n",
            "257    1.000000\n",
            "206    1.000000\n",
            "         ...   \n",
            "313    0.327520\n",
            "263    0.327259\n",
            "79     0.327144\n",
            "609    0.325000\n",
            "133    0.319333\n",
            "Name: 317, Length: 122, dtype: float64\n",
            "--------------------------------------------------\n",
            "Top 20% Closest Users for Active User 432:\n",
            "userId\n",
            "388    1.000000\n",
            "360    1.000000\n",
            "535    0.975962\n",
            "333    0.973329\n",
            "188    0.944911\n",
            "         ...   \n",
            "221    0.301243\n",
            "48     0.298020\n",
            "263    0.296806\n",
            "51     0.293605\n",
            "408    0.292908\n",
            "Name: 432, Length: 122, dtype: float64\n",
            "--------------------------------------------------\n"
          ]
        }
      ]
    },
    {
      "cell_type": "markdown",
      "source": [
        "1.3.3"
      ],
      "metadata": {
        "id": "5P3TX0kS-ZD8"
      }
    },
    {
      "cell_type": "code",
      "source": [
        "# Step 1: Function to Predict Ratings for Unseen Items\n",
        "def predict_unseen_ratings_pcc(active_user, top_users_pcc, user_item_matrix):\n",
        "    # Identify unseen items for the active user\n",
        "    unseen_items = user_item_matrix.loc[active_user][user_item_matrix.loc[active_user].isna()].index\n",
        "\n",
        "    # Get ratings of top users for unseen items\n",
        "    top_users_ratings = user_item_matrix.loc[top_users_pcc.index, unseen_items].fillna(0)\n",
        "    weights = top_users_pcc.values  # PCC similarity weights\n",
        "\n",
        "    # Weighted average prediction\n",
        "    weighted_ratings = top_users_ratings.T.dot(weights) / (weights.sum() + 1e-9)\n",
        "\n",
        "    return weighted_ratings[weighted_ratings > 0]  # Filter out invalid predictions\n",
        "\n",
        "# Step 2: Predict Ratings for Each Active User\n",
        "predictions_pcc = {}\n",
        "print(\"Predicted Ratings for Unseen Items Based on PCC:\\n\")\n",
        "\n",
        "for active_user in active_users:\n",
        "    # Retrieve the top 20% closest users\n",
        "    top_users_pcc = top_20_users_pcc[active_user]\n",
        "\n",
        "    # Predict ratings for unseen items\n",
        "    predictions_pcc[active_user] = predict_unseen_ratings_pcc(active_user, top_users_pcc, user_item_matrix)\n",
        "\n",
        "    # Display predictions\n",
        "    print(f\"Predicted Ratings for Active User {active_user} (PCC-Based):\")\n",
        "    print(predictions_pcc[active_user].head(10))  # Display the first 10 predictions\n",
        "    print(\"-\" * 50)\n"
      ],
      "metadata": {
        "colab": {
          "base_uri": "https://localhost:8080/"
        },
        "id": "mvkc31ET-bmq",
        "outputId": "3c1e627f-145c-4ea8-b3e6-927bf4f1d5fb"
      },
      "execution_count": 64,
      "outputs": [
        {
          "output_type": "stream",
          "name": "stdout",
          "text": [
            "Predicted Ratings for Unseen Items Based on PCC:\n",
            "\n",
            "Predicted Ratings for Active User 131 (PCC-Based):\n",
            "movieId\n",
            "1     1.260745\n",
            "2     0.495466\n",
            "3     0.199665\n",
            "5     0.144964\n",
            "6     0.470673\n",
            "7     0.175701\n",
            "8     0.019869\n",
            "9     0.091694\n",
            "10    0.580540\n",
            "11    0.403111\n",
            "dtype: float64\n",
            "--------------------------------------------------\n",
            "Predicted Ratings for Active User 317 (PCC-Based):\n",
            "movieId\n",
            "1     1.086347\n",
            "2     0.277971\n",
            "3     0.128106\n",
            "5     0.217088\n",
            "7     0.299545\n",
            "9     0.074078\n",
            "10    0.460706\n",
            "11    0.325126\n",
            "12    0.025168\n",
            "13    0.023884\n",
            "dtype: float64\n",
            "--------------------------------------------------\n",
            "Predicted Ratings for Active User 432 (PCC-Based):\n",
            "movieId\n",
            "3     0.179824\n",
            "4     0.067942\n",
            "5     0.291451\n",
            "6     0.486437\n",
            "7     0.488687\n",
            "8     0.052717\n",
            "10    0.744475\n",
            "11    0.521036\n",
            "12    0.068567\n",
            "13    0.046927\n",
            "dtype: float64\n",
            "--------------------------------------------------\n"
          ]
        }
      ]
    },
    {
      "cell_type": "markdown",
      "source": [
        "1.3.4"
      ],
      "metadata": {
        "id": "bAyR9oDB-rBp"
      }
    },
    {
      "cell_type": "code",
      "source": [
        "# Step 1: Function to Compute Discounted Similarity Using Threshold β\n",
        "def compute_discounted_similarity_pcc(similarity_series, beta):\n",
        "    return similarity_series / (1 + beta)\n",
        "\n",
        "# Step 2: Compute Threshold β for Each Active User\n",
        "thresholds_pcc = {}\n",
        "\n",
        "for active_user in active_users:\n",
        "    user_co_ratings = user_item_matrix.loc[active_user].notna().sum()  # Number of items rated by the user\n",
        "    beta = 0.3 * user_co_ratings  # 30% of co-rated items\n",
        "    thresholds_pcc[active_user] = beta\n",
        "\n",
        "# Step 3: Apply DF and Compute DS for Each Active User\n",
        "discounted_pcc = {}\n",
        "\n",
        "print(\"Discounted Similarity (DS) for Each Active User (PCC-Based):\\n\")\n",
        "\n",
        "for active_user in active_users:\n",
        "    # Retrieve threshold β for the active user\n",
        "    beta = thresholds_pcc[active_user]\n",
        "\n",
        "    # Get PCC values for the active user (exclude self)\n",
        "    pcc_active_users = pcc_df.loc[active_user].drop(active_user)\n",
        "\n",
        "    # Compute discounted similarity\n",
        "    discounted_pcc[active_user] = compute_discounted_similarity_pcc(pcc_active_users, beta)\n",
        "\n",
        "    # Display the discounted similarity values for the active user\n",
        "    print(f\"Discounted similarity for Active User {active_user} (PCC):\")\n",
        "    print(discounted_pcc[active_user].sort_values(ascending=False).head(10))\n",
        "    print(\"-\" * 50)\n"
      ],
      "metadata": {
        "colab": {
          "base_uri": "https://localhost:8080/"
        },
        "id": "M36hvcLv-rZe",
        "outputId": "84c79864-4372-4857-dd08-be2ef3007e1a"
      },
      "execution_count": 74,
      "outputs": [
        {
          "output_type": "stream",
          "name": "stdout",
          "text": [
            "Discounted Similarity (DS) for Each Active User (PCC-Based):\n",
            "\n",
            "Discounted similarity for Active User 131 (PCC):\n",
            "userId\n",
            "353    0.046083\n",
            "505    0.046083\n",
            "397    0.046083\n",
            "575    0.046083\n",
            "535    0.046083\n",
            "26     0.046083\n",
            "291    0.046083\n",
            "392    0.046083\n",
            "518    0.046083\n",
            "101    0.046083\n",
            "Name: 131, dtype: float64\n",
            "--------------------------------------------------\n",
            "Discounted similarity for Active User 317 (PCC):\n",
            "userId\n",
            "291    0.017331\n",
            "146    0.017331\n",
            "481    0.017331\n",
            "257    0.017331\n",
            "206    0.017331\n",
            "440    0.017331\n",
            "575    0.017331\n",
            "250    0.017331\n",
            "106    0.017331\n",
            "516    0.017331\n",
            "Name: 317, dtype: float64\n",
            "--------------------------------------------------\n",
            "Discounted similarity for Active User 432 (PCC):\n",
            "userId\n",
            "388    0.012658\n",
            "360    0.012658\n",
            "535    0.012354\n",
            "333    0.012321\n",
            "188    0.011961\n",
            "530    0.011148\n",
            "60     0.010127\n",
            "90     0.009685\n",
            "293    0.009578\n",
            "146    0.009037\n",
            "Name: 432, dtype: float64\n",
            "--------------------------------------------------\n"
          ]
        }
      ]
    },
    {
      "cell_type": "markdown",
      "source": [
        "1.3.5"
      ],
      "metadata": {
        "id": "QM_jEI-M_QEn"
      }
    },
    {
      "cell_type": "code",
      "source": [
        "# Find the top 20% closest users using discounted similarity\n",
        "top_20_discounted_users_pcc = {}\n",
        "for active_user in active_users:\n",
        "    top_20_discounted_users_pcc[active_user] = get_top_20_percent(discounted_pcc[active_user])\n",
        "    print(f\"Top 20% closest users for Active User {active_user} (Discounted PCC):\")\n",
        "    print(top_20_discounted_users_pcc[active_user])\n"
      ],
      "metadata": {
        "colab": {
          "base_uri": "https://localhost:8080/"
        },
        "id": "mZQ-CPxT_QZr",
        "outputId": "9816fc81-a8a5-4aeb-df85-54d1f50e6daa"
      },
      "execution_count": 75,
      "outputs": [
        {
          "output_type": "stream",
          "name": "stdout",
          "text": [
            "Top 20% closest users for Active User 131 (Discounted PCC):\n",
            "userId\n",
            "353    0.046083\n",
            "505    0.046083\n",
            "397    0.046083\n",
            "575    0.046083\n",
            "535    0.046083\n",
            "         ...   \n",
            "249    0.017192\n",
            "503    0.017083\n",
            "438    0.016566\n",
            "366    0.016500\n",
            "437    0.016477\n",
            "Name: 131, Length: 122, dtype: float64\n",
            "Top 20% closest users for Active User 317 (Discounted PCC):\n",
            "userId\n",
            "291    0.017331\n",
            "146    0.017331\n",
            "481    0.017331\n",
            "257    0.017331\n",
            "206    0.017331\n",
            "         ...   \n",
            "313    0.005676\n",
            "263    0.005672\n",
            "79     0.005670\n",
            "609    0.005633\n",
            "133    0.005534\n",
            "Name: 317, Length: 122, dtype: float64\n",
            "Top 20% closest users for Active User 432 (Discounted PCC):\n",
            "userId\n",
            "388    0.012658\n",
            "360    0.012658\n",
            "535    0.012354\n",
            "333    0.012321\n",
            "188    0.011961\n",
            "         ...   \n",
            "221    0.003813\n",
            "48     0.003772\n",
            "263    0.003757\n",
            "51     0.003717\n",
            "408    0.003708\n",
            "Name: 432, Length: 122, dtype: float64\n"
          ]
        }
      ]
    },
    {
      "cell_type": "markdown",
      "source": [
        "1.3.6"
      ],
      "metadata": {
        "id": "oU9ieHZIBxcB"
      }
    },
    {
      "cell_type": "code",
      "source": [
        "# Step 1: Function to Predict Ratings for Unseen Items Using Discounted Similarity\n",
        "def predict_unseen_ratings_discounted_pcc(active_user, top_users_ds, user_item_matrix):\n",
        "    # Identify unseen items for the active user\n",
        "    unseen_items = user_item_matrix.loc[active_user][user_item_matrix.loc[active_user].isna()].index\n",
        "\n",
        "    # Ratings from top discounted users for unseen items\n",
        "    top_users_ratings = user_item_matrix.loc[top_users_ds.index, unseen_items].fillna(0)\n",
        "    weights = top_users_ds.values  # Discounted similarity weights\n",
        "\n",
        "    # Weighted average prediction\n",
        "    weighted_ratings = top_users_ratings.T.dot(weights) / (weights.sum() + 1e-9)\n",
        "\n",
        "    return weighted_ratings[weighted_ratings > 0]  # Filter out invalid predictions\n",
        "\n",
        "# Step 2: Predict Ratings for Each Active User\n",
        "discounted_predictions_pcc = {}\n",
        "print(\"Discounted Predicted Ratings for Unseen Items (PCC-Based):\\n\")\n",
        "\n",
        "for active_user in active_users:\n",
        "    # Retrieve top 20% discounted users for the active user\n",
        "    top_users_ds = top_20_discounted_users_pcc[active_user]\n",
        "\n",
        "    # Predict ratings for unseen items\n",
        "    discounted_predictions_pcc[active_user] = predict_unseen_ratings_discounted_pcc(\n",
        "        active_user, top_users_ds, user_item_matrix\n",
        "    )\n",
        "\n",
        "    # Display results\n",
        "    print(f\"Discounted Predicted Ratings for Active User {active_user} (PCC-Based):\")\n",
        "    print(discounted_predictions_pcc[active_user].head(10))  # Display the first 10 predictions\n",
        "    print(\"-\" * 50)\n"
      ],
      "metadata": {
        "colab": {
          "base_uri": "https://localhost:8080/"
        },
        "id": "nkOrbb1CBytW",
        "outputId": "1a97cf93-a4e5-4142-a312-b021a83c893f"
      },
      "execution_count": 76,
      "outputs": [
        {
          "output_type": "stream",
          "name": "stdout",
          "text": [
            "Discounted Predicted Ratings for Unseen Items (PCC-Based):\n",
            "\n",
            "Discounted Predicted Ratings for Active User 131 (PCC-Based):\n",
            "movieId\n",
            "1     1.260745\n",
            "2     0.495466\n",
            "3     0.199665\n",
            "5     0.144964\n",
            "6     0.470673\n",
            "7     0.175701\n",
            "8     0.019869\n",
            "9     0.091694\n",
            "10    0.580540\n",
            "11    0.403111\n",
            "dtype: float64\n",
            "--------------------------------------------------\n",
            "Discounted Predicted Ratings for Active User 317 (PCC-Based):\n",
            "movieId\n",
            "1     1.086347\n",
            "2     0.277971\n",
            "3     0.128106\n",
            "5     0.217088\n",
            "7     0.299545\n",
            "9     0.074078\n",
            "10    0.460706\n",
            "11    0.325126\n",
            "12    0.025168\n",
            "13    0.023884\n",
            "dtype: float64\n",
            "--------------------------------------------------\n",
            "Discounted Predicted Ratings for Active User 432 (PCC-Based):\n",
            "movieId\n",
            "3     0.179824\n",
            "4     0.067942\n",
            "5     0.291451\n",
            "6     0.486437\n",
            "7     0.488687\n",
            "8     0.052717\n",
            "10    0.744475\n",
            "11    0.521036\n",
            "12    0.068567\n",
            "13    0.046927\n",
            "dtype: float64\n",
            "--------------------------------------------------\n"
          ]
        }
      ]
    },
    {
      "cell_type": "markdown",
      "source": [
        "1.3.7"
      ],
      "metadata": {
        "id": "nDK_N075CFRO"
      }
    },
    {
      "cell_type": "code",
      "source": [
        "# Step 1: Function to Compare Top 20% Users from PCC and Discounted PCC\n",
        "def compare_top_users(top_users_pcc, top_users_discounted_pcc):\n",
        "    common_users = set(top_users_pcc.index).intersection(set(top_users_discounted_pcc.index))\n",
        "    only_pcc = set(top_users_pcc.index) - common_users\n",
        "    only_discounted = set(top_users_discounted_pcc.index) - common_users\n",
        "    return common_users, only_pcc, only_discounted\n",
        "\n",
        "# Step 2: Compare Results for Each Active User\n",
        "print(\"Comparison Between Top 20% Closest Users (PCC vs Discounted PCC):\\n\")\n",
        "\n",
        "for active_user in active_users:\n",
        "    # Retrieve top 20% users from PCC and Discounted PCC\n",
        "    top_users_pcc = top_20_users_pcc[active_user]\n",
        "    top_users_discounted_pcc = top_20_discounted_users_pcc[active_user]\n",
        "\n",
        "    # Perform comparison\n",
        "    common_users, only_pcc, only_discounted = compare_top_users(top_users_pcc, top_users_discounted_pcc)\n",
        "\n",
        "    # Display results\n",
        "    print(f\"Active User {active_user}:\")\n",
        "    print(f\"Common Users in Both: {sorted(common_users)}\")\n",
        "    print(f\"Users Only in PCC: {sorted(only_pcc)}\")\n",
        "    print(f\"Users Only in Discounted PCC: {sorted(only_discounted)}\")\n",
        "    print(\"-\" * 50)\n"
      ],
      "metadata": {
        "colab": {
          "base_uri": "https://localhost:8080/"
        },
        "id": "6iWPulJeCHMl",
        "outputId": "7857b513-a853-4db5-dfe9-e3db6c2cb020"
      },
      "execution_count": 78,
      "outputs": [
        {
          "output_type": "stream",
          "name": "stdout",
          "text": [
            "Comparison Between Top 20% Closest Users (PCC vs Discounted PCC):\n",
            "\n",
            "Active User 131:\n",
            "Common Users in Both: [8, 13, 19, 20, 22, 26, 32, 37, 40, 47, 55, 58, 59, 64, 70, 74, 81, 83, 101, 110, 142, 149, 152, 156, 164, 169, 171, 177, 182, 190, 191, 195, 196, 208, 209, 216, 221, 226, 232, 241, 249, 253, 256, 263, 264, 271, 280, 291, 301, 303, 310, 318, 319, 324, 325, 333, 336, 338, 345, 353, 363, 364, 366, 372, 373, 376, 377, 382, 392, 397, 409, 410, 416, 420, 421, 422, 423, 427, 430, 433, 437, 438, 439, 446, 449, 459, 461, 462, 465, 471, 473, 479, 480, 485, 489, 490, 496, 500, 503, 505, 518, 523, 526, 535, 539, 543, 548, 549, 550, 555, 557, 565, 569, 575, 579, 581, 585, 587, 591, 603, 604, 609]\n",
            "Users Only in PCC: []\n",
            "Users Only in Discounted PCC: []\n",
            "--------------------------------------------------\n",
            "Active User 317:\n",
            "Common Users in Both: [5, 13, 26, 36, 46, 48, 50, 55, 56, 58, 67, 79, 90, 95, 96, 97, 99, 100, 106, 110, 120, 121, 128, 133, 134, 135, 144, 145, 146, 149, 152, 154, 157, 163, 180, 185, 191, 198, 205, 206, 208, 211, 216, 218, 224, 239, 241, 242, 250, 253, 257, 258, 260, 263, 266, 267, 269, 272, 280, 281, 284, 285, 291, 293, 295, 304, 313, 315, 316, 321, 324, 342, 349, 359, 360, 363, 364, 373, 374, 382, 386, 387, 389, 394, 395, 400, 403, 409, 415, 419, 421, 427, 440, 444, 445, 451, 455, 463, 465, 471, 472, 481, 493, 503, 506, 516, 521, 533, 548, 549, 559, 563, 565, 566, 575, 579, 582, 584, 587, 588, 589, 609]\n",
            "Users Only in PCC: []\n",
            "Users Only in Discounted PCC: []\n",
            "--------------------------------------------------\n",
            "Active User 432:\n",
            "Common Users in Both: [6, 9, 10, 11, 13, 14, 20, 23, 29, 44, 46, 48, 51, 52, 55, 60, 61, 65, 72, 74, 81, 90, 93, 100, 101, 107, 117, 120, 128, 134, 136, 140, 143, 144, 145, 146, 155, 157, 173, 174, 176, 178, 181, 185, 188, 192, 194, 206, 208, 221, 224, 235, 244, 258, 263, 276, 280, 281, 285, 293, 294, 310, 311, 312, 319, 333, 342, 355, 359, 360, 373, 376, 377, 379, 382, 388, 398, 404, 408, 410, 411, 412, 423, 427, 429, 436, 440, 451, 455, 457, 458, 459, 461, 463, 465, 467, 468, 470, 478, 494, 498, 507, 511, 515, 519, 520, 521, 530, 535, 536, 538, 541, 551, 554, 558, 565, 577, 584, 587, 593, 597, 604]\n",
            "Users Only in PCC: []\n",
            "Users Only in Discounted PCC: []\n",
            "--------------------------------------------------\n"
          ]
        }
      ]
    },
    {
      "cell_type": "markdown",
      "source": [
        "1.3.8"
      ],
      "metadata": {
        "id": "vecc2KtJCjwi"
      }
    },
    {
      "cell_type": "code",
      "source": [
        "# Step 1: Function to Compare Predictions\n",
        "def compare_predictions(predictions_pcc, predictions_discounted_pcc):\n",
        "    comparison = pd.DataFrame({\n",
        "        'PCC_Prediction': predictions_pcc,\n",
        "        'Discounted_PCC_Prediction': predictions_discounted_pcc\n",
        "    }).dropna()  # Drop NaN values to align indices\n",
        "\n",
        "    # Compute differences\n",
        "    comparison['Difference'] = comparison['PCC_Prediction'] - comparison['Discounted_PCC_Prediction']\n",
        "    return comparison\n",
        "\n",
        "# Step 2: Compare Predictions for Each Active User\n",
        "print(\"Comparison Between Predictions (PCC vs Discounted PCC):\\n\")\n",
        "\n",
        "for active_user in active_users:\n",
        "    # Retrieve predictions for the active user from PCC and Discounted PCC\n",
        "    predictions_pcc_active = predictions_pcc[active_user]\n",
        "    predictions_discounted_pcc_active = discounted_predictions_pcc[active_user]\n",
        "\n",
        "    # Perform comparison\n",
        "    comparison_df = compare_predictions(predictions_pcc_active, predictions_discounted_pcc_active)\n",
        "\n",
        "    # Display results\n",
        "    print(f\"Comparison for Active User {active_user}:\")\n",
        "    print(comparison_df.head(10))  # Display the first 10 comparisons\n",
        "    print(f\"Average Difference: {comparison_df['Difference'].mean():.4f}\")\n",
        "    print(\"-\" * 50)\n"
      ],
      "metadata": {
        "colab": {
          "base_uri": "https://localhost:8080/"
        },
        "id": "soj5z9Y5CkGX",
        "outputId": "54e21828-3d48-4d48-9bd9-23f59c416354"
      },
      "execution_count": 79,
      "outputs": [
        {
          "output_type": "stream",
          "name": "stdout",
          "text": [
            "Comparison Between Predictions (PCC vs Discounted PCC):\n",
            "\n",
            "Comparison for Active User 131:\n",
            "         PCC_Prediction  Discounted_PCC_Prediction    Difference\n",
            "movieId                                                         \n",
            "1              1.260745                   1.260745  3.383422e-10\n",
            "2              0.495466                   0.495466  1.329668e-10\n",
            "3              0.199665                   0.199665  5.358347e-11\n",
            "5              0.144964                   0.144964  3.890360e-11\n",
            "6              0.470673                   0.470673  1.263131e-10\n",
            "7              0.175701                   0.175701  4.715234e-11\n",
            "8              0.019869                   0.019869  5.332165e-12\n",
            "9              0.091694                   0.091694  2.460762e-11\n",
            "10             0.580540                   0.580540  1.557975e-10\n",
            "11             0.403111                   0.403111  1.081817e-10\n",
            "Average Difference: 0.0000\n",
            "--------------------------------------------------\n",
            "Comparison for Active User 317:\n",
            "         PCC_Prediction  Discounted_PCC_Prediction    Difference\n",
            "movieId                                                         \n",
            "1              1.086347                   1.086347  8.950196e-10\n",
            "2              0.277971                   0.277971  2.290146e-10\n",
            "3              0.128106                   0.128106  1.055442e-10\n",
            "5              0.217088                   0.217088  1.788543e-10\n",
            "7              0.299545                   0.299545  2.467894e-10\n",
            "9              0.074078                   0.074078  6.103111e-11\n",
            "10             0.460706                   0.460706  3.795665e-10\n",
            "11             0.325126                   0.325126  2.678652e-10\n",
            "12             0.025168                   0.025168  2.073507e-11\n",
            "13             0.023884                   0.023884  1.967765e-11\n",
            "Average Difference: 0.0000\n",
            "--------------------------------------------------\n",
            "Comparison for Active User 432:\n",
            "         PCC_Prediction  Discounted_PCC_Prediction    Difference\n",
            "movieId                                                         \n",
            "3              0.179824                   0.179824  2.394778e-10\n",
            "4              0.067942                   0.067942  9.048101e-11\n",
            "5              0.291451                   0.291451  3.881356e-10\n",
            "6              0.486437                   0.486437  6.478042e-10\n",
            "7              0.488687                   0.488687  6.508004e-10\n",
            "8              0.052717                   0.052717  7.020556e-11\n",
            "10             0.744475                   0.744475  9.914414e-10\n",
            "11             0.521036                   0.521036  6.938804e-10\n",
            "12             0.068567                   0.068567  9.131240e-11\n",
            "13             0.046927                   0.046927  6.249360e-11\n",
            "Average Difference: 0.0000\n",
            "--------------------------------------------------\n"
          ]
        }
      ]
    },
    {
      "cell_type": "markdown",
      "source": [
        "# **case study 2.1**"
      ],
      "metadata": {
        "id": "-99TRjwjG8G7"
      }
    },
    {
      "cell_type": "markdown",
      "source": [
        "2.1.1"
      ],
      "metadata": {
        "id": "t2tF7sCOHeUy"
      }
    },
    {
      "cell_type": "code",
      "source": [
        "# Step 3: Identify Two Target Items Based on Missing Percentages\n",
        "missing_percentages = item_user_matrix.isnull().sum(axis=1) / len(item_user_matrix.columns) * 100\n",
        "\n",
        "# Sort items by their missing percentages\n",
        "sorted_missing = missing_percentages.sort_values(ascending=True)\n",
        "\n",
        "# Relax the condition: Find items closest to 4% and 10%, or pick the highest missing items available\n",
        "I1_candidates = sorted_missing[sorted_missing >= 4]\n",
        "I2_candidates = sorted_missing[sorted_missing >= 10]\n",
        "\n",
        "# Fallback to items with the highest missing percentages if no candidates meet thresholds\n",
        "if I1_candidates.empty:\n",
        "    I1 = sorted_missing.index[-1]  # Item with highest missing percentage\n",
        "else:\n",
        "    I1 = I1_candidates.index[0]\n",
        "\n",
        "if I2_candidates.empty or I2_candidates.index[0] == I1:\n",
        "    I2 = sorted_missing[sorted_missing.index != I1].index[-1]  # Second-highest missing percentage\n",
        "else:\n",
        "    I2 = I2_candidates.index[0]\n",
        "\n",
        "target_items = [I1, I2]\n",
        "\n",
        "print(f\"Selected Target Items:\")\n",
        "print(f\"I1 (closest to 4% missing ratings): {I1}\")\n",
        "print(f\"I2 (closest to 10% missing ratings): {I2}\")\n",
        "\n",
        "# Step 4: Compute Cosine Similarity Between Target Items and All Other Items\n",
        "item_user_matrix_filled = item_user_matrix.fillna(0)  # Replace NaN with 0 for similarity computation\n",
        "\n",
        "cosine_sim_target_items = {}\n",
        "for target_item in target_items:\n",
        "    target_item_vector = item_user_matrix_filled.loc[[target_item]]\n",
        "    other_items_matrix = item_user_matrix_filled.drop(index=target_item)\n",
        "\n",
        "    # Compute cosine similarity\n",
        "    similarity = cosine_similarity(target_item_vector, other_items_matrix)[0]\n",
        "    cosine_sim_target_items[target_item] = pd.Series(similarity, index=other_items_matrix.index)\n",
        "\n",
        "# Step 5: Display Cosine Similarity for Target Items\n",
        "print(\"\\nCosine Similarity Results:\")\n",
        "for target_item in target_items:\n",
        "    print(f\"\\nCosine similarity for Target Item {target_item} with other items:\")\n",
        "    print(cosine_sim_target_items[target_item].sort_values(ascending=False).head(10))  # Top 10 most similar items\n"
      ],
      "metadata": {
        "colab": {
          "base_uri": "https://localhost:8080/"
        },
        "id": "gG__oicwG-pW",
        "outputId": "e999dffd-47bf-429f-c384-66ea8a4d0c48"
      },
      "execution_count": 83,
      "outputs": [
        {
          "output_type": "stream",
          "name": "stdout",
          "text": [
            "Selected Target Items:\n",
            "I1 (closest to 4% missing ratings): timestamp\n",
            "I2 (closest to 10% missing ratings): rating\n",
            "\n",
            "Cosine Similarity Results:\n",
            "\n",
            "Cosine similarity for Target Item timestamp with other items:\n",
            "rating     0.943082\n",
            "movieId    0.550358\n",
            "dtype: float64\n",
            "\n",
            "Cosine similarity for Target Item rating with other items:\n",
            "timestamp    0.943082\n",
            "movieId      0.458926\n",
            "dtype: float64\n"
          ]
        }
      ]
    },
    {
      "cell_type": "markdown",
      "source": [
        "2.1.2"
      ],
      "metadata": {
        "id": "NtGfzg_3Ikyr"
      }
    },
    {
      "cell_type": "code",
      "source": [
        "# Step 2.1.2: Determine the Top 25% Closest Items for Each Target Item\n",
        "top_25_percent_items = {}\n",
        "\n",
        "for target_item in target_items:\n",
        "    print(f\"Processing Target Item {target_item}...\")\n",
        "\n",
        "    # Verify if target item exists in similarity dictionary\n",
        "    if target_item not in cosine_sim_target_items:\n",
        "        print(f\"Target Item {target_item} not found in similarity results. Skipping...\")\n",
        "        continue\n",
        "\n",
        "    # Get the cosine similarity scores\n",
        "    similarity_scores = cosine_sim_target_items[target_item].dropna()\n",
        "    print(f\"Cosine similarity scores for Target Item {target_item}:\\n{similarity_scores}\")\n",
        "\n",
        "    # Calculate the top 25% threshold (ensure at least 1 item)\n",
        "    top_25_threshold = max(1, int(len(similarity_scores) * 0.25))\n",
        "    print(f\"Top 25% Threshold for Target Item {target_item}: {top_25_threshold}\")\n",
        "\n",
        "    # Sort and select the top 25% items\n",
        "    top_25_items = similarity_scores.sort_values(ascending=False).head(top_25_threshold)\n",
        "    top_25_percent_items[target_item] = top_25_items\n",
        "\n",
        "    # Display the results\n",
        "    print(f\"\\nTop 25% Closest Items to Target Item {target_item}:\")\n",
        "    print(top_25_items)\n",
        "    print(\"-\" * 50)\n"
      ],
      "metadata": {
        "colab": {
          "base_uri": "https://localhost:8080/"
        },
        "id": "iLPK8ar-InVw",
        "outputId": "48b5c2df-7f92-4d7f-cc50-bcecf33df143"
      },
      "execution_count": 86,
      "outputs": [
        {
          "output_type": "stream",
          "name": "stdout",
          "text": [
            "Processing Target Item timestamp...\n",
            "Cosine similarity scores for Target Item timestamp:\n",
            "movieId    0.550358\n",
            "rating     0.943082\n",
            "dtype: float64\n",
            "Top 25% Threshold for Target Item timestamp: 1\n",
            "\n",
            "Top 25% Closest Items to Target Item timestamp:\n",
            "rating    0.943082\n",
            "dtype: float64\n",
            "--------------------------------------------------\n",
            "Processing Target Item rating...\n",
            "Cosine similarity scores for Target Item rating:\n",
            "movieId      0.458926\n",
            "timestamp    0.943082\n",
            "dtype: float64\n",
            "Top 25% Threshold for Target Item rating: 1\n",
            "\n",
            "Top 25% Closest Items to Target Item rating:\n",
            "timestamp    0.943082\n",
            "dtype: float64\n",
            "--------------------------------------------------\n"
          ]
        }
      ]
    },
    {
      "cell_type": "markdown",
      "source": [
        "2.1.3"
      ],
      "metadata": {
        "id": "qREVAvU4J2SB"
      }
    },
    {
      "cell_type": "code",
      "source": [
        "# Step 2.1.3: Predict Missing Ratings for Each Target Item Using Top 25% Closest Items\n",
        "def predict_missing_ratings(target_item, top_items):\n",
        "    \"\"\"\n",
        "    Predict the missing ratings for the target item using the ratings of top closest items.\n",
        "    \"\"\"\n",
        "    # Get users who haven't rated the target item\n",
        "    missing_ratings_users = item_user_matrix.loc[target_item].isna()\n",
        "\n",
        "    # Retrieve ratings for top closest items\n",
        "    top_items_ratings = item_user_matrix.loc[top_items.index, missing_ratings_users.index]\n",
        "\n",
        "    # Compute the predicted ratings as the average of the top items' ratings\n",
        "    predicted_ratings = top_items_ratings.mean(axis=0)\n",
        "\n",
        "    return predicted_ratings\n",
        "\n",
        "# Predict missing ratings for each target item\n",
        "predicted_ratings_target_items = {}\n",
        "for target_item in target_items:\n",
        "    print(f\"\\nPredicting Missing Ratings for Target Item {target_item}...\")\n",
        "    top_items = top_25_percent_items[target_item]  # Top 25% closest items\n",
        "    predicted_ratings = predict_missing_ratings(target_item, top_items)\n",
        "    predicted_ratings_target_items[target_item] = predicted_ratings\n",
        "\n",
        "    # Display the predicted ratings\n",
        "    print(f\"Predicted Ratings for Target Item {target_item}:\")\n",
        "    print(predicted_ratings)\n",
        "    print(\"-\" * 50)\n"
      ],
      "metadata": {
        "colab": {
          "base_uri": "https://localhost:8080/"
        },
        "id": "ItMfN6ANJ6wT",
        "outputId": "c5e9f603-2d2a-490f-b743-52d27cf04d9d"
      },
      "execution_count": 87,
      "outputs": [
        {
          "output_type": "stream",
          "name": "stdout",
          "text": [
            "\n",
            "Predicting Missing Ratings for Target Item timestamp...\n",
            "Predicted Ratings for Target Item timestamp:\n",
            "userId\n",
            "1      4.0\n",
            "1      4.0\n",
            "1      4.0\n",
            "1      5.0\n",
            "1      5.0\n",
            "      ... \n",
            "610    4.0\n",
            "610    5.0\n",
            "610    5.0\n",
            "610    5.0\n",
            "610    3.0\n",
            "Length: 60894136, dtype: float64\n",
            "--------------------------------------------------\n",
            "\n",
            "Predicting Missing Ratings for Target Item rating...\n",
            "Predicted Ratings for Target Item rating:\n",
            "userId\n",
            "1      9.649827e+08\n",
            "1      9.649812e+08\n",
            "1      9.649822e+08\n",
            "1      9.649838e+08\n",
            "1      9.649829e+08\n",
            "           ...     \n",
            "610    1.493848e+09\n",
            "610    1.493850e+09\n",
            "610    1.494273e+09\n",
            "610    1.493846e+09\n",
            "610    1.493846e+09\n",
            "Length: 60894136, dtype: float64\n",
            "--------------------------------------------------\n"
          ]
        }
      ]
    },
    {
      "cell_type": "markdown",
      "source": [
        "2.1.4"
      ],
      "metadata": {
        "id": "tbV-tstgLitd"
      }
    },
    {
      "cell_type": "code",
      "source": [
        "\n",
        "# Step 2: Transpose to Item-User Matrix\n",
        "item_user_matrix = user_item_matrix.T\n",
        "\n",
        "# Step 3: Fill NaN values for cosine similarity calculations\n",
        "item_user_matrix_filled = item_user_matrix.fillna(0)\n",
        "\n",
        "# Step 4: Precomputed Top 25% Closest Items (Results from Step 2.1.2)\n",
        "# Assume `top_25_percent_items` dictionary already contains the top items\n",
        "\n",
        "# Step 5: Function to Compute Discounted Similarity\n",
        "def compute_discounted_similarity(similarity_series, beta):\n",
        "    \"\"\"Compute the discounted similarity using the threshold β.\"\"\"\n",
        "    return similarity_series / (1 + beta)\n",
        "\n",
        "# Set Thresholds (β) for Discounting Similarity\n",
        "thresholds_items = {\n",
        "    target_items[0]: 2.0,  # Example threshold for the first target item\n",
        "    target_items[1]: 3.0   # Example threshold for the second target item\n",
        "}\n",
        "\n",
        "# Step 6: Compute Discounted Similarity for Each Target Item\n",
        "discounted_similarity_items = {}\n",
        "\n",
        "for target_item in target_items:\n",
        "    print(f\"\\nComputing Discounted Similarity for Target Item: {target_item}\")\n",
        "\n",
        "    # Retrieve the top items' similarity scores\n",
        "    top_items_similarity = top_25_percent_items[target_item]\n",
        "\n",
        "    # Retrieve the threshold β for this target item\n",
        "    beta = thresholds_items[target_item]\n",
        "\n",
        "    # Compute the Discounted Similarity\n",
        "    discounted_similarity_items[target_item] = compute_discounted_similarity(top_items_similarity, beta)\n",
        "\n",
        "    # Display results\n",
        "    print(discounted_similarity_items[target_item].sort_values(ascending=False))\n"
      ],
      "metadata": {
        "colab": {
          "base_uri": "https://localhost:8080/"
        },
        "id": "gdOTdZbvLjGF",
        "outputId": "e92e3f2b-fb7d-4df4-9ac5-a9ca0f6831e9"
      },
      "execution_count": 93,
      "outputs": [
        {
          "output_type": "stream",
          "name": "stdout",
          "text": [
            "\n",
            "Computing Discounted Similarity for Target Item: timestamp\n",
            "rating    0.314361\n",
            "dtype: float64\n",
            "\n",
            "Computing Discounted Similarity for Target Item: rating\n",
            "timestamp    0.23577\n",
            "dtype: float64\n"
          ]
        }
      ]
    },
    {
      "cell_type": "markdown",
      "source": [
        "2.1.5"
      ],
      "metadata": {
        "id": "YrsLXbnZMcbR"
      }
    },
    {
      "cell_type": "code",
      "source": [
        "# Step 2.1.5: Determine the Top 20% Closest Items Using Discounted Similarity\n",
        "top_20_percent_discounted_items = {}\n",
        "\n",
        "# Function to Select Top 20% Closest Items\n",
        "def get_top_20_percent(similarity_series):\n",
        "    sorted_similarity = similarity_series.sort_values(ascending=False)\n",
        "    top_n = max(1, int(len(sorted_similarity) * 0.2))  # Ensure at least 1 item is selected\n",
        "    return sorted_similarity.head(top_n)\n",
        "\n",
        "# Adjust Thresholds for Discounting\n",
        "thresholds_items = {\n",
        "    target_items[0]: 0.5,  # Reduced threshold for more balanced results\n",
        "    target_items[1]: 1.0\n",
        "}\n",
        "\n",
        "# Compute Top 20% Items for Each Target Item\n",
        "for target_item in target_items:\n",
        "    print(f\"\\nTop 20% Closest Items to Target Item {target_item} (Discounted):\")\n",
        "\n",
        "    # Retrieve the discounted similarity scores\n",
        "    discounted_similarity = discounted_similarity_items[target_item]\n",
        "\n",
        "    # Debugging: Print discounted similarity values\n",
        "    print(f\"Discounted Similarity for Target Item {target_item}:\")\n",
        "    print(discounted_similarity)\n",
        "\n",
        "    # Ensure valid results exist\n",
        "    if discounted_similarity.empty or discounted_similarity.max() <= 0:\n",
        "        print(\"No valid discounted similarities found. Skipping...\")\n",
        "        continue\n",
        "\n",
        "    # Select Top 20% Closest Items\n",
        "    top_20_percent_discounted_items[target_item] = get_top_20_percent(discounted_similarity)\n",
        "\n",
        "    # Display Results\n",
        "    print(top_20_percent_discounted_items[target_item])\n",
        "    print(f\"Length: {len(top_20_percent_discounted_items[target_item])}\")\n",
        "    print(\"-\" * 50)\n"
      ],
      "metadata": {
        "colab": {
          "base_uri": "https://localhost:8080/"
        },
        "id": "xEjPQaULMbPb",
        "outputId": "bd33353f-e3bb-43c6-ff52-350ff33eabc3"
      },
      "execution_count": 96,
      "outputs": [
        {
          "output_type": "stream",
          "name": "stdout",
          "text": [
            "\n",
            "Top 20% Closest Items to Target Item timestamp (Discounted):\n",
            "Discounted Similarity for Target Item timestamp:\n",
            "rating    0.314361\n",
            "dtype: float64\n",
            "rating    0.314361\n",
            "dtype: float64\n",
            "Length: 1\n",
            "--------------------------------------------------\n",
            "\n",
            "Top 20% Closest Items to Target Item rating (Discounted):\n",
            "Discounted Similarity for Target Item rating:\n",
            "timestamp    0.23577\n",
            "dtype: float64\n",
            "timestamp    0.23577\n",
            "dtype: float64\n",
            "Length: 1\n",
            "--------------------------------------------------\n"
          ]
        }
      ]
    },
    {
      "cell_type": "markdown",
      "source": [
        "2.1.6"
      ],
      "metadata": {
        "id": "cyeBcuPWMa__"
      }
    },
    {
      "cell_type": "code",
      "source": [
        "# Step 2.1.6: Predict Missing Ratings Using Top 20% Closest Items (Discounted Similarity)\n",
        "def predict_ratings_with_discounted_similarity(target_item, top_items):\n",
        "    # Find the users with missing ratings for the target item\n",
        "    missing_users = item_user_matrix.loc[target_item][item_user_matrix.loc[target_item].isna()].index\n",
        "\n",
        "    # Retrieve ratings of the top closest items for missing users\n",
        "    top_items_ratings = item_user_matrix.loc[top_items.index, missing_users].fillna(0)\n",
        "    weights = top_items.values  # Discounted similarity weights\n",
        "\n",
        "    # Weighted average prediction\n",
        "    weighted_ratings = top_items_ratings.T.dot(weights) / (weights.sum() + 1e-9)  # Avoid division by zero\n",
        "    return weighted_ratings[weighted_ratings > 0]  # Filter out invalid predictions\n",
        "\n",
        "# Predict missing ratings for each target item\n",
        "predicted_ratings_discounted = {}\n",
        "for target_item in target_items:\n",
        "    print(f\"\\nPredicting Missing Ratings for Target Item: {target_item} (Using Discounted Similarity)\")\n",
        "    top_items = top_20_percent_discounted_items[target_item]  # Top 20% closest items\n",
        "    predicted_ratings_discounted[target_item] = predict_ratings_with_discounted_similarity(target_item, top_items)\n",
        "    print(predicted_ratings_discounted[target_item])\n"
      ],
      "metadata": {
        "colab": {
          "base_uri": "https://localhost:8080/"
        },
        "id": "MPFHHQ5tPAeX",
        "outputId": "fc4fa3b1-5940-465d-8fd1-1f0e751407d8"
      },
      "execution_count": 100,
      "outputs": [
        {
          "output_type": "stream",
          "name": "stdout",
          "text": [
            "\n",
            "Predicting Missing Ratings for Target Item: timestamp (Using Discounted Similarity)\n",
            "Series([], dtype: float64)\n",
            "\n",
            "Predicting Missing Ratings for Target Item: rating (Using Discounted Similarity)\n",
            "Series([], dtype: float64)\n"
          ]
        }
      ]
    },
    {
      "cell_type": "markdown",
      "source": [
        "2.1.7"
      ],
      "metadata": {
        "id": "GopJdXeDQPgE"
      }
    },
    {
      "cell_type": "code",
      "source": [
        "# Step 2.1.7: Compare Top 25% Closest Items (Cosine) and Top 20% Closest Items (Discounted)\n",
        "def compare_top_items(items_step_2_1_2, items_step_2_1_5, target_item):\n",
        "    # Create a comparison DataFrame\n",
        "    comparison = pd.DataFrame({\n",
        "        'Top 25% (Cosine)': items_step_2_1_2.index,\n",
        "        'Similarity (Cosine)': items_step_2_1_2.values,\n",
        "        'Top 20% (Discounted)': items_step_2_1_5.index,\n",
        "        'Similarity (Discounted)': items_step_2_1_5.values\n",
        "    })\n",
        "    print(f\"\\nComparison of Top Items for Target Item: {target_item}\")\n",
        "    print(comparison)\n",
        "\n",
        "# Compare results for each target item\n",
        "for target_item in target_items:\n",
        "    print(f\"\\n### Comparison for Target Item: {target_item} ###\")\n",
        "\n",
        "    # Retrieve top items from Step 2.1.2 and Step 2.1.5\n",
        "    top_items_cosine = top_25_percent_items[target_item]  # Step 2.1.2\n",
        "    top_items_discounted = top_20_percent_discounted_items[target_item]  # Step 2.1.5\n",
        "\n",
        "    # Align and compare\n",
        "    compare_top_items(top_items_cosine, top_items_discounted, target_item)\n"
      ],
      "metadata": {
        "colab": {
          "base_uri": "https://localhost:8080/"
        },
        "id": "ToyAMUOjQP-d",
        "outputId": "41d38465-45ae-47a1-ce8d-ee6f19329727"
      },
      "execution_count": 102,
      "outputs": [
        {
          "output_type": "stream",
          "name": "stdout",
          "text": [
            "\n",
            "### Comparison for Target Item: timestamp ###\n",
            "\n",
            "Comparison of Top Items for Target Item: timestamp\n",
            "  Top 25% (Cosine)  Similarity (Cosine) Top 20% (Discounted)  \\\n",
            "0           rating             0.943082               rating   \n",
            "\n",
            "   Similarity (Discounted)  \n",
            "0                 0.314361  \n",
            "\n",
            "### Comparison for Target Item: rating ###\n",
            "\n",
            "Comparison of Top Items for Target Item: rating\n",
            "  Top 25% (Cosine)  Similarity (Cosine) Top 20% (Discounted)  \\\n",
            "0        timestamp             0.943082            timestamp   \n",
            "\n",
            "   Similarity (Discounted)  \n",
            "0                  0.23577  \n"
          ]
        }
      ]
    },
    {
      "cell_type": "markdown",
      "source": [
        "# **Case study 2.2**"
      ],
      "metadata": {
        "id": "qHGPYOI1RbEk"
      }
    },
    {
      "cell_type": "markdown",
      "source": [
        "2.2.1"
      ],
      "metadata": {
        "id": "1fhIlE7tRagp"
      }
    },
    {
      "cell_type": "code",
      "source": [
        "import pandas as pd\n",
        "import numpy as np\n",
        "from sklearn.metrics.pairwise import cosine_similarity\n",
        "\n",
        "# Step 1: Load the Dataset\n",
        "data_path = '221100072_Ahmed_Data.csv'\n",
        "ratings_df = pd.read_csv(data_path)\n",
        "\n",
        "# Step 2: Pivot the Data to Create the Item-User Matrix\n",
        "item_user_matrix = ratings_df.pivot(index='movieId', columns='userId', values='rating')\n",
        "\n",
        "# Step 3: Mean-Centering the Ratings (Bias Adjustment)\n",
        "item_means = item_user_matrix.mean(axis=1)  # Mean rating per item\n",
        "item_user_matrix_centered = item_user_matrix.sub(item_means, axis=0)  # Subtract item mean\n",
        "\n",
        "# Fill NaN values with 0 for similarity calculation\n",
        "item_user_matrix_centered_filled = item_user_matrix_centered.fillna(0)\n",
        "\n",
        "# Step 4: Set Target Items Manually\n",
        "# Replace with your specific movieIds\n",
        "target_items = [356, 318]  # Example target items\n",
        "\n",
        "print(f\"Selected Target Items: {target_items}\")\n",
        "\n",
        "# Step 5: Compute Cosine Similarity Between Target Items and Other Items\n",
        "cosine_sim_target_items_centered = {}\n",
        "for target_item in target_items:\n",
        "    if target_item not in item_user_matrix_centered_filled.index:\n",
        "        print(f\"Target Item {target_item} is not in the matrix index. Skipping.\")\n",
        "        continue\n",
        "\n",
        "    # Target item's mean-centered vector\n",
        "    target_item_vector = item_user_matrix_centered_filled.loc[[target_item]]\n",
        "\n",
        "    # Other items excluding the target item\n",
        "    other_items_matrix = item_user_matrix_centered_filled.drop(index=target_item)\n",
        "\n",
        "    # Compute cosine similarity\n",
        "    similarity = cosine_similarity(target_item_vector, other_items_matrix)[0]\n",
        "    cosine_sim_target_items_centered[target_item] = pd.Series(similarity, index=other_items_matrix.index)\n",
        "\n",
        "# Step 6: Display Cosine Similarity for Each Target Item\n",
        "for target_item in target_items:\n",
        "    print(f\"\\nMean-Centered Cosine Similarity for Target Item {target_item} with Other Items:\")\n",
        "    print(cosine_sim_target_items_centered[target_item].sort_values(ascending=False).head(20))\n",
        "    print(\"-\" * 50)\n"
      ],
      "metadata": {
        "colab": {
          "base_uri": "https://localhost:8080/"
        },
        "id": "6Qny-7KTRmNd",
        "outputId": "8692f82c-73f1-4291-b668-2fa989c8c680"
      },
      "execution_count": 106,
      "outputs": [
        {
          "output_type": "stream",
          "name": "stdout",
          "text": [
            "Selected Target Items: [356, 318]\n",
            "\n",
            "Mean-Centered Cosine Similarity for Target Item 356 with Other Items:\n",
            "movieId\n",
            "588       0.256062\n",
            "110       0.252413\n",
            "2335      0.248357\n",
            "1682      0.245975\n",
            "141544    0.244063\n",
            "911       0.239805\n",
            "2918      0.228325\n",
            "3061      0.227195\n",
            "1148      0.225500\n",
            "160567    0.223967\n",
            "500       0.223537\n",
            "73015     0.217492\n",
            "161131    0.212819\n",
            "1704      0.212601\n",
            "179211    0.211365\n",
            "131826    0.211365\n",
            "3097      0.210118\n",
            "946       0.208434\n",
            "6377      0.206843\n",
            "62        0.204236\n",
            "dtype: float64\n",
            "--------------------------------------------------\n",
            "\n",
            "Mean-Centered Cosine Similarity for Target Item 318 with Other Items:\n",
            "movieId\n",
            "50       0.264785\n",
            "71033    0.259296\n",
            "904      0.233456\n",
            "95377    0.219131\n",
            "92259    0.215049\n",
            "527      0.214795\n",
            "745      0.212728\n",
            "4963     0.209676\n",
            "6016     0.205214\n",
            "44555    0.198431\n",
            "2236     0.195258\n",
            "27873    0.193255\n",
            "356      0.192103\n",
            "260      0.189526\n",
            "2959     0.188246\n",
            "110      0.187992\n",
            "25       0.186133\n",
            "76       0.181909\n",
            "357      0.180630\n",
            "6936     0.178942\n",
            "dtype: float64\n",
            "--------------------------------------------------\n"
          ]
        }
      ]
    },
    {
      "cell_type": "markdown",
      "source": [
        "2.2.2"
      ],
      "metadata": {
        "id": "0lZxoepKUlOI"
      }
    },
    {
      "cell_type": "code",
      "source": [
        "# Step 2.2.2: Find the Top 20% Closest Items Based on Cosine Similarity\n",
        "top_20_percent_items_centered = {}\n",
        "\n",
        "# Function to get the top 20% closest items\n",
        "def get_top_20_percent(similarity_series):\n",
        "    num_items = int(len(similarity_series) * 0.2)  # Calculate 20% of total items\n",
        "    return similarity_series.sort_values(ascending=False).head(num_items)\n",
        "\n",
        "# Compute Top 20% Closest Items for Each Target Item\n",
        "for target_item in target_items:\n",
        "    if target_item not in cosine_sim_target_items_centered:\n",
        "        print(f\"Target Item {target_item} has no similarity scores. Skipping.\")\n",
        "        continue\n",
        "\n",
        "    top_20_percent_items_centered[target_item] = get_top_20_percent(cosine_sim_target_items_centered[target_item])\n",
        "    print(f\"\\nTop 20% Closest Items to Target Item {target_item} (Cosine Similarity - Mean-Centered):\")\n",
        "    print(top_20_percent_items_centered[target_item])\n",
        "    print(\"-\" * 50)\n"
      ],
      "metadata": {
        "colab": {
          "base_uri": "https://localhost:8080/"
        },
        "id": "rhOG1f0tUmOP",
        "outputId": "8e8abd4c-b1a8-4210-b61d-7c1f7a8de693"
      },
      "execution_count": 107,
      "outputs": [
        {
          "output_type": "stream",
          "name": "stdout",
          "text": [
            "\n",
            "Top 20% Closest Items to Target Item 356 (Cosine Similarity - Mean-Centered):\n",
            "movieId\n",
            "588       0.256062\n",
            "110       0.252413\n",
            "2335      0.248357\n",
            "1682      0.245975\n",
            "141544    0.244063\n",
            "            ...   \n",
            "4255      0.053545\n",
            "6250      0.053451\n",
            "553       0.053449\n",
            "461       0.053337\n",
            "6695      0.053333\n",
            "Length: 1944, dtype: float64\n",
            "--------------------------------------------------\n",
            "\n",
            "Top 20% Closest Items to Target Item 318 (Cosine Similarity - Mean-Centered):\n",
            "movieId\n",
            "50       0.264785\n",
            "71033    0.259296\n",
            "904      0.233456\n",
            "95377    0.219131\n",
            "92259    0.215049\n",
            "           ...   \n",
            "1132     0.029653\n",
            "736      0.029636\n",
            "945      0.029603\n",
            "90746    0.029586\n",
            "7247     0.029569\n",
            "Length: 1944, dtype: float64\n",
            "--------------------------------------------------\n"
          ]
        }
      ]
    },
    {
      "cell_type": "markdown",
      "source": [
        "2.2.3"
      ],
      "metadata": {
        "id": "fRWkt8t0Uruk"
      }
    },
    {
      "cell_type": "code",
      "source": [
        "# Step 2.2.3: Predict Ratings for Missing Users Using Top 20% Closest Items\n",
        "def predict_missing_ratings(target_item, top_items):\n",
        "    # Users who haven't rated the target item\n",
        "    missing_users = item_user_matrix.loc[target_item][item_user_matrix.loc[target_item].isna()].index\n",
        "\n",
        "    # Ratings of top items for missing users\n",
        "    top_items_ratings = item_user_matrix.loc[top_items.index, missing_users].fillna(0)\n",
        "    weights = top_items.values  # Cosine similarity weights\n",
        "\n",
        "    # Weighted average prediction\n",
        "    weighted_ratings = top_items_ratings.T.dot(weights) / (weights.sum() + 1e-9)\n",
        "    return weighted_ratings[weighted_ratings > 0]  # Filter out invalid predictions\n",
        "\n",
        "# Predict Missing Ratings for Each Target Item\n",
        "predicted_ratings = {}\n",
        "for target_item in target_items:\n",
        "    top_items = top_20_percent_items_centered[target_item]  # Top 20% closest items\n",
        "    predicted_ratings[target_item] = predict_missing_ratings(target_item, top_items)\n",
        "\n",
        "    # Display Predicted Ratings\n",
        "    print(f\"\\nPredicted Ratings for Target Item {target_item}:\")\n",
        "    print(predicted_ratings[target_item].sort_values(ascending=False).head(10))  # Top 10 predictions\n",
        "    print(\"-\" * 50)\n"
      ],
      "metadata": {
        "colab": {
          "base_uri": "https://localhost:8080/"
        },
        "id": "EV8-LZLQUsSX",
        "outputId": "3ea7fbb1-ec60-45f2-bf88-0f3702e09455"
      },
      "execution_count": 108,
      "outputs": [
        {
          "output_type": "stream",
          "name": "stdout",
          "text": [
            "\n",
            "Predicted Ratings for Target Item 356:\n",
            "userId\n",
            "469    0.514424\n",
            "219    0.484516\n",
            "509    0.375781\n",
            "51     0.329994\n",
            "313    0.317178\n",
            "135    0.316066\n",
            "586    0.312298\n",
            "186    0.278757\n",
            "594    0.268884\n",
            "290    0.268493\n",
            "dtype: float64\n",
            "--------------------------------------------------\n",
            "\n",
            "Predicted Ratings for Target Item 318:\n",
            "userId\n",
            "448    1.106826\n",
            "603    0.625099\n",
            "489    0.588524\n",
            "226    0.568141\n",
            "45     0.551543\n",
            "560    0.519887\n",
            "597    0.505685\n",
            "534    0.464902\n",
            "57     0.444319\n",
            "596    0.404545\n",
            "dtype: float64\n",
            "--------------------------------------------------\n"
          ]
        }
      ]
    },
    {
      "cell_type": "markdown",
      "source": [
        "2.2.4"
      ],
      "metadata": {
        "id": "o0lo_fY6VIwZ"
      }
    },
    {
      "cell_type": "code",
      "source": [
        "# Step 2.2.3: Predict Ratings for Missing Users Using Top 20% Closest Items\n",
        "def predict_missing_ratings(target_item, top_items):\n",
        "    # Users who haven't rated the target item\n",
        "    missing_users = item_user_matrix.loc[target_item][item_user_matrix.loc[target_item].isna()].index\n",
        "\n",
        "    # Ratings of top items for missing users\n",
        "    top_items_ratings = item_user_matrix.loc[top_items.index, missing_users].fillna(0)\n",
        "    weights = top_items.values  # Cosine similarity weights\n",
        "\n",
        "    # Weighted average prediction\n",
        "    weighted_ratings = top_items_ratings.T.dot(weights) / (weights.sum() + 1e-9)\n",
        "    return weighted_ratings[weighted_ratings > 0]  # Filter out invalid predictions\n",
        "\n",
        "# Predict Missing Ratings for Each Target Item\n",
        "predicted_ratings = {}\n",
        "for target_item in target_items:\n",
        "    top_items = top_20_percent_items_centered[target_item]  # Top 20% closest items\n",
        "    predicted_ratings[target_item] = predict_missing_ratings(target_item, top_items)\n",
        "\n",
        "    # Display Predicted Ratings\n",
        "    print(f\"\\nPredicted Ratings for Target Item {target_item}:\")\n",
        "    print(predicted_ratings[target_item].sort_values(ascending=False).head(10))  # Top 10 predictions\n",
        "    print(\"-\" * 50)\n"
      ],
      "metadata": {
        "colab": {
          "base_uri": "https://localhost:8080/"
        },
        "id": "14-AfuJ_VJRm",
        "outputId": "52210c93-8ff8-4674-f708-64d961c2b971"
      },
      "execution_count": 109,
      "outputs": [
        {
          "output_type": "stream",
          "name": "stdout",
          "text": [
            "\n",
            "Predicted Ratings for Target Item 356:\n",
            "userId\n",
            "469    0.514424\n",
            "219    0.484516\n",
            "509    0.375781\n",
            "51     0.329994\n",
            "313    0.317178\n",
            "135    0.316066\n",
            "586    0.312298\n",
            "186    0.278757\n",
            "594    0.268884\n",
            "290    0.268493\n",
            "dtype: float64\n",
            "--------------------------------------------------\n",
            "\n",
            "Predicted Ratings for Target Item 318:\n",
            "userId\n",
            "448    1.106826\n",
            "603    0.625099\n",
            "489    0.588524\n",
            "226    0.568141\n",
            "45     0.551543\n",
            "560    0.519887\n",
            "597    0.505685\n",
            "534    0.464902\n",
            "57     0.444319\n",
            "596    0.404545\n",
            "dtype: float64\n",
            "--------------------------------------------------\n"
          ]
        }
      ]
    },
    {
      "cell_type": "markdown",
      "source": [
        "2.2.5"
      ],
      "metadata": {
        "id": "uNHt30A0VgSh"
      }
    },
    {
      "cell_type": "code",
      "source": [
        "# Step 2.2.4: Compute Discounted Similarity (DS) for Each Target Item\n",
        "def compute_discounted_similarity_centered(similarity_series, beta):\n",
        "    \"\"\"Compute discounted similarity using the threshold β.\"\"\"\n",
        "    return similarity_series / (1 + beta)\n",
        "\n",
        "# Set threshold β for each target item\n",
        "thresholds_items = {target_item: 0.1 for target_item in target_items}  # Example: β = 0.1 for all target items\n",
        "\n",
        "# Apply Discount Factor for Each Target Item\n",
        "discounted_similarity_items_centered = {}\n",
        "\n",
        "for target_item in target_items:\n",
        "    beta = thresholds_items[target_item]  # Retrieve β for the target item\n",
        "    discounted_similarity_items_centered[target_item] = compute_discounted_similarity_centered(\n",
        "        cosine_sim_target_items_centered[target_item], beta\n",
        "    )\n",
        "\n",
        "    # Print Discounted Similarity Results\n",
        "    print(f\"\\nDiscounted Similarity for Target Item {target_item} (Mean-Centered):\")\n",
        "    print(discounted_similarity_items_centered[target_item].sort_values(ascending=False).head(10))\n",
        "    print(\"-\" * 50)\n"
      ],
      "metadata": {
        "colab": {
          "base_uri": "https://localhost:8080/"
        },
        "id": "uZwLGUUJVgs2",
        "outputId": "ebbc4fac-8189-4ba7-fc77-8b3e699e8e68"
      },
      "execution_count": 114,
      "outputs": [
        {
          "output_type": "stream",
          "name": "stdout",
          "text": [
            "\n",
            "Discounted Similarity for Target Item 356 (Mean-Centered):\n",
            "movieId\n",
            "588       0.232784\n",
            "110       0.229467\n",
            "2335      0.225779\n",
            "1682      0.223613\n",
            "141544    0.221875\n",
            "911       0.218005\n",
            "2918      0.207568\n",
            "3061      0.206541\n",
            "1148      0.205000\n",
            "160567    0.203607\n",
            "dtype: float64\n",
            "--------------------------------------------------\n",
            "\n",
            "Discounted Similarity for Target Item 318 (Mean-Centered):\n",
            "movieId\n",
            "50       0.240714\n",
            "71033    0.235724\n",
            "904      0.212233\n",
            "95377    0.199210\n",
            "92259    0.195499\n",
            "527      0.195268\n",
            "745      0.193390\n",
            "4963     0.190615\n",
            "6016     0.186558\n",
            "44555    0.180392\n",
            "dtype: float64\n",
            "--------------------------------------------------\n"
          ]
        }
      ]
    },
    {
      "cell_type": "markdown",
      "source": [
        "2.2.6"
      ],
      "metadata": {
        "id": "BrzZ7-4oVpu6"
      }
    },
    {
      "cell_type": "code",
      "source": [
        "# Step 2.2.6: Predict Missing Ratings for Target Items Using Top 20% Discounted Similarity\n",
        "def predict_missing_ratings_ds(target_item, top_items_ds):\n",
        "    # Find users with missing ratings for the target item\n",
        "    missing_users = item_user_matrix.loc[target_item][item_user_matrix.loc[target_item].isna()].index\n",
        "\n",
        "    # Ratings of top discounted items for missing users\n",
        "    top_items_ratings = item_user_matrix.loc[top_items_ds.index, missing_users].fillna(0)\n",
        "    weights = top_items_ds.values  # Discounted similarity weights\n",
        "\n",
        "    # Weighted average prediction\n",
        "    weighted_ratings = top_items_ratings.T.dot(weights) / (weights.sum() + 1e-9)\n",
        "    return weighted_ratings[weighted_ratings > 0]  # Filter out invalid predictions\n",
        "\n",
        "# Predict Missing Ratings for Each Target Item Using DS\n",
        "predicted_ratings_ds = {}\n",
        "for target_item in target_items:\n",
        "    print(f\"\\nPredicting Missing Ratings for Target Item {target_item} (Using Discounted Similarity):\")\n",
        "\n",
        "    top_items_ds = discounted_similarity_items_centered[target_item]  # Top 20% closest items\n",
        "    predicted_ratings_ds[target_item] = predict_missing_ratings_ds(target_item, top_items_ds)\n",
        "\n",
        "    # Display Top 10 Predicted Ratings\n",
        "    print(predicted_ratings_ds[target_item].sort_values(ascending=False).head(10))\n",
        "    print(\"-\" * 50)\n"
      ],
      "metadata": {
        "colab": {
          "base_uri": "https://localhost:8080/"
        },
        "id": "1mMrbFtiVqHu",
        "outputId": "fb38feb1-5c2a-43a1-82b6-f7a3675dba66"
      },
      "execution_count": 117,
      "outputs": [
        {
          "output_type": "stream",
          "name": "stdout",
          "text": [
            "\n",
            "Predicting Missing Ratings for Target Item 356 (Using Discounted Similarity):\n",
            "userId\n",
            "469    0.591622\n",
            "219    0.586383\n",
            "509    0.452551\n",
            "51     0.411940\n",
            "135    0.394205\n",
            "586    0.373992\n",
            "313    0.372898\n",
            "594    0.333225\n",
            "186    0.328241\n",
            "73     0.312215\n",
            "dtype: float64\n",
            "--------------------------------------------------\n",
            "\n",
            "Predicting Missing Ratings for Target Item 318 (Using Discounted Similarity):\n",
            "userId\n",
            "448    1.935144\n",
            "45     1.122999\n",
            "226    1.121991\n",
            "489    1.114319\n",
            "560    0.996269\n",
            "597    0.976978\n",
            "603    0.931945\n",
            "534    0.804031\n",
            "57     0.790105\n",
            "596    0.736951\n",
            "dtype: float64\n",
            "--------------------------------------------------\n"
          ]
        }
      ]
    },
    {
      "cell_type": "markdown",
      "source": [
        "# **case study 2.3**"
      ],
      "metadata": {
        "id": "dD9LrB9wYOIZ"
      }
    },
    {
      "cell_type": "markdown",
      "source": [
        "2.3.1"
      ],
      "metadata": {
        "id": "6WMrHEwNYS-v"
      }
    },
    {
      "cell_type": "code",
      "source": [
        "# Step 2.2.6: Predict Missing Ratings for Target Items Using Top 20% Discounted Similarity\n",
        "def predict_missing_ratings_ds(target_item, top_items_ds):\n",
        "    # Find users with missing ratings for the target item\n",
        "    missing_users = item_user_matrix.loc[target_item][item_user_matrix.loc[target_item].isna()].index\n",
        "\n",
        "    # Ratings of top discounted items for missing users\n",
        "    top_items_ratings = item_user_matrix.loc[top_items_ds.index, missing_users].fillna(0)\n",
        "    weights = top_items_ds.values  # Discounted similarity weights\n",
        "\n",
        "    # Weighted average prediction\n",
        "    weighted_ratings = top_items_ratings.T.dot(weights) / (weights.sum() + 1e-9)\n",
        "    return weighted_ratings[weighted_ratings > 0]  # Filter out invalid predictions\n",
        "\n",
        "# Predict Missing Ratings for Each Target Item Using DS\n",
        "predicted_ratings_ds = {}\n",
        "for target_item in target_items:\n",
        "    print(f\"\\nPredicting Missing Ratings for Target Item {target_item} (Using Discounted Similarity):\")\n",
        "\n",
        "    top_items_ds = discounted_similarity_items_centered[target_item]  # Top 20% closest items\n",
        "    predicted_ratings_ds[target_item] = predict_missing_ratings_ds(target_item, top_items_ds)\n",
        "\n",
        "    # Display Top 10 Predicted Ratings\n",
        "    print(predicted_ratings_ds[target_item].sort_values(ascending=False).head(10))\n",
        "    print(\"-\" * 50)\n"
      ],
      "metadata": {
        "colab": {
          "base_uri": "https://localhost:8080/"
        },
        "id": "J0hVO6JxYQK7",
        "outputId": "c1792afe-86e4-4dc2-ca8c-73da6309af49"
      },
      "execution_count": 118,
      "outputs": [
        {
          "output_type": "stream",
          "name": "stdout",
          "text": [
            "\n",
            "Predicting Missing Ratings for Target Item 356 (Using Discounted Similarity):\n",
            "userId\n",
            "469    0.591622\n",
            "219    0.586383\n",
            "509    0.452551\n",
            "51     0.411940\n",
            "135    0.394205\n",
            "586    0.373992\n",
            "313    0.372898\n",
            "594    0.333225\n",
            "186    0.328241\n",
            "73     0.312215\n",
            "dtype: float64\n",
            "--------------------------------------------------\n",
            "\n",
            "Predicting Missing Ratings for Target Item 318 (Using Discounted Similarity):\n",
            "userId\n",
            "448    1.935144\n",
            "45     1.122999\n",
            "226    1.121991\n",
            "489    1.114319\n",
            "560    0.996269\n",
            "597    0.976978\n",
            "603    0.931945\n",
            "534    0.804031\n",
            "57     0.790105\n",
            "596    0.736951\n",
            "dtype: float64\n",
            "--------------------------------------------------\n"
          ]
        }
      ]
    },
    {
      "cell_type": "markdown",
      "source": [
        "2.3.2"
      ],
      "metadata": {
        "id": "8DMx7vVsYqwK"
      }
    },
    {
      "cell_type": "code",
      "source": [
        "# Function to retrieve the top 20% closest items\n",
        "def get_top_20_percent(similarity_series):\n",
        "    top_n = int(0.2 * len(similarity_series))  # Top 20% of the items\n",
        "    return similarity_series.sort_values(ascending=False).head(top_n)\n",
        "\n",
        "# Step 2.3.2: Find the Top 20% Closest Items Using Discounted Similarity\n",
        "top_20_discounted_items_centered = {}\n",
        "\n",
        "for target_item in target_items:\n",
        "    if target_item in discounted_similarity_items_centered:\n",
        "        top_20_discounted_items_centered[target_item] = get_top_20_percent(\n",
        "            discounted_similarity_items_centered[target_item]\n",
        "        )\n",
        "        print(f\"\\nTop 20% closest items to Target Item {target_item} (Discounted & Mean-Centered):\")\n",
        "        print(top_20_discounted_items_centered[target_item])\n",
        "    else:\n",
        "        print(f\"No discounted similarity scores found for Target Item {target_item}. Skipping.\")\n",
        "    print(\"-\" * 50)\n"
      ],
      "metadata": {
        "colab": {
          "base_uri": "https://localhost:8080/"
        },
        "id": "BvRj9_pbYsI7",
        "outputId": "36efa58f-7802-4736-8a6f-4e0ce4f82433"
      },
      "execution_count": 124,
      "outputs": [
        {
          "output_type": "stream",
          "name": "stdout",
          "text": [
            "\n",
            "Top 20% closest items to Target Item 356 (Discounted & Mean-Centered):\n",
            "movieId\n",
            "588       0.232784\n",
            "110       0.229467\n",
            "2335      0.225779\n",
            "1682      0.223613\n",
            "141544    0.221875\n",
            "            ...   \n",
            "4255      0.048677\n",
            "6250      0.048592\n",
            "553       0.048590\n",
            "461       0.048488\n",
            "6695      0.048484\n",
            "Length: 1944, dtype: float64\n",
            "--------------------------------------------------\n",
            "\n",
            "Top 20% closest items to Target Item 318 (Discounted & Mean-Centered):\n",
            "movieId\n",
            "50       0.240714\n",
            "71033    0.235724\n",
            "904      0.212233\n",
            "95377    0.199210\n",
            "92259    0.195499\n",
            "           ...   \n",
            "1132     0.026957\n",
            "736      0.026942\n",
            "945      0.026912\n",
            "90746    0.026896\n",
            "7247     0.026881\n",
            "Length: 1944, dtype: float64\n",
            "--------------------------------------------------\n"
          ]
        }
      ]
    },
    {
      "cell_type": "markdown",
      "source": [
        "2.3.3"
      ],
      "metadata": {
        "id": "eA0S0rPuYxAn"
      }
    },
    {
      "cell_type": "code",
      "source": [
        "# Function to predict missing ratings for a target item\n",
        "def predict_missing_ratings_discounted(target_item, top_items_ds):\n",
        "    # Users with missing ratings for the target item\n",
        "    missing_users = item_user_matrix.loc[target_item][item_user_matrix.loc[target_item].isna()].index\n",
        "\n",
        "    # Ratings of top discounted items for missing users\n",
        "    top_items_ratings = item_user_matrix.loc[top_items_ds.index, missing_users].fillna(0)\n",
        "    weights = top_items_ds.values  # Discounted similarity weights\n",
        "\n",
        "    # Weighted average prediction\n",
        "    weighted_ratings = top_items_ratings.T.dot(weights) / (weights.sum() + 1e-9)\n",
        "    return weighted_ratings[weighted_ratings > 0]  # Filter out invalid predictions\n",
        "\n",
        "# Step 2.3.3: Predict Missing Ratings for Target Items\n",
        "predicted_ratings_ds = {}\n",
        "for target_item in target_items:\n",
        "    if target_item in top_20_discounted_items_centered:\n",
        "        print(f\"\\nPredicting Missing Ratings for Target Item {target_item} (Discounted & Mean-Centered):\")\n",
        "        predicted_ratings_ds[target_item] = predict_missing_ratings_discounted(\n",
        "            target_item, top_20_discounted_items_centered[target_item]\n",
        "        )\n",
        "        print(predicted_ratings_ds[target_item].sort_values(ascending=False).head(10))\n",
        "    else:\n",
        "        print(f\"No top items found for Target Item {target_item}. Skipping.\")\n",
        "    print(\"-\" * 50)\n"
      ],
      "metadata": {
        "colab": {
          "base_uri": "https://localhost:8080/"
        },
        "id": "FQsCw_eqYxf6",
        "outputId": "2e632bf3-e532-4203-c55f-411d83b3c615"
      },
      "execution_count": 125,
      "outputs": [
        {
          "output_type": "stream",
          "name": "stdout",
          "text": [
            "\n",
            "Predicting Missing Ratings for Target Item 356 (Discounted & Mean-Centered):\n",
            "userId\n",
            "469    0.514424\n",
            "219    0.484516\n",
            "509    0.375781\n",
            "51     0.329994\n",
            "313    0.317178\n",
            "135    0.316066\n",
            "586    0.312298\n",
            "186    0.278757\n",
            "594    0.268884\n",
            "290    0.268493\n",
            "dtype: float64\n",
            "--------------------------------------------------\n",
            "\n",
            "Predicting Missing Ratings for Target Item 318 (Discounted & Mean-Centered):\n",
            "userId\n",
            "448    1.106826\n",
            "603    0.625099\n",
            "489    0.588524\n",
            "226    0.568141\n",
            "45     0.551543\n",
            "560    0.519887\n",
            "597    0.505685\n",
            "534    0.464902\n",
            "57     0.444319\n",
            "596    0.404545\n",
            "dtype: float64\n",
            "--------------------------------------------------\n"
          ]
        }
      ]
    },
    {
      "cell_type": "markdown",
      "source": [
        "2.3.4"
      ],
      "metadata": {
        "id": "riRaOU5mZOd9"
      }
    },
    {
      "cell_type": "code",
      "source": [
        "# Compute discounted similarity using threshold β\n",
        "def compute_discounted_similarity(similarity_series, beta):\n",
        "    return similarity_series / (1 + beta)\n",
        "\n",
        "# Thresholds β for target items\n",
        "thresholds_items = {target_items[0]: 0.3, target_items[1]: 0.4}  # Example thresholds for target items\n",
        "\n",
        "# Apply discounted similarity for each target item\n",
        "discounted_similarity_pcc = {}\n",
        "for target_item in target_items:\n",
        "    beta = thresholds_items[target_item]  # Retrieve threshold β for the target item\n",
        "    discounted_similarity_pcc[target_item] = compute_discounted_similarity(\n",
        "        pcc_target_items[target_item], beta\n",
        "    )\n",
        "    print(f\"\\nDiscounted similarity for Target Item {target_item} (PCC):\")\n",
        "    print(discounted_similarity_pcc[target_item].sort_values(ascending=False))\n",
        "    print(\"-\" * 50)\n"
      ],
      "metadata": {
        "colab": {
          "base_uri": "https://localhost:8080/"
        },
        "id": "qg3h0_DCZO-c",
        "outputId": "e9c5f25b-96d0-49a9-d3a9-93ba102e615d"
      },
      "execution_count": 133,
      "outputs": [
        {
          "output_type": "stream",
          "name": "stdout",
          "text": [
            "\n",
            "Discounted similarity for Target Item 356 (PCC):\n",
            "movieId\n",
            "110882    0.769231\n",
            "32554     0.769231\n",
            "828       0.769231\n",
            "2177      0.769231\n",
            "3142      0.769231\n",
            "            ...   \n",
            "193581         NaN\n",
            "193583         NaN\n",
            "193585         NaN\n",
            "193587         NaN\n",
            "193609         NaN\n",
            "Name: 356, Length: 9724, dtype: float64\n",
            "--------------------------------------------------\n",
            "\n",
            "Discounted similarity for Target Item 318 (PCC):\n",
            "movieId\n",
            "2066      0.714286\n",
            "2205      0.714286\n",
            "34536     0.714286\n",
            "1992      0.714286\n",
            "34530     0.714286\n",
            "            ...   \n",
            "193581         NaN\n",
            "193583         NaN\n",
            "193585         NaN\n",
            "193587         NaN\n",
            "193609         NaN\n",
            "Name: 318, Length: 9724, dtype: float64\n",
            "--------------------------------------------------\n"
          ]
        }
      ]
    },
    {
      "cell_type": "markdown",
      "source": [
        "2.3.5"
      ],
      "metadata": {
        "id": "05NUYgHrZT9Z"
      }
    },
    {
      "cell_type": "code",
      "source": [
        "# Check the contents of discounted_similarity_pcc\n",
        "print(\"Keys in discounted_similarity_pcc:\", discounted_similarity_pcc.keys())\n",
        "\n",
        "# Step 2.3.5: Find the Top 20% Closest Items Using Discounted Similarity\n",
        "top_20_discounted_items_pcc = {}\n",
        "\n",
        "for target_item in target_items:\n",
        "    # Check if the target item exists in discounted_similarity_pcc\n",
        "    if target_item in discounted_similarity_pcc:\n",
        "        top_20_discounted_items_pcc[target_item] = get_top_20_percent(\n",
        "            discounted_similarity_pcc[target_item]\n",
        "        )\n",
        "        print(f\"\\nTop 20% closest items to Target Item {target_item} (Discounted PCC):\")\n",
        "        print(top_20_discounted_items_pcc[target_item])\n",
        "    else:\n",
        "        print(f\"Target Item {target_item} not found in discounted_similarity_pcc. Skipping.\")\n",
        "    print(\"-\" * 50)\n"
      ],
      "metadata": {
        "colab": {
          "base_uri": "https://localhost:8080/"
        },
        "id": "44FzhYojZVb3",
        "outputId": "7cab0ac6-be58-4e25-e31e-2c9b39319c76"
      },
      "execution_count": 134,
      "outputs": [
        {
          "output_type": "stream",
          "name": "stdout",
          "text": [
            "Keys in discounted_similarity_pcc: dict_keys([356, 318])\n",
            "\n",
            "Top 20% closest items to Target Item 356 (Discounted PCC):\n",
            "movieId\n",
            "110882    0.769231\n",
            "32554     0.769231\n",
            "828       0.769231\n",
            "2177      0.769231\n",
            "3142      0.769231\n",
            "            ...   \n",
            "2424      0.304548\n",
            "45499     0.304425\n",
            "1275      0.303702\n",
            "86377     0.303015\n",
            "106782    0.302693\n",
            "Name: 356, Length: 1944, dtype: float64\n",
            "--------------------------------------------------\n",
            "\n",
            "Top 20% closest items to Target Item 318 (Discounted PCC):\n",
            "movieId\n",
            "2066     0.714286\n",
            "2205     0.714286\n",
            "34536    0.714286\n",
            "1992     0.714286\n",
            "34530    0.714286\n",
            "           ...   \n",
            "1909     0.148436\n",
            "609      0.148264\n",
            "4155     0.148248\n",
            "469      0.148225\n",
            "43560    0.148225\n",
            "Name: 318, Length: 1944, dtype: float64\n",
            "--------------------------------------------------\n"
          ]
        }
      ]
    },
    {
      "cell_type": "markdown",
      "source": [
        "2.3.6"
      ],
      "metadata": {
        "id": "1lcqT18pcQXr"
      }
    },
    {
      "cell_type": "code",
      "source": [
        "# Step 2.3.6: Predict Ratings for Missing Users Using Discounted PCC\n",
        "def predict_missing_ratings_pcc(target_item, top_items):\n",
        "    # Users who haven't rated the target item\n",
        "    missing_users = item_user_matrix.loc[target_item][item_user_matrix.loc[target_item].isna()].index\n",
        "\n",
        "    # Ratings of top discounted items for missing users\n",
        "    top_items_ratings = item_user_matrix.loc[top_items.index, missing_users].fillna(0)\n",
        "    weights = top_items.values  # Discounted similarity weights\n",
        "\n",
        "    # Weighted average prediction\n",
        "    weighted_ratings = top_items_ratings.T.dot(weights) / (weights.sum() + 1e-9)\n",
        "    return weighted_ratings[weighted_ratings > 0]  # Filter out invalid predictions\n",
        "\n",
        "# Predict missing ratings for each target item\n",
        "predictions_discounted_pcc = {}\n",
        "for target_item in target_items:\n",
        "    top_items = top_20_discounted_items_pcc[target_item]\n",
        "    predictions_discounted_pcc[target_item] = predict_missing_ratings_pcc(target_item, top_items)\n",
        "    print(f\"\\nPredicted ratings for Target Item {target_item} (Discounted PCC):\")\n",
        "    print(predictions_discounted_pcc[target_item])\n",
        "    print(\"-\" * 50)\n"
      ],
      "metadata": {
        "colab": {
          "base_uri": "https://localhost:8080/"
        },
        "id": "gxcZiJfecSVG",
        "outputId": "10ee4a4f-2ab3-43dc-e948-b3da4dceecc9"
      },
      "execution_count": 135,
      "outputs": [
        {
          "output_type": "stream",
          "name": "stdout",
          "text": [
            "\n",
            "Predicted ratings for Target Item 356 (Discounted PCC):\n",
            "userId\n",
            "2      0.010665\n",
            "3      0.007237\n",
            "4      0.044945\n",
            "5      0.005395\n",
            "9      0.010232\n",
            "         ...   \n",
            "595    0.000563\n",
            "598    0.004092\n",
            "601    0.020116\n",
            "604    0.023123\n",
            "607    0.038710\n",
            "Length: 277, dtype: float64\n",
            "--------------------------------------------------\n",
            "\n",
            "Predicted ratings for Target Item 318 (Discounted PCC):\n",
            "userId\n",
            "1      0.091081\n",
            "3      0.001559\n",
            "4      0.091895\n",
            "7      0.049737\n",
            "9      0.018892\n",
            "         ...   \n",
            "597    0.195139\n",
            "598    0.006118\n",
            "603    0.390114\n",
            "604    0.030192\n",
            "605    0.070049\n",
            "Length: 293, dtype: float64\n",
            "--------------------------------------------------\n"
          ]
        }
      ]
    },
    {
      "cell_type": "markdown",
      "source": [
        "2.3.7"
      ],
      "metadata": {
        "id": "Oh8rummQdJLp"
      }
    },
    {
      "cell_type": "code",
      "source": [
        "# Step 2.3.7: Compare Results of 2.3.2 and 2.3.5\n",
        "def compare_similarity_results(similarity_1, similarity_2, target_item):\n",
        "    print(f\"Comparison for Target Item {target_item}:\\n\")\n",
        "    print(\"Top 20% Closest Items in Step 2.3.2 (Discounted & Mean-Centered):\")\n",
        "    print(similarity_1.head(10))  # Display top 10 items for clarity\n",
        "    print(\"\\nTop 20% Closest Items in Step 2.3.5 (Discounted PCC):\")\n",
        "    print(similarity_2.head(10))  # Display top 10 items for clarity\n",
        "\n",
        "    # Intersection of items in both results\n",
        "    common_items = set(similarity_1.index).intersection(similarity_2.index)\n",
        "    print(f\"\\nNumber of Common Items: {len(common_items)}\")\n",
        "    print(f\"Common Items: {list(common_items)[:10]}\")  # Show first 10 common items\n",
        "    print(\"-\" * 50)\n",
        "\n",
        "# Compare results for each target item\n",
        "for target_item in target_items:\n",
        "    similarity_2_3_2 = top_20_discounted_items_centered[target_item]\n",
        "    similarity_2_3_5 = top_20_discounted_items_pcc[target_item]\n",
        "    compare_similarity_results(similarity_2_3_2, similarity_2_3_5, target_item)\n"
      ],
      "metadata": {
        "colab": {
          "base_uri": "https://localhost:8080/"
        },
        "id": "ckb4__GSdKKc",
        "outputId": "7e93fdd7-b6af-4256-eed8-da876796d101"
      },
      "execution_count": 136,
      "outputs": [
        {
          "output_type": "stream",
          "name": "stdout",
          "text": [
            "Comparison for Target Item 356:\n",
            "\n",
            "Top 20% Closest Items in Step 2.3.2 (Discounted & Mean-Centered):\n",
            "movieId\n",
            "588       0.232784\n",
            "110       0.229467\n",
            "2335      0.225779\n",
            "1682      0.223613\n",
            "141544    0.221875\n",
            "911       0.218005\n",
            "2918      0.207568\n",
            "3061      0.206541\n",
            "1148      0.205000\n",
            "160567    0.203607\n",
            "dtype: float64\n",
            "\n",
            "Top 20% Closest Items in Step 2.3.5 (Discounted PCC):\n",
            "movieId\n",
            "110882    0.769231\n",
            "32554     0.769231\n",
            "828       0.769231\n",
            "2177      0.769231\n",
            "3142      0.769231\n",
            "3415      0.769231\n",
            "3051      0.769231\n",
            "5523      0.769231\n",
            "3710      0.769231\n",
            "115680    0.769231\n",
            "Name: 356, dtype: float64\n",
            "\n",
            "Number of Common Items: 1284\n",
            "Common Items: [3, 8, 122890, 122892, 15, 122898, 19, 122900, 20, 22]\n",
            "--------------------------------------------------\n",
            "Comparison for Target Item 318:\n",
            "\n",
            "Top 20% Closest Items in Step 2.3.2 (Discounted & Mean-Centered):\n",
            "movieId\n",
            "50       0.240714\n",
            "71033    0.235724\n",
            "904      0.212233\n",
            "95377    0.199210\n",
            "92259    0.195499\n",
            "527      0.195268\n",
            "745      0.193390\n",
            "4963     0.190615\n",
            "6016     0.186558\n",
            "44555    0.180392\n",
            "dtype: float64\n",
            "\n",
            "Top 20% Closest Items in Step 2.3.5 (Discounted PCC):\n",
            "movieId\n",
            "2066     0.714286\n",
            "2205     0.714286\n",
            "34536    0.714286\n",
            "1992     0.714286\n",
            "34530    0.714286\n",
            "2931     0.714286\n",
            "3266     0.714286\n",
            "3480     0.714286\n",
            "270      0.714286\n",
            "95543    0.714286\n",
            "Name: 318, dtype: float64\n",
            "\n",
            "Number of Common Items: 1497\n",
            "Common Items: [3, 4, 7, 12, 81932, 122896, 17, 18, 20, 21]\n",
            "--------------------------------------------------\n"
          ]
        }
      ]
    },
    {
      "cell_type": "markdown",
      "source": [
        "2.3.8"
      ],
      "metadata": {
        "id": "-doisGuXdM3i"
      }
    },
    {
      "cell_type": "code",
      "source": [
        "# Corrected names based on Step 2.3.3 and Step 2.3.6\n",
        "predictions_2_3_3 = predicted_ratings_ds  # From Step 2.3.3 (Discounted & Mean-Centered)\n",
        "predictions_2_3_6 = predictions_discounted_pcc  # From Step 2.3.6 (Discounted PCC)\n",
        "\n",
        "# Step 2.3.8: Compare Predictions Between 2.3.3 and 2.3.6\n",
        "def compare_predictions(predictions_1, predictions_2, target_item):\n",
        "    print(f\"Comparison of Predictions for Target Item {target_item}:\\n\")\n",
        "\n",
        "    print(\"Top Predictions in Step 2.3.3 (Discounted & Mean-Centered):\")\n",
        "    print(predictions_1.sort_values(ascending=False).head(10))  # Top 10 predictions from 2.3.3\n",
        "\n",
        "    print(\"\\nTop Predictions in Step 2.3.6 (Discounted PCC):\")\n",
        "    print(predictions_2.sort_values(ascending=False).head(10))  # Top 10 predictions from 2.3.6\n",
        "\n",
        "    # Intersection of users with predictions\n",
        "    common_users = set(predictions_1.index).intersection(set(predictions_2.index))\n",
        "    print(f\"\\nNumber of Common Users with Predictions: {len(common_users)}\")\n",
        "    print(f\"Common Users (First 10): {list(common_users)[:10]}\")\n",
        "    print(\"-\" * 50)\n",
        "\n",
        "# Compare predictions for each target item\n",
        "for target_item in target_items:\n",
        "    predictions_2_3_3_item = predictions_2_3_3[target_item]  # Step 2.3.3\n",
        "    predictions_2_3_6_item = predictions_2_3_6[target_item]  # Step 2.3.6\n",
        "\n",
        "    compare_predictions(predictions_2_3_3_item, predictions_2_3_6_item, target_item)\n"
      ],
      "metadata": {
        "colab": {
          "base_uri": "https://localhost:8080/"
        },
        "id": "ZbaAHJFqdPoN",
        "outputId": "8f941fc6-16d2-4f10-8a03-09ec4c102cd9"
      },
      "execution_count": 138,
      "outputs": [
        {
          "output_type": "stream",
          "name": "stdout",
          "text": [
            "Comparison of Predictions for Target Item 356:\n",
            "\n",
            "Top Predictions in Step 2.3.3 (Discounted & Mean-Centered):\n",
            "userId\n",
            "469    0.514424\n",
            "219    0.484516\n",
            "509    0.375781\n",
            "51     0.329994\n",
            "313    0.317178\n",
            "135    0.316066\n",
            "586    0.312298\n",
            "186    0.278757\n",
            "594    0.268884\n",
            "290    0.268493\n",
            "dtype: float64\n",
            "\n",
            "Top Predictions in Step 2.3.6 (Discounted PCC):\n",
            "userId\n",
            "509    0.118218\n",
            "586    0.106376\n",
            "51     0.096956\n",
            "469    0.086660\n",
            "73     0.085012\n",
            "290    0.073663\n",
            "313    0.070571\n",
            "479    0.061838\n",
            "492    0.059088\n",
            "408    0.058721\n",
            "dtype: float64\n",
            "\n",
            "Number of Common Users with Predictions: 277\n",
            "Common Users (First 10): [513, 2, 3, 4, 5, 516, 518, 9, 521, 12]\n",
            "--------------------------------------------------\n",
            "Comparison of Predictions for Target Item 318:\n",
            "\n",
            "Top Predictions in Step 2.3.3 (Discounted & Mean-Centered):\n",
            "userId\n",
            "448    1.106826\n",
            "603    0.625099\n",
            "489    0.588524\n",
            "226    0.568141\n",
            "45     0.551543\n",
            "560    0.519887\n",
            "597    0.505685\n",
            "534    0.464902\n",
            "57     0.444319\n",
            "596    0.404545\n",
            "dtype: float64\n",
            "\n",
            "Top Predictions in Step 2.3.6 (Discounted PCC):\n",
            "userId\n",
            "448    0.589789\n",
            "603    0.390114\n",
            "489    0.199783\n",
            "534    0.198631\n",
            "597    0.195139\n",
            "19     0.183936\n",
            "226    0.180679\n",
            "560    0.167892\n",
            "45     0.163741\n",
            "21     0.162428\n",
            "dtype: float64\n",
            "\n",
            "Number of Common Users with Predictions: 293\n",
            "Common Users (First 10): [1, 514, 3, 4, 516, 518, 7, 9, 10, 521]\n",
            "--------------------------------------------------\n"
          ]
        }
      ]
    }
  ],
  "metadata": {
    "colab": {
      "provenance": []
    },
    "kernelspec": {
      "display_name": "Python 3",
      "name": "python3"
    },
    "language_info": {
      "name": "python"
    }
  },
  "nbformat": 4,
  "nbformat_minor": 0
}